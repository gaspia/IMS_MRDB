{
    "metadata": {
        "kernelspec": {
            "name": "SQL",
            "display_name": "SQL",
            "language": "sql"
        },
        "language_info": {
            "name": "sql",
            "version": ""
        }
    },
    "nbformat_minor": 2,
    "nbformat": 4,
    "cells": [
        {
            "cell_type": "markdown",
            "source": [
                "**<mark>Data Types examples</mark>**\n",
                "\n",
                "DB Connection: AdventureWorksLT"
            ],
            "metadata": {
                "azdata_cell_guid": "958ba84f-b23b-46c7-b71f-2a893360f2ec"
            }
        },
        {
            "cell_type": "code",
            "source": [
                "SELECT CAST(ProductID AS varchar(5)) + ': ' + Name As ProductName\r\n",
                "FROM SalesLT.Product;"
            ],
            "metadata": {
                "azdata_cell_guid": "47d8555a-79e3-46ba-8cdb-ddee65aca9aa"
            },
            "outputs": [
                {
                    "output_type": "display_data",
                    "data": {
                        "text/html": "(295 rows affected)"
                    },
                    "metadata": {}
                },
                {
                    "output_type": "display_data",
                    "data": {
                        "text/html": "Total execution time: 00:00:00.014"
                    },
                    "metadata": {}
                },
                {
                    "output_type": "execute_result",
                    "metadata": {
                        "resultSet": {
                            "id": 0,
                            "batchId": 0,
                            "rowCount": 295,
                            "complete": true,
                            "columnInfo": [
                                {
                                    "isBytes": false,
                                    "isChars": true,
                                    "isSqlVariant": false,
                                    "isUdt": false,
                                    "isXml": false,
                                    "isJson": false,
                                    "sqlDbType": 12,
                                    "isHierarchyId": false,
                                    "isSqlXmlType": false,
                                    "isUnknownType": false,
                                    "isUpdatable": false,
                                    "allowDBNull": true,
                                    "baseCatalogName": null,
                                    "baseColumnName": null,
                                    "baseSchemaName": null,
                                    "baseServerName": null,
                                    "baseTableName": null,
                                    "columnName": "ProductName",
                                    "columnOrdinal": 0,
                                    "columnSize": 57,
                                    "isAliased": null,
                                    "isAutoIncrement": false,
                                    "isExpression": null,
                                    "isHidden": null,
                                    "isIdentity": false,
                                    "isKey": null,
                                    "isLong": false,
                                    "isReadOnly": true,
                                    "isUnique": false,
                                    "numericPrecision": 255,
                                    "numericScale": 255,
                                    "udtAssemblyQualifiedName": null,
                                    "dataType": "System.String, System.Private.CoreLib, Version=4.0.0.0, Culture=neutral, PublicKeyToken=7cec85d7bea7798e",
                                    "dataTypeName": "nvarchar"
                                }
                            ],
                            "specialAction": {
                                "none": true,
                                "expectYukonXMLShowPlan": false
                            }
                        }
                    },
                    "execution_count": 1,
                    "data": {
                        "application/vnd.dataresource+json": {
                            "schema": {
                                "fields": [
                                    {
                                        "name": "ProductName"
                                    }
                                ]
                            },
                            "data": [
                                {
                                    "0": "879: All-Purpose Bike Stand"
                                },
                                {
                                    "0": "712: AWC Logo Cap"
                                },
                                {
                                    "0": "877: Bike Wash - Dissolver"
                                },
                                {
                                    "0": "843: Cable Lock"
                                },
                                {
                                    "0": "952: Chain"
                                },
                                {
                                    "0": "866: Classic Vest, L"
                                },
                                {
                                    "0": "865: Classic Vest, M"
                                },
                                {
                                    "0": "864: Classic Vest, S"
                                },
                                {
                                    "0": "878: Fender Set - Mountain"
                                },
                                {
                                    "0": "948: Front Brakes"
                                },
                                {
                                    "0": "945: Front Derailleur"
                                },
                                {
                                    "0": "863: Full-Finger Gloves, L"
                                },
                                {
                                    "0": "862: Full-Finger Gloves, M"
                                },
                                {
                                    "0": "861: Full-Finger Gloves, S"
                                },
                                {
                                    "0": "860: Half-Finger Gloves, L"
                                },
                                {
                                    "0": "859: Half-Finger Gloves, M"
                                },
                                {
                                    "0": "858: Half-Finger Gloves, S"
                                },
                                {
                                    "0": "847: Headlights - Dual-Beam"
                                },
                                {
                                    "0": "848: Headlights - Weatherproof"
                                },
                                {
                                    "0": "876: Hitch Rack - 4-Bike"
                                },
                                {
                                    "0": "996: HL Bottom Bracket"
                                },
                                {
                                    "0": "951: HL Crankset"
                                },
                                {
                                    "0": "804: HL Fork"
                                },
                                {
                                    "0": "807: HL Headset"
                                },
                                {
                                    "0": "747: HL Mountain Frame - Black, 38"
                                },
                                {
                                    "0": "743: HL Mountain Frame - Black, 42"
                                },
                                {
                                    "0": "744: HL Mountain Frame - Black, 44"
                                },
                                {
                                    "0": "746: HL Mountain Frame - Black, 46"
                                },
                                {
                                    "0": "745: HL Mountain Frame - Black, 48"
                                },
                                {
                                    "0": "748: HL Mountain Frame - Silver, 38"
                                },
                                {
                                    "0": "739: HL Mountain Frame - Silver, 42"
                                },
                                {
                                    "0": "740: HL Mountain Frame - Silver, 44"
                                },
                                {
                                    "0": "742: HL Mountain Frame - Silver, 46"
                                },
                                {
                                    "0": "741: HL Mountain Frame - Silver, 48"
                                },
                                {
                                    "0": "817: HL Mountain Front Wheel"
                                },
                                {
                                    "0": "810: HL Mountain Handlebars"
                                },
                                {
                                    "0": "937: HL Mountain Pedal"
                                },
                                {
                                    "0": "825: HL Mountain Rear Wheel"
                                },
                                {
                                    "0": "910: HL Mountain Seat/Saddle"
                                },
                                {
                                    "0": "930: HL Mountain Tire"
                                },
                                {
                                    "0": "838: HL Road Frame - Black, 44"
                                },
                                {
                                    "0": "839: HL Road Frame - Black, 48"
                                },
                                {
                                    "0": "840: HL Road Frame - Black, 52"
                                },
                                {
                                    "0": "680: HL Road Frame - Black, 58"
                                },
                                {
                                    "0": "837: HL Road Frame - Black, 62"
                                },
                                {
                                    "0": "718: HL Road Frame - Red, 44"
                                },
                                {
                                    "0": "719: HL Road Frame - Red, 48"
                                },
                                {
                                    "0": "720: HL Road Frame - Red, 52"
                                },
                                {
                                    "0": "721: HL Road Frame - Red, 56"
                                },
                                {
                                    "0": "706: HL Road Frame - Red, 58"
                                },
                                {
                                    "0": "717: HL Road Frame - Red, 62"
                                },
                                {
                                    "0": "820: HL Road Front Wheel"
                                },
                                {
                                    "0": "813: HL Road Handlebars"
                                },
                                {
                                    "0": "940: HL Road Pedal"
                                },
                                {
                                    "0": "828: HL Road Rear Wheel"
                                },
                                {
                                    "0": "913: HL Road Seat/Saddle"
                                },
                                {
                                    "0": "933: HL Road Tire"
                                },
                                {
                                    "0": "890: HL Touring Frame - Blue, 46"
                                },
                                {
                                    "0": "891: HL Touring Frame - Blue, 50"
                                },
                                {
                                    "0": "892: HL Touring Frame - Blue, 54"
                                },
                                {
                                    "0": "893: HL Touring Frame - Blue, 60"
                                },
                                {
                                    "0": "887: HL Touring Frame - Yellow, 46"
                                },
                                {
                                    "0": "888: HL Touring Frame - Yellow, 50"
                                },
                                {
                                    "0": "889: HL Touring Frame - Yellow, 54"
                                },
                                {
                                    "0": "885: HL Touring Frame - Yellow, 60"
                                },
                                {
                                    "0": "947: HL Touring Handlebars"
                                },
                                {
                                    "0": "916: HL Touring Seat/Saddle"
                                },
                                {
                                    "0": "880: Hydration Pack - 70 oz."
                                },
                                {
                                    "0": "994: LL Bottom Bracket"
                                },
                                {
                                    "0": "949: LL Crankset"
                                },
                                {
                                    "0": "802: LL Fork"
                                },
                                {
                                    "0": "805: LL Headset"
                                },
                                {
                                    "0": "943: LL Mountain Frame - Black, 40"
                                },
                                {
                                    "0": "924: LL Mountain Frame - Black, 42"
                                },
                                {
                                    "0": "925: LL Mountain Frame - Black, 44"
                                },
                                {
                                    "0": "926: LL Mountain Frame - Black, 48"
                                },
                                {
                                    "0": "927: LL Mountain Frame - Black, 52"
                                },
                                {
                                    "0": "944: LL Mountain Frame - Silver, 40"
                                },
                                {
                                    "0": "917: LL Mountain Frame - Silver, 42"
                                },
                                {
                                    "0": "918: LL Mountain Frame - Silver, 44"
                                },
                                {
                                    "0": "919: LL Mountain Frame - Silver, 48"
                                },
                                {
                                    "0": "920: LL Mountain Frame - Silver, 52"
                                },
                                {
                                    "0": "815: LL Mountain Front Wheel"
                                },
                                {
                                    "0": "808: LL Mountain Handlebars"
                                },
                                {
                                    "0": "935: LL Mountain Pedal"
                                },
                                {
                                    "0": "823: LL Mountain Rear Wheel"
                                },
                                {
                                    "0": "908: LL Mountain Seat/Saddle"
                                },
                                {
                                    "0": "928: LL Mountain Tire"
                                },
                                {
                                    "0": "736: LL Road Frame - Black, 44"
                                },
                                {
                                    "0": "737: LL Road Frame - Black, 48"
                                },
                                {
                                    "0": "738: LL Road Frame - Black, 52"
                                },
                                {
                                    "0": "722: LL Road Frame - Black, 58"
                                },
                                {
                                    "0": "723: LL Road Frame - Black, 60"
                                },
                                {
                                    "0": "724: LL Road Frame - Black, 62"
                                },
                                {
                                    "0": "725: LL Road Frame - Red, 44"
                                },
                                {
                                    "0": "726: LL Road Frame - Red, 48"
                                },
                                {
                                    "0": "727: LL Road Frame - Red, 52"
                                },
                                {
                                    "0": "728: LL Road Frame - Red, 58"
                                },
                                {
                                    "0": "729: LL Road Frame - Red, 60"
                                },
                                {
                                    "0": "730: LL Road Frame - Red, 62"
                                },
                                {
                                    "0": "818: LL Road Front Wheel"
                                },
                                {
                                    "0": "811: LL Road Handlebars"
                                },
                                {
                                    "0": "938: LL Road Pedal"
                                },
                                {
                                    "0": "826: LL Road Rear Wheel"
                                },
                                {
                                    "0": "911: LL Road Seat/Saddle"
                                },
                                {
                                    "0": "931: LL Road Tire"
                                },
                                {
                                    "0": "903: LL Touring Frame - Blue, 44"
                                },
                                {
                                    "0": "895: LL Touring Frame - Blue, 50"
                                },
                                {
                                    "0": "896: LL Touring Frame - Blue, 54"
                                },
                                {
                                    "0": "897: LL Touring Frame - Blue, 58"
                                },
                                {
                                    "0": "898: LL Touring Frame - Blue, 62"
                                },
                                {
                                    "0": "899: LL Touring Frame - Yellow, 44"
                                },
                                {
                                    "0": "900: LL Touring Frame - Yellow, 50"
                                },
                                {
                                    "0": "901: LL Touring Frame - Yellow, 54"
                                },
                                {
                                    "0": "902: LL Touring Frame - Yellow, 58"
                                },
                                {
                                    "0": "886: LL Touring Frame - Yellow, 62"
                                },
                                {
                                    "0": "946: LL Touring Handlebars"
                                },
                                {
                                    "0": "914: LL Touring Seat/Saddle"
                                },
                                {
                                    "0": "715: Long-Sleeve Logo Jersey, L"
                                },
                                {
                                    "0": "714: Long-Sleeve Logo Jersey, M"
                                },
                                {
                                    "0": "713: Long-Sleeve Logo Jersey, S"
                                },
                                {
                                    "0": "716: Long-Sleeve Logo Jersey, XL"
                                },
                                {
                                    "0": "857: Men's Bib-Shorts, L"
                                },
                                {
                                    "0": "856: Men's Bib-Shorts, M"
                                },
                                {
                                    "0": "855: Men's Bib-Shorts, S"
                                },
                                {
                                    "0": "850: Men's Sports Shorts, L"
                                },
                                {
                                    "0": "849: Men's Sports Shorts, M"
                                },
                                {
                                    "0": "841: Men's Sports Shorts, S"
                                },
                                {
                                    "0": "851: Men's Sports Shorts, XL"
                                },
                                {
                                    "0": "844: Minipump"
                                },
                                {
                                    "0": "995: ML Bottom Bracket"
                                },
                                {
                                    "0": "950: ML Crankset"
                                },
                                {
                                    "0": "803: ML Fork"
                                },
                                {
                                    "0": "806: ML Headset"
                                },
                                {
                                    "0": "814: ML Mountain Frame - Black, 38"
                                },
                                {
                                    "0": "830: ML Mountain Frame - Black, 40"
                                },
                                {
                                    "0": "831: ML Mountain Frame - Black, 44"
                                },
                                {
                                    "0": "832: ML Mountain Frame - Black, 48"
                                },
                                {
                                    "0": "942: ML Mountain Frame-W - Silver, 38"
                                },
                                {
                                    "0": "904: ML Mountain Frame-W - Silver, 40"
                                },
                                {
                                    "0": "905: ML Mountain Frame-W - Silver, 42"
                                },
                                {
                                    "0": "906: ML Mountain Frame-W - Silver, 46"
                                },
                                {
                                    "0": "816: ML Mountain Front Wheel"
                                },
                                {
                                    "0": "809: ML Mountain Handlebars"
                                },
                                {
                                    "0": "936: ML Mountain Pedal"
                                },
                                {
                                    "0": "824: ML Mountain Rear Wheel"
                                },
                                {
                                    "0": "909: ML Mountain Seat/Saddle"
                                },
                                {
                                    "0": "929: ML Mountain Tire"
                                },
                                {
                                    "0": "731: ML Road Frame - Red, 44"
                                },
                                {
                                    "0": "732: ML Road Frame - Red, 48"
                                },
                                {
                                    "0": "733: ML Road Frame - Red, 52"
                                },
                                {
                                    "0": "734: ML Road Frame - Red, 58"
                                },
                                {
                                    "0": "735: ML Road Frame - Red, 60"
                                },
                                {
                                    "0": "822: ML Road Frame-W - Yellow, 38"
                                },
                                {
                                    "0": "833: ML Road Frame-W - Yellow, 40"
                                },
                                {
                                    "0": "834: ML Road Frame-W - Yellow, 42"
                                },
                                {
                                    "0": "835: ML Road Frame-W - Yellow, 44"
                                },
                                {
                                    "0": "836: ML Road Frame-W - Yellow, 48"
                                },
                                {
                                    "0": "819: ML Road Front Wheel"
                                },
                                {
                                    "0": "812: ML Road Handlebars"
                                },
                                {
                                    "0": "939: ML Road Pedal"
                                },
                                {
                                    "0": "827: ML Road Rear Wheel"
                                },
                                {
                                    "0": "912: ML Road Seat/Saddle"
                                },
                                {
                                    "0": "932: ML Road Tire"
                                },
                                {
                                    "0": "915: ML Touring Seat/Saddle"
                                },
                                {
                                    "0": "710: Mountain Bike Socks, L"
                                },
                                {
                                    "0": "709: Mountain Bike Socks, M"
                                },
                                {
                                    "0": "871: Mountain Bottle Cage"
                                },
                                {
                                    "0": "845: Mountain Pump"
                                },
                                {
                                    "0": "921: Mountain Tire Tube"
                                },
                                {
                                    "0": "775: Mountain-100 Black, 38"
                                },
                                {
                                    "0": "776: Mountain-100 Black, 42"
                                },
                                {
                                    "0": "777: Mountain-100 Black, 44"
                                },
                                {
                                    "0": "778: Mountain-100 Black, 48"
                                },
                                {
                                    "0": "771: Mountain-100 Silver, 38"
                                },
                                {
                                    "0": "772: Mountain-100 Silver, 42"
                                },
                                {
                                    "0": "773: Mountain-100 Silver, 44"
                                },
                                {
                                    "0": "774: Mountain-100 Silver, 48"
                                },
                                {
                                    "0": "782: Mountain-200 Black, 38"
                                },
                                {
                                    "0": "783: Mountain-200 Black, 42"
                                },
                                {
                                    "0": "784: Mountain-200 Black, 46"
                                },
                                {
                                    "0": "779: Mountain-200 Silver, 38"
                                },
                                {
                                    "0": "780: Mountain-200 Silver, 42"
                                },
                                {
                                    "0": "781: Mountain-200 Silver, 46"
                                },
                                {
                                    "0": "785: Mountain-300 Black, 38"
                                },
                                {
                                    "0": "786: Mountain-300 Black, 40"
                                },
                                {
                                    "0": "787: Mountain-300 Black, 44"
                                },
                                {
                                    "0": "788: Mountain-300 Black, 48"
                                },
                                {
                                    "0": "980: Mountain-400-W Silver, 38"
                                },
                                {
                                    "0": "981: Mountain-400-W Silver, 40"
                                },
                                {
                                    "0": "982: Mountain-400-W Silver, 42"
                                },
                                {
                                    "0": "983: Mountain-400-W Silver, 46"
                                },
                                {
                                    "0": "989: Mountain-500 Black, 40"
                                },
                                {
                                    "0": "990: Mountain-500 Black, 42"
                                },
                                {
                                    "0": "991: Mountain-500 Black, 44"
                                },
                                {
                                    "0": "992: Mountain-500 Black, 48"
                                },
                                {
                                    "0": "993: Mountain-500 Black, 52"
                                },
                                {
                                    "0": "984: Mountain-500 Silver, 40"
                                },
                                {
                                    "0": "985: Mountain-500 Silver, 42"
                                },
                                {
                                    "0": "986: Mountain-500 Silver, 44"
                                },
                                {
                                    "0": "987: Mountain-500 Silver, 48"
                                },
                                {
                                    "0": "988: Mountain-500 Silver, 52"
                                },
                                {
                                    "0": "873: Patch Kit/8 Patches"
                                },
                                {
                                    "0": "875: Racing Socks, L"
                                },
                                {
                                    "0": "874: Racing Socks, M"
                                },
                                {
                                    "0": "907: Rear Brakes"
                                },
                                {
                                    "0": "894: Rear Derailleur"
                                },
                                {
                                    "0": "872: Road Bottle Cage"
                                },
                                {
                                    "0": "922: Road Tire Tube"
                                },
                                {
                                    "0": "750: Road-150 Red, 44"
                                },
                                {
                                    "0": "751: Road-150 Red, 48"
                                },
                                {
                                    "0": "752: Road-150 Red, 52"
                                },
                                {
                                    "0": "753: Road-150 Red, 56"
                                },
                                {
                                    "0": "749: Road-150 Red, 62"
                                },
                                {
                                    "0": "793: Road-250 Black, 44"
                                },
                                {
                                    "0": "794: Road-250 Black, 48"
                                },
                                {
                                    "0": "795: Road-250 Black, 52"
                                },
                                {
                                    "0": "796: Road-250 Black, 58"
                                },
                                {
                                    "0": "789: Road-250 Red, 44"
                                },
                                {
                                    "0": "790: Road-250 Red, 48"
                                },
                                {
                                    "0": "791: Road-250 Red, 52"
                                },
                                {
                                    "0": "792: Road-250 Red, 58"
                                },
                                {
                                    "0": "973: Road-350-W Yellow, 40"
                                },
                                {
                                    "0": "974: Road-350-W Yellow, 42"
                                },
                                {
                                    "0": "975: Road-350-W Yellow, 44"
                                },
                                {
                                    "0": "976: Road-350-W Yellow, 48"
                                },
                                {
                                    "0": "756: Road-450 Red, 44"
                                },
                                {
                                    "0": "757: Road-450 Red, 48"
                                },
                                {
                                    "0": "758: Road-450 Red, 52"
                                },
                                {
                                    "0": "754: Road-450 Red, 58"
                                },
                                {
                                    "0": "755: Road-450 Red, 60"
                                },
                                {
                                    "0": "797: Road-550-W Yellow, 38"
                                },
                                {
                                    "0": "798: Road-550-W Yellow, 40"
                                },
                                {
                                    "0": "799: Road-550-W Yellow, 42"
                                },
                                {
                                    "0": "800: Road-550-W Yellow, 44"
                                },
                                {
                                    "0": "801: Road-550-W Yellow, 48"
                                },
                                {
                                    "0": "768: Road-650 Black, 44"
                                },
                                {
                                    "0": "769: Road-650 Black, 48"
                                },
                                {
                                    "0": "770: Road-650 Black, 52"
                                },
                                {
                                    "0": "765: Road-650 Black, 58"
                                },
                                {
                                    "0": "766: Road-650 Black, 60"
                                },
                                {
                                    "0": "767: Road-650 Black, 62"
                                },
                                {
                                    "0": "762: Road-650 Red, 44"
                                },
                                {
                                    "0": "763: Road-650 Red, 48"
                                },
                                {
                                    "0": "764: Road-650 Red, 52"
                                },
                                {
                                    "0": "759: Road-650 Red, 58"
                                },
                                {
                                    "0": "760: Road-650 Red, 60"
                                },
                                {
                                    "0": "761: Road-650 Red, 62"
                                },
                                {
                                    "0": "997: Road-750 Black, 44"
                                },
                                {
                                    "0": "998: Road-750 Black, 48"
                                },
                                {
                                    "0": "999: Road-750 Black, 52"
                                },
                                {
                                    "0": "977: Road-750 Black, 58"
                                },
                                {
                                    "0": "883: Short-Sleeve Classic Jersey, L"
                                },
                                {
                                    "0": "882: Short-Sleeve Classic Jersey, M"
                                },
                                {
                                    "0": "881: Short-Sleeve Classic Jersey, S"
                                },
                                {
                                    "0": "884: Short-Sleeve Classic Jersey, XL"
                                },
                                {
                                    "0": "708: Sport-100 Helmet, Black"
                                },
                                {
                                    "0": "711: Sport-100 Helmet, Blue"
                                },
                                {
                                    "0": "707: Sport-100 Helmet, Red"
                                },
                                {
                                    "0": "846: Taillights - Battery-Powered"
                                },
                                {
                                    "0": "821: Touring Front Wheel"
                                },
                                {
                                    "0": "941: Touring Pedal"
                                },
                                {
                                    "0": "829: Touring Rear Wheel"
                                },
                                {
                                    "0": "934: Touring Tire"
                                },
                                {
                                    "0": "923: Touring Tire Tube"
                                },
                                {
                                    "0": "966: Touring-1000 Blue, 46"
                                },
                                {
                                    "0": "967: Touring-1000 Blue, 50"
                                },
                                {
                                    "0": "968: Touring-1000 Blue, 54"
                                },
                                {
                                    "0": "969: Touring-1000 Blue, 60"
                                },
                                {
                                    "0": "954: Touring-1000 Yellow, 46"
                                },
                                {
                                    "0": "955: Touring-1000 Yellow, 50"
                                },
                                {
                                    "0": "956: Touring-1000 Yellow, 54"
                                },
                                {
                                    "0": "957: Touring-1000 Yellow, 60"
                                },
                                {
                                    "0": "970: Touring-2000 Blue, 46"
                                },
                                {
                                    "0": "971: Touring-2000 Blue, 50"
                                },
                                {
                                    "0": "972: Touring-2000 Blue, 54"
                                },
                                {
                                    "0": "953: Touring-2000 Blue, 60"
                                },
                                {
                                    "0": "978: Touring-3000 Blue, 44"
                                },
                                {
                                    "0": "979: Touring-3000 Blue, 50"
                                },
                                {
                                    "0": "958: Touring-3000 Blue, 54"
                                },
                                {
                                    "0": "959: Touring-3000 Blue, 58"
                                },
                                {
                                    "0": "960: Touring-3000 Blue, 62"
                                },
                                {
                                    "0": "961: Touring-3000 Yellow, 44"
                                },
                                {
                                    "0": "962: Touring-3000 Yellow, 50"
                                },
                                {
                                    "0": "963: Touring-3000 Yellow, 54"
                                },
                                {
                                    "0": "964: Touring-3000 Yellow, 58"
                                },
                                {
                                    "0": "965: Touring-3000 Yellow, 62"
                                },
                                {
                                    "0": "842: Touring-Panniers, Large"
                                },
                                {
                                    "0": "870: Water Bottle - 30 oz."
                                },
                                {
                                    "0": "869: Women's Mountain Shorts, L"
                                },
                                {
                                    "0": "868: Women's Mountain Shorts, M"
                                },
                                {
                                    "0": "867: Women's Mountain Shorts, S"
                                },
                                {
                                    "0": "854: Women's Tights, L"
                                },
                                {
                                    "0": "853: Women's Tights, M"
                                },
                                {
                                    "0": "852: Women's Tights, S"
                                }
                            ]
                        },
                        "text/html": [
                            "<table>",
                            "<tr><th>ProductName</th></tr>",
                            "<tr><td>879: All-Purpose Bike Stand</td></tr>",
                            "<tr><td>712: AWC Logo Cap</td></tr>",
                            "<tr><td>877: Bike Wash - Dissolver</td></tr>",
                            "<tr><td>843: Cable Lock</td></tr>",
                            "<tr><td>952: Chain</td></tr>",
                            "<tr><td>866: Classic Vest, L</td></tr>",
                            "<tr><td>865: Classic Vest, M</td></tr>",
                            "<tr><td>864: Classic Vest, S</td></tr>",
                            "<tr><td>878: Fender Set - Mountain</td></tr>",
                            "<tr><td>948: Front Brakes</td></tr>",
                            "<tr><td>945: Front Derailleur</td></tr>",
                            "<tr><td>863: Full-Finger Gloves, L</td></tr>",
                            "<tr><td>862: Full-Finger Gloves, M</td></tr>",
                            "<tr><td>861: Full-Finger Gloves, S</td></tr>",
                            "<tr><td>860: Half-Finger Gloves, L</td></tr>",
                            "<tr><td>859: Half-Finger Gloves, M</td></tr>",
                            "<tr><td>858: Half-Finger Gloves, S</td></tr>",
                            "<tr><td>847: Headlights - Dual-Beam</td></tr>",
                            "<tr><td>848: Headlights - Weatherproof</td></tr>",
                            "<tr><td>876: Hitch Rack - 4-Bike</td></tr>",
                            "<tr><td>996: HL Bottom Bracket</td></tr>",
                            "<tr><td>951: HL Crankset</td></tr>",
                            "<tr><td>804: HL Fork</td></tr>",
                            "<tr><td>807: HL Headset</td></tr>",
                            "<tr><td>747: HL Mountain Frame - Black, 38</td></tr>",
                            "<tr><td>743: HL Mountain Frame - Black, 42</td></tr>",
                            "<tr><td>744: HL Mountain Frame - Black, 44</td></tr>",
                            "<tr><td>746: HL Mountain Frame - Black, 46</td></tr>",
                            "<tr><td>745: HL Mountain Frame - Black, 48</td></tr>",
                            "<tr><td>748: HL Mountain Frame - Silver, 38</td></tr>",
                            "<tr><td>739: HL Mountain Frame - Silver, 42</td></tr>",
                            "<tr><td>740: HL Mountain Frame - Silver, 44</td></tr>",
                            "<tr><td>742: HL Mountain Frame - Silver, 46</td></tr>",
                            "<tr><td>741: HL Mountain Frame - Silver, 48</td></tr>",
                            "<tr><td>817: HL Mountain Front Wheel</td></tr>",
                            "<tr><td>810: HL Mountain Handlebars</td></tr>",
                            "<tr><td>937: HL Mountain Pedal</td></tr>",
                            "<tr><td>825: HL Mountain Rear Wheel</td></tr>",
                            "<tr><td>910: HL Mountain Seat/Saddle</td></tr>",
                            "<tr><td>930: HL Mountain Tire</td></tr>",
                            "<tr><td>838: HL Road Frame - Black, 44</td></tr>",
                            "<tr><td>839: HL Road Frame - Black, 48</td></tr>",
                            "<tr><td>840: HL Road Frame - Black, 52</td></tr>",
                            "<tr><td>680: HL Road Frame - Black, 58</td></tr>",
                            "<tr><td>837: HL Road Frame - Black, 62</td></tr>",
                            "<tr><td>718: HL Road Frame - Red, 44</td></tr>",
                            "<tr><td>719: HL Road Frame - Red, 48</td></tr>",
                            "<tr><td>720: HL Road Frame - Red, 52</td></tr>",
                            "<tr><td>721: HL Road Frame - Red, 56</td></tr>",
                            "<tr><td>706: HL Road Frame - Red, 58</td></tr>",
                            "<tr><td>717: HL Road Frame - Red, 62</td></tr>",
                            "<tr><td>820: HL Road Front Wheel</td></tr>",
                            "<tr><td>813: HL Road Handlebars</td></tr>",
                            "<tr><td>940: HL Road Pedal</td></tr>",
                            "<tr><td>828: HL Road Rear Wheel</td></tr>",
                            "<tr><td>913: HL Road Seat/Saddle</td></tr>",
                            "<tr><td>933: HL Road Tire</td></tr>",
                            "<tr><td>890: HL Touring Frame - Blue, 46</td></tr>",
                            "<tr><td>891: HL Touring Frame - Blue, 50</td></tr>",
                            "<tr><td>892: HL Touring Frame - Blue, 54</td></tr>",
                            "<tr><td>893: HL Touring Frame - Blue, 60</td></tr>",
                            "<tr><td>887: HL Touring Frame - Yellow, 46</td></tr>",
                            "<tr><td>888: HL Touring Frame - Yellow, 50</td></tr>",
                            "<tr><td>889: HL Touring Frame - Yellow, 54</td></tr>",
                            "<tr><td>885: HL Touring Frame - Yellow, 60</td></tr>",
                            "<tr><td>947: HL Touring Handlebars</td></tr>",
                            "<tr><td>916: HL Touring Seat/Saddle</td></tr>",
                            "<tr><td>880: Hydration Pack - 70 oz.</td></tr>",
                            "<tr><td>994: LL Bottom Bracket</td></tr>",
                            "<tr><td>949: LL Crankset</td></tr>",
                            "<tr><td>802: LL Fork</td></tr>",
                            "<tr><td>805: LL Headset</td></tr>",
                            "<tr><td>943: LL Mountain Frame - Black, 40</td></tr>",
                            "<tr><td>924: LL Mountain Frame - Black, 42</td></tr>",
                            "<tr><td>925: LL Mountain Frame - Black, 44</td></tr>",
                            "<tr><td>926: LL Mountain Frame - Black, 48</td></tr>",
                            "<tr><td>927: LL Mountain Frame - Black, 52</td></tr>",
                            "<tr><td>944: LL Mountain Frame - Silver, 40</td></tr>",
                            "<tr><td>917: LL Mountain Frame - Silver, 42</td></tr>",
                            "<tr><td>918: LL Mountain Frame - Silver, 44</td></tr>",
                            "<tr><td>919: LL Mountain Frame - Silver, 48</td></tr>",
                            "<tr><td>920: LL Mountain Frame - Silver, 52</td></tr>",
                            "<tr><td>815: LL Mountain Front Wheel</td></tr>",
                            "<tr><td>808: LL Mountain Handlebars</td></tr>",
                            "<tr><td>935: LL Mountain Pedal</td></tr>",
                            "<tr><td>823: LL Mountain Rear Wheel</td></tr>",
                            "<tr><td>908: LL Mountain Seat/Saddle</td></tr>",
                            "<tr><td>928: LL Mountain Tire</td></tr>",
                            "<tr><td>736: LL Road Frame - Black, 44</td></tr>",
                            "<tr><td>737: LL Road Frame - Black, 48</td></tr>",
                            "<tr><td>738: LL Road Frame - Black, 52</td></tr>",
                            "<tr><td>722: LL Road Frame - Black, 58</td></tr>",
                            "<tr><td>723: LL Road Frame - Black, 60</td></tr>",
                            "<tr><td>724: LL Road Frame - Black, 62</td></tr>",
                            "<tr><td>725: LL Road Frame - Red, 44</td></tr>",
                            "<tr><td>726: LL Road Frame - Red, 48</td></tr>",
                            "<tr><td>727: LL Road Frame - Red, 52</td></tr>",
                            "<tr><td>728: LL Road Frame - Red, 58</td></tr>",
                            "<tr><td>729: LL Road Frame - Red, 60</td></tr>",
                            "<tr><td>730: LL Road Frame - Red, 62</td></tr>",
                            "<tr><td>818: LL Road Front Wheel</td></tr>",
                            "<tr><td>811: LL Road Handlebars</td></tr>",
                            "<tr><td>938: LL Road Pedal</td></tr>",
                            "<tr><td>826: LL Road Rear Wheel</td></tr>",
                            "<tr><td>911: LL Road Seat/Saddle</td></tr>",
                            "<tr><td>931: LL Road Tire</td></tr>",
                            "<tr><td>903: LL Touring Frame - Blue, 44</td></tr>",
                            "<tr><td>895: LL Touring Frame - Blue, 50</td></tr>",
                            "<tr><td>896: LL Touring Frame - Blue, 54</td></tr>",
                            "<tr><td>897: LL Touring Frame - Blue, 58</td></tr>",
                            "<tr><td>898: LL Touring Frame - Blue, 62</td></tr>",
                            "<tr><td>899: LL Touring Frame - Yellow, 44</td></tr>",
                            "<tr><td>900: LL Touring Frame - Yellow, 50</td></tr>",
                            "<tr><td>901: LL Touring Frame - Yellow, 54</td></tr>",
                            "<tr><td>902: LL Touring Frame - Yellow, 58</td></tr>",
                            "<tr><td>886: LL Touring Frame - Yellow, 62</td></tr>",
                            "<tr><td>946: LL Touring Handlebars</td></tr>",
                            "<tr><td>914: LL Touring Seat/Saddle</td></tr>",
                            "<tr><td>715: Long-Sleeve Logo Jersey, L</td></tr>",
                            "<tr><td>714: Long-Sleeve Logo Jersey, M</td></tr>",
                            "<tr><td>713: Long-Sleeve Logo Jersey, S</td></tr>",
                            "<tr><td>716: Long-Sleeve Logo Jersey, XL</td></tr>",
                            "<tr><td>857: Men's Bib-Shorts, L</td></tr>",
                            "<tr><td>856: Men's Bib-Shorts, M</td></tr>",
                            "<tr><td>855: Men's Bib-Shorts, S</td></tr>",
                            "<tr><td>850: Men's Sports Shorts, L</td></tr>",
                            "<tr><td>849: Men's Sports Shorts, M</td></tr>",
                            "<tr><td>841: Men's Sports Shorts, S</td></tr>",
                            "<tr><td>851: Men's Sports Shorts, XL</td></tr>",
                            "<tr><td>844: Minipump</td></tr>",
                            "<tr><td>995: ML Bottom Bracket</td></tr>",
                            "<tr><td>950: ML Crankset</td></tr>",
                            "<tr><td>803: ML Fork</td></tr>",
                            "<tr><td>806: ML Headset</td></tr>",
                            "<tr><td>814: ML Mountain Frame - Black, 38</td></tr>",
                            "<tr><td>830: ML Mountain Frame - Black, 40</td></tr>",
                            "<tr><td>831: ML Mountain Frame - Black, 44</td></tr>",
                            "<tr><td>832: ML Mountain Frame - Black, 48</td></tr>",
                            "<tr><td>942: ML Mountain Frame-W - Silver, 38</td></tr>",
                            "<tr><td>904: ML Mountain Frame-W - Silver, 40</td></tr>",
                            "<tr><td>905: ML Mountain Frame-W - Silver, 42</td></tr>",
                            "<tr><td>906: ML Mountain Frame-W - Silver, 46</td></tr>",
                            "<tr><td>816: ML Mountain Front Wheel</td></tr>",
                            "<tr><td>809: ML Mountain Handlebars</td></tr>",
                            "<tr><td>936: ML Mountain Pedal</td></tr>",
                            "<tr><td>824: ML Mountain Rear Wheel</td></tr>",
                            "<tr><td>909: ML Mountain Seat/Saddle</td></tr>",
                            "<tr><td>929: ML Mountain Tire</td></tr>",
                            "<tr><td>731: ML Road Frame - Red, 44</td></tr>",
                            "<tr><td>732: ML Road Frame - Red, 48</td></tr>",
                            "<tr><td>733: ML Road Frame - Red, 52</td></tr>",
                            "<tr><td>734: ML Road Frame - Red, 58</td></tr>",
                            "<tr><td>735: ML Road Frame - Red, 60</td></tr>",
                            "<tr><td>822: ML Road Frame-W - Yellow, 38</td></tr>",
                            "<tr><td>833: ML Road Frame-W - Yellow, 40</td></tr>",
                            "<tr><td>834: ML Road Frame-W - Yellow, 42</td></tr>",
                            "<tr><td>835: ML Road Frame-W - Yellow, 44</td></tr>",
                            "<tr><td>836: ML Road Frame-W - Yellow, 48</td></tr>",
                            "<tr><td>819: ML Road Front Wheel</td></tr>",
                            "<tr><td>812: ML Road Handlebars</td></tr>",
                            "<tr><td>939: ML Road Pedal</td></tr>",
                            "<tr><td>827: ML Road Rear Wheel</td></tr>",
                            "<tr><td>912: ML Road Seat/Saddle</td></tr>",
                            "<tr><td>932: ML Road Tire</td></tr>",
                            "<tr><td>915: ML Touring Seat/Saddle</td></tr>",
                            "<tr><td>710: Mountain Bike Socks, L</td></tr>",
                            "<tr><td>709: Mountain Bike Socks, M</td></tr>",
                            "<tr><td>871: Mountain Bottle Cage</td></tr>",
                            "<tr><td>845: Mountain Pump</td></tr>",
                            "<tr><td>921: Mountain Tire Tube</td></tr>",
                            "<tr><td>775: Mountain-100 Black, 38</td></tr>",
                            "<tr><td>776: Mountain-100 Black, 42</td></tr>",
                            "<tr><td>777: Mountain-100 Black, 44</td></tr>",
                            "<tr><td>778: Mountain-100 Black, 48</td></tr>",
                            "<tr><td>771: Mountain-100 Silver, 38</td></tr>",
                            "<tr><td>772: Mountain-100 Silver, 42</td></tr>",
                            "<tr><td>773: Mountain-100 Silver, 44</td></tr>",
                            "<tr><td>774: Mountain-100 Silver, 48</td></tr>",
                            "<tr><td>782: Mountain-200 Black, 38</td></tr>",
                            "<tr><td>783: Mountain-200 Black, 42</td></tr>",
                            "<tr><td>784: Mountain-200 Black, 46</td></tr>",
                            "<tr><td>779: Mountain-200 Silver, 38</td></tr>",
                            "<tr><td>780: Mountain-200 Silver, 42</td></tr>",
                            "<tr><td>781: Mountain-200 Silver, 46</td></tr>",
                            "<tr><td>785: Mountain-300 Black, 38</td></tr>",
                            "<tr><td>786: Mountain-300 Black, 40</td></tr>",
                            "<tr><td>787: Mountain-300 Black, 44</td></tr>",
                            "<tr><td>788: Mountain-300 Black, 48</td></tr>",
                            "<tr><td>980: Mountain-400-W Silver, 38</td></tr>",
                            "<tr><td>981: Mountain-400-W Silver, 40</td></tr>",
                            "<tr><td>982: Mountain-400-W Silver, 42</td></tr>",
                            "<tr><td>983: Mountain-400-W Silver, 46</td></tr>",
                            "<tr><td>989: Mountain-500 Black, 40</td></tr>",
                            "<tr><td>990: Mountain-500 Black, 42</td></tr>",
                            "<tr><td>991: Mountain-500 Black, 44</td></tr>",
                            "<tr><td>992: Mountain-500 Black, 48</td></tr>",
                            "<tr><td>993: Mountain-500 Black, 52</td></tr>",
                            "<tr><td>984: Mountain-500 Silver, 40</td></tr>",
                            "<tr><td>985: Mountain-500 Silver, 42</td></tr>",
                            "<tr><td>986: Mountain-500 Silver, 44</td></tr>",
                            "<tr><td>987: Mountain-500 Silver, 48</td></tr>",
                            "<tr><td>988: Mountain-500 Silver, 52</td></tr>",
                            "<tr><td>873: Patch Kit/8 Patches</td></tr>",
                            "<tr><td>875: Racing Socks, L</td></tr>",
                            "<tr><td>874: Racing Socks, M</td></tr>",
                            "<tr><td>907: Rear Brakes</td></tr>",
                            "<tr><td>894: Rear Derailleur</td></tr>",
                            "<tr><td>872: Road Bottle Cage</td></tr>",
                            "<tr><td>922: Road Tire Tube</td></tr>",
                            "<tr><td>750: Road-150 Red, 44</td></tr>",
                            "<tr><td>751: Road-150 Red, 48</td></tr>",
                            "<tr><td>752: Road-150 Red, 52</td></tr>",
                            "<tr><td>753: Road-150 Red, 56</td></tr>",
                            "<tr><td>749: Road-150 Red, 62</td></tr>",
                            "<tr><td>793: Road-250 Black, 44</td></tr>",
                            "<tr><td>794: Road-250 Black, 48</td></tr>",
                            "<tr><td>795: Road-250 Black, 52</td></tr>",
                            "<tr><td>796: Road-250 Black, 58</td></tr>",
                            "<tr><td>789: Road-250 Red, 44</td></tr>",
                            "<tr><td>790: Road-250 Red, 48</td></tr>",
                            "<tr><td>791: Road-250 Red, 52</td></tr>",
                            "<tr><td>792: Road-250 Red, 58</td></tr>",
                            "<tr><td>973: Road-350-W Yellow, 40</td></tr>",
                            "<tr><td>974: Road-350-W Yellow, 42</td></tr>",
                            "<tr><td>975: Road-350-W Yellow, 44</td></tr>",
                            "<tr><td>976: Road-350-W Yellow, 48</td></tr>",
                            "<tr><td>756: Road-450 Red, 44</td></tr>",
                            "<tr><td>757: Road-450 Red, 48</td></tr>",
                            "<tr><td>758: Road-450 Red, 52</td></tr>",
                            "<tr><td>754: Road-450 Red, 58</td></tr>",
                            "<tr><td>755: Road-450 Red, 60</td></tr>",
                            "<tr><td>797: Road-550-W Yellow, 38</td></tr>",
                            "<tr><td>798: Road-550-W Yellow, 40</td></tr>",
                            "<tr><td>799: Road-550-W Yellow, 42</td></tr>",
                            "<tr><td>800: Road-550-W Yellow, 44</td></tr>",
                            "<tr><td>801: Road-550-W Yellow, 48</td></tr>",
                            "<tr><td>768: Road-650 Black, 44</td></tr>",
                            "<tr><td>769: Road-650 Black, 48</td></tr>",
                            "<tr><td>770: Road-650 Black, 52</td></tr>",
                            "<tr><td>765: Road-650 Black, 58</td></tr>",
                            "<tr><td>766: Road-650 Black, 60</td></tr>",
                            "<tr><td>767: Road-650 Black, 62</td></tr>",
                            "<tr><td>762: Road-650 Red, 44</td></tr>",
                            "<tr><td>763: Road-650 Red, 48</td></tr>",
                            "<tr><td>764: Road-650 Red, 52</td></tr>",
                            "<tr><td>759: Road-650 Red, 58</td></tr>",
                            "<tr><td>760: Road-650 Red, 60</td></tr>",
                            "<tr><td>761: Road-650 Red, 62</td></tr>",
                            "<tr><td>997: Road-750 Black, 44</td></tr>",
                            "<tr><td>998: Road-750 Black, 48</td></tr>",
                            "<tr><td>999: Road-750 Black, 52</td></tr>",
                            "<tr><td>977: Road-750 Black, 58</td></tr>",
                            "<tr><td>883: Short-Sleeve Classic Jersey, L</td></tr>",
                            "<tr><td>882: Short-Sleeve Classic Jersey, M</td></tr>",
                            "<tr><td>881: Short-Sleeve Classic Jersey, S</td></tr>",
                            "<tr><td>884: Short-Sleeve Classic Jersey, XL</td></tr>",
                            "<tr><td>708: Sport-100 Helmet, Black</td></tr>",
                            "<tr><td>711: Sport-100 Helmet, Blue</td></tr>",
                            "<tr><td>707: Sport-100 Helmet, Red</td></tr>",
                            "<tr><td>846: Taillights - Battery-Powered</td></tr>",
                            "<tr><td>821: Touring Front Wheel</td></tr>",
                            "<tr><td>941: Touring Pedal</td></tr>",
                            "<tr><td>829: Touring Rear Wheel</td></tr>",
                            "<tr><td>934: Touring Tire</td></tr>",
                            "<tr><td>923: Touring Tire Tube</td></tr>",
                            "<tr><td>966: Touring-1000 Blue, 46</td></tr>",
                            "<tr><td>967: Touring-1000 Blue, 50</td></tr>",
                            "<tr><td>968: Touring-1000 Blue, 54</td></tr>",
                            "<tr><td>969: Touring-1000 Blue, 60</td></tr>",
                            "<tr><td>954: Touring-1000 Yellow, 46</td></tr>",
                            "<tr><td>955: Touring-1000 Yellow, 50</td></tr>",
                            "<tr><td>956: Touring-1000 Yellow, 54</td></tr>",
                            "<tr><td>957: Touring-1000 Yellow, 60</td></tr>",
                            "<tr><td>970: Touring-2000 Blue, 46</td></tr>",
                            "<tr><td>971: Touring-2000 Blue, 50</td></tr>",
                            "<tr><td>972: Touring-2000 Blue, 54</td></tr>",
                            "<tr><td>953: Touring-2000 Blue, 60</td></tr>",
                            "<tr><td>978: Touring-3000 Blue, 44</td></tr>",
                            "<tr><td>979: Touring-3000 Blue, 50</td></tr>",
                            "<tr><td>958: Touring-3000 Blue, 54</td></tr>",
                            "<tr><td>959: Touring-3000 Blue, 58</td></tr>",
                            "<tr><td>960: Touring-3000 Blue, 62</td></tr>",
                            "<tr><td>961: Touring-3000 Yellow, 44</td></tr>",
                            "<tr><td>962: Touring-3000 Yellow, 50</td></tr>",
                            "<tr><td>963: Touring-3000 Yellow, 54</td></tr>",
                            "<tr><td>964: Touring-3000 Yellow, 58</td></tr>",
                            "<tr><td>965: Touring-3000 Yellow, 62</td></tr>",
                            "<tr><td>842: Touring-Panniers, Large</td></tr>",
                            "<tr><td>870: Water Bottle - 30 oz.</td></tr>",
                            "<tr><td>869: Women's Mountain Shorts, L</td></tr>",
                            "<tr><td>868: Women's Mountain Shorts, M</td></tr>",
                            "<tr><td>867: Women's Mountain Shorts, S</td></tr>",
                            "<tr><td>854: Women's Tights, L</td></tr>",
                            "<tr><td>853: Women's Tights, M</td></tr>",
                            "<tr><td>852: Women's Tights, S</td></tr>",
                            "</table>"
                        ]
                    }
                }
            ],
            "execution_count": 1
        },
        {
            "cell_type": "markdown",
            "source": [
                "CONVERT example"
            ],
            "metadata": {
                "azdata_cell_guid": "577cd463-7659-41f6-a65a-bc7820c04249"
            }
        },
        {
            "cell_type": "code",
            "source": [
                "SELECT CONVERT(varchar(5), ProductID) + ': ' + Name As ProductName\r\n",
                "FROM SalesLT.Product;"
            ],
            "metadata": {
                "azdata_cell_guid": "e0d9fcd1-d44d-44b2-a330-86d3bbace7a6"
            },
            "outputs": [
                {
                    "output_type": "display_data",
                    "data": {
                        "text/html": "(295 rows affected)"
                    },
                    "metadata": {}
                },
                {
                    "output_type": "display_data",
                    "data": {
                        "text/html": "Total execution time: 00:00:00.016"
                    },
                    "metadata": {}
                },
                {
                    "output_type": "execute_result",
                    "metadata": {
                        "resultSet": {
                            "id": 0,
                            "batchId": 0,
                            "rowCount": 295,
                            "complete": true,
                            "columnInfo": [
                                {
                                    "isBytes": false,
                                    "isChars": true,
                                    "isSqlVariant": false,
                                    "isUdt": false,
                                    "isXml": false,
                                    "isJson": false,
                                    "sqlDbType": 12,
                                    "isHierarchyId": false,
                                    "isSqlXmlType": false,
                                    "isUnknownType": false,
                                    "isUpdatable": false,
                                    "allowDBNull": true,
                                    "baseCatalogName": null,
                                    "baseColumnName": null,
                                    "baseSchemaName": null,
                                    "baseServerName": null,
                                    "baseTableName": null,
                                    "columnName": "ProductName",
                                    "columnOrdinal": 0,
                                    "columnSize": 57,
                                    "isAliased": null,
                                    "isAutoIncrement": false,
                                    "isExpression": null,
                                    "isHidden": null,
                                    "isIdentity": false,
                                    "isKey": null,
                                    "isLong": false,
                                    "isReadOnly": true,
                                    "isUnique": false,
                                    "numericPrecision": 255,
                                    "numericScale": 255,
                                    "udtAssemblyQualifiedName": null,
                                    "dataType": "System.String, System.Private.CoreLib, Version=4.0.0.0, Culture=neutral, PublicKeyToken=7cec85d7bea7798e",
                                    "dataTypeName": "nvarchar"
                                }
                            ],
                            "specialAction": {
                                "none": true,
                                "expectYukonXMLShowPlan": false
                            }
                        }
                    },
                    "execution_count": 2,
                    "data": {
                        "application/vnd.dataresource+json": {
                            "schema": {
                                "fields": [
                                    {
                                        "name": "ProductName"
                                    }
                                ]
                            },
                            "data": [
                                {
                                    "0": "879: All-Purpose Bike Stand"
                                },
                                {
                                    "0": "712: AWC Logo Cap"
                                },
                                {
                                    "0": "877: Bike Wash - Dissolver"
                                },
                                {
                                    "0": "843: Cable Lock"
                                },
                                {
                                    "0": "952: Chain"
                                },
                                {
                                    "0": "866: Classic Vest, L"
                                },
                                {
                                    "0": "865: Classic Vest, M"
                                },
                                {
                                    "0": "864: Classic Vest, S"
                                },
                                {
                                    "0": "878: Fender Set - Mountain"
                                },
                                {
                                    "0": "948: Front Brakes"
                                },
                                {
                                    "0": "945: Front Derailleur"
                                },
                                {
                                    "0": "863: Full-Finger Gloves, L"
                                },
                                {
                                    "0": "862: Full-Finger Gloves, M"
                                },
                                {
                                    "0": "861: Full-Finger Gloves, S"
                                },
                                {
                                    "0": "860: Half-Finger Gloves, L"
                                },
                                {
                                    "0": "859: Half-Finger Gloves, M"
                                },
                                {
                                    "0": "858: Half-Finger Gloves, S"
                                },
                                {
                                    "0": "847: Headlights - Dual-Beam"
                                },
                                {
                                    "0": "848: Headlights - Weatherproof"
                                },
                                {
                                    "0": "876: Hitch Rack - 4-Bike"
                                },
                                {
                                    "0": "996: HL Bottom Bracket"
                                },
                                {
                                    "0": "951: HL Crankset"
                                },
                                {
                                    "0": "804: HL Fork"
                                },
                                {
                                    "0": "807: HL Headset"
                                },
                                {
                                    "0": "747: HL Mountain Frame - Black, 38"
                                },
                                {
                                    "0": "743: HL Mountain Frame - Black, 42"
                                },
                                {
                                    "0": "744: HL Mountain Frame - Black, 44"
                                },
                                {
                                    "0": "746: HL Mountain Frame - Black, 46"
                                },
                                {
                                    "0": "745: HL Mountain Frame - Black, 48"
                                },
                                {
                                    "0": "748: HL Mountain Frame - Silver, 38"
                                },
                                {
                                    "0": "739: HL Mountain Frame - Silver, 42"
                                },
                                {
                                    "0": "740: HL Mountain Frame - Silver, 44"
                                },
                                {
                                    "0": "742: HL Mountain Frame - Silver, 46"
                                },
                                {
                                    "0": "741: HL Mountain Frame - Silver, 48"
                                },
                                {
                                    "0": "817: HL Mountain Front Wheel"
                                },
                                {
                                    "0": "810: HL Mountain Handlebars"
                                },
                                {
                                    "0": "937: HL Mountain Pedal"
                                },
                                {
                                    "0": "825: HL Mountain Rear Wheel"
                                },
                                {
                                    "0": "910: HL Mountain Seat/Saddle"
                                },
                                {
                                    "0": "930: HL Mountain Tire"
                                },
                                {
                                    "0": "838: HL Road Frame - Black, 44"
                                },
                                {
                                    "0": "839: HL Road Frame - Black, 48"
                                },
                                {
                                    "0": "840: HL Road Frame - Black, 52"
                                },
                                {
                                    "0": "680: HL Road Frame - Black, 58"
                                },
                                {
                                    "0": "837: HL Road Frame - Black, 62"
                                },
                                {
                                    "0": "718: HL Road Frame - Red, 44"
                                },
                                {
                                    "0": "719: HL Road Frame - Red, 48"
                                },
                                {
                                    "0": "720: HL Road Frame - Red, 52"
                                },
                                {
                                    "0": "721: HL Road Frame - Red, 56"
                                },
                                {
                                    "0": "706: HL Road Frame - Red, 58"
                                },
                                {
                                    "0": "717: HL Road Frame - Red, 62"
                                },
                                {
                                    "0": "820: HL Road Front Wheel"
                                },
                                {
                                    "0": "813: HL Road Handlebars"
                                },
                                {
                                    "0": "940: HL Road Pedal"
                                },
                                {
                                    "0": "828: HL Road Rear Wheel"
                                },
                                {
                                    "0": "913: HL Road Seat/Saddle"
                                },
                                {
                                    "0": "933: HL Road Tire"
                                },
                                {
                                    "0": "890: HL Touring Frame - Blue, 46"
                                },
                                {
                                    "0": "891: HL Touring Frame - Blue, 50"
                                },
                                {
                                    "0": "892: HL Touring Frame - Blue, 54"
                                },
                                {
                                    "0": "893: HL Touring Frame - Blue, 60"
                                },
                                {
                                    "0": "887: HL Touring Frame - Yellow, 46"
                                },
                                {
                                    "0": "888: HL Touring Frame - Yellow, 50"
                                },
                                {
                                    "0": "889: HL Touring Frame - Yellow, 54"
                                },
                                {
                                    "0": "885: HL Touring Frame - Yellow, 60"
                                },
                                {
                                    "0": "947: HL Touring Handlebars"
                                },
                                {
                                    "0": "916: HL Touring Seat/Saddle"
                                },
                                {
                                    "0": "880: Hydration Pack - 70 oz."
                                },
                                {
                                    "0": "994: LL Bottom Bracket"
                                },
                                {
                                    "0": "949: LL Crankset"
                                },
                                {
                                    "0": "802: LL Fork"
                                },
                                {
                                    "0": "805: LL Headset"
                                },
                                {
                                    "0": "943: LL Mountain Frame - Black, 40"
                                },
                                {
                                    "0": "924: LL Mountain Frame - Black, 42"
                                },
                                {
                                    "0": "925: LL Mountain Frame - Black, 44"
                                },
                                {
                                    "0": "926: LL Mountain Frame - Black, 48"
                                },
                                {
                                    "0": "927: LL Mountain Frame - Black, 52"
                                },
                                {
                                    "0": "944: LL Mountain Frame - Silver, 40"
                                },
                                {
                                    "0": "917: LL Mountain Frame - Silver, 42"
                                },
                                {
                                    "0": "918: LL Mountain Frame - Silver, 44"
                                },
                                {
                                    "0": "919: LL Mountain Frame - Silver, 48"
                                },
                                {
                                    "0": "920: LL Mountain Frame - Silver, 52"
                                },
                                {
                                    "0": "815: LL Mountain Front Wheel"
                                },
                                {
                                    "0": "808: LL Mountain Handlebars"
                                },
                                {
                                    "0": "935: LL Mountain Pedal"
                                },
                                {
                                    "0": "823: LL Mountain Rear Wheel"
                                },
                                {
                                    "0": "908: LL Mountain Seat/Saddle"
                                },
                                {
                                    "0": "928: LL Mountain Tire"
                                },
                                {
                                    "0": "736: LL Road Frame - Black, 44"
                                },
                                {
                                    "0": "737: LL Road Frame - Black, 48"
                                },
                                {
                                    "0": "738: LL Road Frame - Black, 52"
                                },
                                {
                                    "0": "722: LL Road Frame - Black, 58"
                                },
                                {
                                    "0": "723: LL Road Frame - Black, 60"
                                },
                                {
                                    "0": "724: LL Road Frame - Black, 62"
                                },
                                {
                                    "0": "725: LL Road Frame - Red, 44"
                                },
                                {
                                    "0": "726: LL Road Frame - Red, 48"
                                },
                                {
                                    "0": "727: LL Road Frame - Red, 52"
                                },
                                {
                                    "0": "728: LL Road Frame - Red, 58"
                                },
                                {
                                    "0": "729: LL Road Frame - Red, 60"
                                },
                                {
                                    "0": "730: LL Road Frame - Red, 62"
                                },
                                {
                                    "0": "818: LL Road Front Wheel"
                                },
                                {
                                    "0": "811: LL Road Handlebars"
                                },
                                {
                                    "0": "938: LL Road Pedal"
                                },
                                {
                                    "0": "826: LL Road Rear Wheel"
                                },
                                {
                                    "0": "911: LL Road Seat/Saddle"
                                },
                                {
                                    "0": "931: LL Road Tire"
                                },
                                {
                                    "0": "903: LL Touring Frame - Blue, 44"
                                },
                                {
                                    "0": "895: LL Touring Frame - Blue, 50"
                                },
                                {
                                    "0": "896: LL Touring Frame - Blue, 54"
                                },
                                {
                                    "0": "897: LL Touring Frame - Blue, 58"
                                },
                                {
                                    "0": "898: LL Touring Frame - Blue, 62"
                                },
                                {
                                    "0": "899: LL Touring Frame - Yellow, 44"
                                },
                                {
                                    "0": "900: LL Touring Frame - Yellow, 50"
                                },
                                {
                                    "0": "901: LL Touring Frame - Yellow, 54"
                                },
                                {
                                    "0": "902: LL Touring Frame - Yellow, 58"
                                },
                                {
                                    "0": "886: LL Touring Frame - Yellow, 62"
                                },
                                {
                                    "0": "946: LL Touring Handlebars"
                                },
                                {
                                    "0": "914: LL Touring Seat/Saddle"
                                },
                                {
                                    "0": "715: Long-Sleeve Logo Jersey, L"
                                },
                                {
                                    "0": "714: Long-Sleeve Logo Jersey, M"
                                },
                                {
                                    "0": "713: Long-Sleeve Logo Jersey, S"
                                },
                                {
                                    "0": "716: Long-Sleeve Logo Jersey, XL"
                                },
                                {
                                    "0": "857: Men's Bib-Shorts, L"
                                },
                                {
                                    "0": "856: Men's Bib-Shorts, M"
                                },
                                {
                                    "0": "855: Men's Bib-Shorts, S"
                                },
                                {
                                    "0": "850: Men's Sports Shorts, L"
                                },
                                {
                                    "0": "849: Men's Sports Shorts, M"
                                },
                                {
                                    "0": "841: Men's Sports Shorts, S"
                                },
                                {
                                    "0": "851: Men's Sports Shorts, XL"
                                },
                                {
                                    "0": "844: Minipump"
                                },
                                {
                                    "0": "995: ML Bottom Bracket"
                                },
                                {
                                    "0": "950: ML Crankset"
                                },
                                {
                                    "0": "803: ML Fork"
                                },
                                {
                                    "0": "806: ML Headset"
                                },
                                {
                                    "0": "814: ML Mountain Frame - Black, 38"
                                },
                                {
                                    "0": "830: ML Mountain Frame - Black, 40"
                                },
                                {
                                    "0": "831: ML Mountain Frame - Black, 44"
                                },
                                {
                                    "0": "832: ML Mountain Frame - Black, 48"
                                },
                                {
                                    "0": "942: ML Mountain Frame-W - Silver, 38"
                                },
                                {
                                    "0": "904: ML Mountain Frame-W - Silver, 40"
                                },
                                {
                                    "0": "905: ML Mountain Frame-W - Silver, 42"
                                },
                                {
                                    "0": "906: ML Mountain Frame-W - Silver, 46"
                                },
                                {
                                    "0": "816: ML Mountain Front Wheel"
                                },
                                {
                                    "0": "809: ML Mountain Handlebars"
                                },
                                {
                                    "0": "936: ML Mountain Pedal"
                                },
                                {
                                    "0": "824: ML Mountain Rear Wheel"
                                },
                                {
                                    "0": "909: ML Mountain Seat/Saddle"
                                },
                                {
                                    "0": "929: ML Mountain Tire"
                                },
                                {
                                    "0": "731: ML Road Frame - Red, 44"
                                },
                                {
                                    "0": "732: ML Road Frame - Red, 48"
                                },
                                {
                                    "0": "733: ML Road Frame - Red, 52"
                                },
                                {
                                    "0": "734: ML Road Frame - Red, 58"
                                },
                                {
                                    "0": "735: ML Road Frame - Red, 60"
                                },
                                {
                                    "0": "822: ML Road Frame-W - Yellow, 38"
                                },
                                {
                                    "0": "833: ML Road Frame-W - Yellow, 40"
                                },
                                {
                                    "0": "834: ML Road Frame-W - Yellow, 42"
                                },
                                {
                                    "0": "835: ML Road Frame-W - Yellow, 44"
                                },
                                {
                                    "0": "836: ML Road Frame-W - Yellow, 48"
                                },
                                {
                                    "0": "819: ML Road Front Wheel"
                                },
                                {
                                    "0": "812: ML Road Handlebars"
                                },
                                {
                                    "0": "939: ML Road Pedal"
                                },
                                {
                                    "0": "827: ML Road Rear Wheel"
                                },
                                {
                                    "0": "912: ML Road Seat/Saddle"
                                },
                                {
                                    "0": "932: ML Road Tire"
                                },
                                {
                                    "0": "915: ML Touring Seat/Saddle"
                                },
                                {
                                    "0": "710: Mountain Bike Socks, L"
                                },
                                {
                                    "0": "709: Mountain Bike Socks, M"
                                },
                                {
                                    "0": "871: Mountain Bottle Cage"
                                },
                                {
                                    "0": "845: Mountain Pump"
                                },
                                {
                                    "0": "921: Mountain Tire Tube"
                                },
                                {
                                    "0": "775: Mountain-100 Black, 38"
                                },
                                {
                                    "0": "776: Mountain-100 Black, 42"
                                },
                                {
                                    "0": "777: Mountain-100 Black, 44"
                                },
                                {
                                    "0": "778: Mountain-100 Black, 48"
                                },
                                {
                                    "0": "771: Mountain-100 Silver, 38"
                                },
                                {
                                    "0": "772: Mountain-100 Silver, 42"
                                },
                                {
                                    "0": "773: Mountain-100 Silver, 44"
                                },
                                {
                                    "0": "774: Mountain-100 Silver, 48"
                                },
                                {
                                    "0": "782: Mountain-200 Black, 38"
                                },
                                {
                                    "0": "783: Mountain-200 Black, 42"
                                },
                                {
                                    "0": "784: Mountain-200 Black, 46"
                                },
                                {
                                    "0": "779: Mountain-200 Silver, 38"
                                },
                                {
                                    "0": "780: Mountain-200 Silver, 42"
                                },
                                {
                                    "0": "781: Mountain-200 Silver, 46"
                                },
                                {
                                    "0": "785: Mountain-300 Black, 38"
                                },
                                {
                                    "0": "786: Mountain-300 Black, 40"
                                },
                                {
                                    "0": "787: Mountain-300 Black, 44"
                                },
                                {
                                    "0": "788: Mountain-300 Black, 48"
                                },
                                {
                                    "0": "980: Mountain-400-W Silver, 38"
                                },
                                {
                                    "0": "981: Mountain-400-W Silver, 40"
                                },
                                {
                                    "0": "982: Mountain-400-W Silver, 42"
                                },
                                {
                                    "0": "983: Mountain-400-W Silver, 46"
                                },
                                {
                                    "0": "989: Mountain-500 Black, 40"
                                },
                                {
                                    "0": "990: Mountain-500 Black, 42"
                                },
                                {
                                    "0": "991: Mountain-500 Black, 44"
                                },
                                {
                                    "0": "992: Mountain-500 Black, 48"
                                },
                                {
                                    "0": "993: Mountain-500 Black, 52"
                                },
                                {
                                    "0": "984: Mountain-500 Silver, 40"
                                },
                                {
                                    "0": "985: Mountain-500 Silver, 42"
                                },
                                {
                                    "0": "986: Mountain-500 Silver, 44"
                                },
                                {
                                    "0": "987: Mountain-500 Silver, 48"
                                },
                                {
                                    "0": "988: Mountain-500 Silver, 52"
                                },
                                {
                                    "0": "873: Patch Kit/8 Patches"
                                },
                                {
                                    "0": "875: Racing Socks, L"
                                },
                                {
                                    "0": "874: Racing Socks, M"
                                },
                                {
                                    "0": "907: Rear Brakes"
                                },
                                {
                                    "0": "894: Rear Derailleur"
                                },
                                {
                                    "0": "872: Road Bottle Cage"
                                },
                                {
                                    "0": "922: Road Tire Tube"
                                },
                                {
                                    "0": "750: Road-150 Red, 44"
                                },
                                {
                                    "0": "751: Road-150 Red, 48"
                                },
                                {
                                    "0": "752: Road-150 Red, 52"
                                },
                                {
                                    "0": "753: Road-150 Red, 56"
                                },
                                {
                                    "0": "749: Road-150 Red, 62"
                                },
                                {
                                    "0": "793: Road-250 Black, 44"
                                },
                                {
                                    "0": "794: Road-250 Black, 48"
                                },
                                {
                                    "0": "795: Road-250 Black, 52"
                                },
                                {
                                    "0": "796: Road-250 Black, 58"
                                },
                                {
                                    "0": "789: Road-250 Red, 44"
                                },
                                {
                                    "0": "790: Road-250 Red, 48"
                                },
                                {
                                    "0": "791: Road-250 Red, 52"
                                },
                                {
                                    "0": "792: Road-250 Red, 58"
                                },
                                {
                                    "0": "973: Road-350-W Yellow, 40"
                                },
                                {
                                    "0": "974: Road-350-W Yellow, 42"
                                },
                                {
                                    "0": "975: Road-350-W Yellow, 44"
                                },
                                {
                                    "0": "976: Road-350-W Yellow, 48"
                                },
                                {
                                    "0": "756: Road-450 Red, 44"
                                },
                                {
                                    "0": "757: Road-450 Red, 48"
                                },
                                {
                                    "0": "758: Road-450 Red, 52"
                                },
                                {
                                    "0": "754: Road-450 Red, 58"
                                },
                                {
                                    "0": "755: Road-450 Red, 60"
                                },
                                {
                                    "0": "797: Road-550-W Yellow, 38"
                                },
                                {
                                    "0": "798: Road-550-W Yellow, 40"
                                },
                                {
                                    "0": "799: Road-550-W Yellow, 42"
                                },
                                {
                                    "0": "800: Road-550-W Yellow, 44"
                                },
                                {
                                    "0": "801: Road-550-W Yellow, 48"
                                },
                                {
                                    "0": "768: Road-650 Black, 44"
                                },
                                {
                                    "0": "769: Road-650 Black, 48"
                                },
                                {
                                    "0": "770: Road-650 Black, 52"
                                },
                                {
                                    "0": "765: Road-650 Black, 58"
                                },
                                {
                                    "0": "766: Road-650 Black, 60"
                                },
                                {
                                    "0": "767: Road-650 Black, 62"
                                },
                                {
                                    "0": "762: Road-650 Red, 44"
                                },
                                {
                                    "0": "763: Road-650 Red, 48"
                                },
                                {
                                    "0": "764: Road-650 Red, 52"
                                },
                                {
                                    "0": "759: Road-650 Red, 58"
                                },
                                {
                                    "0": "760: Road-650 Red, 60"
                                },
                                {
                                    "0": "761: Road-650 Red, 62"
                                },
                                {
                                    "0": "997: Road-750 Black, 44"
                                },
                                {
                                    "0": "998: Road-750 Black, 48"
                                },
                                {
                                    "0": "999: Road-750 Black, 52"
                                },
                                {
                                    "0": "977: Road-750 Black, 58"
                                },
                                {
                                    "0": "883: Short-Sleeve Classic Jersey, L"
                                },
                                {
                                    "0": "882: Short-Sleeve Classic Jersey, M"
                                },
                                {
                                    "0": "881: Short-Sleeve Classic Jersey, S"
                                },
                                {
                                    "0": "884: Short-Sleeve Classic Jersey, XL"
                                },
                                {
                                    "0": "708: Sport-100 Helmet, Black"
                                },
                                {
                                    "0": "711: Sport-100 Helmet, Blue"
                                },
                                {
                                    "0": "707: Sport-100 Helmet, Red"
                                },
                                {
                                    "0": "846: Taillights - Battery-Powered"
                                },
                                {
                                    "0": "821: Touring Front Wheel"
                                },
                                {
                                    "0": "941: Touring Pedal"
                                },
                                {
                                    "0": "829: Touring Rear Wheel"
                                },
                                {
                                    "0": "934: Touring Tire"
                                },
                                {
                                    "0": "923: Touring Tire Tube"
                                },
                                {
                                    "0": "966: Touring-1000 Blue, 46"
                                },
                                {
                                    "0": "967: Touring-1000 Blue, 50"
                                },
                                {
                                    "0": "968: Touring-1000 Blue, 54"
                                },
                                {
                                    "0": "969: Touring-1000 Blue, 60"
                                },
                                {
                                    "0": "954: Touring-1000 Yellow, 46"
                                },
                                {
                                    "0": "955: Touring-1000 Yellow, 50"
                                },
                                {
                                    "0": "956: Touring-1000 Yellow, 54"
                                },
                                {
                                    "0": "957: Touring-1000 Yellow, 60"
                                },
                                {
                                    "0": "970: Touring-2000 Blue, 46"
                                },
                                {
                                    "0": "971: Touring-2000 Blue, 50"
                                },
                                {
                                    "0": "972: Touring-2000 Blue, 54"
                                },
                                {
                                    "0": "953: Touring-2000 Blue, 60"
                                },
                                {
                                    "0": "978: Touring-3000 Blue, 44"
                                },
                                {
                                    "0": "979: Touring-3000 Blue, 50"
                                },
                                {
                                    "0": "958: Touring-3000 Blue, 54"
                                },
                                {
                                    "0": "959: Touring-3000 Blue, 58"
                                },
                                {
                                    "0": "960: Touring-3000 Blue, 62"
                                },
                                {
                                    "0": "961: Touring-3000 Yellow, 44"
                                },
                                {
                                    "0": "962: Touring-3000 Yellow, 50"
                                },
                                {
                                    "0": "963: Touring-3000 Yellow, 54"
                                },
                                {
                                    "0": "964: Touring-3000 Yellow, 58"
                                },
                                {
                                    "0": "965: Touring-3000 Yellow, 62"
                                },
                                {
                                    "0": "842: Touring-Panniers, Large"
                                },
                                {
                                    "0": "870: Water Bottle - 30 oz."
                                },
                                {
                                    "0": "869: Women's Mountain Shorts, L"
                                },
                                {
                                    "0": "868: Women's Mountain Shorts, M"
                                },
                                {
                                    "0": "867: Women's Mountain Shorts, S"
                                },
                                {
                                    "0": "854: Women's Tights, L"
                                },
                                {
                                    "0": "853: Women's Tights, M"
                                },
                                {
                                    "0": "852: Women's Tights, S"
                                }
                            ]
                        },
                        "text/html": [
                            "<table>",
                            "<tr><th>ProductName</th></tr>",
                            "<tr><td>879: All-Purpose Bike Stand</td></tr>",
                            "<tr><td>712: AWC Logo Cap</td></tr>",
                            "<tr><td>877: Bike Wash - Dissolver</td></tr>",
                            "<tr><td>843: Cable Lock</td></tr>",
                            "<tr><td>952: Chain</td></tr>",
                            "<tr><td>866: Classic Vest, L</td></tr>",
                            "<tr><td>865: Classic Vest, M</td></tr>",
                            "<tr><td>864: Classic Vest, S</td></tr>",
                            "<tr><td>878: Fender Set - Mountain</td></tr>",
                            "<tr><td>948: Front Brakes</td></tr>",
                            "<tr><td>945: Front Derailleur</td></tr>",
                            "<tr><td>863: Full-Finger Gloves, L</td></tr>",
                            "<tr><td>862: Full-Finger Gloves, M</td></tr>",
                            "<tr><td>861: Full-Finger Gloves, S</td></tr>",
                            "<tr><td>860: Half-Finger Gloves, L</td></tr>",
                            "<tr><td>859: Half-Finger Gloves, M</td></tr>",
                            "<tr><td>858: Half-Finger Gloves, S</td></tr>",
                            "<tr><td>847: Headlights - Dual-Beam</td></tr>",
                            "<tr><td>848: Headlights - Weatherproof</td></tr>",
                            "<tr><td>876: Hitch Rack - 4-Bike</td></tr>",
                            "<tr><td>996: HL Bottom Bracket</td></tr>",
                            "<tr><td>951: HL Crankset</td></tr>",
                            "<tr><td>804: HL Fork</td></tr>",
                            "<tr><td>807: HL Headset</td></tr>",
                            "<tr><td>747: HL Mountain Frame - Black, 38</td></tr>",
                            "<tr><td>743: HL Mountain Frame - Black, 42</td></tr>",
                            "<tr><td>744: HL Mountain Frame - Black, 44</td></tr>",
                            "<tr><td>746: HL Mountain Frame - Black, 46</td></tr>",
                            "<tr><td>745: HL Mountain Frame - Black, 48</td></tr>",
                            "<tr><td>748: HL Mountain Frame - Silver, 38</td></tr>",
                            "<tr><td>739: HL Mountain Frame - Silver, 42</td></tr>",
                            "<tr><td>740: HL Mountain Frame - Silver, 44</td></tr>",
                            "<tr><td>742: HL Mountain Frame - Silver, 46</td></tr>",
                            "<tr><td>741: HL Mountain Frame - Silver, 48</td></tr>",
                            "<tr><td>817: HL Mountain Front Wheel</td></tr>",
                            "<tr><td>810: HL Mountain Handlebars</td></tr>",
                            "<tr><td>937: HL Mountain Pedal</td></tr>",
                            "<tr><td>825: HL Mountain Rear Wheel</td></tr>",
                            "<tr><td>910: HL Mountain Seat/Saddle</td></tr>",
                            "<tr><td>930: HL Mountain Tire</td></tr>",
                            "<tr><td>838: HL Road Frame - Black, 44</td></tr>",
                            "<tr><td>839: HL Road Frame - Black, 48</td></tr>",
                            "<tr><td>840: HL Road Frame - Black, 52</td></tr>",
                            "<tr><td>680: HL Road Frame - Black, 58</td></tr>",
                            "<tr><td>837: HL Road Frame - Black, 62</td></tr>",
                            "<tr><td>718: HL Road Frame - Red, 44</td></tr>",
                            "<tr><td>719: HL Road Frame - Red, 48</td></tr>",
                            "<tr><td>720: HL Road Frame - Red, 52</td></tr>",
                            "<tr><td>721: HL Road Frame - Red, 56</td></tr>",
                            "<tr><td>706: HL Road Frame - Red, 58</td></tr>",
                            "<tr><td>717: HL Road Frame - Red, 62</td></tr>",
                            "<tr><td>820: HL Road Front Wheel</td></tr>",
                            "<tr><td>813: HL Road Handlebars</td></tr>",
                            "<tr><td>940: HL Road Pedal</td></tr>",
                            "<tr><td>828: HL Road Rear Wheel</td></tr>",
                            "<tr><td>913: HL Road Seat/Saddle</td></tr>",
                            "<tr><td>933: HL Road Tire</td></tr>",
                            "<tr><td>890: HL Touring Frame - Blue, 46</td></tr>",
                            "<tr><td>891: HL Touring Frame - Blue, 50</td></tr>",
                            "<tr><td>892: HL Touring Frame - Blue, 54</td></tr>",
                            "<tr><td>893: HL Touring Frame - Blue, 60</td></tr>",
                            "<tr><td>887: HL Touring Frame - Yellow, 46</td></tr>",
                            "<tr><td>888: HL Touring Frame - Yellow, 50</td></tr>",
                            "<tr><td>889: HL Touring Frame - Yellow, 54</td></tr>",
                            "<tr><td>885: HL Touring Frame - Yellow, 60</td></tr>",
                            "<tr><td>947: HL Touring Handlebars</td></tr>",
                            "<tr><td>916: HL Touring Seat/Saddle</td></tr>",
                            "<tr><td>880: Hydration Pack - 70 oz.</td></tr>",
                            "<tr><td>994: LL Bottom Bracket</td></tr>",
                            "<tr><td>949: LL Crankset</td></tr>",
                            "<tr><td>802: LL Fork</td></tr>",
                            "<tr><td>805: LL Headset</td></tr>",
                            "<tr><td>943: LL Mountain Frame - Black, 40</td></tr>",
                            "<tr><td>924: LL Mountain Frame - Black, 42</td></tr>",
                            "<tr><td>925: LL Mountain Frame - Black, 44</td></tr>",
                            "<tr><td>926: LL Mountain Frame - Black, 48</td></tr>",
                            "<tr><td>927: LL Mountain Frame - Black, 52</td></tr>",
                            "<tr><td>944: LL Mountain Frame - Silver, 40</td></tr>",
                            "<tr><td>917: LL Mountain Frame - Silver, 42</td></tr>",
                            "<tr><td>918: LL Mountain Frame - Silver, 44</td></tr>",
                            "<tr><td>919: LL Mountain Frame - Silver, 48</td></tr>",
                            "<tr><td>920: LL Mountain Frame - Silver, 52</td></tr>",
                            "<tr><td>815: LL Mountain Front Wheel</td></tr>",
                            "<tr><td>808: LL Mountain Handlebars</td></tr>",
                            "<tr><td>935: LL Mountain Pedal</td></tr>",
                            "<tr><td>823: LL Mountain Rear Wheel</td></tr>",
                            "<tr><td>908: LL Mountain Seat/Saddle</td></tr>",
                            "<tr><td>928: LL Mountain Tire</td></tr>",
                            "<tr><td>736: LL Road Frame - Black, 44</td></tr>",
                            "<tr><td>737: LL Road Frame - Black, 48</td></tr>",
                            "<tr><td>738: LL Road Frame - Black, 52</td></tr>",
                            "<tr><td>722: LL Road Frame - Black, 58</td></tr>",
                            "<tr><td>723: LL Road Frame - Black, 60</td></tr>",
                            "<tr><td>724: LL Road Frame - Black, 62</td></tr>",
                            "<tr><td>725: LL Road Frame - Red, 44</td></tr>",
                            "<tr><td>726: LL Road Frame - Red, 48</td></tr>",
                            "<tr><td>727: LL Road Frame - Red, 52</td></tr>",
                            "<tr><td>728: LL Road Frame - Red, 58</td></tr>",
                            "<tr><td>729: LL Road Frame - Red, 60</td></tr>",
                            "<tr><td>730: LL Road Frame - Red, 62</td></tr>",
                            "<tr><td>818: LL Road Front Wheel</td></tr>",
                            "<tr><td>811: LL Road Handlebars</td></tr>",
                            "<tr><td>938: LL Road Pedal</td></tr>",
                            "<tr><td>826: LL Road Rear Wheel</td></tr>",
                            "<tr><td>911: LL Road Seat/Saddle</td></tr>",
                            "<tr><td>931: LL Road Tire</td></tr>",
                            "<tr><td>903: LL Touring Frame - Blue, 44</td></tr>",
                            "<tr><td>895: LL Touring Frame - Blue, 50</td></tr>",
                            "<tr><td>896: LL Touring Frame - Blue, 54</td></tr>",
                            "<tr><td>897: LL Touring Frame - Blue, 58</td></tr>",
                            "<tr><td>898: LL Touring Frame - Blue, 62</td></tr>",
                            "<tr><td>899: LL Touring Frame - Yellow, 44</td></tr>",
                            "<tr><td>900: LL Touring Frame - Yellow, 50</td></tr>",
                            "<tr><td>901: LL Touring Frame - Yellow, 54</td></tr>",
                            "<tr><td>902: LL Touring Frame - Yellow, 58</td></tr>",
                            "<tr><td>886: LL Touring Frame - Yellow, 62</td></tr>",
                            "<tr><td>946: LL Touring Handlebars</td></tr>",
                            "<tr><td>914: LL Touring Seat/Saddle</td></tr>",
                            "<tr><td>715: Long-Sleeve Logo Jersey, L</td></tr>",
                            "<tr><td>714: Long-Sleeve Logo Jersey, M</td></tr>",
                            "<tr><td>713: Long-Sleeve Logo Jersey, S</td></tr>",
                            "<tr><td>716: Long-Sleeve Logo Jersey, XL</td></tr>",
                            "<tr><td>857: Men's Bib-Shorts, L</td></tr>",
                            "<tr><td>856: Men's Bib-Shorts, M</td></tr>",
                            "<tr><td>855: Men's Bib-Shorts, S</td></tr>",
                            "<tr><td>850: Men's Sports Shorts, L</td></tr>",
                            "<tr><td>849: Men's Sports Shorts, M</td></tr>",
                            "<tr><td>841: Men's Sports Shorts, S</td></tr>",
                            "<tr><td>851: Men's Sports Shorts, XL</td></tr>",
                            "<tr><td>844: Minipump</td></tr>",
                            "<tr><td>995: ML Bottom Bracket</td></tr>",
                            "<tr><td>950: ML Crankset</td></tr>",
                            "<tr><td>803: ML Fork</td></tr>",
                            "<tr><td>806: ML Headset</td></tr>",
                            "<tr><td>814: ML Mountain Frame - Black, 38</td></tr>",
                            "<tr><td>830: ML Mountain Frame - Black, 40</td></tr>",
                            "<tr><td>831: ML Mountain Frame - Black, 44</td></tr>",
                            "<tr><td>832: ML Mountain Frame - Black, 48</td></tr>",
                            "<tr><td>942: ML Mountain Frame-W - Silver, 38</td></tr>",
                            "<tr><td>904: ML Mountain Frame-W - Silver, 40</td></tr>",
                            "<tr><td>905: ML Mountain Frame-W - Silver, 42</td></tr>",
                            "<tr><td>906: ML Mountain Frame-W - Silver, 46</td></tr>",
                            "<tr><td>816: ML Mountain Front Wheel</td></tr>",
                            "<tr><td>809: ML Mountain Handlebars</td></tr>",
                            "<tr><td>936: ML Mountain Pedal</td></tr>",
                            "<tr><td>824: ML Mountain Rear Wheel</td></tr>",
                            "<tr><td>909: ML Mountain Seat/Saddle</td></tr>",
                            "<tr><td>929: ML Mountain Tire</td></tr>",
                            "<tr><td>731: ML Road Frame - Red, 44</td></tr>",
                            "<tr><td>732: ML Road Frame - Red, 48</td></tr>",
                            "<tr><td>733: ML Road Frame - Red, 52</td></tr>",
                            "<tr><td>734: ML Road Frame - Red, 58</td></tr>",
                            "<tr><td>735: ML Road Frame - Red, 60</td></tr>",
                            "<tr><td>822: ML Road Frame-W - Yellow, 38</td></tr>",
                            "<tr><td>833: ML Road Frame-W - Yellow, 40</td></tr>",
                            "<tr><td>834: ML Road Frame-W - Yellow, 42</td></tr>",
                            "<tr><td>835: ML Road Frame-W - Yellow, 44</td></tr>",
                            "<tr><td>836: ML Road Frame-W - Yellow, 48</td></tr>",
                            "<tr><td>819: ML Road Front Wheel</td></tr>",
                            "<tr><td>812: ML Road Handlebars</td></tr>",
                            "<tr><td>939: ML Road Pedal</td></tr>",
                            "<tr><td>827: ML Road Rear Wheel</td></tr>",
                            "<tr><td>912: ML Road Seat/Saddle</td></tr>",
                            "<tr><td>932: ML Road Tire</td></tr>",
                            "<tr><td>915: ML Touring Seat/Saddle</td></tr>",
                            "<tr><td>710: Mountain Bike Socks, L</td></tr>",
                            "<tr><td>709: Mountain Bike Socks, M</td></tr>",
                            "<tr><td>871: Mountain Bottle Cage</td></tr>",
                            "<tr><td>845: Mountain Pump</td></tr>",
                            "<tr><td>921: Mountain Tire Tube</td></tr>",
                            "<tr><td>775: Mountain-100 Black, 38</td></tr>",
                            "<tr><td>776: Mountain-100 Black, 42</td></tr>",
                            "<tr><td>777: Mountain-100 Black, 44</td></tr>",
                            "<tr><td>778: Mountain-100 Black, 48</td></tr>",
                            "<tr><td>771: Mountain-100 Silver, 38</td></tr>",
                            "<tr><td>772: Mountain-100 Silver, 42</td></tr>",
                            "<tr><td>773: Mountain-100 Silver, 44</td></tr>",
                            "<tr><td>774: Mountain-100 Silver, 48</td></tr>",
                            "<tr><td>782: Mountain-200 Black, 38</td></tr>",
                            "<tr><td>783: Mountain-200 Black, 42</td></tr>",
                            "<tr><td>784: Mountain-200 Black, 46</td></tr>",
                            "<tr><td>779: Mountain-200 Silver, 38</td></tr>",
                            "<tr><td>780: Mountain-200 Silver, 42</td></tr>",
                            "<tr><td>781: Mountain-200 Silver, 46</td></tr>",
                            "<tr><td>785: Mountain-300 Black, 38</td></tr>",
                            "<tr><td>786: Mountain-300 Black, 40</td></tr>",
                            "<tr><td>787: Mountain-300 Black, 44</td></tr>",
                            "<tr><td>788: Mountain-300 Black, 48</td></tr>",
                            "<tr><td>980: Mountain-400-W Silver, 38</td></tr>",
                            "<tr><td>981: Mountain-400-W Silver, 40</td></tr>",
                            "<tr><td>982: Mountain-400-W Silver, 42</td></tr>",
                            "<tr><td>983: Mountain-400-W Silver, 46</td></tr>",
                            "<tr><td>989: Mountain-500 Black, 40</td></tr>",
                            "<tr><td>990: Mountain-500 Black, 42</td></tr>",
                            "<tr><td>991: Mountain-500 Black, 44</td></tr>",
                            "<tr><td>992: Mountain-500 Black, 48</td></tr>",
                            "<tr><td>993: Mountain-500 Black, 52</td></tr>",
                            "<tr><td>984: Mountain-500 Silver, 40</td></tr>",
                            "<tr><td>985: Mountain-500 Silver, 42</td></tr>",
                            "<tr><td>986: Mountain-500 Silver, 44</td></tr>",
                            "<tr><td>987: Mountain-500 Silver, 48</td></tr>",
                            "<tr><td>988: Mountain-500 Silver, 52</td></tr>",
                            "<tr><td>873: Patch Kit/8 Patches</td></tr>",
                            "<tr><td>875: Racing Socks, L</td></tr>",
                            "<tr><td>874: Racing Socks, M</td></tr>",
                            "<tr><td>907: Rear Brakes</td></tr>",
                            "<tr><td>894: Rear Derailleur</td></tr>",
                            "<tr><td>872: Road Bottle Cage</td></tr>",
                            "<tr><td>922: Road Tire Tube</td></tr>",
                            "<tr><td>750: Road-150 Red, 44</td></tr>",
                            "<tr><td>751: Road-150 Red, 48</td></tr>",
                            "<tr><td>752: Road-150 Red, 52</td></tr>",
                            "<tr><td>753: Road-150 Red, 56</td></tr>",
                            "<tr><td>749: Road-150 Red, 62</td></tr>",
                            "<tr><td>793: Road-250 Black, 44</td></tr>",
                            "<tr><td>794: Road-250 Black, 48</td></tr>",
                            "<tr><td>795: Road-250 Black, 52</td></tr>",
                            "<tr><td>796: Road-250 Black, 58</td></tr>",
                            "<tr><td>789: Road-250 Red, 44</td></tr>",
                            "<tr><td>790: Road-250 Red, 48</td></tr>",
                            "<tr><td>791: Road-250 Red, 52</td></tr>",
                            "<tr><td>792: Road-250 Red, 58</td></tr>",
                            "<tr><td>973: Road-350-W Yellow, 40</td></tr>",
                            "<tr><td>974: Road-350-W Yellow, 42</td></tr>",
                            "<tr><td>975: Road-350-W Yellow, 44</td></tr>",
                            "<tr><td>976: Road-350-W Yellow, 48</td></tr>",
                            "<tr><td>756: Road-450 Red, 44</td></tr>",
                            "<tr><td>757: Road-450 Red, 48</td></tr>",
                            "<tr><td>758: Road-450 Red, 52</td></tr>",
                            "<tr><td>754: Road-450 Red, 58</td></tr>",
                            "<tr><td>755: Road-450 Red, 60</td></tr>",
                            "<tr><td>797: Road-550-W Yellow, 38</td></tr>",
                            "<tr><td>798: Road-550-W Yellow, 40</td></tr>",
                            "<tr><td>799: Road-550-W Yellow, 42</td></tr>",
                            "<tr><td>800: Road-550-W Yellow, 44</td></tr>",
                            "<tr><td>801: Road-550-W Yellow, 48</td></tr>",
                            "<tr><td>768: Road-650 Black, 44</td></tr>",
                            "<tr><td>769: Road-650 Black, 48</td></tr>",
                            "<tr><td>770: Road-650 Black, 52</td></tr>",
                            "<tr><td>765: Road-650 Black, 58</td></tr>",
                            "<tr><td>766: Road-650 Black, 60</td></tr>",
                            "<tr><td>767: Road-650 Black, 62</td></tr>",
                            "<tr><td>762: Road-650 Red, 44</td></tr>",
                            "<tr><td>763: Road-650 Red, 48</td></tr>",
                            "<tr><td>764: Road-650 Red, 52</td></tr>",
                            "<tr><td>759: Road-650 Red, 58</td></tr>",
                            "<tr><td>760: Road-650 Red, 60</td></tr>",
                            "<tr><td>761: Road-650 Red, 62</td></tr>",
                            "<tr><td>997: Road-750 Black, 44</td></tr>",
                            "<tr><td>998: Road-750 Black, 48</td></tr>",
                            "<tr><td>999: Road-750 Black, 52</td></tr>",
                            "<tr><td>977: Road-750 Black, 58</td></tr>",
                            "<tr><td>883: Short-Sleeve Classic Jersey, L</td></tr>",
                            "<tr><td>882: Short-Sleeve Classic Jersey, M</td></tr>",
                            "<tr><td>881: Short-Sleeve Classic Jersey, S</td></tr>",
                            "<tr><td>884: Short-Sleeve Classic Jersey, XL</td></tr>",
                            "<tr><td>708: Sport-100 Helmet, Black</td></tr>",
                            "<tr><td>711: Sport-100 Helmet, Blue</td></tr>",
                            "<tr><td>707: Sport-100 Helmet, Red</td></tr>",
                            "<tr><td>846: Taillights - Battery-Powered</td></tr>",
                            "<tr><td>821: Touring Front Wheel</td></tr>",
                            "<tr><td>941: Touring Pedal</td></tr>",
                            "<tr><td>829: Touring Rear Wheel</td></tr>",
                            "<tr><td>934: Touring Tire</td></tr>",
                            "<tr><td>923: Touring Tire Tube</td></tr>",
                            "<tr><td>966: Touring-1000 Blue, 46</td></tr>",
                            "<tr><td>967: Touring-1000 Blue, 50</td></tr>",
                            "<tr><td>968: Touring-1000 Blue, 54</td></tr>",
                            "<tr><td>969: Touring-1000 Blue, 60</td></tr>",
                            "<tr><td>954: Touring-1000 Yellow, 46</td></tr>",
                            "<tr><td>955: Touring-1000 Yellow, 50</td></tr>",
                            "<tr><td>956: Touring-1000 Yellow, 54</td></tr>",
                            "<tr><td>957: Touring-1000 Yellow, 60</td></tr>",
                            "<tr><td>970: Touring-2000 Blue, 46</td></tr>",
                            "<tr><td>971: Touring-2000 Blue, 50</td></tr>",
                            "<tr><td>972: Touring-2000 Blue, 54</td></tr>",
                            "<tr><td>953: Touring-2000 Blue, 60</td></tr>",
                            "<tr><td>978: Touring-3000 Blue, 44</td></tr>",
                            "<tr><td>979: Touring-3000 Blue, 50</td></tr>",
                            "<tr><td>958: Touring-3000 Blue, 54</td></tr>",
                            "<tr><td>959: Touring-3000 Blue, 58</td></tr>",
                            "<tr><td>960: Touring-3000 Blue, 62</td></tr>",
                            "<tr><td>961: Touring-3000 Yellow, 44</td></tr>",
                            "<tr><td>962: Touring-3000 Yellow, 50</td></tr>",
                            "<tr><td>963: Touring-3000 Yellow, 54</td></tr>",
                            "<tr><td>964: Touring-3000 Yellow, 58</td></tr>",
                            "<tr><td>965: Touring-3000 Yellow, 62</td></tr>",
                            "<tr><td>842: Touring-Panniers, Large</td></tr>",
                            "<tr><td>870: Water Bottle - 30 oz.</td></tr>",
                            "<tr><td>869: Women's Mountain Shorts, L</td></tr>",
                            "<tr><td>868: Women's Mountain Shorts, M</td></tr>",
                            "<tr><td>867: Women's Mountain Shorts, S</td></tr>",
                            "<tr><td>854: Women's Tights, L</td></tr>",
                            "<tr><td>853: Women's Tights, M</td></tr>",
                            "<tr><td>852: Women's Tights, S</td></tr>",
                            "</table>"
                        ]
                    }
                }
            ],
            "execution_count": 2
        },
        {
            "cell_type": "markdown",
            "source": [
                "CONVERT Dates example\n",
                "\n",
                "https://docs.microsoft.com/en-us/sql/t-sql/functions/cast-and-convert-transact-sql?view=sql-server-ver15"
            ],
            "metadata": {
                "azdata_cell_guid": "33950a9b-c50e-425a-8caa-71eb39055acd"
            }
        },
        {
            "cell_type": "code",
            "source": [
                "SELECT SellStartDate,\r\n",
                "\t\tCONVERT(nvarchar(30), SellStartDate) AS Convertedate,\r\n",
                "\t\tCONVERT(nvarchar(30), SellStartDate, 126) AS ISO8601FormatDate\r\n",
                "FROM SalesLT.Product;"
            ],
            "metadata": {
                "azdata_cell_guid": "4b6d89ef-acec-4957-91d4-7aafc63febb2"
            },
            "outputs": [
                {
                    "output_type": "display_data",
                    "data": {
                        "text/html": "(295 rows affected)"
                    },
                    "metadata": {}
                },
                {
                    "output_type": "display_data",
                    "data": {
                        "text/html": "Total execution time: 00:00:00.024"
                    },
                    "metadata": {}
                },
                {
                    "output_type": "execute_result",
                    "metadata": {
                        "resultSet": {
                            "id": 0,
                            "batchId": 0,
                            "rowCount": 295,
                            "complete": true,
                            "columnInfo": [
                                {
                                    "isBytes": false,
                                    "isChars": false,
                                    "isSqlVariant": false,
                                    "isUdt": false,
                                    "isXml": false,
                                    "isJson": false,
                                    "sqlDbType": 4,
                                    "isHierarchyId": false,
                                    "isSqlXmlType": false,
                                    "isUnknownType": false,
                                    "isUpdatable": true,
                                    "allowDBNull": false,
                                    "baseCatalogName": null,
                                    "baseColumnName": null,
                                    "baseSchemaName": null,
                                    "baseServerName": null,
                                    "baseTableName": null,
                                    "columnName": "SellStartDate",
                                    "columnOrdinal": 0,
                                    "columnSize": 8,
                                    "isAliased": null,
                                    "isAutoIncrement": false,
                                    "isExpression": null,
                                    "isHidden": null,
                                    "isIdentity": false,
                                    "isKey": null,
                                    "isLong": false,
                                    "isReadOnly": false,
                                    "isUnique": false,
                                    "numericPrecision": 23,
                                    "numericScale": 3,
                                    "udtAssemblyQualifiedName": null,
                                    "dataType": "System.DateTime, System.Private.CoreLib, Version=4.0.0.0, Culture=neutral, PublicKeyToken=7cec85d7bea7798e",
                                    "dataTypeName": "datetime"
                                },
                                {
                                    "isBytes": false,
                                    "isChars": true,
                                    "isSqlVariant": false,
                                    "isUdt": false,
                                    "isXml": false,
                                    "isJson": false,
                                    "sqlDbType": 12,
                                    "isHierarchyId": false,
                                    "isSqlXmlType": false,
                                    "isUnknownType": false,
                                    "isUpdatable": false,
                                    "allowDBNull": true,
                                    "baseCatalogName": null,
                                    "baseColumnName": null,
                                    "baseSchemaName": null,
                                    "baseServerName": null,
                                    "baseTableName": null,
                                    "columnName": "Convertedate",
                                    "columnOrdinal": 1,
                                    "columnSize": 30,
                                    "isAliased": null,
                                    "isAutoIncrement": false,
                                    "isExpression": null,
                                    "isHidden": null,
                                    "isIdentity": false,
                                    "isKey": null,
                                    "isLong": false,
                                    "isReadOnly": true,
                                    "isUnique": false,
                                    "numericPrecision": 255,
                                    "numericScale": 255,
                                    "udtAssemblyQualifiedName": null,
                                    "dataType": "System.String, System.Private.CoreLib, Version=4.0.0.0, Culture=neutral, PublicKeyToken=7cec85d7bea7798e",
                                    "dataTypeName": "nvarchar"
                                },
                                {
                                    "isBytes": false,
                                    "isChars": true,
                                    "isSqlVariant": false,
                                    "isUdt": false,
                                    "isXml": false,
                                    "isJson": false,
                                    "sqlDbType": 12,
                                    "isHierarchyId": false,
                                    "isSqlXmlType": false,
                                    "isUnknownType": false,
                                    "isUpdatable": false,
                                    "allowDBNull": true,
                                    "baseCatalogName": null,
                                    "baseColumnName": null,
                                    "baseSchemaName": null,
                                    "baseServerName": null,
                                    "baseTableName": null,
                                    "columnName": "ISO8601FormatDate",
                                    "columnOrdinal": 2,
                                    "columnSize": 30,
                                    "isAliased": null,
                                    "isAutoIncrement": false,
                                    "isExpression": null,
                                    "isHidden": null,
                                    "isIdentity": false,
                                    "isKey": null,
                                    "isLong": false,
                                    "isReadOnly": true,
                                    "isUnique": false,
                                    "numericPrecision": 255,
                                    "numericScale": 255,
                                    "udtAssemblyQualifiedName": null,
                                    "dataType": "System.String, System.Private.CoreLib, Version=4.0.0.0, Culture=neutral, PublicKeyToken=7cec85d7bea7798e",
                                    "dataTypeName": "nvarchar"
                                }
                            ],
                            "specialAction": {
                                "none": true,
                                "expectYukonXMLShowPlan": false
                            }
                        }
                    },
                    "execution_count": 3,
                    "data": {
                        "application/vnd.dataresource+json": {
                            "schema": {
                                "fields": [
                                    {
                                        "name": "SellStartDate"
                                    },
                                    {
                                        "name": "Convertedate"
                                    },
                                    {
                                        "name": "ISO8601FormatDate"
                                    }
                                ]
                            },
                            "data": [
                                {
                                    "0": "2002-06-01 00:00:00.000",
                                    "1": "Jun  1 2002 12:00AM",
                                    "2": "2002-06-01T00:00:00"
                                },
                                {
                                    "0": "2002-06-01 00:00:00.000",
                                    "1": "Jun  1 2002 12:00AM",
                                    "2": "2002-06-01T00:00:00"
                                },
                                {
                                    "0": "2005-07-01 00:00:00.000",
                                    "1": "Jul  1 2005 12:00AM",
                                    "2": "2005-07-01T00:00:00"
                                },
                                {
                                    "0": "2005-07-01 00:00:00.000",
                                    "1": "Jul  1 2005 12:00AM",
                                    "2": "2005-07-01T00:00:00"
                                },
                                {
                                    "0": "2005-07-01 00:00:00.000",
                                    "1": "Jul  1 2005 12:00AM",
                                    "2": "2005-07-01T00:00:00"
                                },
                                {
                                    "0": "2005-07-01 00:00:00.000",
                                    "1": "Jul  1 2005 12:00AM",
                                    "2": "2005-07-01T00:00:00"
                                },
                                {
                                    "0": "2005-07-01 00:00:00.000",
                                    "1": "Jul  1 2005 12:00AM",
                                    "2": "2005-07-01T00:00:00"
                                },
                                {
                                    "0": "2005-07-01 00:00:00.000",
                                    "1": "Jul  1 2005 12:00AM",
                                    "2": "2005-07-01T00:00:00"
                                },
                                {
                                    "0": "2005-07-01 00:00:00.000",
                                    "1": "Jul  1 2005 12:00AM",
                                    "2": "2005-07-01T00:00:00"
                                },
                                {
                                    "0": "2005-07-01 00:00:00.000",
                                    "1": "Jul  1 2005 12:00AM",
                                    "2": "2005-07-01T00:00:00"
                                },
                                {
                                    "0": "2005-07-01 00:00:00.000",
                                    "1": "Jul  1 2005 12:00AM",
                                    "2": "2005-07-01T00:00:00"
                                },
                                {
                                    "0": "2005-07-01 00:00:00.000",
                                    "1": "Jul  1 2005 12:00AM",
                                    "2": "2005-07-01T00:00:00"
                                },
                                {
                                    "0": "2005-07-01 00:00:00.000",
                                    "1": "Jul  1 2005 12:00AM",
                                    "2": "2005-07-01T00:00:00"
                                },
                                {
                                    "0": "2005-07-01 00:00:00.000",
                                    "1": "Jul  1 2005 12:00AM",
                                    "2": "2005-07-01T00:00:00"
                                },
                                {
                                    "0": "2005-07-01 00:00:00.000",
                                    "1": "Jul  1 2005 12:00AM",
                                    "2": "2005-07-01T00:00:00"
                                },
                                {
                                    "0": "2005-07-01 00:00:00.000",
                                    "1": "Jul  1 2005 12:00AM",
                                    "2": "2005-07-01T00:00:00"
                                },
                                {
                                    "0": "2005-07-01 00:00:00.000",
                                    "1": "Jul  1 2005 12:00AM",
                                    "2": "2005-07-01T00:00:00"
                                },
                                {
                                    "0": "2005-07-01 00:00:00.000",
                                    "1": "Jul  1 2005 12:00AM",
                                    "2": "2005-07-01T00:00:00"
                                },
                                {
                                    "0": "2005-07-01 00:00:00.000",
                                    "1": "Jul  1 2005 12:00AM",
                                    "2": "2005-07-01T00:00:00"
                                },
                                {
                                    "0": "2005-07-01 00:00:00.000",
                                    "1": "Jul  1 2005 12:00AM",
                                    "2": "2005-07-01T00:00:00"
                                },
                                {
                                    "0": "2005-07-01 00:00:00.000",
                                    "1": "Jul  1 2005 12:00AM",
                                    "2": "2005-07-01T00:00:00"
                                },
                                {
                                    "0": "2005-07-01 00:00:00.000",
                                    "1": "Jul  1 2005 12:00AM",
                                    "2": "2005-07-01T00:00:00"
                                },
                                {
                                    "0": "2005-07-01 00:00:00.000",
                                    "1": "Jul  1 2005 12:00AM",
                                    "2": "2005-07-01T00:00:00"
                                },
                                {
                                    "0": "2005-07-01 00:00:00.000",
                                    "1": "Jul  1 2005 12:00AM",
                                    "2": "2005-07-01T00:00:00"
                                },
                                {
                                    "0": "2005-07-01 00:00:00.000",
                                    "1": "Jul  1 2005 12:00AM",
                                    "2": "2005-07-01T00:00:00"
                                },
                                {
                                    "0": "2005-07-01 00:00:00.000",
                                    "1": "Jul  1 2005 12:00AM",
                                    "2": "2005-07-01T00:00:00"
                                },
                                {
                                    "0": "2005-07-01 00:00:00.000",
                                    "1": "Jul  1 2005 12:00AM",
                                    "2": "2005-07-01T00:00:00"
                                },
                                {
                                    "0": "2005-07-01 00:00:00.000",
                                    "1": "Jul  1 2005 12:00AM",
                                    "2": "2005-07-01T00:00:00"
                                },
                                {
                                    "0": "2005-07-01 00:00:00.000",
                                    "1": "Jul  1 2005 12:00AM",
                                    "2": "2005-07-01T00:00:00"
                                },
                                {
                                    "0": "2005-07-01 00:00:00.000",
                                    "1": "Jul  1 2005 12:00AM",
                                    "2": "2005-07-01T00:00:00"
                                },
                                {
                                    "0": "2005-07-01 00:00:00.000",
                                    "1": "Jul  1 2005 12:00AM",
                                    "2": "2005-07-01T00:00:00"
                                },
                                {
                                    "0": "2005-07-01 00:00:00.000",
                                    "1": "Jul  1 2005 12:00AM",
                                    "2": "2005-07-01T00:00:00"
                                },
                                {
                                    "0": "2005-07-01 00:00:00.000",
                                    "1": "Jul  1 2005 12:00AM",
                                    "2": "2005-07-01T00:00:00"
                                },
                                {
                                    "0": "2005-07-01 00:00:00.000",
                                    "1": "Jul  1 2005 12:00AM",
                                    "2": "2005-07-01T00:00:00"
                                },
                                {
                                    "0": "2005-07-01 00:00:00.000",
                                    "1": "Jul  1 2005 12:00AM",
                                    "2": "2005-07-01T00:00:00"
                                },
                                {
                                    "0": "2005-07-01 00:00:00.000",
                                    "1": "Jul  1 2005 12:00AM",
                                    "2": "2005-07-01T00:00:00"
                                },
                                {
                                    "0": "2005-07-01 00:00:00.000",
                                    "1": "Jul  1 2005 12:00AM",
                                    "2": "2005-07-01T00:00:00"
                                },
                                {
                                    "0": "2005-07-01 00:00:00.000",
                                    "1": "Jul  1 2005 12:00AM",
                                    "2": "2005-07-01T00:00:00"
                                },
                                {
                                    "0": "2005-07-01 00:00:00.000",
                                    "1": "Jul  1 2005 12:00AM",
                                    "2": "2005-07-01T00:00:00"
                                },
                                {
                                    "0": "2005-07-01 00:00:00.000",
                                    "1": "Jul  1 2005 12:00AM",
                                    "2": "2005-07-01T00:00:00"
                                },
                                {
                                    "0": "2005-07-01 00:00:00.000",
                                    "1": "Jul  1 2005 12:00AM",
                                    "2": "2005-07-01T00:00:00"
                                },
                                {
                                    "0": "2005-07-01 00:00:00.000",
                                    "1": "Jul  1 2005 12:00AM",
                                    "2": "2005-07-01T00:00:00"
                                },
                                {
                                    "0": "2005-07-01 00:00:00.000",
                                    "1": "Jul  1 2005 12:00AM",
                                    "2": "2005-07-01T00:00:00"
                                },
                                {
                                    "0": "2005-07-01 00:00:00.000",
                                    "1": "Jul  1 2005 12:00AM",
                                    "2": "2005-07-01T00:00:00"
                                },
                                {
                                    "0": "2005-07-01 00:00:00.000",
                                    "1": "Jul  1 2005 12:00AM",
                                    "2": "2005-07-01T00:00:00"
                                },
                                {
                                    "0": "2005-07-01 00:00:00.000",
                                    "1": "Jul  1 2005 12:00AM",
                                    "2": "2005-07-01T00:00:00"
                                },
                                {
                                    "0": "2005-07-01 00:00:00.000",
                                    "1": "Jul  1 2005 12:00AM",
                                    "2": "2005-07-01T00:00:00"
                                },
                                {
                                    "0": "2005-07-01 00:00:00.000",
                                    "1": "Jul  1 2005 12:00AM",
                                    "2": "2005-07-01T00:00:00"
                                },
                                {
                                    "0": "2005-07-01 00:00:00.000",
                                    "1": "Jul  1 2005 12:00AM",
                                    "2": "2005-07-01T00:00:00"
                                },
                                {
                                    "0": "2005-07-01 00:00:00.000",
                                    "1": "Jul  1 2005 12:00AM",
                                    "2": "2005-07-01T00:00:00"
                                },
                                {
                                    "0": "2005-07-01 00:00:00.000",
                                    "1": "Jul  1 2005 12:00AM",
                                    "2": "2005-07-01T00:00:00"
                                },
                                {
                                    "0": "2005-07-01 00:00:00.000",
                                    "1": "Jul  1 2005 12:00AM",
                                    "2": "2005-07-01T00:00:00"
                                },
                                {
                                    "0": "2005-07-01 00:00:00.000",
                                    "1": "Jul  1 2005 12:00AM",
                                    "2": "2005-07-01T00:00:00"
                                },
                                {
                                    "0": "2005-07-01 00:00:00.000",
                                    "1": "Jul  1 2005 12:00AM",
                                    "2": "2005-07-01T00:00:00"
                                },
                                {
                                    "0": "2005-07-01 00:00:00.000",
                                    "1": "Jul  1 2005 12:00AM",
                                    "2": "2005-07-01T00:00:00"
                                },
                                {
                                    "0": "2005-07-01 00:00:00.000",
                                    "1": "Jul  1 2005 12:00AM",
                                    "2": "2005-07-01T00:00:00"
                                },
                                {
                                    "0": "2005-07-01 00:00:00.000",
                                    "1": "Jul  1 2005 12:00AM",
                                    "2": "2005-07-01T00:00:00"
                                },
                                {
                                    "0": "2005-07-01 00:00:00.000",
                                    "1": "Jul  1 2005 12:00AM",
                                    "2": "2005-07-01T00:00:00"
                                },
                                {
                                    "0": "2005-07-01 00:00:00.000",
                                    "1": "Jul  1 2005 12:00AM",
                                    "2": "2005-07-01T00:00:00"
                                },
                                {
                                    "0": "2005-07-01 00:00:00.000",
                                    "1": "Jul  1 2005 12:00AM",
                                    "2": "2005-07-01T00:00:00"
                                },
                                {
                                    "0": "2005-07-01 00:00:00.000",
                                    "1": "Jul  1 2005 12:00AM",
                                    "2": "2005-07-01T00:00:00"
                                },
                                {
                                    "0": "2005-07-01 00:00:00.000",
                                    "1": "Jul  1 2005 12:00AM",
                                    "2": "2005-07-01T00:00:00"
                                },
                                {
                                    "0": "2005-07-01 00:00:00.000",
                                    "1": "Jul  1 2005 12:00AM",
                                    "2": "2005-07-01T00:00:00"
                                },
                                {
                                    "0": "2005-07-01 00:00:00.000",
                                    "1": "Jul  1 2005 12:00AM",
                                    "2": "2005-07-01T00:00:00"
                                },
                                {
                                    "0": "2005-07-01 00:00:00.000",
                                    "1": "Jul  1 2005 12:00AM",
                                    "2": "2005-07-01T00:00:00"
                                },
                                {
                                    "0": "2005-07-01 00:00:00.000",
                                    "1": "Jul  1 2005 12:00AM",
                                    "2": "2005-07-01T00:00:00"
                                },
                                {
                                    "0": "2005-07-01 00:00:00.000",
                                    "1": "Jul  1 2005 12:00AM",
                                    "2": "2005-07-01T00:00:00"
                                },
                                {
                                    "0": "2005-07-01 00:00:00.000",
                                    "1": "Jul  1 2005 12:00AM",
                                    "2": "2005-07-01T00:00:00"
                                },
                                {
                                    "0": "2005-07-01 00:00:00.000",
                                    "1": "Jul  1 2005 12:00AM",
                                    "2": "2005-07-01T00:00:00"
                                },
                                {
                                    "0": "2005-07-01 00:00:00.000",
                                    "1": "Jul  1 2005 12:00AM",
                                    "2": "2005-07-01T00:00:00"
                                },
                                {
                                    "0": "2005-07-01 00:00:00.000",
                                    "1": "Jul  1 2005 12:00AM",
                                    "2": "2005-07-01T00:00:00"
                                },
                                {
                                    "0": "2005-07-01 00:00:00.000",
                                    "1": "Jul  1 2005 12:00AM",
                                    "2": "2005-07-01T00:00:00"
                                },
                                {
                                    "0": "2005-07-01 00:00:00.000",
                                    "1": "Jul  1 2005 12:00AM",
                                    "2": "2005-07-01T00:00:00"
                                },
                                {
                                    "0": "2005-07-01 00:00:00.000",
                                    "1": "Jul  1 2005 12:00AM",
                                    "2": "2005-07-01T00:00:00"
                                },
                                {
                                    "0": "2006-07-01 00:00:00.000",
                                    "1": "Jul  1 2006 12:00AM",
                                    "2": "2006-07-01T00:00:00"
                                },
                                {
                                    "0": "2006-07-01 00:00:00.000",
                                    "1": "Jul  1 2006 12:00AM",
                                    "2": "2006-07-01T00:00:00"
                                },
                                {
                                    "0": "2006-07-01 00:00:00.000",
                                    "1": "Jul  1 2006 12:00AM",
                                    "2": "2006-07-01T00:00:00"
                                },
                                {
                                    "0": "2006-07-01 00:00:00.000",
                                    "1": "Jul  1 2006 12:00AM",
                                    "2": "2006-07-01T00:00:00"
                                },
                                {
                                    "0": "2006-07-01 00:00:00.000",
                                    "1": "Jul  1 2006 12:00AM",
                                    "2": "2006-07-01T00:00:00"
                                },
                                {
                                    "0": "2006-07-01 00:00:00.000",
                                    "1": "Jul  1 2006 12:00AM",
                                    "2": "2006-07-01T00:00:00"
                                },
                                {
                                    "0": "2006-07-01 00:00:00.000",
                                    "1": "Jul  1 2006 12:00AM",
                                    "2": "2006-07-01T00:00:00"
                                },
                                {
                                    "0": "2006-07-01 00:00:00.000",
                                    "1": "Jul  1 2006 12:00AM",
                                    "2": "2006-07-01T00:00:00"
                                },
                                {
                                    "0": "2006-07-01 00:00:00.000",
                                    "1": "Jul  1 2006 12:00AM",
                                    "2": "2006-07-01T00:00:00"
                                },
                                {
                                    "0": "2006-07-01 00:00:00.000",
                                    "1": "Jul  1 2006 12:00AM",
                                    "2": "2006-07-01T00:00:00"
                                },
                                {
                                    "0": "2006-07-01 00:00:00.000",
                                    "1": "Jul  1 2006 12:00AM",
                                    "2": "2006-07-01T00:00:00"
                                },
                                {
                                    "0": "2006-07-01 00:00:00.000",
                                    "1": "Jul  1 2006 12:00AM",
                                    "2": "2006-07-01T00:00:00"
                                },
                                {
                                    "0": "2006-07-01 00:00:00.000",
                                    "1": "Jul  1 2006 12:00AM",
                                    "2": "2006-07-01T00:00:00"
                                },
                                {
                                    "0": "2006-07-01 00:00:00.000",
                                    "1": "Jul  1 2006 12:00AM",
                                    "2": "2006-07-01T00:00:00"
                                },
                                {
                                    "0": "2006-07-01 00:00:00.000",
                                    "1": "Jul  1 2006 12:00AM",
                                    "2": "2006-07-01T00:00:00"
                                },
                                {
                                    "0": "2006-07-01 00:00:00.000",
                                    "1": "Jul  1 2006 12:00AM",
                                    "2": "2006-07-01T00:00:00"
                                },
                                {
                                    "0": "2006-07-01 00:00:00.000",
                                    "1": "Jul  1 2006 12:00AM",
                                    "2": "2006-07-01T00:00:00"
                                },
                                {
                                    "0": "2006-07-01 00:00:00.000",
                                    "1": "Jul  1 2006 12:00AM",
                                    "2": "2006-07-01T00:00:00"
                                },
                                {
                                    "0": "2006-07-01 00:00:00.000",
                                    "1": "Jul  1 2006 12:00AM",
                                    "2": "2006-07-01T00:00:00"
                                },
                                {
                                    "0": "2006-07-01 00:00:00.000",
                                    "1": "Jul  1 2006 12:00AM",
                                    "2": "2006-07-01T00:00:00"
                                },
                                {
                                    "0": "2006-07-01 00:00:00.000",
                                    "1": "Jul  1 2006 12:00AM",
                                    "2": "2006-07-01T00:00:00"
                                },
                                {
                                    "0": "2006-07-01 00:00:00.000",
                                    "1": "Jul  1 2006 12:00AM",
                                    "2": "2006-07-01T00:00:00"
                                },
                                {
                                    "0": "2006-07-01 00:00:00.000",
                                    "1": "Jul  1 2006 12:00AM",
                                    "2": "2006-07-01T00:00:00"
                                },
                                {
                                    "0": "2006-07-01 00:00:00.000",
                                    "1": "Jul  1 2006 12:00AM",
                                    "2": "2006-07-01T00:00:00"
                                },
                                {
                                    "0": "2006-07-01 00:00:00.000",
                                    "1": "Jul  1 2006 12:00AM",
                                    "2": "2006-07-01T00:00:00"
                                },
                                {
                                    "0": "2006-07-01 00:00:00.000",
                                    "1": "Jul  1 2006 12:00AM",
                                    "2": "2006-07-01T00:00:00"
                                },
                                {
                                    "0": "2006-07-01 00:00:00.000",
                                    "1": "Jul  1 2006 12:00AM",
                                    "2": "2006-07-01T00:00:00"
                                },
                                {
                                    "0": "2006-07-01 00:00:00.000",
                                    "1": "Jul  1 2006 12:00AM",
                                    "2": "2006-07-01T00:00:00"
                                },
                                {
                                    "0": "2006-07-01 00:00:00.000",
                                    "1": "Jul  1 2006 12:00AM",
                                    "2": "2006-07-01T00:00:00"
                                },
                                {
                                    "0": "2006-07-01 00:00:00.000",
                                    "1": "Jul  1 2006 12:00AM",
                                    "2": "2006-07-01T00:00:00"
                                },
                                {
                                    "0": "2006-07-01 00:00:00.000",
                                    "1": "Jul  1 2006 12:00AM",
                                    "2": "2006-07-01T00:00:00"
                                },
                                {
                                    "0": "2006-07-01 00:00:00.000",
                                    "1": "Jul  1 2006 12:00AM",
                                    "2": "2006-07-01T00:00:00"
                                },
                                {
                                    "0": "2006-07-01 00:00:00.000",
                                    "1": "Jul  1 2006 12:00AM",
                                    "2": "2006-07-01T00:00:00"
                                },
                                {
                                    "0": "2006-07-01 00:00:00.000",
                                    "1": "Jul  1 2006 12:00AM",
                                    "2": "2006-07-01T00:00:00"
                                },
                                {
                                    "0": "2006-07-01 00:00:00.000",
                                    "1": "Jul  1 2006 12:00AM",
                                    "2": "2006-07-01T00:00:00"
                                },
                                {
                                    "0": "2006-07-01 00:00:00.000",
                                    "1": "Jul  1 2006 12:00AM",
                                    "2": "2006-07-01T00:00:00"
                                },
                                {
                                    "0": "2006-07-01 00:00:00.000",
                                    "1": "Jul  1 2006 12:00AM",
                                    "2": "2006-07-01T00:00:00"
                                },
                                {
                                    "0": "2006-07-01 00:00:00.000",
                                    "1": "Jul  1 2006 12:00AM",
                                    "2": "2006-07-01T00:00:00"
                                },
                                {
                                    "0": "2006-07-01 00:00:00.000",
                                    "1": "Jul  1 2006 12:00AM",
                                    "2": "2006-07-01T00:00:00"
                                },
                                {
                                    "0": "2006-07-01 00:00:00.000",
                                    "1": "Jul  1 2006 12:00AM",
                                    "2": "2006-07-01T00:00:00"
                                },
                                {
                                    "0": "2006-07-01 00:00:00.000",
                                    "1": "Jul  1 2006 12:00AM",
                                    "2": "2006-07-01T00:00:00"
                                },
                                {
                                    "0": "2006-07-01 00:00:00.000",
                                    "1": "Jul  1 2006 12:00AM",
                                    "2": "2006-07-01T00:00:00"
                                },
                                {
                                    "0": "2006-07-01 00:00:00.000",
                                    "1": "Jul  1 2006 12:00AM",
                                    "2": "2006-07-01T00:00:00"
                                },
                                {
                                    "0": "2006-07-01 00:00:00.000",
                                    "1": "Jul  1 2006 12:00AM",
                                    "2": "2006-07-01T00:00:00"
                                },
                                {
                                    "0": "2006-07-01 00:00:00.000",
                                    "1": "Jul  1 2006 12:00AM",
                                    "2": "2006-07-01T00:00:00"
                                },
                                {
                                    "0": "2006-07-01 00:00:00.000",
                                    "1": "Jul  1 2006 12:00AM",
                                    "2": "2006-07-01T00:00:00"
                                },
                                {
                                    "0": "2006-07-01 00:00:00.000",
                                    "1": "Jul  1 2006 12:00AM",
                                    "2": "2006-07-01T00:00:00"
                                },
                                {
                                    "0": "2006-07-01 00:00:00.000",
                                    "1": "Jul  1 2006 12:00AM",
                                    "2": "2006-07-01T00:00:00"
                                },
                                {
                                    "0": "2006-07-01 00:00:00.000",
                                    "1": "Jul  1 2006 12:00AM",
                                    "2": "2006-07-01T00:00:00"
                                },
                                {
                                    "0": "2006-07-01 00:00:00.000",
                                    "1": "Jul  1 2006 12:00AM",
                                    "2": "2006-07-01T00:00:00"
                                },
                                {
                                    "0": "2006-07-01 00:00:00.000",
                                    "1": "Jul  1 2006 12:00AM",
                                    "2": "2006-07-01T00:00:00"
                                },
                                {
                                    "0": "2006-07-01 00:00:00.000",
                                    "1": "Jul  1 2006 12:00AM",
                                    "2": "2006-07-01T00:00:00"
                                },
                                {
                                    "0": "2006-07-01 00:00:00.000",
                                    "1": "Jul  1 2006 12:00AM",
                                    "2": "2006-07-01T00:00:00"
                                },
                                {
                                    "0": "2006-07-01 00:00:00.000",
                                    "1": "Jul  1 2006 12:00AM",
                                    "2": "2006-07-01T00:00:00"
                                },
                                {
                                    "0": "2006-07-01 00:00:00.000",
                                    "1": "Jul  1 2006 12:00AM",
                                    "2": "2006-07-01T00:00:00"
                                },
                                {
                                    "0": "2006-07-01 00:00:00.000",
                                    "1": "Jul  1 2006 12:00AM",
                                    "2": "2006-07-01T00:00:00"
                                },
                                {
                                    "0": "2006-07-01 00:00:00.000",
                                    "1": "Jul  1 2006 12:00AM",
                                    "2": "2006-07-01T00:00:00"
                                },
                                {
                                    "0": "2006-07-01 00:00:00.000",
                                    "1": "Jul  1 2006 12:00AM",
                                    "2": "2006-07-01T00:00:00"
                                },
                                {
                                    "0": "2006-07-01 00:00:00.000",
                                    "1": "Jul  1 2006 12:00AM",
                                    "2": "2006-07-01T00:00:00"
                                },
                                {
                                    "0": "2006-07-01 00:00:00.000",
                                    "1": "Jul  1 2006 12:00AM",
                                    "2": "2006-07-01T00:00:00"
                                },
                                {
                                    "0": "2006-07-01 00:00:00.000",
                                    "1": "Jul  1 2006 12:00AM",
                                    "2": "2006-07-01T00:00:00"
                                },
                                {
                                    "0": "2006-07-01 00:00:00.000",
                                    "1": "Jul  1 2006 12:00AM",
                                    "2": "2006-07-01T00:00:00"
                                },
                                {
                                    "0": "2006-07-01 00:00:00.000",
                                    "1": "Jul  1 2006 12:00AM",
                                    "2": "2006-07-01T00:00:00"
                                },
                                {
                                    "0": "2006-07-01 00:00:00.000",
                                    "1": "Jul  1 2006 12:00AM",
                                    "2": "2006-07-01T00:00:00"
                                },
                                {
                                    "0": "2006-07-01 00:00:00.000",
                                    "1": "Jul  1 2006 12:00AM",
                                    "2": "2006-07-01T00:00:00"
                                },
                                {
                                    "0": "2006-07-01 00:00:00.000",
                                    "1": "Jul  1 2006 12:00AM",
                                    "2": "2006-07-01T00:00:00"
                                },
                                {
                                    "0": "2006-07-01 00:00:00.000",
                                    "1": "Jul  1 2006 12:00AM",
                                    "2": "2006-07-01T00:00:00"
                                },
                                {
                                    "0": "2006-07-01 00:00:00.000",
                                    "1": "Jul  1 2006 12:00AM",
                                    "2": "2006-07-01T00:00:00"
                                },
                                {
                                    "0": "2006-07-01 00:00:00.000",
                                    "1": "Jul  1 2006 12:00AM",
                                    "2": "2006-07-01T00:00:00"
                                },
                                {
                                    "0": "2006-07-01 00:00:00.000",
                                    "1": "Jul  1 2006 12:00AM",
                                    "2": "2006-07-01T00:00:00"
                                },
                                {
                                    "0": "2006-07-01 00:00:00.000",
                                    "1": "Jul  1 2006 12:00AM",
                                    "2": "2006-07-01T00:00:00"
                                },
                                {
                                    "0": "2006-07-01 00:00:00.000",
                                    "1": "Jul  1 2006 12:00AM",
                                    "2": "2006-07-01T00:00:00"
                                },
                                {
                                    "0": "2006-07-01 00:00:00.000",
                                    "1": "Jul  1 2006 12:00AM",
                                    "2": "2006-07-01T00:00:00"
                                },
                                {
                                    "0": "2006-07-01 00:00:00.000",
                                    "1": "Jul  1 2006 12:00AM",
                                    "2": "2006-07-01T00:00:00"
                                },
                                {
                                    "0": "2006-07-01 00:00:00.000",
                                    "1": "Jul  1 2006 12:00AM",
                                    "2": "2006-07-01T00:00:00"
                                },
                                {
                                    "0": "2006-07-01 00:00:00.000",
                                    "1": "Jul  1 2006 12:00AM",
                                    "2": "2006-07-01T00:00:00"
                                },
                                {
                                    "0": "2006-07-01 00:00:00.000",
                                    "1": "Jul  1 2006 12:00AM",
                                    "2": "2006-07-01T00:00:00"
                                },
                                {
                                    "0": "2006-07-01 00:00:00.000",
                                    "1": "Jul  1 2006 12:00AM",
                                    "2": "2006-07-01T00:00:00"
                                },
                                {
                                    "0": "2006-07-01 00:00:00.000",
                                    "1": "Jul  1 2006 12:00AM",
                                    "2": "2006-07-01T00:00:00"
                                },
                                {
                                    "0": "2006-07-01 00:00:00.000",
                                    "1": "Jul  1 2006 12:00AM",
                                    "2": "2006-07-01T00:00:00"
                                },
                                {
                                    "0": "2006-07-01 00:00:00.000",
                                    "1": "Jul  1 2006 12:00AM",
                                    "2": "2006-07-01T00:00:00"
                                },
                                {
                                    "0": "2006-07-01 00:00:00.000",
                                    "1": "Jul  1 2006 12:00AM",
                                    "2": "2006-07-01T00:00:00"
                                },
                                {
                                    "0": "2006-07-01 00:00:00.000",
                                    "1": "Jul  1 2006 12:00AM",
                                    "2": "2006-07-01T00:00:00"
                                },
                                {
                                    "0": "2006-07-01 00:00:00.000",
                                    "1": "Jul  1 2006 12:00AM",
                                    "2": "2006-07-01T00:00:00"
                                },
                                {
                                    "0": "2006-07-01 00:00:00.000",
                                    "1": "Jul  1 2006 12:00AM",
                                    "2": "2006-07-01T00:00:00"
                                },
                                {
                                    "0": "2007-07-01 00:00:00.000",
                                    "1": "Jul  1 2007 12:00AM",
                                    "2": "2007-07-01T00:00:00"
                                },
                                {
                                    "0": "2007-07-01 00:00:00.000",
                                    "1": "Jul  1 2007 12:00AM",
                                    "2": "2007-07-01T00:00:00"
                                },
                                {
                                    "0": "2007-07-01 00:00:00.000",
                                    "1": "Jul  1 2007 12:00AM",
                                    "2": "2007-07-01T00:00:00"
                                },
                                {
                                    "0": "2007-07-01 00:00:00.000",
                                    "1": "Jul  1 2007 12:00AM",
                                    "2": "2007-07-01T00:00:00"
                                },
                                {
                                    "0": "2007-07-01 00:00:00.000",
                                    "1": "Jul  1 2007 12:00AM",
                                    "2": "2007-07-01T00:00:00"
                                },
                                {
                                    "0": "2007-07-01 00:00:00.000",
                                    "1": "Jul  1 2007 12:00AM",
                                    "2": "2007-07-01T00:00:00"
                                },
                                {
                                    "0": "2007-07-01 00:00:00.000",
                                    "1": "Jul  1 2007 12:00AM",
                                    "2": "2007-07-01T00:00:00"
                                },
                                {
                                    "0": "2007-07-01 00:00:00.000",
                                    "1": "Jul  1 2007 12:00AM",
                                    "2": "2007-07-01T00:00:00"
                                },
                                {
                                    "0": "2007-07-01 00:00:00.000",
                                    "1": "Jul  1 2007 12:00AM",
                                    "2": "2007-07-01T00:00:00"
                                },
                                {
                                    "0": "2007-07-01 00:00:00.000",
                                    "1": "Jul  1 2007 12:00AM",
                                    "2": "2007-07-01T00:00:00"
                                },
                                {
                                    "0": "2007-07-01 00:00:00.000",
                                    "1": "Jul  1 2007 12:00AM",
                                    "2": "2007-07-01T00:00:00"
                                },
                                {
                                    "0": "2007-07-01 00:00:00.000",
                                    "1": "Jul  1 2007 12:00AM",
                                    "2": "2007-07-01T00:00:00"
                                },
                                {
                                    "0": "2007-07-01 00:00:00.000",
                                    "1": "Jul  1 2007 12:00AM",
                                    "2": "2007-07-01T00:00:00"
                                },
                                {
                                    "0": "2007-07-01 00:00:00.000",
                                    "1": "Jul  1 2007 12:00AM",
                                    "2": "2007-07-01T00:00:00"
                                },
                                {
                                    "0": "2007-07-01 00:00:00.000",
                                    "1": "Jul  1 2007 12:00AM",
                                    "2": "2007-07-01T00:00:00"
                                },
                                {
                                    "0": "2007-07-01 00:00:00.000",
                                    "1": "Jul  1 2007 12:00AM",
                                    "2": "2007-07-01T00:00:00"
                                },
                                {
                                    "0": "2007-07-01 00:00:00.000",
                                    "1": "Jul  1 2007 12:00AM",
                                    "2": "2007-07-01T00:00:00"
                                },
                                {
                                    "0": "2007-07-01 00:00:00.000",
                                    "1": "Jul  1 2007 12:00AM",
                                    "2": "2007-07-01T00:00:00"
                                },
                                {
                                    "0": "2007-07-01 00:00:00.000",
                                    "1": "Jul  1 2007 12:00AM",
                                    "2": "2007-07-01T00:00:00"
                                },
                                {
                                    "0": "2007-07-01 00:00:00.000",
                                    "1": "Jul  1 2007 12:00AM",
                                    "2": "2007-07-01T00:00:00"
                                },
                                {
                                    "0": "2007-07-01 00:00:00.000",
                                    "1": "Jul  1 2007 12:00AM",
                                    "2": "2007-07-01T00:00:00"
                                },
                                {
                                    "0": "2007-07-01 00:00:00.000",
                                    "1": "Jul  1 2007 12:00AM",
                                    "2": "2007-07-01T00:00:00"
                                },
                                {
                                    "0": "2007-07-01 00:00:00.000",
                                    "1": "Jul  1 2007 12:00AM",
                                    "2": "2007-07-01T00:00:00"
                                },
                                {
                                    "0": "2007-07-01 00:00:00.000",
                                    "1": "Jul  1 2007 12:00AM",
                                    "2": "2007-07-01T00:00:00"
                                },
                                {
                                    "0": "2007-07-01 00:00:00.000",
                                    "1": "Jul  1 2007 12:00AM",
                                    "2": "2007-07-01T00:00:00"
                                },
                                {
                                    "0": "2007-07-01 00:00:00.000",
                                    "1": "Jul  1 2007 12:00AM",
                                    "2": "2007-07-01T00:00:00"
                                },
                                {
                                    "0": "2007-07-01 00:00:00.000",
                                    "1": "Jul  1 2007 12:00AM",
                                    "2": "2007-07-01T00:00:00"
                                },
                                {
                                    "0": "2007-07-01 00:00:00.000",
                                    "1": "Jul  1 2007 12:00AM",
                                    "2": "2007-07-01T00:00:00"
                                },
                                {
                                    "0": "2007-07-01 00:00:00.000",
                                    "1": "Jul  1 2007 12:00AM",
                                    "2": "2007-07-01T00:00:00"
                                },
                                {
                                    "0": "2007-07-01 00:00:00.000",
                                    "1": "Jul  1 2007 12:00AM",
                                    "2": "2007-07-01T00:00:00"
                                },
                                {
                                    "0": "2007-07-01 00:00:00.000",
                                    "1": "Jul  1 2007 12:00AM",
                                    "2": "2007-07-01T00:00:00"
                                },
                                {
                                    "0": "2007-07-01 00:00:00.000",
                                    "1": "Jul  1 2007 12:00AM",
                                    "2": "2007-07-01T00:00:00"
                                },
                                {
                                    "0": "2007-07-01 00:00:00.000",
                                    "1": "Jul  1 2007 12:00AM",
                                    "2": "2007-07-01T00:00:00"
                                },
                                {
                                    "0": "2007-07-01 00:00:00.000",
                                    "1": "Jul  1 2007 12:00AM",
                                    "2": "2007-07-01T00:00:00"
                                },
                                {
                                    "0": "2007-07-01 00:00:00.000",
                                    "1": "Jul  1 2007 12:00AM",
                                    "2": "2007-07-01T00:00:00"
                                },
                                {
                                    "0": "2007-07-01 00:00:00.000",
                                    "1": "Jul  1 2007 12:00AM",
                                    "2": "2007-07-01T00:00:00"
                                },
                                {
                                    "0": "2007-07-01 00:00:00.000",
                                    "1": "Jul  1 2007 12:00AM",
                                    "2": "2007-07-01T00:00:00"
                                },
                                {
                                    "0": "2007-07-01 00:00:00.000",
                                    "1": "Jul  1 2007 12:00AM",
                                    "2": "2007-07-01T00:00:00"
                                },
                                {
                                    "0": "2007-07-01 00:00:00.000",
                                    "1": "Jul  1 2007 12:00AM",
                                    "2": "2007-07-01T00:00:00"
                                },
                                {
                                    "0": "2007-07-01 00:00:00.000",
                                    "1": "Jul  1 2007 12:00AM",
                                    "2": "2007-07-01T00:00:00"
                                },
                                {
                                    "0": "2007-07-01 00:00:00.000",
                                    "1": "Jul  1 2007 12:00AM",
                                    "2": "2007-07-01T00:00:00"
                                },
                                {
                                    "0": "2007-07-01 00:00:00.000",
                                    "1": "Jul  1 2007 12:00AM",
                                    "2": "2007-07-01T00:00:00"
                                },
                                {
                                    "0": "2007-07-01 00:00:00.000",
                                    "1": "Jul  1 2007 12:00AM",
                                    "2": "2007-07-01T00:00:00"
                                },
                                {
                                    "0": "2007-07-01 00:00:00.000",
                                    "1": "Jul  1 2007 12:00AM",
                                    "2": "2007-07-01T00:00:00"
                                },
                                {
                                    "0": "2007-07-01 00:00:00.000",
                                    "1": "Jul  1 2007 12:00AM",
                                    "2": "2007-07-01T00:00:00"
                                },
                                {
                                    "0": "2007-07-01 00:00:00.000",
                                    "1": "Jul  1 2007 12:00AM",
                                    "2": "2007-07-01T00:00:00"
                                },
                                {
                                    "0": "2007-07-01 00:00:00.000",
                                    "1": "Jul  1 2007 12:00AM",
                                    "2": "2007-07-01T00:00:00"
                                },
                                {
                                    "0": "2007-07-01 00:00:00.000",
                                    "1": "Jul  1 2007 12:00AM",
                                    "2": "2007-07-01T00:00:00"
                                },
                                {
                                    "0": "2007-07-01 00:00:00.000",
                                    "1": "Jul  1 2007 12:00AM",
                                    "2": "2007-07-01T00:00:00"
                                },
                                {
                                    "0": "2007-07-01 00:00:00.000",
                                    "1": "Jul  1 2007 12:00AM",
                                    "2": "2007-07-01T00:00:00"
                                },
                                {
                                    "0": "2007-07-01 00:00:00.000",
                                    "1": "Jul  1 2007 12:00AM",
                                    "2": "2007-07-01T00:00:00"
                                },
                                {
                                    "0": "2007-07-01 00:00:00.000",
                                    "1": "Jul  1 2007 12:00AM",
                                    "2": "2007-07-01T00:00:00"
                                },
                                {
                                    "0": "2007-07-01 00:00:00.000",
                                    "1": "Jul  1 2007 12:00AM",
                                    "2": "2007-07-01T00:00:00"
                                },
                                {
                                    "0": "2007-07-01 00:00:00.000",
                                    "1": "Jul  1 2007 12:00AM",
                                    "2": "2007-07-01T00:00:00"
                                },
                                {
                                    "0": "2007-07-01 00:00:00.000",
                                    "1": "Jul  1 2007 12:00AM",
                                    "2": "2007-07-01T00:00:00"
                                },
                                {
                                    "0": "2007-07-01 00:00:00.000",
                                    "1": "Jul  1 2007 12:00AM",
                                    "2": "2007-07-01T00:00:00"
                                },
                                {
                                    "0": "2007-07-01 00:00:00.000",
                                    "1": "Jul  1 2007 12:00AM",
                                    "2": "2007-07-01T00:00:00"
                                },
                                {
                                    "0": "2007-07-01 00:00:00.000",
                                    "1": "Jul  1 2007 12:00AM",
                                    "2": "2007-07-01T00:00:00"
                                },
                                {
                                    "0": "2007-07-01 00:00:00.000",
                                    "1": "Jul  1 2007 12:00AM",
                                    "2": "2007-07-01T00:00:00"
                                },
                                {
                                    "0": "2007-07-01 00:00:00.000",
                                    "1": "Jul  1 2007 12:00AM",
                                    "2": "2007-07-01T00:00:00"
                                },
                                {
                                    "0": "2007-07-01 00:00:00.000",
                                    "1": "Jul  1 2007 12:00AM",
                                    "2": "2007-07-01T00:00:00"
                                },
                                {
                                    "0": "2007-07-01 00:00:00.000",
                                    "1": "Jul  1 2007 12:00AM",
                                    "2": "2007-07-01T00:00:00"
                                },
                                {
                                    "0": "2007-07-01 00:00:00.000",
                                    "1": "Jul  1 2007 12:00AM",
                                    "2": "2007-07-01T00:00:00"
                                },
                                {
                                    "0": "2007-07-01 00:00:00.000",
                                    "1": "Jul  1 2007 12:00AM",
                                    "2": "2007-07-01T00:00:00"
                                },
                                {
                                    "0": "2007-07-01 00:00:00.000",
                                    "1": "Jul  1 2007 12:00AM",
                                    "2": "2007-07-01T00:00:00"
                                },
                                {
                                    "0": "2007-07-01 00:00:00.000",
                                    "1": "Jul  1 2007 12:00AM",
                                    "2": "2007-07-01T00:00:00"
                                },
                                {
                                    "0": "2007-07-01 00:00:00.000",
                                    "1": "Jul  1 2007 12:00AM",
                                    "2": "2007-07-01T00:00:00"
                                },
                                {
                                    "0": "2007-07-01 00:00:00.000",
                                    "1": "Jul  1 2007 12:00AM",
                                    "2": "2007-07-01T00:00:00"
                                },
                                {
                                    "0": "2007-07-01 00:00:00.000",
                                    "1": "Jul  1 2007 12:00AM",
                                    "2": "2007-07-01T00:00:00"
                                },
                                {
                                    "0": "2007-07-01 00:00:00.000",
                                    "1": "Jul  1 2007 12:00AM",
                                    "2": "2007-07-01T00:00:00"
                                },
                                {
                                    "0": "2007-07-01 00:00:00.000",
                                    "1": "Jul  1 2007 12:00AM",
                                    "2": "2007-07-01T00:00:00"
                                },
                                {
                                    "0": "2007-07-01 00:00:00.000",
                                    "1": "Jul  1 2007 12:00AM",
                                    "2": "2007-07-01T00:00:00"
                                },
                                {
                                    "0": "2007-07-01 00:00:00.000",
                                    "1": "Jul  1 2007 12:00AM",
                                    "2": "2007-07-01T00:00:00"
                                },
                                {
                                    "0": "2007-07-01 00:00:00.000",
                                    "1": "Jul  1 2007 12:00AM",
                                    "2": "2007-07-01T00:00:00"
                                },
                                {
                                    "0": "2007-07-01 00:00:00.000",
                                    "1": "Jul  1 2007 12:00AM",
                                    "2": "2007-07-01T00:00:00"
                                },
                                {
                                    "0": "2007-07-01 00:00:00.000",
                                    "1": "Jul  1 2007 12:00AM",
                                    "2": "2007-07-01T00:00:00"
                                },
                                {
                                    "0": "2007-07-01 00:00:00.000",
                                    "1": "Jul  1 2007 12:00AM",
                                    "2": "2007-07-01T00:00:00"
                                },
                                {
                                    "0": "2007-07-01 00:00:00.000",
                                    "1": "Jul  1 2007 12:00AM",
                                    "2": "2007-07-01T00:00:00"
                                },
                                {
                                    "0": "2007-07-01 00:00:00.000",
                                    "1": "Jul  1 2007 12:00AM",
                                    "2": "2007-07-01T00:00:00"
                                },
                                {
                                    "0": "2007-07-01 00:00:00.000",
                                    "1": "Jul  1 2007 12:00AM",
                                    "2": "2007-07-01T00:00:00"
                                },
                                {
                                    "0": "2007-07-01 00:00:00.000",
                                    "1": "Jul  1 2007 12:00AM",
                                    "2": "2007-07-01T00:00:00"
                                },
                                {
                                    "0": "2007-07-01 00:00:00.000",
                                    "1": "Jul  1 2007 12:00AM",
                                    "2": "2007-07-01T00:00:00"
                                },
                                {
                                    "0": "2007-07-01 00:00:00.000",
                                    "1": "Jul  1 2007 12:00AM",
                                    "2": "2007-07-01T00:00:00"
                                },
                                {
                                    "0": "2007-07-01 00:00:00.000",
                                    "1": "Jul  1 2007 12:00AM",
                                    "2": "2007-07-01T00:00:00"
                                },
                                {
                                    "0": "2007-07-01 00:00:00.000",
                                    "1": "Jul  1 2007 12:00AM",
                                    "2": "2007-07-01T00:00:00"
                                },
                                {
                                    "0": "2007-07-01 00:00:00.000",
                                    "1": "Jul  1 2007 12:00AM",
                                    "2": "2007-07-01T00:00:00"
                                },
                                {
                                    "0": "2007-07-01 00:00:00.000",
                                    "1": "Jul  1 2007 12:00AM",
                                    "2": "2007-07-01T00:00:00"
                                },
                                {
                                    "0": "2007-07-01 00:00:00.000",
                                    "1": "Jul  1 2007 12:00AM",
                                    "2": "2007-07-01T00:00:00"
                                },
                                {
                                    "0": "2007-07-01 00:00:00.000",
                                    "1": "Jul  1 2007 12:00AM",
                                    "2": "2007-07-01T00:00:00"
                                },
                                {
                                    "0": "2007-07-01 00:00:00.000",
                                    "1": "Jul  1 2007 12:00AM",
                                    "2": "2007-07-01T00:00:00"
                                },
                                {
                                    "0": "2007-07-01 00:00:00.000",
                                    "1": "Jul  1 2007 12:00AM",
                                    "2": "2007-07-01T00:00:00"
                                },
                                {
                                    "0": "2007-07-01 00:00:00.000",
                                    "1": "Jul  1 2007 12:00AM",
                                    "2": "2007-07-01T00:00:00"
                                },
                                {
                                    "0": "2007-07-01 00:00:00.000",
                                    "1": "Jul  1 2007 12:00AM",
                                    "2": "2007-07-01T00:00:00"
                                },
                                {
                                    "0": "2007-07-01 00:00:00.000",
                                    "1": "Jul  1 2007 12:00AM",
                                    "2": "2007-07-01T00:00:00"
                                },
                                {
                                    "0": "2007-07-01 00:00:00.000",
                                    "1": "Jul  1 2007 12:00AM",
                                    "2": "2007-07-01T00:00:00"
                                },
                                {
                                    "0": "2007-07-01 00:00:00.000",
                                    "1": "Jul  1 2007 12:00AM",
                                    "2": "2007-07-01T00:00:00"
                                },
                                {
                                    "0": "2007-07-01 00:00:00.000",
                                    "1": "Jul  1 2007 12:00AM",
                                    "2": "2007-07-01T00:00:00"
                                },
                                {
                                    "0": "2007-07-01 00:00:00.000",
                                    "1": "Jul  1 2007 12:00AM",
                                    "2": "2007-07-01T00:00:00"
                                },
                                {
                                    "0": "2007-07-01 00:00:00.000",
                                    "1": "Jul  1 2007 12:00AM",
                                    "2": "2007-07-01T00:00:00"
                                },
                                {
                                    "0": "2007-07-01 00:00:00.000",
                                    "1": "Jul  1 2007 12:00AM",
                                    "2": "2007-07-01T00:00:00"
                                },
                                {
                                    "0": "2007-07-01 00:00:00.000",
                                    "1": "Jul  1 2007 12:00AM",
                                    "2": "2007-07-01T00:00:00"
                                },
                                {
                                    "0": "2007-07-01 00:00:00.000",
                                    "1": "Jul  1 2007 12:00AM",
                                    "2": "2007-07-01T00:00:00"
                                },
                                {
                                    "0": "2007-07-01 00:00:00.000",
                                    "1": "Jul  1 2007 12:00AM",
                                    "2": "2007-07-01T00:00:00"
                                },
                                {
                                    "0": "2007-07-01 00:00:00.000",
                                    "1": "Jul  1 2007 12:00AM",
                                    "2": "2007-07-01T00:00:00"
                                },
                                {
                                    "0": "2007-07-01 00:00:00.000",
                                    "1": "Jul  1 2007 12:00AM",
                                    "2": "2007-07-01T00:00:00"
                                },
                                {
                                    "0": "2007-07-01 00:00:00.000",
                                    "1": "Jul  1 2007 12:00AM",
                                    "2": "2007-07-01T00:00:00"
                                },
                                {
                                    "0": "2007-07-01 00:00:00.000",
                                    "1": "Jul  1 2007 12:00AM",
                                    "2": "2007-07-01T00:00:00"
                                },
                                {
                                    "0": "2007-07-01 00:00:00.000",
                                    "1": "Jul  1 2007 12:00AM",
                                    "2": "2007-07-01T00:00:00"
                                },
                                {
                                    "0": "2007-07-01 00:00:00.000",
                                    "1": "Jul  1 2007 12:00AM",
                                    "2": "2007-07-01T00:00:00"
                                },
                                {
                                    "0": "2007-07-01 00:00:00.000",
                                    "1": "Jul  1 2007 12:00AM",
                                    "2": "2007-07-01T00:00:00"
                                },
                                {
                                    "0": "2007-07-01 00:00:00.000",
                                    "1": "Jul  1 2007 12:00AM",
                                    "2": "2007-07-01T00:00:00"
                                },
                                {
                                    "0": "2007-07-01 00:00:00.000",
                                    "1": "Jul  1 2007 12:00AM",
                                    "2": "2007-07-01T00:00:00"
                                },
                                {
                                    "0": "2007-07-01 00:00:00.000",
                                    "1": "Jul  1 2007 12:00AM",
                                    "2": "2007-07-01T00:00:00"
                                },
                                {
                                    "0": "2007-07-01 00:00:00.000",
                                    "1": "Jul  1 2007 12:00AM",
                                    "2": "2007-07-01T00:00:00"
                                },
                                {
                                    "0": "2007-07-01 00:00:00.000",
                                    "1": "Jul  1 2007 12:00AM",
                                    "2": "2007-07-01T00:00:00"
                                },
                                {
                                    "0": "2007-07-01 00:00:00.000",
                                    "1": "Jul  1 2007 12:00AM",
                                    "2": "2007-07-01T00:00:00"
                                },
                                {
                                    "0": "2007-07-01 00:00:00.000",
                                    "1": "Jul  1 2007 12:00AM",
                                    "2": "2007-07-01T00:00:00"
                                },
                                {
                                    "0": "2007-07-01 00:00:00.000",
                                    "1": "Jul  1 2007 12:00AM",
                                    "2": "2007-07-01T00:00:00"
                                },
                                {
                                    "0": "2007-07-01 00:00:00.000",
                                    "1": "Jul  1 2007 12:00AM",
                                    "2": "2007-07-01T00:00:00"
                                },
                                {
                                    "0": "2007-07-01 00:00:00.000",
                                    "1": "Jul  1 2007 12:00AM",
                                    "2": "2007-07-01T00:00:00"
                                },
                                {
                                    "0": "2007-07-01 00:00:00.000",
                                    "1": "Jul  1 2007 12:00AM",
                                    "2": "2007-07-01T00:00:00"
                                },
                                {
                                    "0": "2007-07-01 00:00:00.000",
                                    "1": "Jul  1 2007 12:00AM",
                                    "2": "2007-07-01T00:00:00"
                                },
                                {
                                    "0": "2007-07-01 00:00:00.000",
                                    "1": "Jul  1 2007 12:00AM",
                                    "2": "2007-07-01T00:00:00"
                                },
                                {
                                    "0": "2007-07-01 00:00:00.000",
                                    "1": "Jul  1 2007 12:00AM",
                                    "2": "2007-07-01T00:00:00"
                                },
                                {
                                    "0": "2007-07-01 00:00:00.000",
                                    "1": "Jul  1 2007 12:00AM",
                                    "2": "2007-07-01T00:00:00"
                                },
                                {
                                    "0": "2007-07-01 00:00:00.000",
                                    "1": "Jul  1 2007 12:00AM",
                                    "2": "2007-07-01T00:00:00"
                                },
                                {
                                    "0": "2007-07-01 00:00:00.000",
                                    "1": "Jul  1 2007 12:00AM",
                                    "2": "2007-07-01T00:00:00"
                                },
                                {
                                    "0": "2007-07-01 00:00:00.000",
                                    "1": "Jul  1 2007 12:00AM",
                                    "2": "2007-07-01T00:00:00"
                                },
                                {
                                    "0": "2007-07-01 00:00:00.000",
                                    "1": "Jul  1 2007 12:00AM",
                                    "2": "2007-07-01T00:00:00"
                                },
                                {
                                    "0": "2007-07-01 00:00:00.000",
                                    "1": "Jul  1 2007 12:00AM",
                                    "2": "2007-07-01T00:00:00"
                                },
                                {
                                    "0": "2007-07-01 00:00:00.000",
                                    "1": "Jul  1 2007 12:00AM",
                                    "2": "2007-07-01T00:00:00"
                                },
                                {
                                    "0": "2007-07-01 00:00:00.000",
                                    "1": "Jul  1 2007 12:00AM",
                                    "2": "2007-07-01T00:00:00"
                                },
                                {
                                    "0": "2007-07-01 00:00:00.000",
                                    "1": "Jul  1 2007 12:00AM",
                                    "2": "2007-07-01T00:00:00"
                                },
                                {
                                    "0": "2007-07-01 00:00:00.000",
                                    "1": "Jul  1 2007 12:00AM",
                                    "2": "2007-07-01T00:00:00"
                                },
                                {
                                    "0": "2007-07-01 00:00:00.000",
                                    "1": "Jul  1 2007 12:00AM",
                                    "2": "2007-07-01T00:00:00"
                                },
                                {
                                    "0": "2007-07-01 00:00:00.000",
                                    "1": "Jul  1 2007 12:00AM",
                                    "2": "2007-07-01T00:00:00"
                                }
                            ]
                        },
                        "text/html": [
                            "<table>",
                            "<tr><th>SellStartDate</th><th>Convertedate</th><th>ISO8601FormatDate</th></tr>",
                            "<tr><td>2002-06-01 00:00:00.000</td><td>Jun  1 2002 12:00AM</td><td>2002-06-01T00:00:00</td></tr>",
                            "<tr><td>2002-06-01 00:00:00.000</td><td>Jun  1 2002 12:00AM</td><td>2002-06-01T00:00:00</td></tr>",
                            "<tr><td>2005-07-01 00:00:00.000</td><td>Jul  1 2005 12:00AM</td><td>2005-07-01T00:00:00</td></tr>",
                            "<tr><td>2005-07-01 00:00:00.000</td><td>Jul  1 2005 12:00AM</td><td>2005-07-01T00:00:00</td></tr>",
                            "<tr><td>2005-07-01 00:00:00.000</td><td>Jul  1 2005 12:00AM</td><td>2005-07-01T00:00:00</td></tr>",
                            "<tr><td>2005-07-01 00:00:00.000</td><td>Jul  1 2005 12:00AM</td><td>2005-07-01T00:00:00</td></tr>",
                            "<tr><td>2005-07-01 00:00:00.000</td><td>Jul  1 2005 12:00AM</td><td>2005-07-01T00:00:00</td></tr>",
                            "<tr><td>2005-07-01 00:00:00.000</td><td>Jul  1 2005 12:00AM</td><td>2005-07-01T00:00:00</td></tr>",
                            "<tr><td>2005-07-01 00:00:00.000</td><td>Jul  1 2005 12:00AM</td><td>2005-07-01T00:00:00</td></tr>",
                            "<tr><td>2005-07-01 00:00:00.000</td><td>Jul  1 2005 12:00AM</td><td>2005-07-01T00:00:00</td></tr>",
                            "<tr><td>2005-07-01 00:00:00.000</td><td>Jul  1 2005 12:00AM</td><td>2005-07-01T00:00:00</td></tr>",
                            "<tr><td>2005-07-01 00:00:00.000</td><td>Jul  1 2005 12:00AM</td><td>2005-07-01T00:00:00</td></tr>",
                            "<tr><td>2005-07-01 00:00:00.000</td><td>Jul  1 2005 12:00AM</td><td>2005-07-01T00:00:00</td></tr>",
                            "<tr><td>2005-07-01 00:00:00.000</td><td>Jul  1 2005 12:00AM</td><td>2005-07-01T00:00:00</td></tr>",
                            "<tr><td>2005-07-01 00:00:00.000</td><td>Jul  1 2005 12:00AM</td><td>2005-07-01T00:00:00</td></tr>",
                            "<tr><td>2005-07-01 00:00:00.000</td><td>Jul  1 2005 12:00AM</td><td>2005-07-01T00:00:00</td></tr>",
                            "<tr><td>2005-07-01 00:00:00.000</td><td>Jul  1 2005 12:00AM</td><td>2005-07-01T00:00:00</td></tr>",
                            "<tr><td>2005-07-01 00:00:00.000</td><td>Jul  1 2005 12:00AM</td><td>2005-07-01T00:00:00</td></tr>",
                            "<tr><td>2005-07-01 00:00:00.000</td><td>Jul  1 2005 12:00AM</td><td>2005-07-01T00:00:00</td></tr>",
                            "<tr><td>2005-07-01 00:00:00.000</td><td>Jul  1 2005 12:00AM</td><td>2005-07-01T00:00:00</td></tr>",
                            "<tr><td>2005-07-01 00:00:00.000</td><td>Jul  1 2005 12:00AM</td><td>2005-07-01T00:00:00</td></tr>",
                            "<tr><td>2005-07-01 00:00:00.000</td><td>Jul  1 2005 12:00AM</td><td>2005-07-01T00:00:00</td></tr>",
                            "<tr><td>2005-07-01 00:00:00.000</td><td>Jul  1 2005 12:00AM</td><td>2005-07-01T00:00:00</td></tr>",
                            "<tr><td>2005-07-01 00:00:00.000</td><td>Jul  1 2005 12:00AM</td><td>2005-07-01T00:00:00</td></tr>",
                            "<tr><td>2005-07-01 00:00:00.000</td><td>Jul  1 2005 12:00AM</td><td>2005-07-01T00:00:00</td></tr>",
                            "<tr><td>2005-07-01 00:00:00.000</td><td>Jul  1 2005 12:00AM</td><td>2005-07-01T00:00:00</td></tr>",
                            "<tr><td>2005-07-01 00:00:00.000</td><td>Jul  1 2005 12:00AM</td><td>2005-07-01T00:00:00</td></tr>",
                            "<tr><td>2005-07-01 00:00:00.000</td><td>Jul  1 2005 12:00AM</td><td>2005-07-01T00:00:00</td></tr>",
                            "<tr><td>2005-07-01 00:00:00.000</td><td>Jul  1 2005 12:00AM</td><td>2005-07-01T00:00:00</td></tr>",
                            "<tr><td>2005-07-01 00:00:00.000</td><td>Jul  1 2005 12:00AM</td><td>2005-07-01T00:00:00</td></tr>",
                            "<tr><td>2005-07-01 00:00:00.000</td><td>Jul  1 2005 12:00AM</td><td>2005-07-01T00:00:00</td></tr>",
                            "<tr><td>2005-07-01 00:00:00.000</td><td>Jul  1 2005 12:00AM</td><td>2005-07-01T00:00:00</td></tr>",
                            "<tr><td>2005-07-01 00:00:00.000</td><td>Jul  1 2005 12:00AM</td><td>2005-07-01T00:00:00</td></tr>",
                            "<tr><td>2005-07-01 00:00:00.000</td><td>Jul  1 2005 12:00AM</td><td>2005-07-01T00:00:00</td></tr>",
                            "<tr><td>2005-07-01 00:00:00.000</td><td>Jul  1 2005 12:00AM</td><td>2005-07-01T00:00:00</td></tr>",
                            "<tr><td>2005-07-01 00:00:00.000</td><td>Jul  1 2005 12:00AM</td><td>2005-07-01T00:00:00</td></tr>",
                            "<tr><td>2005-07-01 00:00:00.000</td><td>Jul  1 2005 12:00AM</td><td>2005-07-01T00:00:00</td></tr>",
                            "<tr><td>2005-07-01 00:00:00.000</td><td>Jul  1 2005 12:00AM</td><td>2005-07-01T00:00:00</td></tr>",
                            "<tr><td>2005-07-01 00:00:00.000</td><td>Jul  1 2005 12:00AM</td><td>2005-07-01T00:00:00</td></tr>",
                            "<tr><td>2005-07-01 00:00:00.000</td><td>Jul  1 2005 12:00AM</td><td>2005-07-01T00:00:00</td></tr>",
                            "<tr><td>2005-07-01 00:00:00.000</td><td>Jul  1 2005 12:00AM</td><td>2005-07-01T00:00:00</td></tr>",
                            "<tr><td>2005-07-01 00:00:00.000</td><td>Jul  1 2005 12:00AM</td><td>2005-07-01T00:00:00</td></tr>",
                            "<tr><td>2005-07-01 00:00:00.000</td><td>Jul  1 2005 12:00AM</td><td>2005-07-01T00:00:00</td></tr>",
                            "<tr><td>2005-07-01 00:00:00.000</td><td>Jul  1 2005 12:00AM</td><td>2005-07-01T00:00:00</td></tr>",
                            "<tr><td>2005-07-01 00:00:00.000</td><td>Jul  1 2005 12:00AM</td><td>2005-07-01T00:00:00</td></tr>",
                            "<tr><td>2005-07-01 00:00:00.000</td><td>Jul  1 2005 12:00AM</td><td>2005-07-01T00:00:00</td></tr>",
                            "<tr><td>2005-07-01 00:00:00.000</td><td>Jul  1 2005 12:00AM</td><td>2005-07-01T00:00:00</td></tr>",
                            "<tr><td>2005-07-01 00:00:00.000</td><td>Jul  1 2005 12:00AM</td><td>2005-07-01T00:00:00</td></tr>",
                            "<tr><td>2005-07-01 00:00:00.000</td><td>Jul  1 2005 12:00AM</td><td>2005-07-01T00:00:00</td></tr>",
                            "<tr><td>2005-07-01 00:00:00.000</td><td>Jul  1 2005 12:00AM</td><td>2005-07-01T00:00:00</td></tr>",
                            "<tr><td>2005-07-01 00:00:00.000</td><td>Jul  1 2005 12:00AM</td><td>2005-07-01T00:00:00</td></tr>",
                            "<tr><td>2005-07-01 00:00:00.000</td><td>Jul  1 2005 12:00AM</td><td>2005-07-01T00:00:00</td></tr>",
                            "<tr><td>2005-07-01 00:00:00.000</td><td>Jul  1 2005 12:00AM</td><td>2005-07-01T00:00:00</td></tr>",
                            "<tr><td>2005-07-01 00:00:00.000</td><td>Jul  1 2005 12:00AM</td><td>2005-07-01T00:00:00</td></tr>",
                            "<tr><td>2005-07-01 00:00:00.000</td><td>Jul  1 2005 12:00AM</td><td>2005-07-01T00:00:00</td></tr>",
                            "<tr><td>2005-07-01 00:00:00.000</td><td>Jul  1 2005 12:00AM</td><td>2005-07-01T00:00:00</td></tr>",
                            "<tr><td>2005-07-01 00:00:00.000</td><td>Jul  1 2005 12:00AM</td><td>2005-07-01T00:00:00</td></tr>",
                            "<tr><td>2005-07-01 00:00:00.000</td><td>Jul  1 2005 12:00AM</td><td>2005-07-01T00:00:00</td></tr>",
                            "<tr><td>2005-07-01 00:00:00.000</td><td>Jul  1 2005 12:00AM</td><td>2005-07-01T00:00:00</td></tr>",
                            "<tr><td>2005-07-01 00:00:00.000</td><td>Jul  1 2005 12:00AM</td><td>2005-07-01T00:00:00</td></tr>",
                            "<tr><td>2005-07-01 00:00:00.000</td><td>Jul  1 2005 12:00AM</td><td>2005-07-01T00:00:00</td></tr>",
                            "<tr><td>2005-07-01 00:00:00.000</td><td>Jul  1 2005 12:00AM</td><td>2005-07-01T00:00:00</td></tr>",
                            "<tr><td>2005-07-01 00:00:00.000</td><td>Jul  1 2005 12:00AM</td><td>2005-07-01T00:00:00</td></tr>",
                            "<tr><td>2005-07-01 00:00:00.000</td><td>Jul  1 2005 12:00AM</td><td>2005-07-01T00:00:00</td></tr>",
                            "<tr><td>2005-07-01 00:00:00.000</td><td>Jul  1 2005 12:00AM</td><td>2005-07-01T00:00:00</td></tr>",
                            "<tr><td>2005-07-01 00:00:00.000</td><td>Jul  1 2005 12:00AM</td><td>2005-07-01T00:00:00</td></tr>",
                            "<tr><td>2005-07-01 00:00:00.000</td><td>Jul  1 2005 12:00AM</td><td>2005-07-01T00:00:00</td></tr>",
                            "<tr><td>2005-07-01 00:00:00.000</td><td>Jul  1 2005 12:00AM</td><td>2005-07-01T00:00:00</td></tr>",
                            "<tr><td>2005-07-01 00:00:00.000</td><td>Jul  1 2005 12:00AM</td><td>2005-07-01T00:00:00</td></tr>",
                            "<tr><td>2005-07-01 00:00:00.000</td><td>Jul  1 2005 12:00AM</td><td>2005-07-01T00:00:00</td></tr>",
                            "<tr><td>2005-07-01 00:00:00.000</td><td>Jul  1 2005 12:00AM</td><td>2005-07-01T00:00:00</td></tr>",
                            "<tr><td>2005-07-01 00:00:00.000</td><td>Jul  1 2005 12:00AM</td><td>2005-07-01T00:00:00</td></tr>",
                            "<tr><td>2005-07-01 00:00:00.000</td><td>Jul  1 2005 12:00AM</td><td>2005-07-01T00:00:00</td></tr>",
                            "<tr><td>2005-07-01 00:00:00.000</td><td>Jul  1 2005 12:00AM</td><td>2005-07-01T00:00:00</td></tr>",
                            "<tr><td>2006-07-01 00:00:00.000</td><td>Jul  1 2006 12:00AM</td><td>2006-07-01T00:00:00</td></tr>",
                            "<tr><td>2006-07-01 00:00:00.000</td><td>Jul  1 2006 12:00AM</td><td>2006-07-01T00:00:00</td></tr>",
                            "<tr><td>2006-07-01 00:00:00.000</td><td>Jul  1 2006 12:00AM</td><td>2006-07-01T00:00:00</td></tr>",
                            "<tr><td>2006-07-01 00:00:00.000</td><td>Jul  1 2006 12:00AM</td><td>2006-07-01T00:00:00</td></tr>",
                            "<tr><td>2006-07-01 00:00:00.000</td><td>Jul  1 2006 12:00AM</td><td>2006-07-01T00:00:00</td></tr>",
                            "<tr><td>2006-07-01 00:00:00.000</td><td>Jul  1 2006 12:00AM</td><td>2006-07-01T00:00:00</td></tr>",
                            "<tr><td>2006-07-01 00:00:00.000</td><td>Jul  1 2006 12:00AM</td><td>2006-07-01T00:00:00</td></tr>",
                            "<tr><td>2006-07-01 00:00:00.000</td><td>Jul  1 2006 12:00AM</td><td>2006-07-01T00:00:00</td></tr>",
                            "<tr><td>2006-07-01 00:00:00.000</td><td>Jul  1 2006 12:00AM</td><td>2006-07-01T00:00:00</td></tr>",
                            "<tr><td>2006-07-01 00:00:00.000</td><td>Jul  1 2006 12:00AM</td><td>2006-07-01T00:00:00</td></tr>",
                            "<tr><td>2006-07-01 00:00:00.000</td><td>Jul  1 2006 12:00AM</td><td>2006-07-01T00:00:00</td></tr>",
                            "<tr><td>2006-07-01 00:00:00.000</td><td>Jul  1 2006 12:00AM</td><td>2006-07-01T00:00:00</td></tr>",
                            "<tr><td>2006-07-01 00:00:00.000</td><td>Jul  1 2006 12:00AM</td><td>2006-07-01T00:00:00</td></tr>",
                            "<tr><td>2006-07-01 00:00:00.000</td><td>Jul  1 2006 12:00AM</td><td>2006-07-01T00:00:00</td></tr>",
                            "<tr><td>2006-07-01 00:00:00.000</td><td>Jul  1 2006 12:00AM</td><td>2006-07-01T00:00:00</td></tr>",
                            "<tr><td>2006-07-01 00:00:00.000</td><td>Jul  1 2006 12:00AM</td><td>2006-07-01T00:00:00</td></tr>",
                            "<tr><td>2006-07-01 00:00:00.000</td><td>Jul  1 2006 12:00AM</td><td>2006-07-01T00:00:00</td></tr>",
                            "<tr><td>2006-07-01 00:00:00.000</td><td>Jul  1 2006 12:00AM</td><td>2006-07-01T00:00:00</td></tr>",
                            "<tr><td>2006-07-01 00:00:00.000</td><td>Jul  1 2006 12:00AM</td><td>2006-07-01T00:00:00</td></tr>",
                            "<tr><td>2006-07-01 00:00:00.000</td><td>Jul  1 2006 12:00AM</td><td>2006-07-01T00:00:00</td></tr>",
                            "<tr><td>2006-07-01 00:00:00.000</td><td>Jul  1 2006 12:00AM</td><td>2006-07-01T00:00:00</td></tr>",
                            "<tr><td>2006-07-01 00:00:00.000</td><td>Jul  1 2006 12:00AM</td><td>2006-07-01T00:00:00</td></tr>",
                            "<tr><td>2006-07-01 00:00:00.000</td><td>Jul  1 2006 12:00AM</td><td>2006-07-01T00:00:00</td></tr>",
                            "<tr><td>2006-07-01 00:00:00.000</td><td>Jul  1 2006 12:00AM</td><td>2006-07-01T00:00:00</td></tr>",
                            "<tr><td>2006-07-01 00:00:00.000</td><td>Jul  1 2006 12:00AM</td><td>2006-07-01T00:00:00</td></tr>",
                            "<tr><td>2006-07-01 00:00:00.000</td><td>Jul  1 2006 12:00AM</td><td>2006-07-01T00:00:00</td></tr>",
                            "<tr><td>2006-07-01 00:00:00.000</td><td>Jul  1 2006 12:00AM</td><td>2006-07-01T00:00:00</td></tr>",
                            "<tr><td>2006-07-01 00:00:00.000</td><td>Jul  1 2006 12:00AM</td><td>2006-07-01T00:00:00</td></tr>",
                            "<tr><td>2006-07-01 00:00:00.000</td><td>Jul  1 2006 12:00AM</td><td>2006-07-01T00:00:00</td></tr>",
                            "<tr><td>2006-07-01 00:00:00.000</td><td>Jul  1 2006 12:00AM</td><td>2006-07-01T00:00:00</td></tr>",
                            "<tr><td>2006-07-01 00:00:00.000</td><td>Jul  1 2006 12:00AM</td><td>2006-07-01T00:00:00</td></tr>",
                            "<tr><td>2006-07-01 00:00:00.000</td><td>Jul  1 2006 12:00AM</td><td>2006-07-01T00:00:00</td></tr>",
                            "<tr><td>2006-07-01 00:00:00.000</td><td>Jul  1 2006 12:00AM</td><td>2006-07-01T00:00:00</td></tr>",
                            "<tr><td>2006-07-01 00:00:00.000</td><td>Jul  1 2006 12:00AM</td><td>2006-07-01T00:00:00</td></tr>",
                            "<tr><td>2006-07-01 00:00:00.000</td><td>Jul  1 2006 12:00AM</td><td>2006-07-01T00:00:00</td></tr>",
                            "<tr><td>2006-07-01 00:00:00.000</td><td>Jul  1 2006 12:00AM</td><td>2006-07-01T00:00:00</td></tr>",
                            "<tr><td>2006-07-01 00:00:00.000</td><td>Jul  1 2006 12:00AM</td><td>2006-07-01T00:00:00</td></tr>",
                            "<tr><td>2006-07-01 00:00:00.000</td><td>Jul  1 2006 12:00AM</td><td>2006-07-01T00:00:00</td></tr>",
                            "<tr><td>2006-07-01 00:00:00.000</td><td>Jul  1 2006 12:00AM</td><td>2006-07-01T00:00:00</td></tr>",
                            "<tr><td>2006-07-01 00:00:00.000</td><td>Jul  1 2006 12:00AM</td><td>2006-07-01T00:00:00</td></tr>",
                            "<tr><td>2006-07-01 00:00:00.000</td><td>Jul  1 2006 12:00AM</td><td>2006-07-01T00:00:00</td></tr>",
                            "<tr><td>2006-07-01 00:00:00.000</td><td>Jul  1 2006 12:00AM</td><td>2006-07-01T00:00:00</td></tr>",
                            "<tr><td>2006-07-01 00:00:00.000</td><td>Jul  1 2006 12:00AM</td><td>2006-07-01T00:00:00</td></tr>",
                            "<tr><td>2006-07-01 00:00:00.000</td><td>Jul  1 2006 12:00AM</td><td>2006-07-01T00:00:00</td></tr>",
                            "<tr><td>2006-07-01 00:00:00.000</td><td>Jul  1 2006 12:00AM</td><td>2006-07-01T00:00:00</td></tr>",
                            "<tr><td>2006-07-01 00:00:00.000</td><td>Jul  1 2006 12:00AM</td><td>2006-07-01T00:00:00</td></tr>",
                            "<tr><td>2006-07-01 00:00:00.000</td><td>Jul  1 2006 12:00AM</td><td>2006-07-01T00:00:00</td></tr>",
                            "<tr><td>2006-07-01 00:00:00.000</td><td>Jul  1 2006 12:00AM</td><td>2006-07-01T00:00:00</td></tr>",
                            "<tr><td>2006-07-01 00:00:00.000</td><td>Jul  1 2006 12:00AM</td><td>2006-07-01T00:00:00</td></tr>",
                            "<tr><td>2006-07-01 00:00:00.000</td><td>Jul  1 2006 12:00AM</td><td>2006-07-01T00:00:00</td></tr>",
                            "<tr><td>2006-07-01 00:00:00.000</td><td>Jul  1 2006 12:00AM</td><td>2006-07-01T00:00:00</td></tr>",
                            "<tr><td>2006-07-01 00:00:00.000</td><td>Jul  1 2006 12:00AM</td><td>2006-07-01T00:00:00</td></tr>",
                            "<tr><td>2006-07-01 00:00:00.000</td><td>Jul  1 2006 12:00AM</td><td>2006-07-01T00:00:00</td></tr>",
                            "<tr><td>2006-07-01 00:00:00.000</td><td>Jul  1 2006 12:00AM</td><td>2006-07-01T00:00:00</td></tr>",
                            "<tr><td>2006-07-01 00:00:00.000</td><td>Jul  1 2006 12:00AM</td><td>2006-07-01T00:00:00</td></tr>",
                            "<tr><td>2006-07-01 00:00:00.000</td><td>Jul  1 2006 12:00AM</td><td>2006-07-01T00:00:00</td></tr>",
                            "<tr><td>2006-07-01 00:00:00.000</td><td>Jul  1 2006 12:00AM</td><td>2006-07-01T00:00:00</td></tr>",
                            "<tr><td>2006-07-01 00:00:00.000</td><td>Jul  1 2006 12:00AM</td><td>2006-07-01T00:00:00</td></tr>",
                            "<tr><td>2006-07-01 00:00:00.000</td><td>Jul  1 2006 12:00AM</td><td>2006-07-01T00:00:00</td></tr>",
                            "<tr><td>2006-07-01 00:00:00.000</td><td>Jul  1 2006 12:00AM</td><td>2006-07-01T00:00:00</td></tr>",
                            "<tr><td>2006-07-01 00:00:00.000</td><td>Jul  1 2006 12:00AM</td><td>2006-07-01T00:00:00</td></tr>",
                            "<tr><td>2006-07-01 00:00:00.000</td><td>Jul  1 2006 12:00AM</td><td>2006-07-01T00:00:00</td></tr>",
                            "<tr><td>2006-07-01 00:00:00.000</td><td>Jul  1 2006 12:00AM</td><td>2006-07-01T00:00:00</td></tr>",
                            "<tr><td>2006-07-01 00:00:00.000</td><td>Jul  1 2006 12:00AM</td><td>2006-07-01T00:00:00</td></tr>",
                            "<tr><td>2006-07-01 00:00:00.000</td><td>Jul  1 2006 12:00AM</td><td>2006-07-01T00:00:00</td></tr>",
                            "<tr><td>2006-07-01 00:00:00.000</td><td>Jul  1 2006 12:00AM</td><td>2006-07-01T00:00:00</td></tr>",
                            "<tr><td>2006-07-01 00:00:00.000</td><td>Jul  1 2006 12:00AM</td><td>2006-07-01T00:00:00</td></tr>",
                            "<tr><td>2006-07-01 00:00:00.000</td><td>Jul  1 2006 12:00AM</td><td>2006-07-01T00:00:00</td></tr>",
                            "<tr><td>2006-07-01 00:00:00.000</td><td>Jul  1 2006 12:00AM</td><td>2006-07-01T00:00:00</td></tr>",
                            "<tr><td>2006-07-01 00:00:00.000</td><td>Jul  1 2006 12:00AM</td><td>2006-07-01T00:00:00</td></tr>",
                            "<tr><td>2006-07-01 00:00:00.000</td><td>Jul  1 2006 12:00AM</td><td>2006-07-01T00:00:00</td></tr>",
                            "<tr><td>2006-07-01 00:00:00.000</td><td>Jul  1 2006 12:00AM</td><td>2006-07-01T00:00:00</td></tr>",
                            "<tr><td>2006-07-01 00:00:00.000</td><td>Jul  1 2006 12:00AM</td><td>2006-07-01T00:00:00</td></tr>",
                            "<tr><td>2006-07-01 00:00:00.000</td><td>Jul  1 2006 12:00AM</td><td>2006-07-01T00:00:00</td></tr>",
                            "<tr><td>2006-07-01 00:00:00.000</td><td>Jul  1 2006 12:00AM</td><td>2006-07-01T00:00:00</td></tr>",
                            "<tr><td>2006-07-01 00:00:00.000</td><td>Jul  1 2006 12:00AM</td><td>2006-07-01T00:00:00</td></tr>",
                            "<tr><td>2006-07-01 00:00:00.000</td><td>Jul  1 2006 12:00AM</td><td>2006-07-01T00:00:00</td></tr>",
                            "<tr><td>2006-07-01 00:00:00.000</td><td>Jul  1 2006 12:00AM</td><td>2006-07-01T00:00:00</td></tr>",
                            "<tr><td>2006-07-01 00:00:00.000</td><td>Jul  1 2006 12:00AM</td><td>2006-07-01T00:00:00</td></tr>",
                            "<tr><td>2006-07-01 00:00:00.000</td><td>Jul  1 2006 12:00AM</td><td>2006-07-01T00:00:00</td></tr>",
                            "<tr><td>2006-07-01 00:00:00.000</td><td>Jul  1 2006 12:00AM</td><td>2006-07-01T00:00:00</td></tr>",
                            "<tr><td>2006-07-01 00:00:00.000</td><td>Jul  1 2006 12:00AM</td><td>2006-07-01T00:00:00</td></tr>",
                            "<tr><td>2006-07-01 00:00:00.000</td><td>Jul  1 2006 12:00AM</td><td>2006-07-01T00:00:00</td></tr>",
                            "<tr><td>2006-07-01 00:00:00.000</td><td>Jul  1 2006 12:00AM</td><td>2006-07-01T00:00:00</td></tr>",
                            "<tr><td>2006-07-01 00:00:00.000</td><td>Jul  1 2006 12:00AM</td><td>2006-07-01T00:00:00</td></tr>",
                            "<tr><td>2007-07-01 00:00:00.000</td><td>Jul  1 2007 12:00AM</td><td>2007-07-01T00:00:00</td></tr>",
                            "<tr><td>2007-07-01 00:00:00.000</td><td>Jul  1 2007 12:00AM</td><td>2007-07-01T00:00:00</td></tr>",
                            "<tr><td>2007-07-01 00:00:00.000</td><td>Jul  1 2007 12:00AM</td><td>2007-07-01T00:00:00</td></tr>",
                            "<tr><td>2007-07-01 00:00:00.000</td><td>Jul  1 2007 12:00AM</td><td>2007-07-01T00:00:00</td></tr>",
                            "<tr><td>2007-07-01 00:00:00.000</td><td>Jul  1 2007 12:00AM</td><td>2007-07-01T00:00:00</td></tr>",
                            "<tr><td>2007-07-01 00:00:00.000</td><td>Jul  1 2007 12:00AM</td><td>2007-07-01T00:00:00</td></tr>",
                            "<tr><td>2007-07-01 00:00:00.000</td><td>Jul  1 2007 12:00AM</td><td>2007-07-01T00:00:00</td></tr>",
                            "<tr><td>2007-07-01 00:00:00.000</td><td>Jul  1 2007 12:00AM</td><td>2007-07-01T00:00:00</td></tr>",
                            "<tr><td>2007-07-01 00:00:00.000</td><td>Jul  1 2007 12:00AM</td><td>2007-07-01T00:00:00</td></tr>",
                            "<tr><td>2007-07-01 00:00:00.000</td><td>Jul  1 2007 12:00AM</td><td>2007-07-01T00:00:00</td></tr>",
                            "<tr><td>2007-07-01 00:00:00.000</td><td>Jul  1 2007 12:00AM</td><td>2007-07-01T00:00:00</td></tr>",
                            "<tr><td>2007-07-01 00:00:00.000</td><td>Jul  1 2007 12:00AM</td><td>2007-07-01T00:00:00</td></tr>",
                            "<tr><td>2007-07-01 00:00:00.000</td><td>Jul  1 2007 12:00AM</td><td>2007-07-01T00:00:00</td></tr>",
                            "<tr><td>2007-07-01 00:00:00.000</td><td>Jul  1 2007 12:00AM</td><td>2007-07-01T00:00:00</td></tr>",
                            "<tr><td>2007-07-01 00:00:00.000</td><td>Jul  1 2007 12:00AM</td><td>2007-07-01T00:00:00</td></tr>",
                            "<tr><td>2007-07-01 00:00:00.000</td><td>Jul  1 2007 12:00AM</td><td>2007-07-01T00:00:00</td></tr>",
                            "<tr><td>2007-07-01 00:00:00.000</td><td>Jul  1 2007 12:00AM</td><td>2007-07-01T00:00:00</td></tr>",
                            "<tr><td>2007-07-01 00:00:00.000</td><td>Jul  1 2007 12:00AM</td><td>2007-07-01T00:00:00</td></tr>",
                            "<tr><td>2007-07-01 00:00:00.000</td><td>Jul  1 2007 12:00AM</td><td>2007-07-01T00:00:00</td></tr>",
                            "<tr><td>2007-07-01 00:00:00.000</td><td>Jul  1 2007 12:00AM</td><td>2007-07-01T00:00:00</td></tr>",
                            "<tr><td>2007-07-01 00:00:00.000</td><td>Jul  1 2007 12:00AM</td><td>2007-07-01T00:00:00</td></tr>",
                            "<tr><td>2007-07-01 00:00:00.000</td><td>Jul  1 2007 12:00AM</td><td>2007-07-01T00:00:00</td></tr>",
                            "<tr><td>2007-07-01 00:00:00.000</td><td>Jul  1 2007 12:00AM</td><td>2007-07-01T00:00:00</td></tr>",
                            "<tr><td>2007-07-01 00:00:00.000</td><td>Jul  1 2007 12:00AM</td><td>2007-07-01T00:00:00</td></tr>",
                            "<tr><td>2007-07-01 00:00:00.000</td><td>Jul  1 2007 12:00AM</td><td>2007-07-01T00:00:00</td></tr>",
                            "<tr><td>2007-07-01 00:00:00.000</td><td>Jul  1 2007 12:00AM</td><td>2007-07-01T00:00:00</td></tr>",
                            "<tr><td>2007-07-01 00:00:00.000</td><td>Jul  1 2007 12:00AM</td><td>2007-07-01T00:00:00</td></tr>",
                            "<tr><td>2007-07-01 00:00:00.000</td><td>Jul  1 2007 12:00AM</td><td>2007-07-01T00:00:00</td></tr>",
                            "<tr><td>2007-07-01 00:00:00.000</td><td>Jul  1 2007 12:00AM</td><td>2007-07-01T00:00:00</td></tr>",
                            "<tr><td>2007-07-01 00:00:00.000</td><td>Jul  1 2007 12:00AM</td><td>2007-07-01T00:00:00</td></tr>",
                            "<tr><td>2007-07-01 00:00:00.000</td><td>Jul  1 2007 12:00AM</td><td>2007-07-01T00:00:00</td></tr>",
                            "<tr><td>2007-07-01 00:00:00.000</td><td>Jul  1 2007 12:00AM</td><td>2007-07-01T00:00:00</td></tr>",
                            "<tr><td>2007-07-01 00:00:00.000</td><td>Jul  1 2007 12:00AM</td><td>2007-07-01T00:00:00</td></tr>",
                            "<tr><td>2007-07-01 00:00:00.000</td><td>Jul  1 2007 12:00AM</td><td>2007-07-01T00:00:00</td></tr>",
                            "<tr><td>2007-07-01 00:00:00.000</td><td>Jul  1 2007 12:00AM</td><td>2007-07-01T00:00:00</td></tr>",
                            "<tr><td>2007-07-01 00:00:00.000</td><td>Jul  1 2007 12:00AM</td><td>2007-07-01T00:00:00</td></tr>",
                            "<tr><td>2007-07-01 00:00:00.000</td><td>Jul  1 2007 12:00AM</td><td>2007-07-01T00:00:00</td></tr>",
                            "<tr><td>2007-07-01 00:00:00.000</td><td>Jul  1 2007 12:00AM</td><td>2007-07-01T00:00:00</td></tr>",
                            "<tr><td>2007-07-01 00:00:00.000</td><td>Jul  1 2007 12:00AM</td><td>2007-07-01T00:00:00</td></tr>",
                            "<tr><td>2007-07-01 00:00:00.000</td><td>Jul  1 2007 12:00AM</td><td>2007-07-01T00:00:00</td></tr>",
                            "<tr><td>2007-07-01 00:00:00.000</td><td>Jul  1 2007 12:00AM</td><td>2007-07-01T00:00:00</td></tr>",
                            "<tr><td>2007-07-01 00:00:00.000</td><td>Jul  1 2007 12:00AM</td><td>2007-07-01T00:00:00</td></tr>",
                            "<tr><td>2007-07-01 00:00:00.000</td><td>Jul  1 2007 12:00AM</td><td>2007-07-01T00:00:00</td></tr>",
                            "<tr><td>2007-07-01 00:00:00.000</td><td>Jul  1 2007 12:00AM</td><td>2007-07-01T00:00:00</td></tr>",
                            "<tr><td>2007-07-01 00:00:00.000</td><td>Jul  1 2007 12:00AM</td><td>2007-07-01T00:00:00</td></tr>",
                            "<tr><td>2007-07-01 00:00:00.000</td><td>Jul  1 2007 12:00AM</td><td>2007-07-01T00:00:00</td></tr>",
                            "<tr><td>2007-07-01 00:00:00.000</td><td>Jul  1 2007 12:00AM</td><td>2007-07-01T00:00:00</td></tr>",
                            "<tr><td>2007-07-01 00:00:00.000</td><td>Jul  1 2007 12:00AM</td><td>2007-07-01T00:00:00</td></tr>",
                            "<tr><td>2007-07-01 00:00:00.000</td><td>Jul  1 2007 12:00AM</td><td>2007-07-01T00:00:00</td></tr>",
                            "<tr><td>2007-07-01 00:00:00.000</td><td>Jul  1 2007 12:00AM</td><td>2007-07-01T00:00:00</td></tr>",
                            "<tr><td>2007-07-01 00:00:00.000</td><td>Jul  1 2007 12:00AM</td><td>2007-07-01T00:00:00</td></tr>",
                            "<tr><td>2007-07-01 00:00:00.000</td><td>Jul  1 2007 12:00AM</td><td>2007-07-01T00:00:00</td></tr>",
                            "<tr><td>2007-07-01 00:00:00.000</td><td>Jul  1 2007 12:00AM</td><td>2007-07-01T00:00:00</td></tr>",
                            "<tr><td>2007-07-01 00:00:00.000</td><td>Jul  1 2007 12:00AM</td><td>2007-07-01T00:00:00</td></tr>",
                            "<tr><td>2007-07-01 00:00:00.000</td><td>Jul  1 2007 12:00AM</td><td>2007-07-01T00:00:00</td></tr>",
                            "<tr><td>2007-07-01 00:00:00.000</td><td>Jul  1 2007 12:00AM</td><td>2007-07-01T00:00:00</td></tr>",
                            "<tr><td>2007-07-01 00:00:00.000</td><td>Jul  1 2007 12:00AM</td><td>2007-07-01T00:00:00</td></tr>",
                            "<tr><td>2007-07-01 00:00:00.000</td><td>Jul  1 2007 12:00AM</td><td>2007-07-01T00:00:00</td></tr>",
                            "<tr><td>2007-07-01 00:00:00.000</td><td>Jul  1 2007 12:00AM</td><td>2007-07-01T00:00:00</td></tr>",
                            "<tr><td>2007-07-01 00:00:00.000</td><td>Jul  1 2007 12:00AM</td><td>2007-07-01T00:00:00</td></tr>",
                            "<tr><td>2007-07-01 00:00:00.000</td><td>Jul  1 2007 12:00AM</td><td>2007-07-01T00:00:00</td></tr>",
                            "<tr><td>2007-07-01 00:00:00.000</td><td>Jul  1 2007 12:00AM</td><td>2007-07-01T00:00:00</td></tr>",
                            "<tr><td>2007-07-01 00:00:00.000</td><td>Jul  1 2007 12:00AM</td><td>2007-07-01T00:00:00</td></tr>",
                            "<tr><td>2007-07-01 00:00:00.000</td><td>Jul  1 2007 12:00AM</td><td>2007-07-01T00:00:00</td></tr>",
                            "<tr><td>2007-07-01 00:00:00.000</td><td>Jul  1 2007 12:00AM</td><td>2007-07-01T00:00:00</td></tr>",
                            "<tr><td>2007-07-01 00:00:00.000</td><td>Jul  1 2007 12:00AM</td><td>2007-07-01T00:00:00</td></tr>",
                            "<tr><td>2007-07-01 00:00:00.000</td><td>Jul  1 2007 12:00AM</td><td>2007-07-01T00:00:00</td></tr>",
                            "<tr><td>2007-07-01 00:00:00.000</td><td>Jul  1 2007 12:00AM</td><td>2007-07-01T00:00:00</td></tr>",
                            "<tr><td>2007-07-01 00:00:00.000</td><td>Jul  1 2007 12:00AM</td><td>2007-07-01T00:00:00</td></tr>",
                            "<tr><td>2007-07-01 00:00:00.000</td><td>Jul  1 2007 12:00AM</td><td>2007-07-01T00:00:00</td></tr>",
                            "<tr><td>2007-07-01 00:00:00.000</td><td>Jul  1 2007 12:00AM</td><td>2007-07-01T00:00:00</td></tr>",
                            "<tr><td>2007-07-01 00:00:00.000</td><td>Jul  1 2007 12:00AM</td><td>2007-07-01T00:00:00</td></tr>",
                            "<tr><td>2007-07-01 00:00:00.000</td><td>Jul  1 2007 12:00AM</td><td>2007-07-01T00:00:00</td></tr>",
                            "<tr><td>2007-07-01 00:00:00.000</td><td>Jul  1 2007 12:00AM</td><td>2007-07-01T00:00:00</td></tr>",
                            "<tr><td>2007-07-01 00:00:00.000</td><td>Jul  1 2007 12:00AM</td><td>2007-07-01T00:00:00</td></tr>",
                            "<tr><td>2007-07-01 00:00:00.000</td><td>Jul  1 2007 12:00AM</td><td>2007-07-01T00:00:00</td></tr>",
                            "<tr><td>2007-07-01 00:00:00.000</td><td>Jul  1 2007 12:00AM</td><td>2007-07-01T00:00:00</td></tr>",
                            "<tr><td>2007-07-01 00:00:00.000</td><td>Jul  1 2007 12:00AM</td><td>2007-07-01T00:00:00</td></tr>",
                            "<tr><td>2007-07-01 00:00:00.000</td><td>Jul  1 2007 12:00AM</td><td>2007-07-01T00:00:00</td></tr>",
                            "<tr><td>2007-07-01 00:00:00.000</td><td>Jul  1 2007 12:00AM</td><td>2007-07-01T00:00:00</td></tr>",
                            "<tr><td>2007-07-01 00:00:00.000</td><td>Jul  1 2007 12:00AM</td><td>2007-07-01T00:00:00</td></tr>",
                            "<tr><td>2007-07-01 00:00:00.000</td><td>Jul  1 2007 12:00AM</td><td>2007-07-01T00:00:00</td></tr>",
                            "<tr><td>2007-07-01 00:00:00.000</td><td>Jul  1 2007 12:00AM</td><td>2007-07-01T00:00:00</td></tr>",
                            "<tr><td>2007-07-01 00:00:00.000</td><td>Jul  1 2007 12:00AM</td><td>2007-07-01T00:00:00</td></tr>",
                            "<tr><td>2007-07-01 00:00:00.000</td><td>Jul  1 2007 12:00AM</td><td>2007-07-01T00:00:00</td></tr>",
                            "<tr><td>2007-07-01 00:00:00.000</td><td>Jul  1 2007 12:00AM</td><td>2007-07-01T00:00:00</td></tr>",
                            "<tr><td>2007-07-01 00:00:00.000</td><td>Jul  1 2007 12:00AM</td><td>2007-07-01T00:00:00</td></tr>",
                            "<tr><td>2007-07-01 00:00:00.000</td><td>Jul  1 2007 12:00AM</td><td>2007-07-01T00:00:00</td></tr>",
                            "<tr><td>2007-07-01 00:00:00.000</td><td>Jul  1 2007 12:00AM</td><td>2007-07-01T00:00:00</td></tr>",
                            "<tr><td>2007-07-01 00:00:00.000</td><td>Jul  1 2007 12:00AM</td><td>2007-07-01T00:00:00</td></tr>",
                            "<tr><td>2007-07-01 00:00:00.000</td><td>Jul  1 2007 12:00AM</td><td>2007-07-01T00:00:00</td></tr>",
                            "<tr><td>2007-07-01 00:00:00.000</td><td>Jul  1 2007 12:00AM</td><td>2007-07-01T00:00:00</td></tr>",
                            "<tr><td>2007-07-01 00:00:00.000</td><td>Jul  1 2007 12:00AM</td><td>2007-07-01T00:00:00</td></tr>",
                            "<tr><td>2007-07-01 00:00:00.000</td><td>Jul  1 2007 12:00AM</td><td>2007-07-01T00:00:00</td></tr>",
                            "<tr><td>2007-07-01 00:00:00.000</td><td>Jul  1 2007 12:00AM</td><td>2007-07-01T00:00:00</td></tr>",
                            "<tr><td>2007-07-01 00:00:00.000</td><td>Jul  1 2007 12:00AM</td><td>2007-07-01T00:00:00</td></tr>",
                            "<tr><td>2007-07-01 00:00:00.000</td><td>Jul  1 2007 12:00AM</td><td>2007-07-01T00:00:00</td></tr>",
                            "<tr><td>2007-07-01 00:00:00.000</td><td>Jul  1 2007 12:00AM</td><td>2007-07-01T00:00:00</td></tr>",
                            "<tr><td>2007-07-01 00:00:00.000</td><td>Jul  1 2007 12:00AM</td><td>2007-07-01T00:00:00</td></tr>",
                            "<tr><td>2007-07-01 00:00:00.000</td><td>Jul  1 2007 12:00AM</td><td>2007-07-01T00:00:00</td></tr>",
                            "<tr><td>2007-07-01 00:00:00.000</td><td>Jul  1 2007 12:00AM</td><td>2007-07-01T00:00:00</td></tr>",
                            "<tr><td>2007-07-01 00:00:00.000</td><td>Jul  1 2007 12:00AM</td><td>2007-07-01T00:00:00</td></tr>",
                            "<tr><td>2007-07-01 00:00:00.000</td><td>Jul  1 2007 12:00AM</td><td>2007-07-01T00:00:00</td></tr>",
                            "<tr><td>2007-07-01 00:00:00.000</td><td>Jul  1 2007 12:00AM</td><td>2007-07-01T00:00:00</td></tr>",
                            "<tr><td>2007-07-01 00:00:00.000</td><td>Jul  1 2007 12:00AM</td><td>2007-07-01T00:00:00</td></tr>",
                            "<tr><td>2007-07-01 00:00:00.000</td><td>Jul  1 2007 12:00AM</td><td>2007-07-01T00:00:00</td></tr>",
                            "<tr><td>2007-07-01 00:00:00.000</td><td>Jul  1 2007 12:00AM</td><td>2007-07-01T00:00:00</td></tr>",
                            "<tr><td>2007-07-01 00:00:00.000</td><td>Jul  1 2007 12:00AM</td><td>2007-07-01T00:00:00</td></tr>",
                            "<tr><td>2007-07-01 00:00:00.000</td><td>Jul  1 2007 12:00AM</td><td>2007-07-01T00:00:00</td></tr>",
                            "<tr><td>2007-07-01 00:00:00.000</td><td>Jul  1 2007 12:00AM</td><td>2007-07-01T00:00:00</td></tr>",
                            "<tr><td>2007-07-01 00:00:00.000</td><td>Jul  1 2007 12:00AM</td><td>2007-07-01T00:00:00</td></tr>",
                            "<tr><td>2007-07-01 00:00:00.000</td><td>Jul  1 2007 12:00AM</td><td>2007-07-01T00:00:00</td></tr>",
                            "<tr><td>2007-07-01 00:00:00.000</td><td>Jul  1 2007 12:00AM</td><td>2007-07-01T00:00:00</td></tr>",
                            "<tr><td>2007-07-01 00:00:00.000</td><td>Jul  1 2007 12:00AM</td><td>2007-07-01T00:00:00</td></tr>",
                            "<tr><td>2007-07-01 00:00:00.000</td><td>Jul  1 2007 12:00AM</td><td>2007-07-01T00:00:00</td></tr>",
                            "<tr><td>2007-07-01 00:00:00.000</td><td>Jul  1 2007 12:00AM</td><td>2007-07-01T00:00:00</td></tr>",
                            "<tr><td>2007-07-01 00:00:00.000</td><td>Jul  1 2007 12:00AM</td><td>2007-07-01T00:00:00</td></tr>",
                            "<tr><td>2007-07-01 00:00:00.000</td><td>Jul  1 2007 12:00AM</td><td>2007-07-01T00:00:00</td></tr>",
                            "<tr><td>2007-07-01 00:00:00.000</td><td>Jul  1 2007 12:00AM</td><td>2007-07-01T00:00:00</td></tr>",
                            "<tr><td>2007-07-01 00:00:00.000</td><td>Jul  1 2007 12:00AM</td><td>2007-07-01T00:00:00</td></tr>",
                            "<tr><td>2007-07-01 00:00:00.000</td><td>Jul  1 2007 12:00AM</td><td>2007-07-01T00:00:00</td></tr>",
                            "<tr><td>2007-07-01 00:00:00.000</td><td>Jul  1 2007 12:00AM</td><td>2007-07-01T00:00:00</td></tr>",
                            "<tr><td>2007-07-01 00:00:00.000</td><td>Jul  1 2007 12:00AM</td><td>2007-07-01T00:00:00</td></tr>",
                            "<tr><td>2007-07-01 00:00:00.000</td><td>Jul  1 2007 12:00AM</td><td>2007-07-01T00:00:00</td></tr>",
                            "<tr><td>2007-07-01 00:00:00.000</td><td>Jul  1 2007 12:00AM</td><td>2007-07-01T00:00:00</td></tr>",
                            "<tr><td>2007-07-01 00:00:00.000</td><td>Jul  1 2007 12:00AM</td><td>2007-07-01T00:00:00</td></tr>",
                            "<tr><td>2007-07-01 00:00:00.000</td><td>Jul  1 2007 12:00AM</td><td>2007-07-01T00:00:00</td></tr>",
                            "<tr><td>2007-07-01 00:00:00.000</td><td>Jul  1 2007 12:00AM</td><td>2007-07-01T00:00:00</td></tr>",
                            "<tr><td>2007-07-01 00:00:00.000</td><td>Jul  1 2007 12:00AM</td><td>2007-07-01T00:00:00</td></tr>",
                            "<tr><td>2007-07-01 00:00:00.000</td><td>Jul  1 2007 12:00AM</td><td>2007-07-01T00:00:00</td></tr>",
                            "<tr><td>2007-07-01 00:00:00.000</td><td>Jul  1 2007 12:00AM</td><td>2007-07-01T00:00:00</td></tr>",
                            "<tr><td>2007-07-01 00:00:00.000</td><td>Jul  1 2007 12:00AM</td><td>2007-07-01T00:00:00</td></tr>",
                            "<tr><td>2007-07-01 00:00:00.000</td><td>Jul  1 2007 12:00AM</td><td>2007-07-01T00:00:00</td></tr>",
                            "<tr><td>2007-07-01 00:00:00.000</td><td>Jul  1 2007 12:00AM</td><td>2007-07-01T00:00:00</td></tr>",
                            "<tr><td>2007-07-01 00:00:00.000</td><td>Jul  1 2007 12:00AM</td><td>2007-07-01T00:00:00</td></tr>",
                            "<tr><td>2007-07-01 00:00:00.000</td><td>Jul  1 2007 12:00AM</td><td>2007-07-01T00:00:00</td></tr>",
                            "</table>"
                        ]
                    }
                }
            ],
            "execution_count": 3
        }
    ]
}