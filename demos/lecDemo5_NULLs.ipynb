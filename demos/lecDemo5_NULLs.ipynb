{
    "metadata": {
        "kernelspec": {
            "name": "SQL",
            "display_name": "SQL",
            "language": "sql"
        },
        "language_info": {
            "name": "sql",
            "version": ""
        }
    },
    "nbformat_minor": 2,
    "nbformat": 4,
    "cells": [
        {
            "cell_type": "markdown",
            "source": [
                ""
            ],
            "metadata": {
                "azdata_cell_guid": "a08f947a-8ade-4699-8300-602c31d96ef8"
            }
        },
        {
            "cell_type": "code",
            "source": [
                "SELECT Name, ISNULL(TRY_CAST (Size AS Integer),0) AS NumericSize\r\n",
                "FROM SalesLT.Product;"
            ],
            "metadata": {
                "azdata_cell_guid": "fee34566-c52b-4c8c-a2b7-1d2c6498bee9"
            },
            "outputs": [
                {
                    "output_type": "display_data",
                    "data": {
                        "text/html": "(295 rows affected)"
                    },
                    "metadata": {}
                },
                {
                    "output_type": "display_data",
                    "data": {
                        "text/html": "Total execution time: 00:00:00.014"
                    },
                    "metadata": {}
                },
                {
                    "output_type": "execute_result",
                    "execution_count": 1,
                    "data": {
                        "application/vnd.dataresource+json": {
                            "schema": {
                                "fields": [
                                    {
                                        "name": "Name"
                                    },
                                    {
                                        "name": "NumericSize"
                                    }
                                ]
                            },
                            "data": [
                                {
                                    "0": "HL Road Frame - Black, 58",
                                    "1": "58"
                                },
                                {
                                    "0": "HL Road Frame - Red, 58",
                                    "1": "58"
                                },
                                {
                                    "0": "Sport-100 Helmet, Red",
                                    "1": "0"
                                },
                                {
                                    "0": "Sport-100 Helmet, Black",
                                    "1": "0"
                                },
                                {
                                    "0": "Mountain Bike Socks, M",
                                    "1": "0"
                                },
                                {
                                    "0": "Mountain Bike Socks, L",
                                    "1": "0"
                                },
                                {
                                    "0": "Sport-100 Helmet, Blue",
                                    "1": "0"
                                },
                                {
                                    "0": "AWC Logo Cap",
                                    "1": "0"
                                },
                                {
                                    "0": "Long-Sleeve Logo Jersey, S",
                                    "1": "0"
                                },
                                {
                                    "0": "Long-Sleeve Logo Jersey, M",
                                    "1": "0"
                                },
                                {
                                    "0": "Long-Sleeve Logo Jersey, L",
                                    "1": "0"
                                },
                                {
                                    "0": "Long-Sleeve Logo Jersey, XL",
                                    "1": "0"
                                },
                                {
                                    "0": "HL Road Frame - Red, 62",
                                    "1": "62"
                                },
                                {
                                    "0": "HL Road Frame - Red, 44",
                                    "1": "44"
                                },
                                {
                                    "0": "HL Road Frame - Red, 48",
                                    "1": "48"
                                },
                                {
                                    "0": "HL Road Frame - Red, 52",
                                    "1": "52"
                                },
                                {
                                    "0": "HL Road Frame - Red, 56",
                                    "1": "56"
                                },
                                {
                                    "0": "LL Road Frame - Black, 58",
                                    "1": "58"
                                },
                                {
                                    "0": "LL Road Frame - Black, 60",
                                    "1": "60"
                                },
                                {
                                    "0": "LL Road Frame - Black, 62",
                                    "1": "62"
                                },
                                {
                                    "0": "LL Road Frame - Red, 44",
                                    "1": "44"
                                },
                                {
                                    "0": "LL Road Frame - Red, 48",
                                    "1": "48"
                                },
                                {
                                    "0": "LL Road Frame - Red, 52",
                                    "1": "52"
                                },
                                {
                                    "0": "LL Road Frame - Red, 58",
                                    "1": "58"
                                },
                                {
                                    "0": "LL Road Frame - Red, 60",
                                    "1": "60"
                                },
                                {
                                    "0": "LL Road Frame - Red, 62",
                                    "1": "62"
                                },
                                {
                                    "0": "ML Road Frame - Red, 44",
                                    "1": "44"
                                },
                                {
                                    "0": "ML Road Frame - Red, 48",
                                    "1": "48"
                                },
                                {
                                    "0": "ML Road Frame - Red, 52",
                                    "1": "52"
                                },
                                {
                                    "0": "ML Road Frame - Red, 58",
                                    "1": "58"
                                },
                                {
                                    "0": "ML Road Frame - Red, 60",
                                    "1": "60"
                                },
                                {
                                    "0": "LL Road Frame - Black, 44",
                                    "1": "44"
                                },
                                {
                                    "0": "LL Road Frame - Black, 48",
                                    "1": "48"
                                },
                                {
                                    "0": "LL Road Frame - Black, 52",
                                    "1": "52"
                                },
                                {
                                    "0": "HL Mountain Frame - Silver, 42",
                                    "1": "42"
                                },
                                {
                                    "0": "HL Mountain Frame - Silver, 44",
                                    "1": "44"
                                },
                                {
                                    "0": "HL Mountain Frame - Silver, 48",
                                    "1": "48"
                                },
                                {
                                    "0": "HL Mountain Frame - Silver, 46",
                                    "1": "46"
                                },
                                {
                                    "0": "HL Mountain Frame - Black, 42",
                                    "1": "42"
                                },
                                {
                                    "0": "HL Mountain Frame - Black, 44",
                                    "1": "44"
                                },
                                {
                                    "0": "HL Mountain Frame - Black, 48",
                                    "1": "48"
                                },
                                {
                                    "0": "HL Mountain Frame - Black, 46",
                                    "1": "46"
                                },
                                {
                                    "0": "HL Mountain Frame - Black, 38",
                                    "1": "38"
                                },
                                {
                                    "0": "HL Mountain Frame - Silver, 38",
                                    "1": "38"
                                },
                                {
                                    "0": "Road-150 Red, 62",
                                    "1": "62"
                                },
                                {
                                    "0": "Road-150 Red, 44",
                                    "1": "44"
                                },
                                {
                                    "0": "Road-150 Red, 48",
                                    "1": "48"
                                },
                                {
                                    "0": "Road-150 Red, 52",
                                    "1": "52"
                                },
                                {
                                    "0": "Road-150 Red, 56",
                                    "1": "56"
                                },
                                {
                                    "0": "Road-450 Red, 58",
                                    "1": "58"
                                },
                                {
                                    "0": "Road-450 Red, 60",
                                    "1": "60"
                                },
                                {
                                    "0": "Road-450 Red, 44",
                                    "1": "44"
                                },
                                {
                                    "0": "Road-450 Red, 48",
                                    "1": "48"
                                },
                                {
                                    "0": "Road-450 Red, 52",
                                    "1": "52"
                                },
                                {
                                    "0": "Road-650 Red, 58",
                                    "1": "58"
                                },
                                {
                                    "0": "Road-650 Red, 60",
                                    "1": "60"
                                },
                                {
                                    "0": "Road-650 Red, 62",
                                    "1": "62"
                                },
                                {
                                    "0": "Road-650 Red, 44",
                                    "1": "44"
                                },
                                {
                                    "0": "Road-650 Red, 48",
                                    "1": "48"
                                },
                                {
                                    "0": "Road-650 Red, 52",
                                    "1": "52"
                                },
                                {
                                    "0": "Road-650 Black, 58",
                                    "1": "58"
                                },
                                {
                                    "0": "Road-650 Black, 60",
                                    "1": "60"
                                },
                                {
                                    "0": "Road-650 Black, 62",
                                    "1": "62"
                                },
                                {
                                    "0": "Road-650 Black, 44",
                                    "1": "44"
                                },
                                {
                                    "0": "Road-650 Black, 48",
                                    "1": "48"
                                },
                                {
                                    "0": "Road-650 Black, 52",
                                    "1": "52"
                                },
                                {
                                    "0": "Mountain-100 Silver, 38",
                                    "1": "38"
                                },
                                {
                                    "0": "Mountain-100 Silver, 42",
                                    "1": "42"
                                },
                                {
                                    "0": "Mountain-100 Silver, 44",
                                    "1": "44"
                                },
                                {
                                    "0": "Mountain-100 Silver, 48",
                                    "1": "48"
                                },
                                {
                                    "0": "Mountain-100 Black, 38",
                                    "1": "38"
                                },
                                {
                                    "0": "Mountain-100 Black, 42",
                                    "1": "42"
                                },
                                {
                                    "0": "Mountain-100 Black, 44",
                                    "1": "44"
                                },
                                {
                                    "0": "Mountain-100 Black, 48",
                                    "1": "48"
                                },
                                {
                                    "0": "Mountain-200 Silver, 38",
                                    "1": "38"
                                },
                                {
                                    "0": "Mountain-200 Silver, 42",
                                    "1": "42"
                                },
                                {
                                    "0": "Mountain-200 Silver, 46",
                                    "1": "46"
                                },
                                {
                                    "0": "Mountain-200 Black, 38",
                                    "1": "38"
                                },
                                {
                                    "0": "Mountain-200 Black, 42",
                                    "1": "42"
                                },
                                {
                                    "0": "Mountain-200 Black, 46",
                                    "1": "46"
                                },
                                {
                                    "0": "Mountain-300 Black, 38",
                                    "1": "38"
                                },
                                {
                                    "0": "Mountain-300 Black, 40",
                                    "1": "40"
                                },
                                {
                                    "0": "Mountain-300 Black, 44",
                                    "1": "44"
                                },
                                {
                                    "0": "Mountain-300 Black, 48",
                                    "1": "48"
                                },
                                {
                                    "0": "Road-250 Red, 44",
                                    "1": "44"
                                },
                                {
                                    "0": "Road-250 Red, 48",
                                    "1": "48"
                                },
                                {
                                    "0": "Road-250 Red, 52",
                                    "1": "52"
                                },
                                {
                                    "0": "Road-250 Red, 58",
                                    "1": "58"
                                },
                                {
                                    "0": "Road-250 Black, 44",
                                    "1": "44"
                                },
                                {
                                    "0": "Road-250 Black, 48",
                                    "1": "48"
                                },
                                {
                                    "0": "Road-250 Black, 52",
                                    "1": "52"
                                },
                                {
                                    "0": "Road-250 Black, 58",
                                    "1": "58"
                                },
                                {
                                    "0": "Road-550-W Yellow, 38",
                                    "1": "38"
                                },
                                {
                                    "0": "Road-550-W Yellow, 40",
                                    "1": "40"
                                },
                                {
                                    "0": "Road-550-W Yellow, 42",
                                    "1": "42"
                                },
                                {
                                    "0": "Road-550-W Yellow, 44",
                                    "1": "44"
                                },
                                {
                                    "0": "Road-550-W Yellow, 48",
                                    "1": "48"
                                },
                                {
                                    "0": "LL Fork",
                                    "1": "0"
                                },
                                {
                                    "0": "ML Fork",
                                    "1": "0"
                                },
                                {
                                    "0": "HL Fork",
                                    "1": "0"
                                },
                                {
                                    "0": "LL Headset",
                                    "1": "0"
                                },
                                {
                                    "0": "ML Headset",
                                    "1": "0"
                                },
                                {
                                    "0": "HL Headset",
                                    "1": "0"
                                },
                                {
                                    "0": "LL Mountain Handlebars",
                                    "1": "0"
                                },
                                {
                                    "0": "ML Mountain Handlebars",
                                    "1": "0"
                                },
                                {
                                    "0": "HL Mountain Handlebars",
                                    "1": "0"
                                },
                                {
                                    "0": "LL Road Handlebars",
                                    "1": "0"
                                },
                                {
                                    "0": "ML Road Handlebars",
                                    "1": "0"
                                },
                                {
                                    "0": "HL Road Handlebars",
                                    "1": "0"
                                },
                                {
                                    "0": "ML Mountain Frame - Black, 38",
                                    "1": "38"
                                },
                                {
                                    "0": "LL Mountain Front Wheel",
                                    "1": "0"
                                },
                                {
                                    "0": "ML Mountain Front Wheel",
                                    "1": "0"
                                },
                                {
                                    "0": "HL Mountain Front Wheel",
                                    "1": "0"
                                },
                                {
                                    "0": "LL Road Front Wheel",
                                    "1": "0"
                                },
                                {
                                    "0": "ML Road Front Wheel",
                                    "1": "0"
                                },
                                {
                                    "0": "HL Road Front Wheel",
                                    "1": "0"
                                },
                                {
                                    "0": "Touring Front Wheel",
                                    "1": "0"
                                },
                                {
                                    "0": "ML Road Frame-W - Yellow, 38",
                                    "1": "38"
                                },
                                {
                                    "0": "LL Mountain Rear Wheel",
                                    "1": "0"
                                },
                                {
                                    "0": "ML Mountain Rear Wheel",
                                    "1": "0"
                                },
                                {
                                    "0": "HL Mountain Rear Wheel",
                                    "1": "0"
                                },
                                {
                                    "0": "LL Road Rear Wheel",
                                    "1": "0"
                                },
                                {
                                    "0": "ML Road Rear Wheel",
                                    "1": "0"
                                },
                                {
                                    "0": "HL Road Rear Wheel",
                                    "1": "0"
                                },
                                {
                                    "0": "Touring Rear Wheel",
                                    "1": "0"
                                },
                                {
                                    "0": "ML Mountain Frame - Black, 40",
                                    "1": "40"
                                },
                                {
                                    "0": "ML Mountain Frame - Black, 44",
                                    "1": "44"
                                },
                                {
                                    "0": "ML Mountain Frame - Black, 48",
                                    "1": "48"
                                },
                                {
                                    "0": "ML Road Frame-W - Yellow, 40",
                                    "1": "40"
                                },
                                {
                                    "0": "ML Road Frame-W - Yellow, 42",
                                    "1": "42"
                                },
                                {
                                    "0": "ML Road Frame-W - Yellow, 44",
                                    "1": "44"
                                },
                                {
                                    "0": "ML Road Frame-W - Yellow, 48",
                                    "1": "48"
                                },
                                {
                                    "0": "HL Road Frame - Black, 62",
                                    "1": "62"
                                },
                                {
                                    "0": "HL Road Frame - Black, 44",
                                    "1": "44"
                                },
                                {
                                    "0": "HL Road Frame - Black, 48",
                                    "1": "48"
                                },
                                {
                                    "0": "HL Road Frame - Black, 52",
                                    "1": "52"
                                },
                                {
                                    "0": "Men's Sports Shorts, S",
                                    "1": "0"
                                },
                                {
                                    "0": "Touring-Panniers, Large",
                                    "1": "0"
                                },
                                {
                                    "0": "Cable Lock",
                                    "1": "0"
                                },
                                {
                                    "0": "Minipump",
                                    "1": "0"
                                },
                                {
                                    "0": "Mountain Pump",
                                    "1": "0"
                                },
                                {
                                    "0": "Taillights - Battery-Powered",
                                    "1": "0"
                                },
                                {
                                    "0": "Headlights - Dual-Beam",
                                    "1": "0"
                                },
                                {
                                    "0": "Headlights - Weatherproof",
                                    "1": "0"
                                },
                                {
                                    "0": "Men's Sports Shorts, M",
                                    "1": "0"
                                },
                                {
                                    "0": "Men's Sports Shorts, L",
                                    "1": "0"
                                },
                                {
                                    "0": "Men's Sports Shorts, XL",
                                    "1": "0"
                                },
                                {
                                    "0": "Women's Tights, S",
                                    "1": "0"
                                },
                                {
                                    "0": "Women's Tights, M",
                                    "1": "0"
                                },
                                {
                                    "0": "Women's Tights, L",
                                    "1": "0"
                                },
                                {
                                    "0": "Men's Bib-Shorts, S",
                                    "1": "0"
                                },
                                {
                                    "0": "Men's Bib-Shorts, M",
                                    "1": "0"
                                },
                                {
                                    "0": "Men's Bib-Shorts, L",
                                    "1": "0"
                                },
                                {
                                    "0": "Half-Finger Gloves, S",
                                    "1": "0"
                                },
                                {
                                    "0": "Half-Finger Gloves, M",
                                    "1": "0"
                                },
                                {
                                    "0": "Half-Finger Gloves, L",
                                    "1": "0"
                                },
                                {
                                    "0": "Full-Finger Gloves, S",
                                    "1": "0"
                                },
                                {
                                    "0": "Full-Finger Gloves, M",
                                    "1": "0"
                                },
                                {
                                    "0": "Full-Finger Gloves, L",
                                    "1": "0"
                                },
                                {
                                    "0": "Classic Vest, S",
                                    "1": "0"
                                },
                                {
                                    "0": "Classic Vest, M",
                                    "1": "0"
                                },
                                {
                                    "0": "Classic Vest, L",
                                    "1": "0"
                                },
                                {
                                    "0": "Women's Mountain Shorts, S",
                                    "1": "0"
                                },
                                {
                                    "0": "Women's Mountain Shorts, M",
                                    "1": "0"
                                },
                                {
                                    "0": "Women's Mountain Shorts, L",
                                    "1": "0"
                                },
                                {
                                    "0": "Water Bottle - 30 oz.",
                                    "1": "0"
                                },
                                {
                                    "0": "Mountain Bottle Cage",
                                    "1": "0"
                                },
                                {
                                    "0": "Road Bottle Cage",
                                    "1": "0"
                                },
                                {
                                    "0": "Patch Kit/8 Patches",
                                    "1": "0"
                                },
                                {
                                    "0": "Racing Socks, M",
                                    "1": "0"
                                },
                                {
                                    "0": "Racing Socks, L",
                                    "1": "0"
                                },
                                {
                                    "0": "Hitch Rack - 4-Bike",
                                    "1": "0"
                                },
                                {
                                    "0": "Bike Wash - Dissolver",
                                    "1": "0"
                                },
                                {
                                    "0": "Fender Set - Mountain",
                                    "1": "0"
                                },
                                {
                                    "0": "All-Purpose Bike Stand",
                                    "1": "0"
                                },
                                {
                                    "0": "Hydration Pack - 70 oz.",
                                    "1": "70"
                                },
                                {
                                    "0": "Short-Sleeve Classic Jersey, S",
                                    "1": "0"
                                },
                                {
                                    "0": "Short-Sleeve Classic Jersey, M",
                                    "1": "0"
                                },
                                {
                                    "0": "Short-Sleeve Classic Jersey, L",
                                    "1": "0"
                                },
                                {
                                    "0": "Short-Sleeve Classic Jersey, XL",
                                    "1": "0"
                                },
                                {
                                    "0": "HL Touring Frame - Yellow, 60",
                                    "1": "60"
                                },
                                {
                                    "0": "LL Touring Frame - Yellow, 62",
                                    "1": "62"
                                },
                                {
                                    "0": "HL Touring Frame - Yellow, 46",
                                    "1": "46"
                                },
                                {
                                    "0": "HL Touring Frame - Yellow, 50",
                                    "1": "50"
                                },
                                {
                                    "0": "HL Touring Frame - Yellow, 54",
                                    "1": "54"
                                },
                                {
                                    "0": "HL Touring Frame - Blue, 46",
                                    "1": "46"
                                },
                                {
                                    "0": "HL Touring Frame - Blue, 50",
                                    "1": "50"
                                },
                                {
                                    "0": "HL Touring Frame - Blue, 54",
                                    "1": "54"
                                },
                                {
                                    "0": "HL Touring Frame - Blue, 60",
                                    "1": "60"
                                },
                                {
                                    "0": "Rear Derailleur",
                                    "1": "0"
                                },
                                {
                                    "0": "LL Touring Frame - Blue, 50",
                                    "1": "50"
                                },
                                {
                                    "0": "LL Touring Frame - Blue, 54",
                                    "1": "54"
                                },
                                {
                                    "0": "LL Touring Frame - Blue, 58",
                                    "1": "58"
                                },
                                {
                                    "0": "LL Touring Frame - Blue, 62",
                                    "1": "62"
                                },
                                {
                                    "0": "LL Touring Frame - Yellow, 44",
                                    "1": "44"
                                },
                                {
                                    "0": "LL Touring Frame - Yellow, 50",
                                    "1": "50"
                                },
                                {
                                    "0": "LL Touring Frame - Yellow, 54",
                                    "1": "54"
                                },
                                {
                                    "0": "LL Touring Frame - Yellow, 58",
                                    "1": "58"
                                },
                                {
                                    "0": "LL Touring Frame - Blue, 44",
                                    "1": "44"
                                },
                                {
                                    "0": "ML Mountain Frame-W - Silver, 40",
                                    "1": "40"
                                },
                                {
                                    "0": "ML Mountain Frame-W - Silver, 42",
                                    "1": "42"
                                },
                                {
                                    "0": "ML Mountain Frame-W - Silver, 46",
                                    "1": "46"
                                },
                                {
                                    "0": "Rear Brakes",
                                    "1": "0"
                                },
                                {
                                    "0": "LL Mountain Seat/Saddle",
                                    "1": "0"
                                },
                                {
                                    "0": "ML Mountain Seat/Saddle",
                                    "1": "0"
                                },
                                {
                                    "0": "HL Mountain Seat/Saddle",
                                    "1": "0"
                                },
                                {
                                    "0": "LL Road Seat/Saddle",
                                    "1": "0"
                                },
                                {
                                    "0": "ML Road Seat/Saddle",
                                    "1": "0"
                                },
                                {
                                    "0": "HL Road Seat/Saddle",
                                    "1": "0"
                                },
                                {
                                    "0": "LL Touring Seat/Saddle",
                                    "1": "0"
                                },
                                {
                                    "0": "ML Touring Seat/Saddle",
                                    "1": "0"
                                },
                                {
                                    "0": "HL Touring Seat/Saddle",
                                    "1": "0"
                                },
                                {
                                    "0": "LL Mountain Frame - Silver, 42",
                                    "1": "42"
                                },
                                {
                                    "0": "LL Mountain Frame - Silver, 44",
                                    "1": "44"
                                },
                                {
                                    "0": "LL Mountain Frame - Silver, 48",
                                    "1": "48"
                                },
                                {
                                    "0": "LL Mountain Frame - Silver, 52",
                                    "1": "52"
                                },
                                {
                                    "0": "Mountain Tire Tube",
                                    "1": "0"
                                },
                                {
                                    "0": "Road Tire Tube",
                                    "1": "0"
                                },
                                {
                                    "0": "Touring Tire Tube",
                                    "1": "0"
                                },
                                {
                                    "0": "LL Mountain Frame - Black, 42",
                                    "1": "42"
                                },
                                {
                                    "0": "LL Mountain Frame - Black, 44",
                                    "1": "44"
                                },
                                {
                                    "0": "LL Mountain Frame - Black, 48",
                                    "1": "48"
                                },
                                {
                                    "0": "LL Mountain Frame - Black, 52",
                                    "1": "52"
                                },
                                {
                                    "0": "LL Mountain Tire",
                                    "1": "0"
                                },
                                {
                                    "0": "ML Mountain Tire",
                                    "1": "0"
                                },
                                {
                                    "0": "HL Mountain Tire",
                                    "1": "0"
                                },
                                {
                                    "0": "LL Road Tire",
                                    "1": "0"
                                },
                                {
                                    "0": "ML Road Tire",
                                    "1": "0"
                                },
                                {
                                    "0": "HL Road Tire",
                                    "1": "0"
                                },
                                {
                                    "0": "Touring Tire",
                                    "1": "0"
                                },
                                {
                                    "0": "LL Mountain Pedal",
                                    "1": "0"
                                },
                                {
                                    "0": "ML Mountain Pedal",
                                    "1": "0"
                                },
                                {
                                    "0": "HL Mountain Pedal",
                                    "1": "0"
                                },
                                {
                                    "0": "LL Road Pedal",
                                    "1": "0"
                                },
                                {
                                    "0": "ML Road Pedal",
                                    "1": "0"
                                },
                                {
                                    "0": "HL Road Pedal",
                                    "1": "0"
                                },
                                {
                                    "0": "Touring Pedal",
                                    "1": "0"
                                },
                                {
                                    "0": "ML Mountain Frame-W - Silver, 38",
                                    "1": "38"
                                },
                                {
                                    "0": "LL Mountain Frame - Black, 40",
                                    "1": "40"
                                },
                                {
                                    "0": "LL Mountain Frame - Silver, 40",
                                    "1": "40"
                                },
                                {
                                    "0": "Front Derailleur",
                                    "1": "0"
                                },
                                {
                                    "0": "LL Touring Handlebars",
                                    "1": "0"
                                },
                                {
                                    "0": "HL Touring Handlebars",
                                    "1": "0"
                                },
                                {
                                    "0": "Front Brakes",
                                    "1": "0"
                                },
                                {
                                    "0": "LL Crankset",
                                    "1": "0"
                                },
                                {
                                    "0": "ML Crankset",
                                    "1": "0"
                                },
                                {
                                    "0": "HL Crankset",
                                    "1": "0"
                                },
                                {
                                    "0": "Chain",
                                    "1": "0"
                                },
                                {
                                    "0": "Touring-2000 Blue, 60",
                                    "1": "60"
                                },
                                {
                                    "0": "Touring-1000 Yellow, 46",
                                    "1": "46"
                                },
                                {
                                    "0": "Touring-1000 Yellow, 50",
                                    "1": "50"
                                },
                                {
                                    "0": "Touring-1000 Yellow, 54",
                                    "1": "54"
                                },
                                {
                                    "0": "Touring-1000 Yellow, 60",
                                    "1": "60"
                                },
                                {
                                    "0": "Touring-3000 Blue, 54",
                                    "1": "54"
                                },
                                {
                                    "0": "Touring-3000 Blue, 58",
                                    "1": "58"
                                },
                                {
                                    "0": "Touring-3000 Blue, 62",
                                    "1": "62"
                                },
                                {
                                    "0": "Touring-3000 Yellow, 44",
                                    "1": "44"
                                },
                                {
                                    "0": "Touring-3000 Yellow, 50",
                                    "1": "50"
                                },
                                {
                                    "0": "Touring-3000 Yellow, 54",
                                    "1": "54"
                                },
                                {
                                    "0": "Touring-3000 Yellow, 58",
                                    "1": "58"
                                },
                                {
                                    "0": "Touring-3000 Yellow, 62",
                                    "1": "62"
                                },
                                {
                                    "0": "Touring-1000 Blue, 46",
                                    "1": "46"
                                },
                                {
                                    "0": "Touring-1000 Blue, 50",
                                    "1": "50"
                                },
                                {
                                    "0": "Touring-1000 Blue, 54",
                                    "1": "54"
                                },
                                {
                                    "0": "Touring-1000 Blue, 60",
                                    "1": "60"
                                },
                                {
                                    "0": "Touring-2000 Blue, 46",
                                    "1": "46"
                                },
                                {
                                    "0": "Touring-2000 Blue, 50",
                                    "1": "50"
                                },
                                {
                                    "0": "Touring-2000 Blue, 54",
                                    "1": "54"
                                },
                                {
                                    "0": "Road-350-W Yellow, 40",
                                    "1": "40"
                                },
                                {
                                    "0": "Road-350-W Yellow, 42",
                                    "1": "42"
                                },
                                {
                                    "0": "Road-350-W Yellow, 44",
                                    "1": "44"
                                },
                                {
                                    "0": "Road-350-W Yellow, 48",
                                    "1": "48"
                                },
                                {
                                    "0": "Road-750 Black, 58",
                                    "1": "58"
                                },
                                {
                                    "0": "Touring-3000 Blue, 44",
                                    "1": "44"
                                },
                                {
                                    "0": "Touring-3000 Blue, 50",
                                    "1": "50"
                                },
                                {
                                    "0": "Mountain-400-W Silver, 38",
                                    "1": "38"
                                },
                                {
                                    "0": "Mountain-400-W Silver, 40",
                                    "1": "40"
                                },
                                {
                                    "0": "Mountain-400-W Silver, 42",
                                    "1": "42"
                                },
                                {
                                    "0": "Mountain-400-W Silver, 46",
                                    "1": "46"
                                },
                                {
                                    "0": "Mountain-500 Silver, 40",
                                    "1": "40"
                                },
                                {
                                    "0": "Mountain-500 Silver, 42",
                                    "1": "42"
                                },
                                {
                                    "0": "Mountain-500 Silver, 44",
                                    "1": "44"
                                },
                                {
                                    "0": "Mountain-500 Silver, 48",
                                    "1": "48"
                                },
                                {
                                    "0": "Mountain-500 Silver, 52",
                                    "1": "52"
                                },
                                {
                                    "0": "Mountain-500 Black, 40",
                                    "1": "40"
                                },
                                {
                                    "0": "Mountain-500 Black, 42",
                                    "1": "42"
                                },
                                {
                                    "0": "Mountain-500 Black, 44",
                                    "1": "44"
                                },
                                {
                                    "0": "Mountain-500 Black, 48",
                                    "1": "48"
                                },
                                {
                                    "0": "Mountain-500 Black, 52",
                                    "1": "52"
                                },
                                {
                                    "0": "LL Bottom Bracket",
                                    "1": "0"
                                },
                                {
                                    "0": "ML Bottom Bracket",
                                    "1": "0"
                                },
                                {
                                    "0": "HL Bottom Bracket",
                                    "1": "0"
                                },
                                {
                                    "0": "Road-750 Black, 44",
                                    "1": "44"
                                },
                                {
                                    "0": "Road-750 Black, 48",
                                    "1": "48"
                                },
                                {
                                    "0": "Road-750 Black, 52",
                                    "1": "52"
                                }
                            ]
                        },
                        "text/html": "<table><tr><th>Name</th><th>NumericSize</th></tr><tr><td>HL Road Frame - Black, 58</td><td>58</td></tr><tr><td>HL Road Frame - Red, 58</td><td>58</td></tr><tr><td>Sport-100 Helmet, Red</td><td>0</td></tr><tr><td>Sport-100 Helmet, Black</td><td>0</td></tr><tr><td>Mountain Bike Socks, M</td><td>0</td></tr><tr><td>Mountain Bike Socks, L</td><td>0</td></tr><tr><td>Sport-100 Helmet, Blue</td><td>0</td></tr><tr><td>AWC Logo Cap</td><td>0</td></tr><tr><td>Long-Sleeve Logo Jersey, S</td><td>0</td></tr><tr><td>Long-Sleeve Logo Jersey, M</td><td>0</td></tr><tr><td>Long-Sleeve Logo Jersey, L</td><td>0</td></tr><tr><td>Long-Sleeve Logo Jersey, XL</td><td>0</td></tr><tr><td>HL Road Frame - Red, 62</td><td>62</td></tr><tr><td>HL Road Frame - Red, 44</td><td>44</td></tr><tr><td>HL Road Frame - Red, 48</td><td>48</td></tr><tr><td>HL Road Frame - Red, 52</td><td>52</td></tr><tr><td>HL Road Frame - Red, 56</td><td>56</td></tr><tr><td>LL Road Frame - Black, 58</td><td>58</td></tr><tr><td>LL Road Frame - Black, 60</td><td>60</td></tr><tr><td>LL Road Frame - Black, 62</td><td>62</td></tr><tr><td>LL Road Frame - Red, 44</td><td>44</td></tr><tr><td>LL Road Frame - Red, 48</td><td>48</td></tr><tr><td>LL Road Frame - Red, 52</td><td>52</td></tr><tr><td>LL Road Frame - Red, 58</td><td>58</td></tr><tr><td>LL Road Frame - Red, 60</td><td>60</td></tr><tr><td>LL Road Frame - Red, 62</td><td>62</td></tr><tr><td>ML Road Frame - Red, 44</td><td>44</td></tr><tr><td>ML Road Frame - Red, 48</td><td>48</td></tr><tr><td>ML Road Frame - Red, 52</td><td>52</td></tr><tr><td>ML Road Frame - Red, 58</td><td>58</td></tr><tr><td>ML Road Frame - Red, 60</td><td>60</td></tr><tr><td>LL Road Frame - Black, 44</td><td>44</td></tr><tr><td>LL Road Frame - Black, 48</td><td>48</td></tr><tr><td>LL Road Frame - Black, 52</td><td>52</td></tr><tr><td>HL Mountain Frame - Silver, 42</td><td>42</td></tr><tr><td>HL Mountain Frame - Silver, 44</td><td>44</td></tr><tr><td>HL Mountain Frame - Silver, 48</td><td>48</td></tr><tr><td>HL Mountain Frame - Silver, 46</td><td>46</td></tr><tr><td>HL Mountain Frame - Black, 42</td><td>42</td></tr><tr><td>HL Mountain Frame - Black, 44</td><td>44</td></tr><tr><td>HL Mountain Frame - Black, 48</td><td>48</td></tr><tr><td>HL Mountain Frame - Black, 46</td><td>46</td></tr><tr><td>HL Mountain Frame - Black, 38</td><td>38</td></tr><tr><td>HL Mountain Frame - Silver, 38</td><td>38</td></tr><tr><td>Road-150 Red, 62</td><td>62</td></tr><tr><td>Road-150 Red, 44</td><td>44</td></tr><tr><td>Road-150 Red, 48</td><td>48</td></tr><tr><td>Road-150 Red, 52</td><td>52</td></tr><tr><td>Road-150 Red, 56</td><td>56</td></tr><tr><td>Road-450 Red, 58</td><td>58</td></tr><tr><td>Road-450 Red, 60</td><td>60</td></tr><tr><td>Road-450 Red, 44</td><td>44</td></tr><tr><td>Road-450 Red, 48</td><td>48</td></tr><tr><td>Road-450 Red, 52</td><td>52</td></tr><tr><td>Road-650 Red, 58</td><td>58</td></tr><tr><td>Road-650 Red, 60</td><td>60</td></tr><tr><td>Road-650 Red, 62</td><td>62</td></tr><tr><td>Road-650 Red, 44</td><td>44</td></tr><tr><td>Road-650 Red, 48</td><td>48</td></tr><tr><td>Road-650 Red, 52</td><td>52</td></tr><tr><td>Road-650 Black, 58</td><td>58</td></tr><tr><td>Road-650 Black, 60</td><td>60</td></tr><tr><td>Road-650 Black, 62</td><td>62</td></tr><tr><td>Road-650 Black, 44</td><td>44</td></tr><tr><td>Road-650 Black, 48</td><td>48</td></tr><tr><td>Road-650 Black, 52</td><td>52</td></tr><tr><td>Mountain-100 Silver, 38</td><td>38</td></tr><tr><td>Mountain-100 Silver, 42</td><td>42</td></tr><tr><td>Mountain-100 Silver, 44</td><td>44</td></tr><tr><td>Mountain-100 Silver, 48</td><td>48</td></tr><tr><td>Mountain-100 Black, 38</td><td>38</td></tr><tr><td>Mountain-100 Black, 42</td><td>42</td></tr><tr><td>Mountain-100 Black, 44</td><td>44</td></tr><tr><td>Mountain-100 Black, 48</td><td>48</td></tr><tr><td>Mountain-200 Silver, 38</td><td>38</td></tr><tr><td>Mountain-200 Silver, 42</td><td>42</td></tr><tr><td>Mountain-200 Silver, 46</td><td>46</td></tr><tr><td>Mountain-200 Black, 38</td><td>38</td></tr><tr><td>Mountain-200 Black, 42</td><td>42</td></tr><tr><td>Mountain-200 Black, 46</td><td>46</td></tr><tr><td>Mountain-300 Black, 38</td><td>38</td></tr><tr><td>Mountain-300 Black, 40</td><td>40</td></tr><tr><td>Mountain-300 Black, 44</td><td>44</td></tr><tr><td>Mountain-300 Black, 48</td><td>48</td></tr><tr><td>Road-250 Red, 44</td><td>44</td></tr><tr><td>Road-250 Red, 48</td><td>48</td></tr><tr><td>Road-250 Red, 52</td><td>52</td></tr><tr><td>Road-250 Red, 58</td><td>58</td></tr><tr><td>Road-250 Black, 44</td><td>44</td></tr><tr><td>Road-250 Black, 48</td><td>48</td></tr><tr><td>Road-250 Black, 52</td><td>52</td></tr><tr><td>Road-250 Black, 58</td><td>58</td></tr><tr><td>Road-550-W Yellow, 38</td><td>38</td></tr><tr><td>Road-550-W Yellow, 40</td><td>40</td></tr><tr><td>Road-550-W Yellow, 42</td><td>42</td></tr><tr><td>Road-550-W Yellow, 44</td><td>44</td></tr><tr><td>Road-550-W Yellow, 48</td><td>48</td></tr><tr><td>LL Fork</td><td>0</td></tr><tr><td>ML Fork</td><td>0</td></tr><tr><td>HL Fork</td><td>0</td></tr><tr><td>LL Headset</td><td>0</td></tr><tr><td>ML Headset</td><td>0</td></tr><tr><td>HL Headset</td><td>0</td></tr><tr><td>LL Mountain Handlebars</td><td>0</td></tr><tr><td>ML Mountain Handlebars</td><td>0</td></tr><tr><td>HL Mountain Handlebars</td><td>0</td></tr><tr><td>LL Road Handlebars</td><td>0</td></tr><tr><td>ML Road Handlebars</td><td>0</td></tr><tr><td>HL Road Handlebars</td><td>0</td></tr><tr><td>ML Mountain Frame - Black, 38</td><td>38</td></tr><tr><td>LL Mountain Front Wheel</td><td>0</td></tr><tr><td>ML Mountain Front Wheel</td><td>0</td></tr><tr><td>HL Mountain Front Wheel</td><td>0</td></tr><tr><td>LL Road Front Wheel</td><td>0</td></tr><tr><td>ML Road Front Wheel</td><td>0</td></tr><tr><td>HL Road Front Wheel</td><td>0</td></tr><tr><td>Touring Front Wheel</td><td>0</td></tr><tr><td>ML Road Frame-W - Yellow, 38</td><td>38</td></tr><tr><td>LL Mountain Rear Wheel</td><td>0</td></tr><tr><td>ML Mountain Rear Wheel</td><td>0</td></tr><tr><td>HL Mountain Rear Wheel</td><td>0</td></tr><tr><td>LL Road Rear Wheel</td><td>0</td></tr><tr><td>ML Road Rear Wheel</td><td>0</td></tr><tr><td>HL Road Rear Wheel</td><td>0</td></tr><tr><td>Touring Rear Wheel</td><td>0</td></tr><tr><td>ML Mountain Frame - Black, 40</td><td>40</td></tr><tr><td>ML Mountain Frame - Black, 44</td><td>44</td></tr><tr><td>ML Mountain Frame - Black, 48</td><td>48</td></tr><tr><td>ML Road Frame-W - Yellow, 40</td><td>40</td></tr><tr><td>ML Road Frame-W - Yellow, 42</td><td>42</td></tr><tr><td>ML Road Frame-W - Yellow, 44</td><td>44</td></tr><tr><td>ML Road Frame-W - Yellow, 48</td><td>48</td></tr><tr><td>HL Road Frame - Black, 62</td><td>62</td></tr><tr><td>HL Road Frame - Black, 44</td><td>44</td></tr><tr><td>HL Road Frame - Black, 48</td><td>48</td></tr><tr><td>HL Road Frame - Black, 52</td><td>52</td></tr><tr><td>Men's Sports Shorts, S</td><td>0</td></tr><tr><td>Touring-Panniers, Large</td><td>0</td></tr><tr><td>Cable Lock</td><td>0</td></tr><tr><td>Minipump</td><td>0</td></tr><tr><td>Mountain Pump</td><td>0</td></tr><tr><td>Taillights - Battery-Powered</td><td>0</td></tr><tr><td>Headlights - Dual-Beam</td><td>0</td></tr><tr><td>Headlights - Weatherproof</td><td>0</td></tr><tr><td>Men's Sports Shorts, M</td><td>0</td></tr><tr><td>Men's Sports Shorts, L</td><td>0</td></tr><tr><td>Men's Sports Shorts, XL</td><td>0</td></tr><tr><td>Women's Tights, S</td><td>0</td></tr><tr><td>Women's Tights, M</td><td>0</td></tr><tr><td>Women's Tights, L</td><td>0</td></tr><tr><td>Men's Bib-Shorts, S</td><td>0</td></tr><tr><td>Men's Bib-Shorts, M</td><td>0</td></tr><tr><td>Men's Bib-Shorts, L</td><td>0</td></tr><tr><td>Half-Finger Gloves, S</td><td>0</td></tr><tr><td>Half-Finger Gloves, M</td><td>0</td></tr><tr><td>Half-Finger Gloves, L</td><td>0</td></tr><tr><td>Full-Finger Gloves, S</td><td>0</td></tr><tr><td>Full-Finger Gloves, M</td><td>0</td></tr><tr><td>Full-Finger Gloves, L</td><td>0</td></tr><tr><td>Classic Vest, S</td><td>0</td></tr><tr><td>Classic Vest, M</td><td>0</td></tr><tr><td>Classic Vest, L</td><td>0</td></tr><tr><td>Women's Mountain Shorts, S</td><td>0</td></tr><tr><td>Women's Mountain Shorts, M</td><td>0</td></tr><tr><td>Women's Mountain Shorts, L</td><td>0</td></tr><tr><td>Water Bottle - 30 oz.</td><td>0</td></tr><tr><td>Mountain Bottle Cage</td><td>0</td></tr><tr><td>Road Bottle Cage</td><td>0</td></tr><tr><td>Patch Kit/8 Patches</td><td>0</td></tr><tr><td>Racing Socks, M</td><td>0</td></tr><tr><td>Racing Socks, L</td><td>0</td></tr><tr><td>Hitch Rack - 4-Bike</td><td>0</td></tr><tr><td>Bike Wash - Dissolver</td><td>0</td></tr><tr><td>Fender Set - Mountain</td><td>0</td></tr><tr><td>All-Purpose Bike Stand</td><td>0</td></tr><tr><td>Hydration Pack - 70 oz.</td><td>70</td></tr><tr><td>Short-Sleeve Classic Jersey, S</td><td>0</td></tr><tr><td>Short-Sleeve Classic Jersey, M</td><td>0</td></tr><tr><td>Short-Sleeve Classic Jersey, L</td><td>0</td></tr><tr><td>Short-Sleeve Classic Jersey, XL</td><td>0</td></tr><tr><td>HL Touring Frame - Yellow, 60</td><td>60</td></tr><tr><td>LL Touring Frame - Yellow, 62</td><td>62</td></tr><tr><td>HL Touring Frame - Yellow, 46</td><td>46</td></tr><tr><td>HL Touring Frame - Yellow, 50</td><td>50</td></tr><tr><td>HL Touring Frame - Yellow, 54</td><td>54</td></tr><tr><td>HL Touring Frame - Blue, 46</td><td>46</td></tr><tr><td>HL Touring Frame - Blue, 50</td><td>50</td></tr><tr><td>HL Touring Frame - Blue, 54</td><td>54</td></tr><tr><td>HL Touring Frame - Blue, 60</td><td>60</td></tr><tr><td>Rear Derailleur</td><td>0</td></tr><tr><td>LL Touring Frame - Blue, 50</td><td>50</td></tr><tr><td>LL Touring Frame - Blue, 54</td><td>54</td></tr><tr><td>LL Touring Frame - Blue, 58</td><td>58</td></tr><tr><td>LL Touring Frame - Blue, 62</td><td>62</td></tr><tr><td>LL Touring Frame - Yellow, 44</td><td>44</td></tr><tr><td>LL Touring Frame - Yellow, 50</td><td>50</td></tr><tr><td>LL Touring Frame - Yellow, 54</td><td>54</td></tr><tr><td>LL Touring Frame - Yellow, 58</td><td>58</td></tr><tr><td>LL Touring Frame - Blue, 44</td><td>44</td></tr><tr><td>ML Mountain Frame-W - Silver, 40</td><td>40</td></tr><tr><td>ML Mountain Frame-W - Silver, 42</td><td>42</td></tr><tr><td>ML Mountain Frame-W - Silver, 46</td><td>46</td></tr><tr><td>Rear Brakes</td><td>0</td></tr><tr><td>LL Mountain Seat/Saddle</td><td>0</td></tr><tr><td>ML Mountain Seat/Saddle</td><td>0</td></tr><tr><td>HL Mountain Seat/Saddle</td><td>0</td></tr><tr><td>LL Road Seat/Saddle</td><td>0</td></tr><tr><td>ML Road Seat/Saddle</td><td>0</td></tr><tr><td>HL Road Seat/Saddle</td><td>0</td></tr><tr><td>LL Touring Seat/Saddle</td><td>0</td></tr><tr><td>ML Touring Seat/Saddle</td><td>0</td></tr><tr><td>HL Touring Seat/Saddle</td><td>0</td></tr><tr><td>LL Mountain Frame - Silver, 42</td><td>42</td></tr><tr><td>LL Mountain Frame - Silver, 44</td><td>44</td></tr><tr><td>LL Mountain Frame - Silver, 48</td><td>48</td></tr><tr><td>LL Mountain Frame - Silver, 52</td><td>52</td></tr><tr><td>Mountain Tire Tube</td><td>0</td></tr><tr><td>Road Tire Tube</td><td>0</td></tr><tr><td>Touring Tire Tube</td><td>0</td></tr><tr><td>LL Mountain Frame - Black, 42</td><td>42</td></tr><tr><td>LL Mountain Frame - Black, 44</td><td>44</td></tr><tr><td>LL Mountain Frame - Black, 48</td><td>48</td></tr><tr><td>LL Mountain Frame - Black, 52</td><td>52</td></tr><tr><td>LL Mountain Tire</td><td>0</td></tr><tr><td>ML Mountain Tire</td><td>0</td></tr><tr><td>HL Mountain Tire</td><td>0</td></tr><tr><td>LL Road Tire</td><td>0</td></tr><tr><td>ML Road Tire</td><td>0</td></tr><tr><td>HL Road Tire</td><td>0</td></tr><tr><td>Touring Tire</td><td>0</td></tr><tr><td>LL Mountain Pedal</td><td>0</td></tr><tr><td>ML Mountain Pedal</td><td>0</td></tr><tr><td>HL Mountain Pedal</td><td>0</td></tr><tr><td>LL Road Pedal</td><td>0</td></tr><tr><td>ML Road Pedal</td><td>0</td></tr><tr><td>HL Road Pedal</td><td>0</td></tr><tr><td>Touring Pedal</td><td>0</td></tr><tr><td>ML Mountain Frame-W - Silver, 38</td><td>38</td></tr><tr><td>LL Mountain Frame - Black, 40</td><td>40</td></tr><tr><td>LL Mountain Frame - Silver, 40</td><td>40</td></tr><tr><td>Front Derailleur</td><td>0</td></tr><tr><td>LL Touring Handlebars</td><td>0</td></tr><tr><td>HL Touring Handlebars</td><td>0</td></tr><tr><td>Front Brakes</td><td>0</td></tr><tr><td>LL Crankset</td><td>0</td></tr><tr><td>ML Crankset</td><td>0</td></tr><tr><td>HL Crankset</td><td>0</td></tr><tr><td>Chain</td><td>0</td></tr><tr><td>Touring-2000 Blue, 60</td><td>60</td></tr><tr><td>Touring-1000 Yellow, 46</td><td>46</td></tr><tr><td>Touring-1000 Yellow, 50</td><td>50</td></tr><tr><td>Touring-1000 Yellow, 54</td><td>54</td></tr><tr><td>Touring-1000 Yellow, 60</td><td>60</td></tr><tr><td>Touring-3000 Blue, 54</td><td>54</td></tr><tr><td>Touring-3000 Blue, 58</td><td>58</td></tr><tr><td>Touring-3000 Blue, 62</td><td>62</td></tr><tr><td>Touring-3000 Yellow, 44</td><td>44</td></tr><tr><td>Touring-3000 Yellow, 50</td><td>50</td></tr><tr><td>Touring-3000 Yellow, 54</td><td>54</td></tr><tr><td>Touring-3000 Yellow, 58</td><td>58</td></tr><tr><td>Touring-3000 Yellow, 62</td><td>62</td></tr><tr><td>Touring-1000 Blue, 46</td><td>46</td></tr><tr><td>Touring-1000 Blue, 50</td><td>50</td></tr><tr><td>Touring-1000 Blue, 54</td><td>54</td></tr><tr><td>Touring-1000 Blue, 60</td><td>60</td></tr><tr><td>Touring-2000 Blue, 46</td><td>46</td></tr><tr><td>Touring-2000 Blue, 50</td><td>50</td></tr><tr><td>Touring-2000 Blue, 54</td><td>54</td></tr><tr><td>Road-350-W Yellow, 40</td><td>40</td></tr><tr><td>Road-350-W Yellow, 42</td><td>42</td></tr><tr><td>Road-350-W Yellow, 44</td><td>44</td></tr><tr><td>Road-350-W Yellow, 48</td><td>48</td></tr><tr><td>Road-750 Black, 58</td><td>58</td></tr><tr><td>Touring-3000 Blue, 44</td><td>44</td></tr><tr><td>Touring-3000 Blue, 50</td><td>50</td></tr><tr><td>Mountain-400-W Silver, 38</td><td>38</td></tr><tr><td>Mountain-400-W Silver, 40</td><td>40</td></tr><tr><td>Mountain-400-W Silver, 42</td><td>42</td></tr><tr><td>Mountain-400-W Silver, 46</td><td>46</td></tr><tr><td>Mountain-500 Silver, 40</td><td>40</td></tr><tr><td>Mountain-500 Silver, 42</td><td>42</td></tr><tr><td>Mountain-500 Silver, 44</td><td>44</td></tr><tr><td>Mountain-500 Silver, 48</td><td>48</td></tr><tr><td>Mountain-500 Silver, 52</td><td>52</td></tr><tr><td>Mountain-500 Black, 40</td><td>40</td></tr><tr><td>Mountain-500 Black, 42</td><td>42</td></tr><tr><td>Mountain-500 Black, 44</td><td>44</td></tr><tr><td>Mountain-500 Black, 48</td><td>48</td></tr><tr><td>Mountain-500 Black, 52</td><td>52</td></tr><tr><td>LL Bottom Bracket</td><td>0</td></tr><tr><td>ML Bottom Bracket</td><td>0</td></tr><tr><td>HL Bottom Bracket</td><td>0</td></tr><tr><td>Road-750 Black, 44</td><td>44</td></tr><tr><td>Road-750 Black, 48</td><td>48</td></tr><tr><td>Road-750 Black, 52</td><td>52</td></tr></table>"
                    },
                    "metadata": {
                        "resultSet": {
                            "id": 0,
                            "batchId": 0,
                            "rowCount": 295,
                            "complete": true,
                            "columnInfo": [
                                {
                                    "isBytes": false,
                                    "isChars": true,
                                    "isSqlVariant": false,
                                    "isUdt": false,
                                    "isXml": false,
                                    "isJson": false,
                                    "sqlDbType": 12,
                                    "isHierarchyId": false,
                                    "isSqlXmlType": false,
                                    "isUnknownType": false,
                                    "isUpdatable": true,
                                    "allowDBNull": false,
                                    "baseCatalogName": null,
                                    "baseColumnName": null,
                                    "baseSchemaName": null,
                                    "baseServerName": null,
                                    "baseTableName": null,
                                    "columnName": "Name",
                                    "columnOrdinal": 0,
                                    "columnSize": 50,
                                    "isAliased": null,
                                    "isAutoIncrement": false,
                                    "isExpression": null,
                                    "isHidden": null,
                                    "isIdentity": false,
                                    "isKey": null,
                                    "isLong": false,
                                    "isReadOnly": false,
                                    "isUnique": false,
                                    "numericPrecision": 255,
                                    "numericScale": 255,
                                    "udtAssemblyQualifiedName": null,
                                    "dataType": "System.String, System.Private.CoreLib, Version=4.0.0.0, Culture=neutral, PublicKeyToken=7cec85d7bea7798e",
                                    "dataTypeName": "nvarchar"
                                },
                                {
                                    "isBytes": false,
                                    "isChars": false,
                                    "isSqlVariant": false,
                                    "isUdt": false,
                                    "isXml": false,
                                    "isJson": false,
                                    "sqlDbType": 8,
                                    "isHierarchyId": false,
                                    "isSqlXmlType": false,
                                    "isUnknownType": false,
                                    "isUpdatable": false,
                                    "allowDBNull": false,
                                    "baseCatalogName": null,
                                    "baseColumnName": null,
                                    "baseSchemaName": null,
                                    "baseServerName": null,
                                    "baseTableName": null,
                                    "columnName": "NumericSize",
                                    "columnOrdinal": 1,
                                    "columnSize": 4,
                                    "isAliased": null,
                                    "isAutoIncrement": false,
                                    "isExpression": null,
                                    "isHidden": null,
                                    "isIdentity": false,
                                    "isKey": null,
                                    "isLong": false,
                                    "isReadOnly": true,
                                    "isUnique": false,
                                    "numericPrecision": 10,
                                    "numericScale": 255,
                                    "udtAssemblyQualifiedName": null,
                                    "dataType": "System.Int32, System.Private.CoreLib, Version=4.0.0.0, Culture=neutral, PublicKeyToken=7cec85d7bea7798e",
                                    "dataTypeName": "int"
                                }
                            ],
                            "specialAction": {
                                "none": true,
                                "expectYukonXMLShowPlan": false
                            }
                        }
                    }
                }
            ],
            "execution_count": 1
        },
        {
            "cell_type": "code",
            "source": [
                "SELECT Name, COALESCE(DiscontinuedDate, SellEndDate, SellStartDate) AS LastActivity\n",
                "FROM SalesLT.Product;"
            ],
            "metadata": {
                "azdata_cell_guid": "fefb80c6-bbce-4331-a9c3-09e02190e5ab"
            },
            "outputs": [
                {
                    "output_type": "display_data",
                    "data": {
                        "text/html": "(295 rows affected)"
                    },
                    "metadata": {}
                },
                {
                    "output_type": "display_data",
                    "data": {
                        "text/html": "Total execution time: 00:00:00.023"
                    },
                    "metadata": {}
                },
                {
                    "output_type": "execute_result",
                    "execution_count": 2,
                    "data": {
                        "application/vnd.dataresource+json": {
                            "schema": {
                                "fields": [
                                    {
                                        "name": "Name"
                                    },
                                    {
                                        "name": "LastActivity"
                                    }
                                ]
                            },
                            "data": [
                                {
                                    "0": "HL Road Frame - Black, 58",
                                    "1": "2002-06-01 00:00:00.000"
                                },
                                {
                                    "0": "HL Road Frame - Red, 58",
                                    "1": "2002-06-01 00:00:00.000"
                                },
                                {
                                    "0": "Sport-100 Helmet, Red",
                                    "1": "2005-07-01 00:00:00.000"
                                },
                                {
                                    "0": "Sport-100 Helmet, Black",
                                    "1": "2005-07-01 00:00:00.000"
                                },
                                {
                                    "0": "Mountain Bike Socks, M",
                                    "1": "2006-06-30 00:00:00.000"
                                },
                                {
                                    "0": "Mountain Bike Socks, L",
                                    "1": "2006-06-30 00:00:00.000"
                                },
                                {
                                    "0": "Sport-100 Helmet, Blue",
                                    "1": "2005-07-01 00:00:00.000"
                                },
                                {
                                    "0": "AWC Logo Cap",
                                    "1": "2005-07-01 00:00:00.000"
                                },
                                {
                                    "0": "Long-Sleeve Logo Jersey, S",
                                    "1": "2005-07-01 00:00:00.000"
                                },
                                {
                                    "0": "Long-Sleeve Logo Jersey, M",
                                    "1": "2005-07-01 00:00:00.000"
                                },
                                {
                                    "0": "Long-Sleeve Logo Jersey, L",
                                    "1": "2005-07-01 00:00:00.000"
                                },
                                {
                                    "0": "Long-Sleeve Logo Jersey, XL",
                                    "1": "2005-07-01 00:00:00.000"
                                },
                                {
                                    "0": "HL Road Frame - Red, 62",
                                    "1": "2005-07-01 00:00:00.000"
                                },
                                {
                                    "0": "HL Road Frame - Red, 44",
                                    "1": "2005-07-01 00:00:00.000"
                                },
                                {
                                    "0": "HL Road Frame - Red, 48",
                                    "1": "2005-07-01 00:00:00.000"
                                },
                                {
                                    "0": "HL Road Frame - Red, 52",
                                    "1": "2005-07-01 00:00:00.000"
                                },
                                {
                                    "0": "HL Road Frame - Red, 56",
                                    "1": "2005-07-01 00:00:00.000"
                                },
                                {
                                    "0": "LL Road Frame - Black, 58",
                                    "1": "2005-07-01 00:00:00.000"
                                },
                                {
                                    "0": "LL Road Frame - Black, 60",
                                    "1": "2005-07-01 00:00:00.000"
                                },
                                {
                                    "0": "LL Road Frame - Black, 62",
                                    "1": "2005-07-01 00:00:00.000"
                                },
                                {
                                    "0": "LL Road Frame - Red, 44",
                                    "1": "2007-06-30 00:00:00.000"
                                },
                                {
                                    "0": "LL Road Frame - Red, 48",
                                    "1": "2007-06-30 00:00:00.000"
                                },
                                {
                                    "0": "LL Road Frame - Red, 52",
                                    "1": "2007-06-30 00:00:00.000"
                                },
                                {
                                    "0": "LL Road Frame - Red, 58",
                                    "1": "2007-06-30 00:00:00.000"
                                },
                                {
                                    "0": "LL Road Frame - Red, 60",
                                    "1": "2007-06-30 00:00:00.000"
                                },
                                {
                                    "0": "LL Road Frame - Red, 62",
                                    "1": "2007-06-30 00:00:00.000"
                                },
                                {
                                    "0": "ML Road Frame - Red, 44",
                                    "1": "2006-06-30 00:00:00.000"
                                },
                                {
                                    "0": "ML Road Frame - Red, 48",
                                    "1": "2006-06-30 00:00:00.000"
                                },
                                {
                                    "0": "ML Road Frame - Red, 52",
                                    "1": "2006-06-30 00:00:00.000"
                                },
                                {
                                    "0": "ML Road Frame - Red, 58",
                                    "1": "2006-06-30 00:00:00.000"
                                },
                                {
                                    "0": "ML Road Frame - Red, 60",
                                    "1": "2006-06-30 00:00:00.000"
                                },
                                {
                                    "0": "LL Road Frame - Black, 44",
                                    "1": "2005-07-01 00:00:00.000"
                                },
                                {
                                    "0": "LL Road Frame - Black, 48",
                                    "1": "2005-07-01 00:00:00.000"
                                },
                                {
                                    "0": "LL Road Frame - Black, 52",
                                    "1": "2005-07-01 00:00:00.000"
                                },
                                {
                                    "0": "HL Mountain Frame - Silver, 42",
                                    "1": "2005-07-01 00:00:00.000"
                                },
                                {
                                    "0": "HL Mountain Frame - Silver, 44",
                                    "1": "2006-06-30 00:00:00.000"
                                },
                                {
                                    "0": "HL Mountain Frame - Silver, 48",
                                    "1": "2006-06-30 00:00:00.000"
                                },
                                {
                                    "0": "HL Mountain Frame - Silver, 46",
                                    "1": "2005-07-01 00:00:00.000"
                                },
                                {
                                    "0": "HL Mountain Frame - Black, 42",
                                    "1": "2005-07-01 00:00:00.000"
                                },
                                {
                                    "0": "HL Mountain Frame - Black, 44",
                                    "1": "2006-06-30 00:00:00.000"
                                },
                                {
                                    "0": "HL Mountain Frame - Black, 48",
                                    "1": "2006-06-30 00:00:00.000"
                                },
                                {
                                    "0": "HL Mountain Frame - Black, 46",
                                    "1": "2005-07-01 00:00:00.000"
                                },
                                {
                                    "0": "HL Mountain Frame - Black, 38",
                                    "1": "2005-07-01 00:00:00.000"
                                },
                                {
                                    "0": "HL Mountain Frame - Silver, 38",
                                    "1": "2005-07-01 00:00:00.000"
                                },
                                {
                                    "0": "Road-150 Red, 62",
                                    "1": "2006-06-30 00:00:00.000"
                                },
                                {
                                    "0": "Road-150 Red, 44",
                                    "1": "2006-06-30 00:00:00.000"
                                },
                                {
                                    "0": "Road-150 Red, 48",
                                    "1": "2006-06-30 00:00:00.000"
                                },
                                {
                                    "0": "Road-150 Red, 52",
                                    "1": "2006-06-30 00:00:00.000"
                                },
                                {
                                    "0": "Road-150 Red, 56",
                                    "1": "2006-06-30 00:00:00.000"
                                },
                                {
                                    "0": "Road-450 Red, 58",
                                    "1": "2006-06-30 00:00:00.000"
                                },
                                {
                                    "0": "Road-450 Red, 60",
                                    "1": "2006-06-30 00:00:00.000"
                                },
                                {
                                    "0": "Road-450 Red, 44",
                                    "1": "2006-06-30 00:00:00.000"
                                },
                                {
                                    "0": "Road-450 Red, 48",
                                    "1": "2006-06-30 00:00:00.000"
                                },
                                {
                                    "0": "Road-450 Red, 52",
                                    "1": "2006-06-30 00:00:00.000"
                                },
                                {
                                    "0": "Road-650 Red, 58",
                                    "1": "2007-06-30 00:00:00.000"
                                },
                                {
                                    "0": "Road-650 Red, 60",
                                    "1": "2007-06-30 00:00:00.000"
                                },
                                {
                                    "0": "Road-650 Red, 62",
                                    "1": "2007-06-30 00:00:00.000"
                                },
                                {
                                    "0": "Road-650 Red, 44",
                                    "1": "2007-06-30 00:00:00.000"
                                },
                                {
                                    "0": "Road-650 Red, 48",
                                    "1": "2007-06-30 00:00:00.000"
                                },
                                {
                                    "0": "Road-650 Red, 52",
                                    "1": "2007-06-30 00:00:00.000"
                                },
                                {
                                    "0": "Road-650 Black, 58",
                                    "1": "2007-06-30 00:00:00.000"
                                },
                                {
                                    "0": "Road-650 Black, 60",
                                    "1": "2007-06-30 00:00:00.000"
                                },
                                {
                                    "0": "Road-650 Black, 62",
                                    "1": "2007-06-30 00:00:00.000"
                                },
                                {
                                    "0": "Road-650 Black, 44",
                                    "1": "2007-06-30 00:00:00.000"
                                },
                                {
                                    "0": "Road-650 Black, 48",
                                    "1": "2007-06-30 00:00:00.000"
                                },
                                {
                                    "0": "Road-650 Black, 52",
                                    "1": "2007-06-30 00:00:00.000"
                                },
                                {
                                    "0": "Mountain-100 Silver, 38",
                                    "1": "2006-06-30 00:00:00.000"
                                },
                                {
                                    "0": "Mountain-100 Silver, 42",
                                    "1": "2006-06-30 00:00:00.000"
                                },
                                {
                                    "0": "Mountain-100 Silver, 44",
                                    "1": "2006-06-30 00:00:00.000"
                                },
                                {
                                    "0": "Mountain-100 Silver, 48",
                                    "1": "2006-06-30 00:00:00.000"
                                },
                                {
                                    "0": "Mountain-100 Black, 38",
                                    "1": "2006-06-30 00:00:00.000"
                                },
                                {
                                    "0": "Mountain-100 Black, 42",
                                    "1": "2006-06-30 00:00:00.000"
                                },
                                {
                                    "0": "Mountain-100 Black, 44",
                                    "1": "2006-06-30 00:00:00.000"
                                },
                                {
                                    "0": "Mountain-100 Black, 48",
                                    "1": "2006-06-30 00:00:00.000"
                                },
                                {
                                    "0": "Mountain-200 Silver, 38",
                                    "1": "2006-07-01 00:00:00.000"
                                },
                                {
                                    "0": "Mountain-200 Silver, 42",
                                    "1": "2006-07-01 00:00:00.000"
                                },
                                {
                                    "0": "Mountain-200 Silver, 46",
                                    "1": "2006-07-01 00:00:00.000"
                                },
                                {
                                    "0": "Mountain-200 Black, 38",
                                    "1": "2006-07-01 00:00:00.000"
                                },
                                {
                                    "0": "Mountain-200 Black, 42",
                                    "1": "2006-07-01 00:00:00.000"
                                },
                                {
                                    "0": "Mountain-200 Black, 46",
                                    "1": "2006-07-01 00:00:00.000"
                                },
                                {
                                    "0": "Mountain-300 Black, 38",
                                    "1": "2007-06-30 00:00:00.000"
                                },
                                {
                                    "0": "Mountain-300 Black, 40",
                                    "1": "2007-06-30 00:00:00.000"
                                },
                                {
                                    "0": "Mountain-300 Black, 44",
                                    "1": "2007-06-30 00:00:00.000"
                                },
                                {
                                    "0": "Mountain-300 Black, 48",
                                    "1": "2007-06-30 00:00:00.000"
                                },
                                {
                                    "0": "Road-250 Red, 44",
                                    "1": "2007-06-30 00:00:00.000"
                                },
                                {
                                    "0": "Road-250 Red, 48",
                                    "1": "2007-06-30 00:00:00.000"
                                },
                                {
                                    "0": "Road-250 Red, 52",
                                    "1": "2007-06-30 00:00:00.000"
                                },
                                {
                                    "0": "Road-250 Red, 58",
                                    "1": "2006-07-01 00:00:00.000"
                                },
                                {
                                    "0": "Road-250 Black, 44",
                                    "1": "2006-07-01 00:00:00.000"
                                },
                                {
                                    "0": "Road-250 Black, 48",
                                    "1": "2006-07-01 00:00:00.000"
                                },
                                {
                                    "0": "Road-250 Black, 52",
                                    "1": "2006-07-01 00:00:00.000"
                                },
                                {
                                    "0": "Road-250 Black, 58",
                                    "1": "2006-07-01 00:00:00.000"
                                },
                                {
                                    "0": "Road-550-W Yellow, 38",
                                    "1": "2006-07-01 00:00:00.000"
                                },
                                {
                                    "0": "Road-550-W Yellow, 40",
                                    "1": "2006-07-01 00:00:00.000"
                                },
                                {
                                    "0": "Road-550-W Yellow, 42",
                                    "1": "2006-07-01 00:00:00.000"
                                },
                                {
                                    "0": "Road-550-W Yellow, 44",
                                    "1": "2006-07-01 00:00:00.000"
                                },
                                {
                                    "0": "Road-550-W Yellow, 48",
                                    "1": "2006-07-01 00:00:00.000"
                                },
                                {
                                    "0": "LL Fork",
                                    "1": "2007-06-30 00:00:00.000"
                                },
                                {
                                    "0": "ML Fork",
                                    "1": "2007-06-30 00:00:00.000"
                                },
                                {
                                    "0": "HL Fork",
                                    "1": "2007-06-30 00:00:00.000"
                                },
                                {
                                    "0": "LL Headset",
                                    "1": "2007-06-30 00:00:00.000"
                                },
                                {
                                    "0": "ML Headset",
                                    "1": "2007-06-30 00:00:00.000"
                                },
                                {
                                    "0": "HL Headset",
                                    "1": "2007-06-30 00:00:00.000"
                                },
                                {
                                    "0": "LL Mountain Handlebars",
                                    "1": "2006-07-01 00:00:00.000"
                                },
                                {
                                    "0": "ML Mountain Handlebars",
                                    "1": "2006-07-01 00:00:00.000"
                                },
                                {
                                    "0": "HL Mountain Handlebars",
                                    "1": "2006-07-01 00:00:00.000"
                                },
                                {
                                    "0": "LL Road Handlebars",
                                    "1": "2006-07-01 00:00:00.000"
                                },
                                {
                                    "0": "ML Road Handlebars",
                                    "1": "2006-07-01 00:00:00.000"
                                },
                                {
                                    "0": "HL Road Handlebars",
                                    "1": "2006-07-01 00:00:00.000"
                                },
                                {
                                    "0": "ML Mountain Frame - Black, 38",
                                    "1": "2007-06-30 00:00:00.000"
                                },
                                {
                                    "0": "LL Mountain Front Wheel",
                                    "1": "2007-06-30 00:00:00.000"
                                },
                                {
                                    "0": "ML Mountain Front Wheel",
                                    "1": "2007-06-30 00:00:00.000"
                                },
                                {
                                    "0": "HL Mountain Front Wheel",
                                    "1": "2007-06-30 00:00:00.000"
                                },
                                {
                                    "0": "LL Road Front Wheel",
                                    "1": "2007-06-30 00:00:00.000"
                                },
                                {
                                    "0": "ML Road Front Wheel",
                                    "1": "2007-06-30 00:00:00.000"
                                },
                                {
                                    "0": "HL Road Front Wheel",
                                    "1": "2007-06-30 00:00:00.000"
                                },
                                {
                                    "0": "Touring Front Wheel",
                                    "1": "2007-06-30 00:00:00.000"
                                },
                                {
                                    "0": "ML Road Frame-W - Yellow, 38",
                                    "1": "2006-07-01 00:00:00.000"
                                },
                                {
                                    "0": "LL Mountain Rear Wheel",
                                    "1": "2007-06-30 00:00:00.000"
                                },
                                {
                                    "0": "ML Mountain Rear Wheel",
                                    "1": "2007-06-30 00:00:00.000"
                                },
                                {
                                    "0": "HL Mountain Rear Wheel",
                                    "1": "2007-06-30 00:00:00.000"
                                },
                                {
                                    "0": "LL Road Rear Wheel",
                                    "1": "2007-06-30 00:00:00.000"
                                },
                                {
                                    "0": "ML Road Rear Wheel",
                                    "1": "2007-06-30 00:00:00.000"
                                },
                                {
                                    "0": "HL Road Rear Wheel",
                                    "1": "2007-06-30 00:00:00.000"
                                },
                                {
                                    "0": "Touring Rear Wheel",
                                    "1": "2007-06-30 00:00:00.000"
                                },
                                {
                                    "0": "ML Mountain Frame - Black, 40",
                                    "1": "2007-06-30 00:00:00.000"
                                },
                                {
                                    "0": "ML Mountain Frame - Black, 44",
                                    "1": "2007-06-30 00:00:00.000"
                                },
                                {
                                    "0": "ML Mountain Frame - Black, 48",
                                    "1": "2007-06-30 00:00:00.000"
                                },
                                {
                                    "0": "ML Road Frame-W - Yellow, 40",
                                    "1": "2006-07-01 00:00:00.000"
                                },
                                {
                                    "0": "ML Road Frame-W - Yellow, 42",
                                    "1": "2006-07-01 00:00:00.000"
                                },
                                {
                                    "0": "ML Road Frame-W - Yellow, 44",
                                    "1": "2006-07-01 00:00:00.000"
                                },
                                {
                                    "0": "ML Road Frame-W - Yellow, 48",
                                    "1": "2006-07-01 00:00:00.000"
                                },
                                {
                                    "0": "HL Road Frame - Black, 62",
                                    "1": "2006-07-01 00:00:00.000"
                                },
                                {
                                    "0": "HL Road Frame - Black, 44",
                                    "1": "2006-07-01 00:00:00.000"
                                },
                                {
                                    "0": "HL Road Frame - Black, 48",
                                    "1": "2006-07-01 00:00:00.000"
                                },
                                {
                                    "0": "HL Road Frame - Black, 52",
                                    "1": "2006-07-01 00:00:00.000"
                                },
                                {
                                    "0": "Men's Sports Shorts, S",
                                    "1": "2007-06-30 00:00:00.000"
                                },
                                {
                                    "0": "Touring-Panniers, Large",
                                    "1": "2007-06-30 00:00:00.000"
                                },
                                {
                                    "0": "Cable Lock",
                                    "1": "2007-06-30 00:00:00.000"
                                },
                                {
                                    "0": "Minipump",
                                    "1": "2007-06-30 00:00:00.000"
                                },
                                {
                                    "0": "Mountain Pump",
                                    "1": "2007-06-30 00:00:00.000"
                                },
                                {
                                    "0": "Taillights - Battery-Powered",
                                    "1": "2007-06-30 00:00:00.000"
                                },
                                {
                                    "0": "Headlights - Dual-Beam",
                                    "1": "2007-06-30 00:00:00.000"
                                },
                                {
                                    "0": "Headlights - Weatherproof",
                                    "1": "2007-06-30 00:00:00.000"
                                },
                                {
                                    "0": "Men's Sports Shorts, M",
                                    "1": "2007-06-30 00:00:00.000"
                                },
                                {
                                    "0": "Men's Sports Shorts, L",
                                    "1": "2007-06-30 00:00:00.000"
                                },
                                {
                                    "0": "Men's Sports Shorts, XL",
                                    "1": "2007-06-30 00:00:00.000"
                                },
                                {
                                    "0": "Women's Tights, S",
                                    "1": "2007-06-30 00:00:00.000"
                                },
                                {
                                    "0": "Women's Tights, M",
                                    "1": "2007-06-30 00:00:00.000"
                                },
                                {
                                    "0": "Women's Tights, L",
                                    "1": "2007-06-30 00:00:00.000"
                                },
                                {
                                    "0": "Men's Bib-Shorts, S",
                                    "1": "2007-06-30 00:00:00.000"
                                },
                                {
                                    "0": "Men's Bib-Shorts, M",
                                    "1": "2007-06-30 00:00:00.000"
                                },
                                {
                                    "0": "Men's Bib-Shorts, L",
                                    "1": "2007-06-30 00:00:00.000"
                                },
                                {
                                    "0": "Half-Finger Gloves, S",
                                    "1": "2006-07-01 00:00:00.000"
                                },
                                {
                                    "0": "Half-Finger Gloves, M",
                                    "1": "2006-07-01 00:00:00.000"
                                },
                                {
                                    "0": "Half-Finger Gloves, L",
                                    "1": "2006-07-01 00:00:00.000"
                                },
                                {
                                    "0": "Full-Finger Gloves, S",
                                    "1": "2007-06-30 00:00:00.000"
                                },
                                {
                                    "0": "Full-Finger Gloves, M",
                                    "1": "2007-06-30 00:00:00.000"
                                },
                                {
                                    "0": "Full-Finger Gloves, L",
                                    "1": "2007-06-30 00:00:00.000"
                                },
                                {
                                    "0": "Classic Vest, S",
                                    "1": "2007-07-01 00:00:00.000"
                                },
                                {
                                    "0": "Classic Vest, M",
                                    "1": "2007-07-01 00:00:00.000"
                                },
                                {
                                    "0": "Classic Vest, L",
                                    "1": "2007-07-01 00:00:00.000"
                                },
                                {
                                    "0": "Women's Mountain Shorts, S",
                                    "1": "2007-07-01 00:00:00.000"
                                },
                                {
                                    "0": "Women's Mountain Shorts, M",
                                    "1": "2007-07-01 00:00:00.000"
                                },
                                {
                                    "0": "Women's Mountain Shorts, L",
                                    "1": "2007-07-01 00:00:00.000"
                                },
                                {
                                    "0": "Water Bottle - 30 oz.",
                                    "1": "2007-07-01 00:00:00.000"
                                },
                                {
                                    "0": "Mountain Bottle Cage",
                                    "1": "2007-07-01 00:00:00.000"
                                },
                                {
                                    "0": "Road Bottle Cage",
                                    "1": "2007-07-01 00:00:00.000"
                                },
                                {
                                    "0": "Patch Kit/8 Patches",
                                    "1": "2007-07-01 00:00:00.000"
                                },
                                {
                                    "0": "Racing Socks, M",
                                    "1": "2007-07-01 00:00:00.000"
                                },
                                {
                                    "0": "Racing Socks, L",
                                    "1": "2007-07-01 00:00:00.000"
                                },
                                {
                                    "0": "Hitch Rack - 4-Bike",
                                    "1": "2007-07-01 00:00:00.000"
                                },
                                {
                                    "0": "Bike Wash - Dissolver",
                                    "1": "2007-07-01 00:00:00.000"
                                },
                                {
                                    "0": "Fender Set - Mountain",
                                    "1": "2007-07-01 00:00:00.000"
                                },
                                {
                                    "0": "All-Purpose Bike Stand",
                                    "1": "2007-07-01 00:00:00.000"
                                },
                                {
                                    "0": "Hydration Pack - 70 oz.",
                                    "1": "2007-07-01 00:00:00.000"
                                },
                                {
                                    "0": "Short-Sleeve Classic Jersey, S",
                                    "1": "2007-07-01 00:00:00.000"
                                },
                                {
                                    "0": "Short-Sleeve Classic Jersey, M",
                                    "1": "2007-07-01 00:00:00.000"
                                },
                                {
                                    "0": "Short-Sleeve Classic Jersey, L",
                                    "1": "2007-07-01 00:00:00.000"
                                },
                                {
                                    "0": "Short-Sleeve Classic Jersey, XL",
                                    "1": "2007-07-01 00:00:00.000"
                                },
                                {
                                    "0": "HL Touring Frame - Yellow, 60",
                                    "1": "2007-07-01 00:00:00.000"
                                },
                                {
                                    "0": "LL Touring Frame - Yellow, 62",
                                    "1": "2007-07-01 00:00:00.000"
                                },
                                {
                                    "0": "HL Touring Frame - Yellow, 46",
                                    "1": "2007-07-01 00:00:00.000"
                                },
                                {
                                    "0": "HL Touring Frame - Yellow, 50",
                                    "1": "2007-07-01 00:00:00.000"
                                },
                                {
                                    "0": "HL Touring Frame - Yellow, 54",
                                    "1": "2007-07-01 00:00:00.000"
                                },
                                {
                                    "0": "HL Touring Frame - Blue, 46",
                                    "1": "2007-07-01 00:00:00.000"
                                },
                                {
                                    "0": "HL Touring Frame - Blue, 50",
                                    "1": "2007-07-01 00:00:00.000"
                                },
                                {
                                    "0": "HL Touring Frame - Blue, 54",
                                    "1": "2007-07-01 00:00:00.000"
                                },
                                {
                                    "0": "HL Touring Frame - Blue, 60",
                                    "1": "2007-07-01 00:00:00.000"
                                },
                                {
                                    "0": "Rear Derailleur",
                                    "1": "2007-07-01 00:00:00.000"
                                },
                                {
                                    "0": "LL Touring Frame - Blue, 50",
                                    "1": "2007-07-01 00:00:00.000"
                                },
                                {
                                    "0": "LL Touring Frame - Blue, 54",
                                    "1": "2007-07-01 00:00:00.000"
                                },
                                {
                                    "0": "LL Touring Frame - Blue, 58",
                                    "1": "2007-07-01 00:00:00.000"
                                },
                                {
                                    "0": "LL Touring Frame - Blue, 62",
                                    "1": "2007-07-01 00:00:00.000"
                                },
                                {
                                    "0": "LL Touring Frame - Yellow, 44",
                                    "1": "2007-07-01 00:00:00.000"
                                },
                                {
                                    "0": "LL Touring Frame - Yellow, 50",
                                    "1": "2007-07-01 00:00:00.000"
                                },
                                {
                                    "0": "LL Touring Frame - Yellow, 54",
                                    "1": "2007-07-01 00:00:00.000"
                                },
                                {
                                    "0": "LL Touring Frame - Yellow, 58",
                                    "1": "2007-07-01 00:00:00.000"
                                },
                                {
                                    "0": "LL Touring Frame - Blue, 44",
                                    "1": "2007-07-01 00:00:00.000"
                                },
                                {
                                    "0": "ML Mountain Frame-W - Silver, 40",
                                    "1": "2007-07-01 00:00:00.000"
                                },
                                {
                                    "0": "ML Mountain Frame-W - Silver, 42",
                                    "1": "2007-07-01 00:00:00.000"
                                },
                                {
                                    "0": "ML Mountain Frame-W - Silver, 46",
                                    "1": "2007-07-01 00:00:00.000"
                                },
                                {
                                    "0": "Rear Brakes",
                                    "1": "2007-07-01 00:00:00.000"
                                },
                                {
                                    "0": "LL Mountain Seat/Saddle",
                                    "1": "2007-07-01 00:00:00.000"
                                },
                                {
                                    "0": "ML Mountain Seat/Saddle",
                                    "1": "2007-07-01 00:00:00.000"
                                },
                                {
                                    "0": "HL Mountain Seat/Saddle",
                                    "1": "2007-07-01 00:00:00.000"
                                },
                                {
                                    "0": "LL Road Seat/Saddle",
                                    "1": "2007-07-01 00:00:00.000"
                                },
                                {
                                    "0": "ML Road Seat/Saddle",
                                    "1": "2007-07-01 00:00:00.000"
                                },
                                {
                                    "0": "HL Road Seat/Saddle",
                                    "1": "2007-07-01 00:00:00.000"
                                },
                                {
                                    "0": "LL Touring Seat/Saddle",
                                    "1": "2007-07-01 00:00:00.000"
                                },
                                {
                                    "0": "ML Touring Seat/Saddle",
                                    "1": "2007-07-01 00:00:00.000"
                                },
                                {
                                    "0": "HL Touring Seat/Saddle",
                                    "1": "2007-07-01 00:00:00.000"
                                },
                                {
                                    "0": "LL Mountain Frame - Silver, 42",
                                    "1": "2007-07-01 00:00:00.000"
                                },
                                {
                                    "0": "LL Mountain Frame - Silver, 44",
                                    "1": "2007-07-01 00:00:00.000"
                                },
                                {
                                    "0": "LL Mountain Frame - Silver, 48",
                                    "1": "2007-07-01 00:00:00.000"
                                },
                                {
                                    "0": "LL Mountain Frame - Silver, 52",
                                    "1": "2007-07-01 00:00:00.000"
                                },
                                {
                                    "0": "Mountain Tire Tube",
                                    "1": "2007-07-01 00:00:00.000"
                                },
                                {
                                    "0": "Road Tire Tube",
                                    "1": "2007-07-01 00:00:00.000"
                                },
                                {
                                    "0": "Touring Tire Tube",
                                    "1": "2007-07-01 00:00:00.000"
                                },
                                {
                                    "0": "LL Mountain Frame - Black, 42",
                                    "1": "2007-07-01 00:00:00.000"
                                },
                                {
                                    "0": "LL Mountain Frame - Black, 44",
                                    "1": "2007-07-01 00:00:00.000"
                                },
                                {
                                    "0": "LL Mountain Frame - Black, 48",
                                    "1": "2007-07-01 00:00:00.000"
                                },
                                {
                                    "0": "LL Mountain Frame - Black, 52",
                                    "1": "2007-07-01 00:00:00.000"
                                },
                                {
                                    "0": "LL Mountain Tire",
                                    "1": "2007-07-01 00:00:00.000"
                                },
                                {
                                    "0": "ML Mountain Tire",
                                    "1": "2007-07-01 00:00:00.000"
                                },
                                {
                                    "0": "HL Mountain Tire",
                                    "1": "2007-07-01 00:00:00.000"
                                },
                                {
                                    "0": "LL Road Tire",
                                    "1": "2007-07-01 00:00:00.000"
                                },
                                {
                                    "0": "ML Road Tire",
                                    "1": "2007-07-01 00:00:00.000"
                                },
                                {
                                    "0": "HL Road Tire",
                                    "1": "2007-07-01 00:00:00.000"
                                },
                                {
                                    "0": "Touring Tire",
                                    "1": "2007-07-01 00:00:00.000"
                                },
                                {
                                    "0": "LL Mountain Pedal",
                                    "1": "2007-07-01 00:00:00.000"
                                },
                                {
                                    "0": "ML Mountain Pedal",
                                    "1": "2007-07-01 00:00:00.000"
                                },
                                {
                                    "0": "HL Mountain Pedal",
                                    "1": "2007-07-01 00:00:00.000"
                                },
                                {
                                    "0": "LL Road Pedal",
                                    "1": "2007-07-01 00:00:00.000"
                                },
                                {
                                    "0": "ML Road Pedal",
                                    "1": "2007-07-01 00:00:00.000"
                                },
                                {
                                    "0": "HL Road Pedal",
                                    "1": "2007-07-01 00:00:00.000"
                                },
                                {
                                    "0": "Touring Pedal",
                                    "1": "2007-07-01 00:00:00.000"
                                },
                                {
                                    "0": "ML Mountain Frame-W - Silver, 38",
                                    "1": "2007-07-01 00:00:00.000"
                                },
                                {
                                    "0": "LL Mountain Frame - Black, 40",
                                    "1": "2007-07-01 00:00:00.000"
                                },
                                {
                                    "0": "LL Mountain Frame - Silver, 40",
                                    "1": "2007-07-01 00:00:00.000"
                                },
                                {
                                    "0": "Front Derailleur",
                                    "1": "2007-07-01 00:00:00.000"
                                },
                                {
                                    "0": "LL Touring Handlebars",
                                    "1": "2007-07-01 00:00:00.000"
                                },
                                {
                                    "0": "HL Touring Handlebars",
                                    "1": "2007-07-01 00:00:00.000"
                                },
                                {
                                    "0": "Front Brakes",
                                    "1": "2007-07-01 00:00:00.000"
                                },
                                {
                                    "0": "LL Crankset",
                                    "1": "2007-07-01 00:00:00.000"
                                },
                                {
                                    "0": "ML Crankset",
                                    "1": "2007-07-01 00:00:00.000"
                                },
                                {
                                    "0": "HL Crankset",
                                    "1": "2007-07-01 00:00:00.000"
                                },
                                {
                                    "0": "Chain",
                                    "1": "2007-07-01 00:00:00.000"
                                },
                                {
                                    "0": "Touring-2000 Blue, 60",
                                    "1": "2007-07-01 00:00:00.000"
                                },
                                {
                                    "0": "Touring-1000 Yellow, 46",
                                    "1": "2007-07-01 00:00:00.000"
                                },
                                {
                                    "0": "Touring-1000 Yellow, 50",
                                    "1": "2007-07-01 00:00:00.000"
                                },
                                {
                                    "0": "Touring-1000 Yellow, 54",
                                    "1": "2007-07-01 00:00:00.000"
                                },
                                {
                                    "0": "Touring-1000 Yellow, 60",
                                    "1": "2007-07-01 00:00:00.000"
                                },
                                {
                                    "0": "Touring-3000 Blue, 54",
                                    "1": "2007-07-01 00:00:00.000"
                                },
                                {
                                    "0": "Touring-3000 Blue, 58",
                                    "1": "2007-07-01 00:00:00.000"
                                },
                                {
                                    "0": "Touring-3000 Blue, 62",
                                    "1": "2007-07-01 00:00:00.000"
                                },
                                {
                                    "0": "Touring-3000 Yellow, 44",
                                    "1": "2007-07-01 00:00:00.000"
                                },
                                {
                                    "0": "Touring-3000 Yellow, 50",
                                    "1": "2007-07-01 00:00:00.000"
                                },
                                {
                                    "0": "Touring-3000 Yellow, 54",
                                    "1": "2007-07-01 00:00:00.000"
                                },
                                {
                                    "0": "Touring-3000 Yellow, 58",
                                    "1": "2007-07-01 00:00:00.000"
                                },
                                {
                                    "0": "Touring-3000 Yellow, 62",
                                    "1": "2007-07-01 00:00:00.000"
                                },
                                {
                                    "0": "Touring-1000 Blue, 46",
                                    "1": "2007-07-01 00:00:00.000"
                                },
                                {
                                    "0": "Touring-1000 Blue, 50",
                                    "1": "2007-07-01 00:00:00.000"
                                },
                                {
                                    "0": "Touring-1000 Blue, 54",
                                    "1": "2007-07-01 00:00:00.000"
                                },
                                {
                                    "0": "Touring-1000 Blue, 60",
                                    "1": "2007-07-01 00:00:00.000"
                                },
                                {
                                    "0": "Touring-2000 Blue, 46",
                                    "1": "2007-07-01 00:00:00.000"
                                },
                                {
                                    "0": "Touring-2000 Blue, 50",
                                    "1": "2007-07-01 00:00:00.000"
                                },
                                {
                                    "0": "Touring-2000 Blue, 54",
                                    "1": "2007-07-01 00:00:00.000"
                                },
                                {
                                    "0": "Road-350-W Yellow, 40",
                                    "1": "2007-07-01 00:00:00.000"
                                },
                                {
                                    "0": "Road-350-W Yellow, 42",
                                    "1": "2007-07-01 00:00:00.000"
                                },
                                {
                                    "0": "Road-350-W Yellow, 44",
                                    "1": "2007-07-01 00:00:00.000"
                                },
                                {
                                    "0": "Road-350-W Yellow, 48",
                                    "1": "2007-07-01 00:00:00.000"
                                },
                                {
                                    "0": "Road-750 Black, 58",
                                    "1": "2007-07-01 00:00:00.000"
                                },
                                {
                                    "0": "Touring-3000 Blue, 44",
                                    "1": "2007-07-01 00:00:00.000"
                                },
                                {
                                    "0": "Touring-3000 Blue, 50",
                                    "1": "2007-07-01 00:00:00.000"
                                },
                                {
                                    "0": "Mountain-400-W Silver, 38",
                                    "1": "2007-07-01 00:00:00.000"
                                },
                                {
                                    "0": "Mountain-400-W Silver, 40",
                                    "1": "2007-07-01 00:00:00.000"
                                },
                                {
                                    "0": "Mountain-400-W Silver, 42",
                                    "1": "2007-07-01 00:00:00.000"
                                },
                                {
                                    "0": "Mountain-400-W Silver, 46",
                                    "1": "2007-07-01 00:00:00.000"
                                },
                                {
                                    "0": "Mountain-500 Silver, 40",
                                    "1": "2007-07-01 00:00:00.000"
                                },
                                {
                                    "0": "Mountain-500 Silver, 42",
                                    "1": "2007-07-01 00:00:00.000"
                                },
                                {
                                    "0": "Mountain-500 Silver, 44",
                                    "1": "2007-07-01 00:00:00.000"
                                },
                                {
                                    "0": "Mountain-500 Silver, 48",
                                    "1": "2007-07-01 00:00:00.000"
                                },
                                {
                                    "0": "Mountain-500 Silver, 52",
                                    "1": "2007-07-01 00:00:00.000"
                                },
                                {
                                    "0": "Mountain-500 Black, 40",
                                    "1": "2007-07-01 00:00:00.000"
                                },
                                {
                                    "0": "Mountain-500 Black, 42",
                                    "1": "2007-07-01 00:00:00.000"
                                },
                                {
                                    "0": "Mountain-500 Black, 44",
                                    "1": "2007-07-01 00:00:00.000"
                                },
                                {
                                    "0": "Mountain-500 Black, 48",
                                    "1": "2007-07-01 00:00:00.000"
                                },
                                {
                                    "0": "Mountain-500 Black, 52",
                                    "1": "2007-07-01 00:00:00.000"
                                },
                                {
                                    "0": "LL Bottom Bracket",
                                    "1": "2007-07-01 00:00:00.000"
                                },
                                {
                                    "0": "ML Bottom Bracket",
                                    "1": "2007-07-01 00:00:00.000"
                                },
                                {
                                    "0": "HL Bottom Bracket",
                                    "1": "2007-07-01 00:00:00.000"
                                },
                                {
                                    "0": "Road-750 Black, 44",
                                    "1": "2007-07-01 00:00:00.000"
                                },
                                {
                                    "0": "Road-750 Black, 48",
                                    "1": "2007-07-01 00:00:00.000"
                                },
                                {
                                    "0": "Road-750 Black, 52",
                                    "1": "2007-07-01 00:00:00.000"
                                }
                            ]
                        },
                        "text/html": "<table><tr><th>Name</th><th>LastActivity</th></tr><tr><td>HL Road Frame - Black, 58</td><td>2002-06-01 00:00:00.000</td></tr><tr><td>HL Road Frame - Red, 58</td><td>2002-06-01 00:00:00.000</td></tr><tr><td>Sport-100 Helmet, Red</td><td>2005-07-01 00:00:00.000</td></tr><tr><td>Sport-100 Helmet, Black</td><td>2005-07-01 00:00:00.000</td></tr><tr><td>Mountain Bike Socks, M</td><td>2006-06-30 00:00:00.000</td></tr><tr><td>Mountain Bike Socks, L</td><td>2006-06-30 00:00:00.000</td></tr><tr><td>Sport-100 Helmet, Blue</td><td>2005-07-01 00:00:00.000</td></tr><tr><td>AWC Logo Cap</td><td>2005-07-01 00:00:00.000</td></tr><tr><td>Long-Sleeve Logo Jersey, S</td><td>2005-07-01 00:00:00.000</td></tr><tr><td>Long-Sleeve Logo Jersey, M</td><td>2005-07-01 00:00:00.000</td></tr><tr><td>Long-Sleeve Logo Jersey, L</td><td>2005-07-01 00:00:00.000</td></tr><tr><td>Long-Sleeve Logo Jersey, XL</td><td>2005-07-01 00:00:00.000</td></tr><tr><td>HL Road Frame - Red, 62</td><td>2005-07-01 00:00:00.000</td></tr><tr><td>HL Road Frame - Red, 44</td><td>2005-07-01 00:00:00.000</td></tr><tr><td>HL Road Frame - Red, 48</td><td>2005-07-01 00:00:00.000</td></tr><tr><td>HL Road Frame - Red, 52</td><td>2005-07-01 00:00:00.000</td></tr><tr><td>HL Road Frame - Red, 56</td><td>2005-07-01 00:00:00.000</td></tr><tr><td>LL Road Frame - Black, 58</td><td>2005-07-01 00:00:00.000</td></tr><tr><td>LL Road Frame - Black, 60</td><td>2005-07-01 00:00:00.000</td></tr><tr><td>LL Road Frame - Black, 62</td><td>2005-07-01 00:00:00.000</td></tr><tr><td>LL Road Frame - Red, 44</td><td>2007-06-30 00:00:00.000</td></tr><tr><td>LL Road Frame - Red, 48</td><td>2007-06-30 00:00:00.000</td></tr><tr><td>LL Road Frame - Red, 52</td><td>2007-06-30 00:00:00.000</td></tr><tr><td>LL Road Frame - Red, 58</td><td>2007-06-30 00:00:00.000</td></tr><tr><td>LL Road Frame - Red, 60</td><td>2007-06-30 00:00:00.000</td></tr><tr><td>LL Road Frame - Red, 62</td><td>2007-06-30 00:00:00.000</td></tr><tr><td>ML Road Frame - Red, 44</td><td>2006-06-30 00:00:00.000</td></tr><tr><td>ML Road Frame - Red, 48</td><td>2006-06-30 00:00:00.000</td></tr><tr><td>ML Road Frame - Red, 52</td><td>2006-06-30 00:00:00.000</td></tr><tr><td>ML Road Frame - Red, 58</td><td>2006-06-30 00:00:00.000</td></tr><tr><td>ML Road Frame - Red, 60</td><td>2006-06-30 00:00:00.000</td></tr><tr><td>LL Road Frame - Black, 44</td><td>2005-07-01 00:00:00.000</td></tr><tr><td>LL Road Frame - Black, 48</td><td>2005-07-01 00:00:00.000</td></tr><tr><td>LL Road Frame - Black, 52</td><td>2005-07-01 00:00:00.000</td></tr><tr><td>HL Mountain Frame - Silver, 42</td><td>2005-07-01 00:00:00.000</td></tr><tr><td>HL Mountain Frame - Silver, 44</td><td>2006-06-30 00:00:00.000</td></tr><tr><td>HL Mountain Frame - Silver, 48</td><td>2006-06-30 00:00:00.000</td></tr><tr><td>HL Mountain Frame - Silver, 46</td><td>2005-07-01 00:00:00.000</td></tr><tr><td>HL Mountain Frame - Black, 42</td><td>2005-07-01 00:00:00.000</td></tr><tr><td>HL Mountain Frame - Black, 44</td><td>2006-06-30 00:00:00.000</td></tr><tr><td>HL Mountain Frame - Black, 48</td><td>2006-06-30 00:00:00.000</td></tr><tr><td>HL Mountain Frame - Black, 46</td><td>2005-07-01 00:00:00.000</td></tr><tr><td>HL Mountain Frame - Black, 38</td><td>2005-07-01 00:00:00.000</td></tr><tr><td>HL Mountain Frame - Silver, 38</td><td>2005-07-01 00:00:00.000</td></tr><tr><td>Road-150 Red, 62</td><td>2006-06-30 00:00:00.000</td></tr><tr><td>Road-150 Red, 44</td><td>2006-06-30 00:00:00.000</td></tr><tr><td>Road-150 Red, 48</td><td>2006-06-30 00:00:00.000</td></tr><tr><td>Road-150 Red, 52</td><td>2006-06-30 00:00:00.000</td></tr><tr><td>Road-150 Red, 56</td><td>2006-06-30 00:00:00.000</td></tr><tr><td>Road-450 Red, 58</td><td>2006-06-30 00:00:00.000</td></tr><tr><td>Road-450 Red, 60</td><td>2006-06-30 00:00:00.000</td></tr><tr><td>Road-450 Red, 44</td><td>2006-06-30 00:00:00.000</td></tr><tr><td>Road-450 Red, 48</td><td>2006-06-30 00:00:00.000</td></tr><tr><td>Road-450 Red, 52</td><td>2006-06-30 00:00:00.000</td></tr><tr><td>Road-650 Red, 58</td><td>2007-06-30 00:00:00.000</td></tr><tr><td>Road-650 Red, 60</td><td>2007-06-30 00:00:00.000</td></tr><tr><td>Road-650 Red, 62</td><td>2007-06-30 00:00:00.000</td></tr><tr><td>Road-650 Red, 44</td><td>2007-06-30 00:00:00.000</td></tr><tr><td>Road-650 Red, 48</td><td>2007-06-30 00:00:00.000</td></tr><tr><td>Road-650 Red, 52</td><td>2007-06-30 00:00:00.000</td></tr><tr><td>Road-650 Black, 58</td><td>2007-06-30 00:00:00.000</td></tr><tr><td>Road-650 Black, 60</td><td>2007-06-30 00:00:00.000</td></tr><tr><td>Road-650 Black, 62</td><td>2007-06-30 00:00:00.000</td></tr><tr><td>Road-650 Black, 44</td><td>2007-06-30 00:00:00.000</td></tr><tr><td>Road-650 Black, 48</td><td>2007-06-30 00:00:00.000</td></tr><tr><td>Road-650 Black, 52</td><td>2007-06-30 00:00:00.000</td></tr><tr><td>Mountain-100 Silver, 38</td><td>2006-06-30 00:00:00.000</td></tr><tr><td>Mountain-100 Silver, 42</td><td>2006-06-30 00:00:00.000</td></tr><tr><td>Mountain-100 Silver, 44</td><td>2006-06-30 00:00:00.000</td></tr><tr><td>Mountain-100 Silver, 48</td><td>2006-06-30 00:00:00.000</td></tr><tr><td>Mountain-100 Black, 38</td><td>2006-06-30 00:00:00.000</td></tr><tr><td>Mountain-100 Black, 42</td><td>2006-06-30 00:00:00.000</td></tr><tr><td>Mountain-100 Black, 44</td><td>2006-06-30 00:00:00.000</td></tr><tr><td>Mountain-100 Black, 48</td><td>2006-06-30 00:00:00.000</td></tr><tr><td>Mountain-200 Silver, 38</td><td>2006-07-01 00:00:00.000</td></tr><tr><td>Mountain-200 Silver, 42</td><td>2006-07-01 00:00:00.000</td></tr><tr><td>Mountain-200 Silver, 46</td><td>2006-07-01 00:00:00.000</td></tr><tr><td>Mountain-200 Black, 38</td><td>2006-07-01 00:00:00.000</td></tr><tr><td>Mountain-200 Black, 42</td><td>2006-07-01 00:00:00.000</td></tr><tr><td>Mountain-200 Black, 46</td><td>2006-07-01 00:00:00.000</td></tr><tr><td>Mountain-300 Black, 38</td><td>2007-06-30 00:00:00.000</td></tr><tr><td>Mountain-300 Black, 40</td><td>2007-06-30 00:00:00.000</td></tr><tr><td>Mountain-300 Black, 44</td><td>2007-06-30 00:00:00.000</td></tr><tr><td>Mountain-300 Black, 48</td><td>2007-06-30 00:00:00.000</td></tr><tr><td>Road-250 Red, 44</td><td>2007-06-30 00:00:00.000</td></tr><tr><td>Road-250 Red, 48</td><td>2007-06-30 00:00:00.000</td></tr><tr><td>Road-250 Red, 52</td><td>2007-06-30 00:00:00.000</td></tr><tr><td>Road-250 Red, 58</td><td>2006-07-01 00:00:00.000</td></tr><tr><td>Road-250 Black, 44</td><td>2006-07-01 00:00:00.000</td></tr><tr><td>Road-250 Black, 48</td><td>2006-07-01 00:00:00.000</td></tr><tr><td>Road-250 Black, 52</td><td>2006-07-01 00:00:00.000</td></tr><tr><td>Road-250 Black, 58</td><td>2006-07-01 00:00:00.000</td></tr><tr><td>Road-550-W Yellow, 38</td><td>2006-07-01 00:00:00.000</td></tr><tr><td>Road-550-W Yellow, 40</td><td>2006-07-01 00:00:00.000</td></tr><tr><td>Road-550-W Yellow, 42</td><td>2006-07-01 00:00:00.000</td></tr><tr><td>Road-550-W Yellow, 44</td><td>2006-07-01 00:00:00.000</td></tr><tr><td>Road-550-W Yellow, 48</td><td>2006-07-01 00:00:00.000</td></tr><tr><td>LL Fork</td><td>2007-06-30 00:00:00.000</td></tr><tr><td>ML Fork</td><td>2007-06-30 00:00:00.000</td></tr><tr><td>HL Fork</td><td>2007-06-30 00:00:00.000</td></tr><tr><td>LL Headset</td><td>2007-06-30 00:00:00.000</td></tr><tr><td>ML Headset</td><td>2007-06-30 00:00:00.000</td></tr><tr><td>HL Headset</td><td>2007-06-30 00:00:00.000</td></tr><tr><td>LL Mountain Handlebars</td><td>2006-07-01 00:00:00.000</td></tr><tr><td>ML Mountain Handlebars</td><td>2006-07-01 00:00:00.000</td></tr><tr><td>HL Mountain Handlebars</td><td>2006-07-01 00:00:00.000</td></tr><tr><td>LL Road Handlebars</td><td>2006-07-01 00:00:00.000</td></tr><tr><td>ML Road Handlebars</td><td>2006-07-01 00:00:00.000</td></tr><tr><td>HL Road Handlebars</td><td>2006-07-01 00:00:00.000</td></tr><tr><td>ML Mountain Frame - Black, 38</td><td>2007-06-30 00:00:00.000</td></tr><tr><td>LL Mountain Front Wheel</td><td>2007-06-30 00:00:00.000</td></tr><tr><td>ML Mountain Front Wheel</td><td>2007-06-30 00:00:00.000</td></tr><tr><td>HL Mountain Front Wheel</td><td>2007-06-30 00:00:00.000</td></tr><tr><td>LL Road Front Wheel</td><td>2007-06-30 00:00:00.000</td></tr><tr><td>ML Road Front Wheel</td><td>2007-06-30 00:00:00.000</td></tr><tr><td>HL Road Front Wheel</td><td>2007-06-30 00:00:00.000</td></tr><tr><td>Touring Front Wheel</td><td>2007-06-30 00:00:00.000</td></tr><tr><td>ML Road Frame-W - Yellow, 38</td><td>2006-07-01 00:00:00.000</td></tr><tr><td>LL Mountain Rear Wheel</td><td>2007-06-30 00:00:00.000</td></tr><tr><td>ML Mountain Rear Wheel</td><td>2007-06-30 00:00:00.000</td></tr><tr><td>HL Mountain Rear Wheel</td><td>2007-06-30 00:00:00.000</td></tr><tr><td>LL Road Rear Wheel</td><td>2007-06-30 00:00:00.000</td></tr><tr><td>ML Road Rear Wheel</td><td>2007-06-30 00:00:00.000</td></tr><tr><td>HL Road Rear Wheel</td><td>2007-06-30 00:00:00.000</td></tr><tr><td>Touring Rear Wheel</td><td>2007-06-30 00:00:00.000</td></tr><tr><td>ML Mountain Frame - Black, 40</td><td>2007-06-30 00:00:00.000</td></tr><tr><td>ML Mountain Frame - Black, 44</td><td>2007-06-30 00:00:00.000</td></tr><tr><td>ML Mountain Frame - Black, 48</td><td>2007-06-30 00:00:00.000</td></tr><tr><td>ML Road Frame-W - Yellow, 40</td><td>2006-07-01 00:00:00.000</td></tr><tr><td>ML Road Frame-W - Yellow, 42</td><td>2006-07-01 00:00:00.000</td></tr><tr><td>ML Road Frame-W - Yellow, 44</td><td>2006-07-01 00:00:00.000</td></tr><tr><td>ML Road Frame-W - Yellow, 48</td><td>2006-07-01 00:00:00.000</td></tr><tr><td>HL Road Frame - Black, 62</td><td>2006-07-01 00:00:00.000</td></tr><tr><td>HL Road Frame - Black, 44</td><td>2006-07-01 00:00:00.000</td></tr><tr><td>HL Road Frame - Black, 48</td><td>2006-07-01 00:00:00.000</td></tr><tr><td>HL Road Frame - Black, 52</td><td>2006-07-01 00:00:00.000</td></tr><tr><td>Men's Sports Shorts, S</td><td>2007-06-30 00:00:00.000</td></tr><tr><td>Touring-Panniers, Large</td><td>2007-06-30 00:00:00.000</td></tr><tr><td>Cable Lock</td><td>2007-06-30 00:00:00.000</td></tr><tr><td>Minipump</td><td>2007-06-30 00:00:00.000</td></tr><tr><td>Mountain Pump</td><td>2007-06-30 00:00:00.000</td></tr><tr><td>Taillights - Battery-Powered</td><td>2007-06-30 00:00:00.000</td></tr><tr><td>Headlights - Dual-Beam</td><td>2007-06-30 00:00:00.000</td></tr><tr><td>Headlights - Weatherproof</td><td>2007-06-30 00:00:00.000</td></tr><tr><td>Men's Sports Shorts, M</td><td>2007-06-30 00:00:00.000</td></tr><tr><td>Men's Sports Shorts, L</td><td>2007-06-30 00:00:00.000</td></tr><tr><td>Men's Sports Shorts, XL</td><td>2007-06-30 00:00:00.000</td></tr><tr><td>Women's Tights, S</td><td>2007-06-30 00:00:00.000</td></tr><tr><td>Women's Tights, M</td><td>2007-06-30 00:00:00.000</td></tr><tr><td>Women's Tights, L</td><td>2007-06-30 00:00:00.000</td></tr><tr><td>Men's Bib-Shorts, S</td><td>2007-06-30 00:00:00.000</td></tr><tr><td>Men's Bib-Shorts, M</td><td>2007-06-30 00:00:00.000</td></tr><tr><td>Men's Bib-Shorts, L</td><td>2007-06-30 00:00:00.000</td></tr><tr><td>Half-Finger Gloves, S</td><td>2006-07-01 00:00:00.000</td></tr><tr><td>Half-Finger Gloves, M</td><td>2006-07-01 00:00:00.000</td></tr><tr><td>Half-Finger Gloves, L</td><td>2006-07-01 00:00:00.000</td></tr><tr><td>Full-Finger Gloves, S</td><td>2007-06-30 00:00:00.000</td></tr><tr><td>Full-Finger Gloves, M</td><td>2007-06-30 00:00:00.000</td></tr><tr><td>Full-Finger Gloves, L</td><td>2007-06-30 00:00:00.000</td></tr><tr><td>Classic Vest, S</td><td>2007-07-01 00:00:00.000</td></tr><tr><td>Classic Vest, M</td><td>2007-07-01 00:00:00.000</td></tr><tr><td>Classic Vest, L</td><td>2007-07-01 00:00:00.000</td></tr><tr><td>Women's Mountain Shorts, S</td><td>2007-07-01 00:00:00.000</td></tr><tr><td>Women's Mountain Shorts, M</td><td>2007-07-01 00:00:00.000</td></tr><tr><td>Women's Mountain Shorts, L</td><td>2007-07-01 00:00:00.000</td></tr><tr><td>Water Bottle - 30 oz.</td><td>2007-07-01 00:00:00.000</td></tr><tr><td>Mountain Bottle Cage</td><td>2007-07-01 00:00:00.000</td></tr><tr><td>Road Bottle Cage</td><td>2007-07-01 00:00:00.000</td></tr><tr><td>Patch Kit/8 Patches</td><td>2007-07-01 00:00:00.000</td></tr><tr><td>Racing Socks, M</td><td>2007-07-01 00:00:00.000</td></tr><tr><td>Racing Socks, L</td><td>2007-07-01 00:00:00.000</td></tr><tr><td>Hitch Rack - 4-Bike</td><td>2007-07-01 00:00:00.000</td></tr><tr><td>Bike Wash - Dissolver</td><td>2007-07-01 00:00:00.000</td></tr><tr><td>Fender Set - Mountain</td><td>2007-07-01 00:00:00.000</td></tr><tr><td>All-Purpose Bike Stand</td><td>2007-07-01 00:00:00.000</td></tr><tr><td>Hydration Pack - 70 oz.</td><td>2007-07-01 00:00:00.000</td></tr><tr><td>Short-Sleeve Classic Jersey, S</td><td>2007-07-01 00:00:00.000</td></tr><tr><td>Short-Sleeve Classic Jersey, M</td><td>2007-07-01 00:00:00.000</td></tr><tr><td>Short-Sleeve Classic Jersey, L</td><td>2007-07-01 00:00:00.000</td></tr><tr><td>Short-Sleeve Classic Jersey, XL</td><td>2007-07-01 00:00:00.000</td></tr><tr><td>HL Touring Frame - Yellow, 60</td><td>2007-07-01 00:00:00.000</td></tr><tr><td>LL Touring Frame - Yellow, 62</td><td>2007-07-01 00:00:00.000</td></tr><tr><td>HL Touring Frame - Yellow, 46</td><td>2007-07-01 00:00:00.000</td></tr><tr><td>HL Touring Frame - Yellow, 50</td><td>2007-07-01 00:00:00.000</td></tr><tr><td>HL Touring Frame - Yellow, 54</td><td>2007-07-01 00:00:00.000</td></tr><tr><td>HL Touring Frame - Blue, 46</td><td>2007-07-01 00:00:00.000</td></tr><tr><td>HL Touring Frame - Blue, 50</td><td>2007-07-01 00:00:00.000</td></tr><tr><td>HL Touring Frame - Blue, 54</td><td>2007-07-01 00:00:00.000</td></tr><tr><td>HL Touring Frame - Blue, 60</td><td>2007-07-01 00:00:00.000</td></tr><tr><td>Rear Derailleur</td><td>2007-07-01 00:00:00.000</td></tr><tr><td>LL Touring Frame - Blue, 50</td><td>2007-07-01 00:00:00.000</td></tr><tr><td>LL Touring Frame - Blue, 54</td><td>2007-07-01 00:00:00.000</td></tr><tr><td>LL Touring Frame - Blue, 58</td><td>2007-07-01 00:00:00.000</td></tr><tr><td>LL Touring Frame - Blue, 62</td><td>2007-07-01 00:00:00.000</td></tr><tr><td>LL Touring Frame - Yellow, 44</td><td>2007-07-01 00:00:00.000</td></tr><tr><td>LL Touring Frame - Yellow, 50</td><td>2007-07-01 00:00:00.000</td></tr><tr><td>LL Touring Frame - Yellow, 54</td><td>2007-07-01 00:00:00.000</td></tr><tr><td>LL Touring Frame - Yellow, 58</td><td>2007-07-01 00:00:00.000</td></tr><tr><td>LL Touring Frame - Blue, 44</td><td>2007-07-01 00:00:00.000</td></tr><tr><td>ML Mountain Frame-W - Silver, 40</td><td>2007-07-01 00:00:00.000</td></tr><tr><td>ML Mountain Frame-W - Silver, 42</td><td>2007-07-01 00:00:00.000</td></tr><tr><td>ML Mountain Frame-W - Silver, 46</td><td>2007-07-01 00:00:00.000</td></tr><tr><td>Rear Brakes</td><td>2007-07-01 00:00:00.000</td></tr><tr><td>LL Mountain Seat/Saddle</td><td>2007-07-01 00:00:00.000</td></tr><tr><td>ML Mountain Seat/Saddle</td><td>2007-07-01 00:00:00.000</td></tr><tr><td>HL Mountain Seat/Saddle</td><td>2007-07-01 00:00:00.000</td></tr><tr><td>LL Road Seat/Saddle</td><td>2007-07-01 00:00:00.000</td></tr><tr><td>ML Road Seat/Saddle</td><td>2007-07-01 00:00:00.000</td></tr><tr><td>HL Road Seat/Saddle</td><td>2007-07-01 00:00:00.000</td></tr><tr><td>LL Touring Seat/Saddle</td><td>2007-07-01 00:00:00.000</td></tr><tr><td>ML Touring Seat/Saddle</td><td>2007-07-01 00:00:00.000</td></tr><tr><td>HL Touring Seat/Saddle</td><td>2007-07-01 00:00:00.000</td></tr><tr><td>LL Mountain Frame - Silver, 42</td><td>2007-07-01 00:00:00.000</td></tr><tr><td>LL Mountain Frame - Silver, 44</td><td>2007-07-01 00:00:00.000</td></tr><tr><td>LL Mountain Frame - Silver, 48</td><td>2007-07-01 00:00:00.000</td></tr><tr><td>LL Mountain Frame - Silver, 52</td><td>2007-07-01 00:00:00.000</td></tr><tr><td>Mountain Tire Tube</td><td>2007-07-01 00:00:00.000</td></tr><tr><td>Road Tire Tube</td><td>2007-07-01 00:00:00.000</td></tr><tr><td>Touring Tire Tube</td><td>2007-07-01 00:00:00.000</td></tr><tr><td>LL Mountain Frame - Black, 42</td><td>2007-07-01 00:00:00.000</td></tr><tr><td>LL Mountain Frame - Black, 44</td><td>2007-07-01 00:00:00.000</td></tr><tr><td>LL Mountain Frame - Black, 48</td><td>2007-07-01 00:00:00.000</td></tr><tr><td>LL Mountain Frame - Black, 52</td><td>2007-07-01 00:00:00.000</td></tr><tr><td>LL Mountain Tire</td><td>2007-07-01 00:00:00.000</td></tr><tr><td>ML Mountain Tire</td><td>2007-07-01 00:00:00.000</td></tr><tr><td>HL Mountain Tire</td><td>2007-07-01 00:00:00.000</td></tr><tr><td>LL Road Tire</td><td>2007-07-01 00:00:00.000</td></tr><tr><td>ML Road Tire</td><td>2007-07-01 00:00:00.000</td></tr><tr><td>HL Road Tire</td><td>2007-07-01 00:00:00.000</td></tr><tr><td>Touring Tire</td><td>2007-07-01 00:00:00.000</td></tr><tr><td>LL Mountain Pedal</td><td>2007-07-01 00:00:00.000</td></tr><tr><td>ML Mountain Pedal</td><td>2007-07-01 00:00:00.000</td></tr><tr><td>HL Mountain Pedal</td><td>2007-07-01 00:00:00.000</td></tr><tr><td>LL Road Pedal</td><td>2007-07-01 00:00:00.000</td></tr><tr><td>ML Road Pedal</td><td>2007-07-01 00:00:00.000</td></tr><tr><td>HL Road Pedal</td><td>2007-07-01 00:00:00.000</td></tr><tr><td>Touring Pedal</td><td>2007-07-01 00:00:00.000</td></tr><tr><td>ML Mountain Frame-W - Silver, 38</td><td>2007-07-01 00:00:00.000</td></tr><tr><td>LL Mountain Frame - Black, 40</td><td>2007-07-01 00:00:00.000</td></tr><tr><td>LL Mountain Frame - Silver, 40</td><td>2007-07-01 00:00:00.000</td></tr><tr><td>Front Derailleur</td><td>2007-07-01 00:00:00.000</td></tr><tr><td>LL Touring Handlebars</td><td>2007-07-01 00:00:00.000</td></tr><tr><td>HL Touring Handlebars</td><td>2007-07-01 00:00:00.000</td></tr><tr><td>Front Brakes</td><td>2007-07-01 00:00:00.000</td></tr><tr><td>LL Crankset</td><td>2007-07-01 00:00:00.000</td></tr><tr><td>ML Crankset</td><td>2007-07-01 00:00:00.000</td></tr><tr><td>HL Crankset</td><td>2007-07-01 00:00:00.000</td></tr><tr><td>Chain</td><td>2007-07-01 00:00:00.000</td></tr><tr><td>Touring-2000 Blue, 60</td><td>2007-07-01 00:00:00.000</td></tr><tr><td>Touring-1000 Yellow, 46</td><td>2007-07-01 00:00:00.000</td></tr><tr><td>Touring-1000 Yellow, 50</td><td>2007-07-01 00:00:00.000</td></tr><tr><td>Touring-1000 Yellow, 54</td><td>2007-07-01 00:00:00.000</td></tr><tr><td>Touring-1000 Yellow, 60</td><td>2007-07-01 00:00:00.000</td></tr><tr><td>Touring-3000 Blue, 54</td><td>2007-07-01 00:00:00.000</td></tr><tr><td>Touring-3000 Blue, 58</td><td>2007-07-01 00:00:00.000</td></tr><tr><td>Touring-3000 Blue, 62</td><td>2007-07-01 00:00:00.000</td></tr><tr><td>Touring-3000 Yellow, 44</td><td>2007-07-01 00:00:00.000</td></tr><tr><td>Touring-3000 Yellow, 50</td><td>2007-07-01 00:00:00.000</td></tr><tr><td>Touring-3000 Yellow, 54</td><td>2007-07-01 00:00:00.000</td></tr><tr><td>Touring-3000 Yellow, 58</td><td>2007-07-01 00:00:00.000</td></tr><tr><td>Touring-3000 Yellow, 62</td><td>2007-07-01 00:00:00.000</td></tr><tr><td>Touring-1000 Blue, 46</td><td>2007-07-01 00:00:00.000</td></tr><tr><td>Touring-1000 Blue, 50</td><td>2007-07-01 00:00:00.000</td></tr><tr><td>Touring-1000 Blue, 54</td><td>2007-07-01 00:00:00.000</td></tr><tr><td>Touring-1000 Blue, 60</td><td>2007-07-01 00:00:00.000</td></tr><tr><td>Touring-2000 Blue, 46</td><td>2007-07-01 00:00:00.000</td></tr><tr><td>Touring-2000 Blue, 50</td><td>2007-07-01 00:00:00.000</td></tr><tr><td>Touring-2000 Blue, 54</td><td>2007-07-01 00:00:00.000</td></tr><tr><td>Road-350-W Yellow, 40</td><td>2007-07-01 00:00:00.000</td></tr><tr><td>Road-350-W Yellow, 42</td><td>2007-07-01 00:00:00.000</td></tr><tr><td>Road-350-W Yellow, 44</td><td>2007-07-01 00:00:00.000</td></tr><tr><td>Road-350-W Yellow, 48</td><td>2007-07-01 00:00:00.000</td></tr><tr><td>Road-750 Black, 58</td><td>2007-07-01 00:00:00.000</td></tr><tr><td>Touring-3000 Blue, 44</td><td>2007-07-01 00:00:00.000</td></tr><tr><td>Touring-3000 Blue, 50</td><td>2007-07-01 00:00:00.000</td></tr><tr><td>Mountain-400-W Silver, 38</td><td>2007-07-01 00:00:00.000</td></tr><tr><td>Mountain-400-W Silver, 40</td><td>2007-07-01 00:00:00.000</td></tr><tr><td>Mountain-400-W Silver, 42</td><td>2007-07-01 00:00:00.000</td></tr><tr><td>Mountain-400-W Silver, 46</td><td>2007-07-01 00:00:00.000</td></tr><tr><td>Mountain-500 Silver, 40</td><td>2007-07-01 00:00:00.000</td></tr><tr><td>Mountain-500 Silver, 42</td><td>2007-07-01 00:00:00.000</td></tr><tr><td>Mountain-500 Silver, 44</td><td>2007-07-01 00:00:00.000</td></tr><tr><td>Mountain-500 Silver, 48</td><td>2007-07-01 00:00:00.000</td></tr><tr><td>Mountain-500 Silver, 52</td><td>2007-07-01 00:00:00.000</td></tr><tr><td>Mountain-500 Black, 40</td><td>2007-07-01 00:00:00.000</td></tr><tr><td>Mountain-500 Black, 42</td><td>2007-07-01 00:00:00.000</td></tr><tr><td>Mountain-500 Black, 44</td><td>2007-07-01 00:00:00.000</td></tr><tr><td>Mountain-500 Black, 48</td><td>2007-07-01 00:00:00.000</td></tr><tr><td>Mountain-500 Black, 52</td><td>2007-07-01 00:00:00.000</td></tr><tr><td>LL Bottom Bracket</td><td>2007-07-01 00:00:00.000</td></tr><tr><td>ML Bottom Bracket</td><td>2007-07-01 00:00:00.000</td></tr><tr><td>HL Bottom Bracket</td><td>2007-07-01 00:00:00.000</td></tr><tr><td>Road-750 Black, 44</td><td>2007-07-01 00:00:00.000</td></tr><tr><td>Road-750 Black, 48</td><td>2007-07-01 00:00:00.000</td></tr><tr><td>Road-750 Black, 52</td><td>2007-07-01 00:00:00.000</td></tr></table>"
                    },
                    "metadata": {
                        "resultSet": {
                            "id": 0,
                            "batchId": 0,
                            "rowCount": 295,
                            "complete": true,
                            "columnInfo": [
                                {
                                    "isBytes": false,
                                    "isChars": true,
                                    "isSqlVariant": false,
                                    "isUdt": false,
                                    "isXml": false,
                                    "isJson": false,
                                    "sqlDbType": 12,
                                    "isHierarchyId": false,
                                    "isSqlXmlType": false,
                                    "isUnknownType": false,
                                    "isUpdatable": true,
                                    "allowDBNull": false,
                                    "baseCatalogName": null,
                                    "baseColumnName": null,
                                    "baseSchemaName": null,
                                    "baseServerName": null,
                                    "baseTableName": null,
                                    "columnName": "Name",
                                    "columnOrdinal": 0,
                                    "columnSize": 50,
                                    "isAliased": null,
                                    "isAutoIncrement": false,
                                    "isExpression": null,
                                    "isHidden": null,
                                    "isIdentity": false,
                                    "isKey": null,
                                    "isLong": false,
                                    "isReadOnly": false,
                                    "isUnique": false,
                                    "numericPrecision": 255,
                                    "numericScale": 255,
                                    "udtAssemblyQualifiedName": null,
                                    "dataType": "System.String, System.Private.CoreLib, Version=4.0.0.0, Culture=neutral, PublicKeyToken=7cec85d7bea7798e",
                                    "dataTypeName": "nvarchar"
                                },
                                {
                                    "isBytes": false,
                                    "isChars": false,
                                    "isSqlVariant": false,
                                    "isUdt": false,
                                    "isXml": false,
                                    "isJson": false,
                                    "sqlDbType": 4,
                                    "isHierarchyId": false,
                                    "isSqlXmlType": false,
                                    "isUnknownType": false,
                                    "isUpdatable": false,
                                    "allowDBNull": true,
                                    "baseCatalogName": null,
                                    "baseColumnName": null,
                                    "baseSchemaName": null,
                                    "baseServerName": null,
                                    "baseTableName": null,
                                    "columnName": "LastActivity",
                                    "columnOrdinal": 1,
                                    "columnSize": 8,
                                    "isAliased": null,
                                    "isAutoIncrement": false,
                                    "isExpression": null,
                                    "isHidden": null,
                                    "isIdentity": false,
                                    "isKey": null,
                                    "isLong": false,
                                    "isReadOnly": true,
                                    "isUnique": false,
                                    "numericPrecision": 23,
                                    "numericScale": 3,
                                    "udtAssemblyQualifiedName": null,
                                    "dataType": "System.DateTime, System.Private.CoreLib, Version=4.0.0.0, Culture=neutral, PublicKeyToken=7cec85d7bea7798e",
                                    "dataTypeName": "datetime"
                                }
                            ],
                            "specialAction": {
                                "none": true,
                                "expectYukonXMLShowPlan": false
                            }
                        }
                    }
                }
            ],
            "execution_count": 2
        }
    ]
}