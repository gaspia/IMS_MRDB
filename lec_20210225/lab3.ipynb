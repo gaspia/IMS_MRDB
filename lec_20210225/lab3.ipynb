{
    "metadata": {
        "kernelspec": {
            "name": "SQL",
            "display_name": "SQL",
            "language": "sql"
        },
        "language_info": {
            "name": "sql",
            "version": ""
        }
    },
    "nbformat_minor": 2,
    "nbformat": 4,
    "cells": [
        {
            "cell_type": "markdown",
            "source": [
                "\\## Exercise 1\n",
                "\n",
                "Write a query to return the product ID of each product, together with the product name formatted as upper case and a column named ApproxWeight with the weight of each product rounded to the nearest whole unit. Make sure to use the aliases provided, and default column names elsewhere."
            ],
            "metadata": {
                "azdata_cell_guid": "25cf2333-daa2-46c3-b3ef-80ea298c9b0e"
            }
        },
        {
            "cell_type": "code",
            "source": [
                "SELECT ProductID, UPPER(Name) as PRODUCTNAME, CAST(ROUND(Weight, 0) as INT) as \"ApproxWeight\" from AdventureWorksLT.SalesLT.Product;"
            ],
            "metadata": {
                "azdata_cell_guid": "b91d1422-2c6a-45d3-a69c-53412faf1890"
            },
            "outputs": [
                {
                    "output_type": "display_data",
                    "data": {
                        "text/html": "(295 rows affected)"
                    },
                    "metadata": {}
                },
                {
                    "output_type": "display_data",
                    "data": {
                        "text/html": "Total execution time: 00:00:00.021"
                    },
                    "metadata": {}
                },
                {
                    "output_type": "execute_result",
                    "execution_count": 17,
                    "data": {
                        "application/vnd.dataresource+json": {
                            "schema": {
                                "fields": [
                                    {
                                        "name": "ProductID"
                                    },
                                    {
                                        "name": "PRODUCTNAME"
                                    },
                                    {
                                        "name": "ApproxWeight"
                                    }
                                ]
                            },
                            "data": [
                                {
                                    "0": "680",
                                    "1": "HL ROAD FRAME - BLACK, 58",
                                    "2": "1016"
                                },
                                {
                                    "0": "706",
                                    "1": "HL ROAD FRAME - RED, 58",
                                    "2": "1016"
                                },
                                {
                                    "0": "707",
                                    "1": "SPORT-100 HELMET, RED",
                                    "2": "NULL"
                                },
                                {
                                    "0": "708",
                                    "1": "SPORT-100 HELMET, BLACK",
                                    "2": "NULL"
                                },
                                {
                                    "0": "709",
                                    "1": "MOUNTAIN BIKE SOCKS, M",
                                    "2": "NULL"
                                },
                                {
                                    "0": "710",
                                    "1": "MOUNTAIN BIKE SOCKS, L",
                                    "2": "NULL"
                                },
                                {
                                    "0": "711",
                                    "1": "SPORT-100 HELMET, BLUE",
                                    "2": "NULL"
                                },
                                {
                                    "0": "712",
                                    "1": "AWC LOGO CAP",
                                    "2": "NULL"
                                },
                                {
                                    "0": "713",
                                    "1": "LONG-SLEEVE LOGO JERSEY, S",
                                    "2": "NULL"
                                },
                                {
                                    "0": "714",
                                    "1": "LONG-SLEEVE LOGO JERSEY, M",
                                    "2": "NULL"
                                },
                                {
                                    "0": "715",
                                    "1": "LONG-SLEEVE LOGO JERSEY, L",
                                    "2": "NULL"
                                },
                                {
                                    "0": "716",
                                    "1": "LONG-SLEEVE LOGO JERSEY, XL",
                                    "2": "NULL"
                                },
                                {
                                    "0": "717",
                                    "1": "HL ROAD FRAME - RED, 62",
                                    "2": "1043"
                                },
                                {
                                    "0": "718",
                                    "1": "HL ROAD FRAME - RED, 44",
                                    "2": "962"
                                },
                                {
                                    "0": "719",
                                    "1": "HL ROAD FRAME - RED, 48",
                                    "2": "980"
                                },
                                {
                                    "0": "720",
                                    "1": "HL ROAD FRAME - RED, 52",
                                    "2": "998"
                                },
                                {
                                    "0": "721",
                                    "1": "HL ROAD FRAME - RED, 56",
                                    "2": "1016"
                                },
                                {
                                    "0": "722",
                                    "1": "LL ROAD FRAME - BLACK, 58",
                                    "2": "1116"
                                },
                                {
                                    "0": "723",
                                    "1": "LL ROAD FRAME - BLACK, 60",
                                    "2": "1125"
                                },
                                {
                                    "0": "724",
                                    "1": "LL ROAD FRAME - BLACK, 62",
                                    "2": "1134"
                                },
                                {
                                    "0": "725",
                                    "1": "LL ROAD FRAME - RED, 44",
                                    "2": "1052"
                                },
                                {
                                    "0": "726",
                                    "1": "LL ROAD FRAME - RED, 48",
                                    "2": "1070"
                                },
                                {
                                    "0": "727",
                                    "1": "LL ROAD FRAME - RED, 52",
                                    "2": "1089"
                                },
                                {
                                    "0": "728",
                                    "1": "LL ROAD FRAME - RED, 58",
                                    "2": "1116"
                                },
                                {
                                    "0": "729",
                                    "1": "LL ROAD FRAME - RED, 60",
                                    "2": "1125"
                                },
                                {
                                    "0": "730",
                                    "1": "LL ROAD FRAME - RED, 62",
                                    "2": "1134"
                                },
                                {
                                    "0": "731",
                                    "1": "ML ROAD FRAME - RED, 44",
                                    "2": "1007"
                                },
                                {
                                    "0": "732",
                                    "1": "ML ROAD FRAME - RED, 48",
                                    "2": "1025"
                                },
                                {
                                    "0": "733",
                                    "1": "ML ROAD FRAME - RED, 52",
                                    "2": "1043"
                                },
                                {
                                    "0": "734",
                                    "1": "ML ROAD FRAME - RED, 58",
                                    "2": "1070"
                                },
                                {
                                    "0": "735",
                                    "1": "ML ROAD FRAME - RED, 60",
                                    "2": "1080"
                                },
                                {
                                    "0": "736",
                                    "1": "LL ROAD FRAME - BLACK, 44",
                                    "2": "1052"
                                },
                                {
                                    "0": "737",
                                    "1": "LL ROAD FRAME - BLACK, 48",
                                    "2": "1070"
                                },
                                {
                                    "0": "738",
                                    "1": "LL ROAD FRAME - BLACK, 52",
                                    "2": "1089"
                                },
                                {
                                    "0": "739",
                                    "1": "HL MOUNTAIN FRAME - SILVER, 42",
                                    "2": "1234"
                                },
                                {
                                    "0": "740",
                                    "1": "HL MOUNTAIN FRAME - SILVER, 44",
                                    "2": "1252"
                                },
                                {
                                    "0": "741",
                                    "1": "HL MOUNTAIN FRAME - SILVER, 48",
                                    "2": "1270"
                                },
                                {
                                    "0": "742",
                                    "1": "HL MOUNTAIN FRAME - SILVER, 46",
                                    "2": "1288"
                                },
                                {
                                    "0": "743",
                                    "1": "HL MOUNTAIN FRAME - BLACK, 42",
                                    "2": "1234"
                                },
                                {
                                    "0": "744",
                                    "1": "HL MOUNTAIN FRAME - BLACK, 44",
                                    "2": "1252"
                                },
                                {
                                    "0": "745",
                                    "1": "HL MOUNTAIN FRAME - BLACK, 48",
                                    "2": "1270"
                                },
                                {
                                    "0": "746",
                                    "1": "HL MOUNTAIN FRAME - BLACK, 46",
                                    "2": "1288"
                                },
                                {
                                    "0": "747",
                                    "1": "HL MOUNTAIN FRAME - BLACK, 38",
                                    "2": "1216"
                                },
                                {
                                    "0": "748",
                                    "1": "HL MOUNTAIN FRAME - SILVER, 38",
                                    "2": "1216"
                                },
                                {
                                    "0": "749",
                                    "1": "ROAD-150 RED, 62",
                                    "2": "6804"
                                },
                                {
                                    "0": "750",
                                    "1": "ROAD-150 RED, 44",
                                    "2": "6246"
                                },
                                {
                                    "0": "751",
                                    "1": "ROAD-150 RED, 48",
                                    "2": "6409"
                                },
                                {
                                    "0": "752",
                                    "1": "ROAD-150 RED, 52",
                                    "2": "6541"
                                },
                                {
                                    "0": "753",
                                    "1": "ROAD-150 RED, 56",
                                    "2": "6659"
                                },
                                {
                                    "0": "754",
                                    "1": "ROAD-450 RED, 58",
                                    "2": "8069"
                                },
                                {
                                    "0": "755",
                                    "1": "ROAD-450 RED, 60",
                                    "2": "8119"
                                },
                                {
                                    "0": "756",
                                    "1": "ROAD-450 RED, 44",
                                    "2": "7607"
                                },
                                {
                                    "0": "757",
                                    "1": "ROAD-450 RED, 48",
                                    "2": "7770"
                                },
                                {
                                    "0": "758",
                                    "1": "ROAD-450 RED, 52",
                                    "2": "7902"
                                },
                                {
                                    "0": "759",
                                    "1": "ROAD-650 RED, 58",
                                    "2": "8977"
                                },
                                {
                                    "0": "760",
                                    "1": "ROAD-650 RED, 60",
                                    "2": "9026"
                                },
                                {
                                    "0": "761",
                                    "1": "ROAD-650 RED, 62",
                                    "2": "9072"
                                },
                                {
                                    "0": "762",
                                    "1": "ROAD-650 RED, 44",
                                    "2": "8514"
                                },
                                {
                                    "0": "763",
                                    "1": "ROAD-650 RED, 48",
                                    "2": "8677"
                                },
                                {
                                    "0": "764",
                                    "1": "ROAD-650 RED, 52",
                                    "2": "8809"
                                },
                                {
                                    "0": "765",
                                    "1": "ROAD-650 BLACK, 58",
                                    "2": "8977"
                                },
                                {
                                    "0": "766",
                                    "1": "ROAD-650 BLACK, 60",
                                    "2": "9026"
                                },
                                {
                                    "0": "767",
                                    "1": "ROAD-650 BLACK, 62",
                                    "2": "9072"
                                },
                                {
                                    "0": "768",
                                    "1": "ROAD-650 BLACK, 44",
                                    "2": "8514"
                                },
                                {
                                    "0": "769",
                                    "1": "ROAD-650 BLACK, 48",
                                    "2": "8677"
                                },
                                {
                                    "0": "770",
                                    "1": "ROAD-650 BLACK, 52",
                                    "2": "8809"
                                },
                                {
                                    "0": "771",
                                    "1": "MOUNTAIN-100 SILVER, 38",
                                    "2": "9231"
                                },
                                {
                                    "0": "772",
                                    "1": "MOUNTAIN-100 SILVER, 42",
                                    "2": "9421"
                                },
                                {
                                    "0": "773",
                                    "1": "MOUNTAIN-100 SILVER, 44",
                                    "2": "9584"
                                },
                                {
                                    "0": "774",
                                    "1": "MOUNTAIN-100 SILVER, 48",
                                    "2": "9716"
                                },
                                {
                                    "0": "775",
                                    "1": "MOUNTAIN-100 BLACK, 38",
                                    "2": "9231"
                                },
                                {
                                    "0": "776",
                                    "1": "MOUNTAIN-100 BLACK, 42",
                                    "2": "9421"
                                },
                                {
                                    "0": "777",
                                    "1": "MOUNTAIN-100 BLACK, 44",
                                    "2": "9584"
                                },
                                {
                                    "0": "778",
                                    "1": "MOUNTAIN-100 BLACK, 48",
                                    "2": "9716"
                                },
                                {
                                    "0": "779",
                                    "1": "MOUNTAIN-200 SILVER, 38",
                                    "2": "10591"
                                },
                                {
                                    "0": "780",
                                    "1": "MOUNTAIN-200 SILVER, 42",
                                    "2": "10782"
                                },
                                {
                                    "0": "781",
                                    "1": "MOUNTAIN-200 SILVER, 46",
                                    "2": "10945"
                                },
                                {
                                    "0": "782",
                                    "1": "MOUNTAIN-200 BLACK, 38",
                                    "2": "10591"
                                },
                                {
                                    "0": "783",
                                    "1": "MOUNTAIN-200 BLACK, 42",
                                    "2": "10782"
                                },
                                {
                                    "0": "784",
                                    "1": "MOUNTAIN-200 BLACK, 46",
                                    "2": "10945"
                                },
                                {
                                    "0": "785",
                                    "1": "MOUNTAIN-300 BLACK, 38",
                                    "2": "11499"
                                },
                                {
                                    "0": "786",
                                    "1": "MOUNTAIN-300 BLACK, 40",
                                    "2": "11689"
                                },
                                {
                                    "0": "787",
                                    "1": "MOUNTAIN-300 BLACK, 44",
                                    "2": "11852"
                                },
                                {
                                    "0": "788",
                                    "1": "MOUNTAIN-300 BLACK, 48",
                                    "2": "11984"
                                },
                                {
                                    "0": "789",
                                    "1": "ROAD-250 RED, 44",
                                    "2": "6700"
                                },
                                {
                                    "0": "790",
                                    "1": "ROAD-250 RED, 48",
                                    "2": "6863"
                                },
                                {
                                    "0": "791",
                                    "1": "ROAD-250 RED, 52",
                                    "2": "6994"
                                },
                                {
                                    "0": "792",
                                    "1": "ROAD-250 RED, 58",
                                    "2": "7162"
                                },
                                {
                                    "0": "793",
                                    "1": "ROAD-250 BLACK, 44",
                                    "2": "6700"
                                },
                                {
                                    "0": "794",
                                    "1": "ROAD-250 BLACK, 48",
                                    "2": "6863"
                                },
                                {
                                    "0": "795",
                                    "1": "ROAD-250 BLACK, 52",
                                    "2": "6994"
                                },
                                {
                                    "0": "796",
                                    "1": "ROAD-250 BLACK, 58",
                                    "2": "7112"
                                },
                                {
                                    "0": "797",
                                    "1": "ROAD-550-W YELLOW, 38",
                                    "2": "7870"
                                },
                                {
                                    "0": "798",
                                    "1": "ROAD-550-W YELLOW, 40",
                                    "2": "8060"
                                },
                                {
                                    "0": "799",
                                    "1": "ROAD-550-W YELLOW, 42",
                                    "2": "8224"
                                },
                                {
                                    "0": "800",
                                    "1": "ROAD-550-W YELLOW, 44",
                                    "2": "8355"
                                },
                                {
                                    "0": "801",
                                    "1": "ROAD-550-W YELLOW, 48",
                                    "2": "8473"
                                },
                                {
                                    "0": "802",
                                    "1": "LL FORK",
                                    "2": "NULL"
                                },
                                {
                                    "0": "803",
                                    "1": "ML FORK",
                                    "2": "NULL"
                                },
                                {
                                    "0": "804",
                                    "1": "HL FORK",
                                    "2": "NULL"
                                },
                                {
                                    "0": "805",
                                    "1": "LL HEADSET",
                                    "2": "NULL"
                                },
                                {
                                    "0": "806",
                                    "1": "ML HEADSET",
                                    "2": "NULL"
                                },
                                {
                                    "0": "807",
                                    "1": "HL HEADSET",
                                    "2": "NULL"
                                },
                                {
                                    "0": "808",
                                    "1": "LL MOUNTAIN HANDLEBARS",
                                    "2": "NULL"
                                },
                                {
                                    "0": "809",
                                    "1": "ML MOUNTAIN HANDLEBARS",
                                    "2": "NULL"
                                },
                                {
                                    "0": "810",
                                    "1": "HL MOUNTAIN HANDLEBARS",
                                    "2": "NULL"
                                },
                                {
                                    "0": "811",
                                    "1": "LL ROAD HANDLEBARS",
                                    "2": "NULL"
                                },
                                {
                                    "0": "812",
                                    "1": "ML ROAD HANDLEBARS",
                                    "2": "NULL"
                                },
                                {
                                    "0": "813",
                                    "1": "HL ROAD HANDLEBARS",
                                    "2": "NULL"
                                },
                                {
                                    "0": "814",
                                    "1": "ML MOUNTAIN FRAME - BLACK, 38",
                                    "2": "1238"
                                },
                                {
                                    "0": "815",
                                    "1": "LL MOUNTAIN FRONT WHEEL",
                                    "2": "NULL"
                                },
                                {
                                    "0": "816",
                                    "1": "ML MOUNTAIN FRONT WHEEL",
                                    "2": "NULL"
                                },
                                {
                                    "0": "817",
                                    "1": "HL MOUNTAIN FRONT WHEEL",
                                    "2": "NULL"
                                },
                                {
                                    "0": "818",
                                    "1": "LL ROAD FRONT WHEEL",
                                    "2": "900"
                                },
                                {
                                    "0": "819",
                                    "1": "ML ROAD FRONT WHEEL",
                                    "2": "850"
                                },
                                {
                                    "0": "820",
                                    "1": "HL ROAD FRONT WHEEL",
                                    "2": "650"
                                },
                                {
                                    "0": "821",
                                    "1": "TOURING FRONT WHEEL",
                                    "2": "NULL"
                                },
                                {
                                    "0": "822",
                                    "1": "ML ROAD FRAME-W - YELLOW, 38",
                                    "2": "989"
                                },
                                {
                                    "0": "823",
                                    "1": "LL MOUNTAIN REAR WHEEL",
                                    "2": "NULL"
                                },
                                {
                                    "0": "824",
                                    "1": "ML MOUNTAIN REAR WHEEL",
                                    "2": "NULL"
                                },
                                {
                                    "0": "825",
                                    "1": "HL MOUNTAIN REAR WHEEL",
                                    "2": "NULL"
                                },
                                {
                                    "0": "826",
                                    "1": "LL ROAD REAR WHEEL",
                                    "2": "1050"
                                },
                                {
                                    "0": "827",
                                    "1": "ML ROAD REAR WHEEL",
                                    "2": "1000"
                                },
                                {
                                    "0": "828",
                                    "1": "HL ROAD REAR WHEEL",
                                    "2": "890"
                                },
                                {
                                    "0": "829",
                                    "1": "TOURING REAR WHEEL",
                                    "2": "NULL"
                                },
                                {
                                    "0": "830",
                                    "1": "ML MOUNTAIN FRAME - BLACK, 40",
                                    "2": "1256"
                                },
                                {
                                    "0": "831",
                                    "1": "ML MOUNTAIN FRAME - BLACK, 44",
                                    "2": "1275"
                                },
                                {
                                    "0": "832",
                                    "1": "ML MOUNTAIN FRAME - BLACK, 48",
                                    "2": "1293"
                                },
                                {
                                    "0": "833",
                                    "1": "ML ROAD FRAME-W - YELLOW, 40",
                                    "2": "1007"
                                },
                                {
                                    "0": "834",
                                    "1": "ML ROAD FRAME-W - YELLOW, 42",
                                    "2": "1025"
                                },
                                {
                                    "0": "835",
                                    "1": "ML ROAD FRAME-W - YELLOW, 44",
                                    "2": "1043"
                                },
                                {
                                    "0": "836",
                                    "1": "ML ROAD FRAME-W - YELLOW, 48",
                                    "2": "1061"
                                },
                                {
                                    "0": "837",
                                    "1": "HL ROAD FRAME - BLACK, 62",
                                    "2": "1043"
                                },
                                {
                                    "0": "838",
                                    "1": "HL ROAD FRAME - BLACK, 44",
                                    "2": "962"
                                },
                                {
                                    "0": "839",
                                    "1": "HL ROAD FRAME - BLACK, 48",
                                    "2": "980"
                                },
                                {
                                    "0": "840",
                                    "1": "HL ROAD FRAME - BLACK, 52",
                                    "2": "998"
                                },
                                {
                                    "0": "841",
                                    "1": "MEN'S SPORTS SHORTS, S",
                                    "2": "NULL"
                                },
                                {
                                    "0": "842",
                                    "1": "TOURING-PANNIERS, LARGE",
                                    "2": "NULL"
                                },
                                {
                                    "0": "843",
                                    "1": "CABLE LOCK",
                                    "2": "NULL"
                                },
                                {
                                    "0": "844",
                                    "1": "MINIPUMP",
                                    "2": "NULL"
                                },
                                {
                                    "0": "845",
                                    "1": "MOUNTAIN PUMP",
                                    "2": "NULL"
                                },
                                {
                                    "0": "846",
                                    "1": "TAILLIGHTS - BATTERY-POWERED",
                                    "2": "NULL"
                                },
                                {
                                    "0": "847",
                                    "1": "HEADLIGHTS - DUAL-BEAM",
                                    "2": "NULL"
                                },
                                {
                                    "0": "848",
                                    "1": "HEADLIGHTS - WEATHERPROOF",
                                    "2": "NULL"
                                },
                                {
                                    "0": "849",
                                    "1": "MEN'S SPORTS SHORTS, M",
                                    "2": "NULL"
                                },
                                {
                                    "0": "850",
                                    "1": "MEN'S SPORTS SHORTS, L",
                                    "2": "NULL"
                                },
                                {
                                    "0": "851",
                                    "1": "MEN'S SPORTS SHORTS, XL",
                                    "2": "NULL"
                                },
                                {
                                    "0": "852",
                                    "1": "WOMEN'S TIGHTS, S",
                                    "2": "NULL"
                                },
                                {
                                    "0": "853",
                                    "1": "WOMEN'S TIGHTS, M",
                                    "2": "NULL"
                                },
                                {
                                    "0": "854",
                                    "1": "WOMEN'S TIGHTS, L",
                                    "2": "NULL"
                                },
                                {
                                    "0": "855",
                                    "1": "MEN'S BIB-SHORTS, S",
                                    "2": "NULL"
                                },
                                {
                                    "0": "856",
                                    "1": "MEN'S BIB-SHORTS, M",
                                    "2": "NULL"
                                },
                                {
                                    "0": "857",
                                    "1": "MEN'S BIB-SHORTS, L",
                                    "2": "NULL"
                                },
                                {
                                    "0": "858",
                                    "1": "HALF-FINGER GLOVES, S",
                                    "2": "NULL"
                                },
                                {
                                    "0": "859",
                                    "1": "HALF-FINGER GLOVES, M",
                                    "2": "NULL"
                                },
                                {
                                    "0": "860",
                                    "1": "HALF-FINGER GLOVES, L",
                                    "2": "NULL"
                                },
                                {
                                    "0": "861",
                                    "1": "FULL-FINGER GLOVES, S",
                                    "2": "NULL"
                                },
                                {
                                    "0": "862",
                                    "1": "FULL-FINGER GLOVES, M",
                                    "2": "NULL"
                                },
                                {
                                    "0": "863",
                                    "1": "FULL-FINGER GLOVES, L",
                                    "2": "NULL"
                                },
                                {
                                    "0": "864",
                                    "1": "CLASSIC VEST, S",
                                    "2": "NULL"
                                },
                                {
                                    "0": "865",
                                    "1": "CLASSIC VEST, M",
                                    "2": "NULL"
                                },
                                {
                                    "0": "866",
                                    "1": "CLASSIC VEST, L",
                                    "2": "NULL"
                                },
                                {
                                    "0": "867",
                                    "1": "WOMEN'S MOUNTAIN SHORTS, S",
                                    "2": "NULL"
                                },
                                {
                                    "0": "868",
                                    "1": "WOMEN'S MOUNTAIN SHORTS, M",
                                    "2": "NULL"
                                },
                                {
                                    "0": "869",
                                    "1": "WOMEN'S MOUNTAIN SHORTS, L",
                                    "2": "NULL"
                                },
                                {
                                    "0": "870",
                                    "1": "WATER BOTTLE - 30 OZ.",
                                    "2": "NULL"
                                },
                                {
                                    "0": "871",
                                    "1": "MOUNTAIN BOTTLE CAGE",
                                    "2": "NULL"
                                },
                                {
                                    "0": "872",
                                    "1": "ROAD BOTTLE CAGE",
                                    "2": "NULL"
                                },
                                {
                                    "0": "873",
                                    "1": "PATCH KIT/8 PATCHES",
                                    "2": "NULL"
                                },
                                {
                                    "0": "874",
                                    "1": "RACING SOCKS, M",
                                    "2": "NULL"
                                },
                                {
                                    "0": "875",
                                    "1": "RACING SOCKS, L",
                                    "2": "NULL"
                                },
                                {
                                    "0": "876",
                                    "1": "HITCH RACK - 4-BIKE",
                                    "2": "NULL"
                                },
                                {
                                    "0": "877",
                                    "1": "BIKE WASH - DISSOLVER",
                                    "2": "NULL"
                                },
                                {
                                    "0": "878",
                                    "1": "FENDER SET - MOUNTAIN",
                                    "2": "NULL"
                                },
                                {
                                    "0": "879",
                                    "1": "ALL-PURPOSE BIKE STAND",
                                    "2": "NULL"
                                },
                                {
                                    "0": "880",
                                    "1": "HYDRATION PACK - 70 OZ.",
                                    "2": "NULL"
                                },
                                {
                                    "0": "881",
                                    "1": "SHORT-SLEEVE CLASSIC JERSEY, S",
                                    "2": "NULL"
                                },
                                {
                                    "0": "882",
                                    "1": "SHORT-SLEEVE CLASSIC JERSEY, M",
                                    "2": "NULL"
                                },
                                {
                                    "0": "883",
                                    "1": "SHORT-SLEEVE CLASSIC JERSEY, L",
                                    "2": "NULL"
                                },
                                {
                                    "0": "884",
                                    "1": "SHORT-SLEEVE CLASSIC JERSEY, XL",
                                    "2": "NULL"
                                },
                                {
                                    "0": "885",
                                    "1": "HL TOURING FRAME - YELLOW, 60",
                                    "2": "1397"
                                },
                                {
                                    "0": "886",
                                    "1": "LL TOURING FRAME - YELLOW, 62",
                                    "2": "1451"
                                },
                                {
                                    "0": "887",
                                    "1": "HL TOURING FRAME - YELLOW, 46",
                                    "2": "1343"
                                },
                                {
                                    "0": "888",
                                    "1": "HL TOURING FRAME - YELLOW, 50",
                                    "2": "1361"
                                },
                                {
                                    "0": "889",
                                    "1": "HL TOURING FRAME - YELLOW, 54",
                                    "2": "1379"
                                },
                                {
                                    "0": "890",
                                    "1": "HL TOURING FRAME - BLUE, 46",
                                    "2": "1343"
                                },
                                {
                                    "0": "891",
                                    "1": "HL TOURING FRAME - BLUE, 50",
                                    "2": "1361"
                                },
                                {
                                    "0": "892",
                                    "1": "HL TOURING FRAME - BLUE, 54",
                                    "2": "1379"
                                },
                                {
                                    "0": "893",
                                    "1": "HL TOURING FRAME - BLUE, 60",
                                    "2": "1397"
                                },
                                {
                                    "0": "894",
                                    "1": "REAR DERAILLEUR",
                                    "2": "215"
                                },
                                {
                                    "0": "895",
                                    "1": "LL TOURING FRAME - BLUE, 50",
                                    "2": "1406"
                                },
                                {
                                    "0": "896",
                                    "1": "LL TOURING FRAME - BLUE, 54",
                                    "2": "1424"
                                },
                                {
                                    "0": "897",
                                    "1": "LL TOURING FRAME - BLUE, 58",
                                    "2": "1433"
                                },
                                {
                                    "0": "898",
                                    "1": "LL TOURING FRAME - BLUE, 62",
                                    "2": "1451"
                                },
                                {
                                    "0": "899",
                                    "1": "LL TOURING FRAME - YELLOW, 44",
                                    "2": "1370"
                                },
                                {
                                    "0": "900",
                                    "1": "LL TOURING FRAME - YELLOW, 50",
                                    "2": "1406"
                                },
                                {
                                    "0": "901",
                                    "1": "LL TOURING FRAME - YELLOW, 54",
                                    "2": "1424"
                                },
                                {
                                    "0": "902",
                                    "1": "LL TOURING FRAME - YELLOW, 58",
                                    "2": "1433"
                                },
                                {
                                    "0": "903",
                                    "1": "LL TOURING FRAME - BLUE, 44",
                                    "2": "1370"
                                },
                                {
                                    "0": "904",
                                    "1": "ML MOUNTAIN FRAME-W - SILVER, 40",
                                    "2": "1256"
                                },
                                {
                                    "0": "905",
                                    "1": "ML MOUNTAIN FRAME-W - SILVER, 42",
                                    "2": "1275"
                                },
                                {
                                    "0": "906",
                                    "1": "ML MOUNTAIN FRAME-W - SILVER, 46",
                                    "2": "1293"
                                },
                                {
                                    "0": "907",
                                    "1": "REAR BRAKES",
                                    "2": "317"
                                },
                                {
                                    "0": "908",
                                    "1": "LL MOUNTAIN SEAT/SADDLE",
                                    "2": "NULL"
                                },
                                {
                                    "0": "909",
                                    "1": "ML MOUNTAIN SEAT/SADDLE",
                                    "2": "NULL"
                                },
                                {
                                    "0": "910",
                                    "1": "HL MOUNTAIN SEAT/SADDLE",
                                    "2": "NULL"
                                },
                                {
                                    "0": "911",
                                    "1": "LL ROAD SEAT/SADDLE",
                                    "2": "NULL"
                                },
                                {
                                    "0": "912",
                                    "1": "ML ROAD SEAT/SADDLE",
                                    "2": "NULL"
                                },
                                {
                                    "0": "913",
                                    "1": "HL ROAD SEAT/SADDLE",
                                    "2": "NULL"
                                },
                                {
                                    "0": "914",
                                    "1": "LL TOURING SEAT/SADDLE",
                                    "2": "NULL"
                                },
                                {
                                    "0": "915",
                                    "1": "ML TOURING SEAT/SADDLE",
                                    "2": "NULL"
                                },
                                {
                                    "0": "916",
                                    "1": "HL TOURING SEAT/SADDLE",
                                    "2": "NULL"
                                },
                                {
                                    "0": "917",
                                    "1": "LL MOUNTAIN FRAME - SILVER, 42",
                                    "2": "1324"
                                },
                                {
                                    "0": "918",
                                    "1": "LL MOUNTAIN FRAME - SILVER, 44",
                                    "2": "1343"
                                },
                                {
                                    "0": "919",
                                    "1": "LL MOUNTAIN FRAME - SILVER, 48",
                                    "2": "1361"
                                },
                                {
                                    "0": "920",
                                    "1": "LL MOUNTAIN FRAME - SILVER, 52",
                                    "2": "1379"
                                },
                                {
                                    "0": "921",
                                    "1": "MOUNTAIN TIRE TUBE",
                                    "2": "NULL"
                                },
                                {
                                    "0": "922",
                                    "1": "ROAD TIRE TUBE",
                                    "2": "NULL"
                                },
                                {
                                    "0": "923",
                                    "1": "TOURING TIRE TUBE",
                                    "2": "NULL"
                                },
                                {
                                    "0": "924",
                                    "1": "LL MOUNTAIN FRAME - BLACK, 42",
                                    "2": "1324"
                                },
                                {
                                    "0": "925",
                                    "1": "LL MOUNTAIN FRAME - BLACK, 44",
                                    "2": "1343"
                                },
                                {
                                    "0": "926",
                                    "1": "LL MOUNTAIN FRAME - BLACK, 48",
                                    "2": "1361"
                                },
                                {
                                    "0": "927",
                                    "1": "LL MOUNTAIN FRAME - BLACK, 52",
                                    "2": "1379"
                                },
                                {
                                    "0": "928",
                                    "1": "LL MOUNTAIN TIRE",
                                    "2": "NULL"
                                },
                                {
                                    "0": "929",
                                    "1": "ML MOUNTAIN TIRE",
                                    "2": "NULL"
                                },
                                {
                                    "0": "930",
                                    "1": "HL MOUNTAIN TIRE",
                                    "2": "NULL"
                                },
                                {
                                    "0": "931",
                                    "1": "LL ROAD TIRE",
                                    "2": "NULL"
                                },
                                {
                                    "0": "932",
                                    "1": "ML ROAD TIRE",
                                    "2": "NULL"
                                },
                                {
                                    "0": "933",
                                    "1": "HL ROAD TIRE",
                                    "2": "NULL"
                                },
                                {
                                    "0": "934",
                                    "1": "TOURING TIRE",
                                    "2": "NULL"
                                },
                                {
                                    "0": "935",
                                    "1": "LL MOUNTAIN PEDAL",
                                    "2": "218"
                                },
                                {
                                    "0": "936",
                                    "1": "ML MOUNTAIN PEDAL",
                                    "2": "215"
                                },
                                {
                                    "0": "937",
                                    "1": "HL MOUNTAIN PEDAL",
                                    "2": "185"
                                },
                                {
                                    "0": "938",
                                    "1": "LL ROAD PEDAL",
                                    "2": "189"
                                },
                                {
                                    "0": "939",
                                    "1": "ML ROAD PEDAL",
                                    "2": "168"
                                },
                                {
                                    "0": "940",
                                    "1": "HL ROAD PEDAL",
                                    "2": "149"
                                },
                                {
                                    "0": "941",
                                    "1": "TOURING PEDAL",
                                    "2": "NULL"
                                },
                                {
                                    "0": "942",
                                    "1": "ML MOUNTAIN FRAME-W - SILVER, 38",
                                    "2": "1238"
                                },
                                {
                                    "0": "943",
                                    "1": "LL MOUNTAIN FRAME - BLACK, 40",
                                    "2": "1306"
                                },
                                {
                                    "0": "944",
                                    "1": "LL MOUNTAIN FRAME - SILVER, 40",
                                    "2": "1306"
                                },
                                {
                                    "0": "945",
                                    "1": "FRONT DERAILLEUR",
                                    "2": "88"
                                },
                                {
                                    "0": "946",
                                    "1": "LL TOURING HANDLEBARS",
                                    "2": "NULL"
                                },
                                {
                                    "0": "947",
                                    "1": "HL TOURING HANDLEBARS",
                                    "2": "NULL"
                                },
                                {
                                    "0": "948",
                                    "1": "FRONT BRAKES",
                                    "2": "317"
                                },
                                {
                                    "0": "949",
                                    "1": "LL CRANKSET",
                                    "2": "600"
                                },
                                {
                                    "0": "950",
                                    "1": "ML CRANKSET",
                                    "2": "635"
                                },
                                {
                                    "0": "951",
                                    "1": "HL CRANKSET",
                                    "2": "575"
                                },
                                {
                                    "0": "952",
                                    "1": "CHAIN",
                                    "2": "NULL"
                                },
                                {
                                    "0": "953",
                                    "1": "TOURING-2000 BLUE, 60",
                                    "2": "12655"
                                },
                                {
                                    "0": "954",
                                    "1": "TOURING-1000 YELLOW, 46",
                                    "2": "11399"
                                },
                                {
                                    "0": "955",
                                    "1": "TOURING-1000 YELLOW, 50",
                                    "2": "11530"
                                },
                                {
                                    "0": "956",
                                    "1": "TOURING-1000 YELLOW, 54",
                                    "2": "11648"
                                },
                                {
                                    "0": "957",
                                    "1": "TOURING-1000 YELLOW, 60",
                                    "2": "11748"
                                },
                                {
                                    "0": "958",
                                    "1": "TOURING-3000 BLUE, 54",
                                    "2": "13463"
                                },
                                {
                                    "0": "959",
                                    "1": "TOURING-3000 BLUE, 58",
                                    "2": "13562"
                                },
                                {
                                    "0": "960",
                                    "1": "TOURING-3000 BLUE, 62",
                                    "2": "13608"
                                },
                                {
                                    "0": "961",
                                    "1": "TOURING-3000 YELLOW, 44",
                                    "2": "13050"
                                },
                                {
                                    "0": "962",
                                    "1": "TOURING-3000 YELLOW, 50",
                                    "2": "13213"
                                },
                                {
                                    "0": "963",
                                    "1": "TOURING-3000 YELLOW, 54",
                                    "2": "13345"
                                },
                                {
                                    "0": "964",
                                    "1": "TOURING-3000 YELLOW, 58",
                                    "2": "13512"
                                },
                                {
                                    "0": "965",
                                    "1": "TOURING-3000 YELLOW, 62",
                                    "2": "13608"
                                },
                                {
                                    "0": "966",
                                    "1": "TOURING-1000 BLUE, 46",
                                    "2": "11399"
                                },
                                {
                                    "0": "967",
                                    "1": "TOURING-1000 BLUE, 50",
                                    "2": "11530"
                                },
                                {
                                    "0": "968",
                                    "1": "TOURING-1000 BLUE, 54",
                                    "2": "11648"
                                },
                                {
                                    "0": "969",
                                    "1": "TOURING-1000 BLUE, 60",
                                    "2": "11748"
                                },
                                {
                                    "0": "970",
                                    "1": "TOURING-2000 BLUE, 46",
                                    "2": "12306"
                                },
                                {
                                    "0": "971",
                                    "1": "TOURING-2000 BLUE, 50",
                                    "2": "12437"
                                },
                                {
                                    "0": "972",
                                    "1": "TOURING-2000 BLUE, 54",
                                    "2": "12555"
                                },
                                {
                                    "0": "973",
                                    "1": "ROAD-350-W YELLOW, 40",
                                    "2": "6963"
                                },
                                {
                                    "0": "974",
                                    "1": "ROAD-350-W YELLOW, 42",
                                    "2": "7153"
                                },
                                {
                                    "0": "975",
                                    "1": "ROAD-350-W YELLOW, 44",
                                    "2": "7316"
                                },
                                {
                                    "0": "976",
                                    "1": "ROAD-350-W YELLOW, 48",
                                    "2": "7448"
                                },
                                {
                                    "0": "977",
                                    "1": "ROAD-750 BLACK, 58",
                                    "2": "9430"
                                },
                                {
                                    "0": "978",
                                    "1": "TOURING-3000 BLUE, 44",
                                    "2": "13050"
                                },
                                {
                                    "0": "979",
                                    "1": "TOURING-3000 BLUE, 50",
                                    "2": "13213"
                                },
                                {
                                    "0": "980",
                                    "1": "MOUNTAIN-400-W SILVER, 38",
                                    "2": "11952"
                                },
                                {
                                    "0": "981",
                                    "1": "MOUNTAIN-400-W SILVER, 40",
                                    "2": "12143"
                                },
                                {
                                    "0": "982",
                                    "1": "MOUNTAIN-400-W SILVER, 42",
                                    "2": "12306"
                                },
                                {
                                    "0": "983",
                                    "1": "MOUNTAIN-400-W SILVER, 46",
                                    "2": "12437"
                                },
                                {
                                    "0": "984",
                                    "1": "MOUNTAIN-500 SILVER, 40",
                                    "2": "12406"
                                },
                                {
                                    "0": "985",
                                    "1": "MOUNTAIN-500 SILVER, 42",
                                    "2": "12596"
                                },
                                {
                                    "0": "986",
                                    "1": "MOUNTAIN-500 SILVER, 44",
                                    "2": "12759"
                                },
                                {
                                    "0": "987",
                                    "1": "MOUNTAIN-500 SILVER, 48",
                                    "2": "12891"
                                },
                                {
                                    "0": "988",
                                    "1": "MOUNTAIN-500 SILVER, 52",
                                    "2": "13009"
                                },
                                {
                                    "0": "989",
                                    "1": "MOUNTAIN-500 BLACK, 40",
                                    "2": "12406"
                                },
                                {
                                    "0": "990",
                                    "1": "MOUNTAIN-500 BLACK, 42",
                                    "2": "12596"
                                },
                                {
                                    "0": "991",
                                    "1": "MOUNTAIN-500 BLACK, 44",
                                    "2": "12759"
                                },
                                {
                                    "0": "992",
                                    "1": "MOUNTAIN-500 BLACK, 48",
                                    "2": "12891"
                                },
                                {
                                    "0": "993",
                                    "1": "MOUNTAIN-500 BLACK, 52",
                                    "2": "13009"
                                },
                                {
                                    "0": "994",
                                    "1": "LL BOTTOM BRACKET",
                                    "2": "223"
                                },
                                {
                                    "0": "995",
                                    "1": "ML BOTTOM BRACKET",
                                    "2": "168"
                                },
                                {
                                    "0": "996",
                                    "1": "HL BOTTOM BRACKET",
                                    "2": "170"
                                },
                                {
                                    "0": "997",
                                    "1": "ROAD-750 BLACK, 44",
                                    "2": "8967"
                                },
                                {
                                    "0": "998",
                                    "1": "ROAD-750 BLACK, 48",
                                    "2": "9131"
                                },
                                {
                                    "0": "999",
                                    "1": "ROAD-750 BLACK, 52",
                                    "2": "9262"
                                }
                            ]
                        },
                        "text/html": "<table><tr><th>ProductID</th><th>PRODUCTNAME</th><th>ApproxWeight</th></tr><tr><td>680</td><td>HL ROAD FRAME - BLACK, 58</td><td>1016</td></tr><tr><td>706</td><td>HL ROAD FRAME - RED, 58</td><td>1016</td></tr><tr><td>707</td><td>SPORT-100 HELMET, RED</td><td>NULL</td></tr><tr><td>708</td><td>SPORT-100 HELMET, BLACK</td><td>NULL</td></tr><tr><td>709</td><td>MOUNTAIN BIKE SOCKS, M</td><td>NULL</td></tr><tr><td>710</td><td>MOUNTAIN BIKE SOCKS, L</td><td>NULL</td></tr><tr><td>711</td><td>SPORT-100 HELMET, BLUE</td><td>NULL</td></tr><tr><td>712</td><td>AWC LOGO CAP</td><td>NULL</td></tr><tr><td>713</td><td>LONG-SLEEVE LOGO JERSEY, S</td><td>NULL</td></tr><tr><td>714</td><td>LONG-SLEEVE LOGO JERSEY, M</td><td>NULL</td></tr><tr><td>715</td><td>LONG-SLEEVE LOGO JERSEY, L</td><td>NULL</td></tr><tr><td>716</td><td>LONG-SLEEVE LOGO JERSEY, XL</td><td>NULL</td></tr><tr><td>717</td><td>HL ROAD FRAME - RED, 62</td><td>1043</td></tr><tr><td>718</td><td>HL ROAD FRAME - RED, 44</td><td>962</td></tr><tr><td>719</td><td>HL ROAD FRAME - RED, 48</td><td>980</td></tr><tr><td>720</td><td>HL ROAD FRAME - RED, 52</td><td>998</td></tr><tr><td>721</td><td>HL ROAD FRAME - RED, 56</td><td>1016</td></tr><tr><td>722</td><td>LL ROAD FRAME - BLACK, 58</td><td>1116</td></tr><tr><td>723</td><td>LL ROAD FRAME - BLACK, 60</td><td>1125</td></tr><tr><td>724</td><td>LL ROAD FRAME - BLACK, 62</td><td>1134</td></tr><tr><td>725</td><td>LL ROAD FRAME - RED, 44</td><td>1052</td></tr><tr><td>726</td><td>LL ROAD FRAME - RED, 48</td><td>1070</td></tr><tr><td>727</td><td>LL ROAD FRAME - RED, 52</td><td>1089</td></tr><tr><td>728</td><td>LL ROAD FRAME - RED, 58</td><td>1116</td></tr><tr><td>729</td><td>LL ROAD FRAME - RED, 60</td><td>1125</td></tr><tr><td>730</td><td>LL ROAD FRAME - RED, 62</td><td>1134</td></tr><tr><td>731</td><td>ML ROAD FRAME - RED, 44</td><td>1007</td></tr><tr><td>732</td><td>ML ROAD FRAME - RED, 48</td><td>1025</td></tr><tr><td>733</td><td>ML ROAD FRAME - RED, 52</td><td>1043</td></tr><tr><td>734</td><td>ML ROAD FRAME - RED, 58</td><td>1070</td></tr><tr><td>735</td><td>ML ROAD FRAME - RED, 60</td><td>1080</td></tr><tr><td>736</td><td>LL ROAD FRAME - BLACK, 44</td><td>1052</td></tr><tr><td>737</td><td>LL ROAD FRAME - BLACK, 48</td><td>1070</td></tr><tr><td>738</td><td>LL ROAD FRAME - BLACK, 52</td><td>1089</td></tr><tr><td>739</td><td>HL MOUNTAIN FRAME - SILVER, 42</td><td>1234</td></tr><tr><td>740</td><td>HL MOUNTAIN FRAME - SILVER, 44</td><td>1252</td></tr><tr><td>741</td><td>HL MOUNTAIN FRAME - SILVER, 48</td><td>1270</td></tr><tr><td>742</td><td>HL MOUNTAIN FRAME - SILVER, 46</td><td>1288</td></tr><tr><td>743</td><td>HL MOUNTAIN FRAME - BLACK, 42</td><td>1234</td></tr><tr><td>744</td><td>HL MOUNTAIN FRAME - BLACK, 44</td><td>1252</td></tr><tr><td>745</td><td>HL MOUNTAIN FRAME - BLACK, 48</td><td>1270</td></tr><tr><td>746</td><td>HL MOUNTAIN FRAME - BLACK, 46</td><td>1288</td></tr><tr><td>747</td><td>HL MOUNTAIN FRAME - BLACK, 38</td><td>1216</td></tr><tr><td>748</td><td>HL MOUNTAIN FRAME - SILVER, 38</td><td>1216</td></tr><tr><td>749</td><td>ROAD-150 RED, 62</td><td>6804</td></tr><tr><td>750</td><td>ROAD-150 RED, 44</td><td>6246</td></tr><tr><td>751</td><td>ROAD-150 RED, 48</td><td>6409</td></tr><tr><td>752</td><td>ROAD-150 RED, 52</td><td>6541</td></tr><tr><td>753</td><td>ROAD-150 RED, 56</td><td>6659</td></tr><tr><td>754</td><td>ROAD-450 RED, 58</td><td>8069</td></tr><tr><td>755</td><td>ROAD-450 RED, 60</td><td>8119</td></tr><tr><td>756</td><td>ROAD-450 RED, 44</td><td>7607</td></tr><tr><td>757</td><td>ROAD-450 RED, 48</td><td>7770</td></tr><tr><td>758</td><td>ROAD-450 RED, 52</td><td>7902</td></tr><tr><td>759</td><td>ROAD-650 RED, 58</td><td>8977</td></tr><tr><td>760</td><td>ROAD-650 RED, 60</td><td>9026</td></tr><tr><td>761</td><td>ROAD-650 RED, 62</td><td>9072</td></tr><tr><td>762</td><td>ROAD-650 RED, 44</td><td>8514</td></tr><tr><td>763</td><td>ROAD-650 RED, 48</td><td>8677</td></tr><tr><td>764</td><td>ROAD-650 RED, 52</td><td>8809</td></tr><tr><td>765</td><td>ROAD-650 BLACK, 58</td><td>8977</td></tr><tr><td>766</td><td>ROAD-650 BLACK, 60</td><td>9026</td></tr><tr><td>767</td><td>ROAD-650 BLACK, 62</td><td>9072</td></tr><tr><td>768</td><td>ROAD-650 BLACK, 44</td><td>8514</td></tr><tr><td>769</td><td>ROAD-650 BLACK, 48</td><td>8677</td></tr><tr><td>770</td><td>ROAD-650 BLACK, 52</td><td>8809</td></tr><tr><td>771</td><td>MOUNTAIN-100 SILVER, 38</td><td>9231</td></tr><tr><td>772</td><td>MOUNTAIN-100 SILVER, 42</td><td>9421</td></tr><tr><td>773</td><td>MOUNTAIN-100 SILVER, 44</td><td>9584</td></tr><tr><td>774</td><td>MOUNTAIN-100 SILVER, 48</td><td>9716</td></tr><tr><td>775</td><td>MOUNTAIN-100 BLACK, 38</td><td>9231</td></tr><tr><td>776</td><td>MOUNTAIN-100 BLACK, 42</td><td>9421</td></tr><tr><td>777</td><td>MOUNTAIN-100 BLACK, 44</td><td>9584</td></tr><tr><td>778</td><td>MOUNTAIN-100 BLACK, 48</td><td>9716</td></tr><tr><td>779</td><td>MOUNTAIN-200 SILVER, 38</td><td>10591</td></tr><tr><td>780</td><td>MOUNTAIN-200 SILVER, 42</td><td>10782</td></tr><tr><td>781</td><td>MOUNTAIN-200 SILVER, 46</td><td>10945</td></tr><tr><td>782</td><td>MOUNTAIN-200 BLACK, 38</td><td>10591</td></tr><tr><td>783</td><td>MOUNTAIN-200 BLACK, 42</td><td>10782</td></tr><tr><td>784</td><td>MOUNTAIN-200 BLACK, 46</td><td>10945</td></tr><tr><td>785</td><td>MOUNTAIN-300 BLACK, 38</td><td>11499</td></tr><tr><td>786</td><td>MOUNTAIN-300 BLACK, 40</td><td>11689</td></tr><tr><td>787</td><td>MOUNTAIN-300 BLACK, 44</td><td>11852</td></tr><tr><td>788</td><td>MOUNTAIN-300 BLACK, 48</td><td>11984</td></tr><tr><td>789</td><td>ROAD-250 RED, 44</td><td>6700</td></tr><tr><td>790</td><td>ROAD-250 RED, 48</td><td>6863</td></tr><tr><td>791</td><td>ROAD-250 RED, 52</td><td>6994</td></tr><tr><td>792</td><td>ROAD-250 RED, 58</td><td>7162</td></tr><tr><td>793</td><td>ROAD-250 BLACK, 44</td><td>6700</td></tr><tr><td>794</td><td>ROAD-250 BLACK, 48</td><td>6863</td></tr><tr><td>795</td><td>ROAD-250 BLACK, 52</td><td>6994</td></tr><tr><td>796</td><td>ROAD-250 BLACK, 58</td><td>7112</td></tr><tr><td>797</td><td>ROAD-550-W YELLOW, 38</td><td>7870</td></tr><tr><td>798</td><td>ROAD-550-W YELLOW, 40</td><td>8060</td></tr><tr><td>799</td><td>ROAD-550-W YELLOW, 42</td><td>8224</td></tr><tr><td>800</td><td>ROAD-550-W YELLOW, 44</td><td>8355</td></tr><tr><td>801</td><td>ROAD-550-W YELLOW, 48</td><td>8473</td></tr><tr><td>802</td><td>LL FORK</td><td>NULL</td></tr><tr><td>803</td><td>ML FORK</td><td>NULL</td></tr><tr><td>804</td><td>HL FORK</td><td>NULL</td></tr><tr><td>805</td><td>LL HEADSET</td><td>NULL</td></tr><tr><td>806</td><td>ML HEADSET</td><td>NULL</td></tr><tr><td>807</td><td>HL HEADSET</td><td>NULL</td></tr><tr><td>808</td><td>LL MOUNTAIN HANDLEBARS</td><td>NULL</td></tr><tr><td>809</td><td>ML MOUNTAIN HANDLEBARS</td><td>NULL</td></tr><tr><td>810</td><td>HL MOUNTAIN HANDLEBARS</td><td>NULL</td></tr><tr><td>811</td><td>LL ROAD HANDLEBARS</td><td>NULL</td></tr><tr><td>812</td><td>ML ROAD HANDLEBARS</td><td>NULL</td></tr><tr><td>813</td><td>HL ROAD HANDLEBARS</td><td>NULL</td></tr><tr><td>814</td><td>ML MOUNTAIN FRAME - BLACK, 38</td><td>1238</td></tr><tr><td>815</td><td>LL MOUNTAIN FRONT WHEEL</td><td>NULL</td></tr><tr><td>816</td><td>ML MOUNTAIN FRONT WHEEL</td><td>NULL</td></tr><tr><td>817</td><td>HL MOUNTAIN FRONT WHEEL</td><td>NULL</td></tr><tr><td>818</td><td>LL ROAD FRONT WHEEL</td><td>900</td></tr><tr><td>819</td><td>ML ROAD FRONT WHEEL</td><td>850</td></tr><tr><td>820</td><td>HL ROAD FRONT WHEEL</td><td>650</td></tr><tr><td>821</td><td>TOURING FRONT WHEEL</td><td>NULL</td></tr><tr><td>822</td><td>ML ROAD FRAME-W - YELLOW, 38</td><td>989</td></tr><tr><td>823</td><td>LL MOUNTAIN REAR WHEEL</td><td>NULL</td></tr><tr><td>824</td><td>ML MOUNTAIN REAR WHEEL</td><td>NULL</td></tr><tr><td>825</td><td>HL MOUNTAIN REAR WHEEL</td><td>NULL</td></tr><tr><td>826</td><td>LL ROAD REAR WHEEL</td><td>1050</td></tr><tr><td>827</td><td>ML ROAD REAR WHEEL</td><td>1000</td></tr><tr><td>828</td><td>HL ROAD REAR WHEEL</td><td>890</td></tr><tr><td>829</td><td>TOURING REAR WHEEL</td><td>NULL</td></tr><tr><td>830</td><td>ML MOUNTAIN FRAME - BLACK, 40</td><td>1256</td></tr><tr><td>831</td><td>ML MOUNTAIN FRAME - BLACK, 44</td><td>1275</td></tr><tr><td>832</td><td>ML MOUNTAIN FRAME - BLACK, 48</td><td>1293</td></tr><tr><td>833</td><td>ML ROAD FRAME-W - YELLOW, 40</td><td>1007</td></tr><tr><td>834</td><td>ML ROAD FRAME-W - YELLOW, 42</td><td>1025</td></tr><tr><td>835</td><td>ML ROAD FRAME-W - YELLOW, 44</td><td>1043</td></tr><tr><td>836</td><td>ML ROAD FRAME-W - YELLOW, 48</td><td>1061</td></tr><tr><td>837</td><td>HL ROAD FRAME - BLACK, 62</td><td>1043</td></tr><tr><td>838</td><td>HL ROAD FRAME - BLACK, 44</td><td>962</td></tr><tr><td>839</td><td>HL ROAD FRAME - BLACK, 48</td><td>980</td></tr><tr><td>840</td><td>HL ROAD FRAME - BLACK, 52</td><td>998</td></tr><tr><td>841</td><td>MEN'S SPORTS SHORTS, S</td><td>NULL</td></tr><tr><td>842</td><td>TOURING-PANNIERS, LARGE</td><td>NULL</td></tr><tr><td>843</td><td>CABLE LOCK</td><td>NULL</td></tr><tr><td>844</td><td>MINIPUMP</td><td>NULL</td></tr><tr><td>845</td><td>MOUNTAIN PUMP</td><td>NULL</td></tr><tr><td>846</td><td>TAILLIGHTS - BATTERY-POWERED</td><td>NULL</td></tr><tr><td>847</td><td>HEADLIGHTS - DUAL-BEAM</td><td>NULL</td></tr><tr><td>848</td><td>HEADLIGHTS - WEATHERPROOF</td><td>NULL</td></tr><tr><td>849</td><td>MEN'S SPORTS SHORTS, M</td><td>NULL</td></tr><tr><td>850</td><td>MEN'S SPORTS SHORTS, L</td><td>NULL</td></tr><tr><td>851</td><td>MEN'S SPORTS SHORTS, XL</td><td>NULL</td></tr><tr><td>852</td><td>WOMEN'S TIGHTS, S</td><td>NULL</td></tr><tr><td>853</td><td>WOMEN'S TIGHTS, M</td><td>NULL</td></tr><tr><td>854</td><td>WOMEN'S TIGHTS, L</td><td>NULL</td></tr><tr><td>855</td><td>MEN'S BIB-SHORTS, S</td><td>NULL</td></tr><tr><td>856</td><td>MEN'S BIB-SHORTS, M</td><td>NULL</td></tr><tr><td>857</td><td>MEN'S BIB-SHORTS, L</td><td>NULL</td></tr><tr><td>858</td><td>HALF-FINGER GLOVES, S</td><td>NULL</td></tr><tr><td>859</td><td>HALF-FINGER GLOVES, M</td><td>NULL</td></tr><tr><td>860</td><td>HALF-FINGER GLOVES, L</td><td>NULL</td></tr><tr><td>861</td><td>FULL-FINGER GLOVES, S</td><td>NULL</td></tr><tr><td>862</td><td>FULL-FINGER GLOVES, M</td><td>NULL</td></tr><tr><td>863</td><td>FULL-FINGER GLOVES, L</td><td>NULL</td></tr><tr><td>864</td><td>CLASSIC VEST, S</td><td>NULL</td></tr><tr><td>865</td><td>CLASSIC VEST, M</td><td>NULL</td></tr><tr><td>866</td><td>CLASSIC VEST, L</td><td>NULL</td></tr><tr><td>867</td><td>WOMEN'S MOUNTAIN SHORTS, S</td><td>NULL</td></tr><tr><td>868</td><td>WOMEN'S MOUNTAIN SHORTS, M</td><td>NULL</td></tr><tr><td>869</td><td>WOMEN'S MOUNTAIN SHORTS, L</td><td>NULL</td></tr><tr><td>870</td><td>WATER BOTTLE - 30 OZ.</td><td>NULL</td></tr><tr><td>871</td><td>MOUNTAIN BOTTLE CAGE</td><td>NULL</td></tr><tr><td>872</td><td>ROAD BOTTLE CAGE</td><td>NULL</td></tr><tr><td>873</td><td>PATCH KIT/8 PATCHES</td><td>NULL</td></tr><tr><td>874</td><td>RACING SOCKS, M</td><td>NULL</td></tr><tr><td>875</td><td>RACING SOCKS, L</td><td>NULL</td></tr><tr><td>876</td><td>HITCH RACK - 4-BIKE</td><td>NULL</td></tr><tr><td>877</td><td>BIKE WASH - DISSOLVER</td><td>NULL</td></tr><tr><td>878</td><td>FENDER SET - MOUNTAIN</td><td>NULL</td></tr><tr><td>879</td><td>ALL-PURPOSE BIKE STAND</td><td>NULL</td></tr><tr><td>880</td><td>HYDRATION PACK - 70 OZ.</td><td>NULL</td></tr><tr><td>881</td><td>SHORT-SLEEVE CLASSIC JERSEY, S</td><td>NULL</td></tr><tr><td>882</td><td>SHORT-SLEEVE CLASSIC JERSEY, M</td><td>NULL</td></tr><tr><td>883</td><td>SHORT-SLEEVE CLASSIC JERSEY, L</td><td>NULL</td></tr><tr><td>884</td><td>SHORT-SLEEVE CLASSIC JERSEY, XL</td><td>NULL</td></tr><tr><td>885</td><td>HL TOURING FRAME - YELLOW, 60</td><td>1397</td></tr><tr><td>886</td><td>LL TOURING FRAME - YELLOW, 62</td><td>1451</td></tr><tr><td>887</td><td>HL TOURING FRAME - YELLOW, 46</td><td>1343</td></tr><tr><td>888</td><td>HL TOURING FRAME - YELLOW, 50</td><td>1361</td></tr><tr><td>889</td><td>HL TOURING FRAME - YELLOW, 54</td><td>1379</td></tr><tr><td>890</td><td>HL TOURING FRAME - BLUE, 46</td><td>1343</td></tr><tr><td>891</td><td>HL TOURING FRAME - BLUE, 50</td><td>1361</td></tr><tr><td>892</td><td>HL TOURING FRAME - BLUE, 54</td><td>1379</td></tr><tr><td>893</td><td>HL TOURING FRAME - BLUE, 60</td><td>1397</td></tr><tr><td>894</td><td>REAR DERAILLEUR</td><td>215</td></tr><tr><td>895</td><td>LL TOURING FRAME - BLUE, 50</td><td>1406</td></tr><tr><td>896</td><td>LL TOURING FRAME - BLUE, 54</td><td>1424</td></tr><tr><td>897</td><td>LL TOURING FRAME - BLUE, 58</td><td>1433</td></tr><tr><td>898</td><td>LL TOURING FRAME - BLUE, 62</td><td>1451</td></tr><tr><td>899</td><td>LL TOURING FRAME - YELLOW, 44</td><td>1370</td></tr><tr><td>900</td><td>LL TOURING FRAME - YELLOW, 50</td><td>1406</td></tr><tr><td>901</td><td>LL TOURING FRAME - YELLOW, 54</td><td>1424</td></tr><tr><td>902</td><td>LL TOURING FRAME - YELLOW, 58</td><td>1433</td></tr><tr><td>903</td><td>LL TOURING FRAME - BLUE, 44</td><td>1370</td></tr><tr><td>904</td><td>ML MOUNTAIN FRAME-W - SILVER, 40</td><td>1256</td></tr><tr><td>905</td><td>ML MOUNTAIN FRAME-W - SILVER, 42</td><td>1275</td></tr><tr><td>906</td><td>ML MOUNTAIN FRAME-W - SILVER, 46</td><td>1293</td></tr><tr><td>907</td><td>REAR BRAKES</td><td>317</td></tr><tr><td>908</td><td>LL MOUNTAIN SEAT/SADDLE</td><td>NULL</td></tr><tr><td>909</td><td>ML MOUNTAIN SEAT/SADDLE</td><td>NULL</td></tr><tr><td>910</td><td>HL MOUNTAIN SEAT/SADDLE</td><td>NULL</td></tr><tr><td>911</td><td>LL ROAD SEAT/SADDLE</td><td>NULL</td></tr><tr><td>912</td><td>ML ROAD SEAT/SADDLE</td><td>NULL</td></tr><tr><td>913</td><td>HL ROAD SEAT/SADDLE</td><td>NULL</td></tr><tr><td>914</td><td>LL TOURING SEAT/SADDLE</td><td>NULL</td></tr><tr><td>915</td><td>ML TOURING SEAT/SADDLE</td><td>NULL</td></tr><tr><td>916</td><td>HL TOURING SEAT/SADDLE</td><td>NULL</td></tr><tr><td>917</td><td>LL MOUNTAIN FRAME - SILVER, 42</td><td>1324</td></tr><tr><td>918</td><td>LL MOUNTAIN FRAME - SILVER, 44</td><td>1343</td></tr><tr><td>919</td><td>LL MOUNTAIN FRAME - SILVER, 48</td><td>1361</td></tr><tr><td>920</td><td>LL MOUNTAIN FRAME - SILVER, 52</td><td>1379</td></tr><tr><td>921</td><td>MOUNTAIN TIRE TUBE</td><td>NULL</td></tr><tr><td>922</td><td>ROAD TIRE TUBE</td><td>NULL</td></tr><tr><td>923</td><td>TOURING TIRE TUBE</td><td>NULL</td></tr><tr><td>924</td><td>LL MOUNTAIN FRAME - BLACK, 42</td><td>1324</td></tr><tr><td>925</td><td>LL MOUNTAIN FRAME - BLACK, 44</td><td>1343</td></tr><tr><td>926</td><td>LL MOUNTAIN FRAME - BLACK, 48</td><td>1361</td></tr><tr><td>927</td><td>LL MOUNTAIN FRAME - BLACK, 52</td><td>1379</td></tr><tr><td>928</td><td>LL MOUNTAIN TIRE</td><td>NULL</td></tr><tr><td>929</td><td>ML MOUNTAIN TIRE</td><td>NULL</td></tr><tr><td>930</td><td>HL MOUNTAIN TIRE</td><td>NULL</td></tr><tr><td>931</td><td>LL ROAD TIRE</td><td>NULL</td></tr><tr><td>932</td><td>ML ROAD TIRE</td><td>NULL</td></tr><tr><td>933</td><td>HL ROAD TIRE</td><td>NULL</td></tr><tr><td>934</td><td>TOURING TIRE</td><td>NULL</td></tr><tr><td>935</td><td>LL MOUNTAIN PEDAL</td><td>218</td></tr><tr><td>936</td><td>ML MOUNTAIN PEDAL</td><td>215</td></tr><tr><td>937</td><td>HL MOUNTAIN PEDAL</td><td>185</td></tr><tr><td>938</td><td>LL ROAD PEDAL</td><td>189</td></tr><tr><td>939</td><td>ML ROAD PEDAL</td><td>168</td></tr><tr><td>940</td><td>HL ROAD PEDAL</td><td>149</td></tr><tr><td>941</td><td>TOURING PEDAL</td><td>NULL</td></tr><tr><td>942</td><td>ML MOUNTAIN FRAME-W - SILVER, 38</td><td>1238</td></tr><tr><td>943</td><td>LL MOUNTAIN FRAME - BLACK, 40</td><td>1306</td></tr><tr><td>944</td><td>LL MOUNTAIN FRAME - SILVER, 40</td><td>1306</td></tr><tr><td>945</td><td>FRONT DERAILLEUR</td><td>88</td></tr><tr><td>946</td><td>LL TOURING HANDLEBARS</td><td>NULL</td></tr><tr><td>947</td><td>HL TOURING HANDLEBARS</td><td>NULL</td></tr><tr><td>948</td><td>FRONT BRAKES</td><td>317</td></tr><tr><td>949</td><td>LL CRANKSET</td><td>600</td></tr><tr><td>950</td><td>ML CRANKSET</td><td>635</td></tr><tr><td>951</td><td>HL CRANKSET</td><td>575</td></tr><tr><td>952</td><td>CHAIN</td><td>NULL</td></tr><tr><td>953</td><td>TOURING-2000 BLUE, 60</td><td>12655</td></tr><tr><td>954</td><td>TOURING-1000 YELLOW, 46</td><td>11399</td></tr><tr><td>955</td><td>TOURING-1000 YELLOW, 50</td><td>11530</td></tr><tr><td>956</td><td>TOURING-1000 YELLOW, 54</td><td>11648</td></tr><tr><td>957</td><td>TOURING-1000 YELLOW, 60</td><td>11748</td></tr><tr><td>958</td><td>TOURING-3000 BLUE, 54</td><td>13463</td></tr><tr><td>959</td><td>TOURING-3000 BLUE, 58</td><td>13562</td></tr><tr><td>960</td><td>TOURING-3000 BLUE, 62</td><td>13608</td></tr><tr><td>961</td><td>TOURING-3000 YELLOW, 44</td><td>13050</td></tr><tr><td>962</td><td>TOURING-3000 YELLOW, 50</td><td>13213</td></tr><tr><td>963</td><td>TOURING-3000 YELLOW, 54</td><td>13345</td></tr><tr><td>964</td><td>TOURING-3000 YELLOW, 58</td><td>13512</td></tr><tr><td>965</td><td>TOURING-3000 YELLOW, 62</td><td>13608</td></tr><tr><td>966</td><td>TOURING-1000 BLUE, 46</td><td>11399</td></tr><tr><td>967</td><td>TOURING-1000 BLUE, 50</td><td>11530</td></tr><tr><td>968</td><td>TOURING-1000 BLUE, 54</td><td>11648</td></tr><tr><td>969</td><td>TOURING-1000 BLUE, 60</td><td>11748</td></tr><tr><td>970</td><td>TOURING-2000 BLUE, 46</td><td>12306</td></tr><tr><td>971</td><td>TOURING-2000 BLUE, 50</td><td>12437</td></tr><tr><td>972</td><td>TOURING-2000 BLUE, 54</td><td>12555</td></tr><tr><td>973</td><td>ROAD-350-W YELLOW, 40</td><td>6963</td></tr><tr><td>974</td><td>ROAD-350-W YELLOW, 42</td><td>7153</td></tr><tr><td>975</td><td>ROAD-350-W YELLOW, 44</td><td>7316</td></tr><tr><td>976</td><td>ROAD-350-W YELLOW, 48</td><td>7448</td></tr><tr><td>977</td><td>ROAD-750 BLACK, 58</td><td>9430</td></tr><tr><td>978</td><td>TOURING-3000 BLUE, 44</td><td>13050</td></tr><tr><td>979</td><td>TOURING-3000 BLUE, 50</td><td>13213</td></tr><tr><td>980</td><td>MOUNTAIN-400-W SILVER, 38</td><td>11952</td></tr><tr><td>981</td><td>MOUNTAIN-400-W SILVER, 40</td><td>12143</td></tr><tr><td>982</td><td>MOUNTAIN-400-W SILVER, 42</td><td>12306</td></tr><tr><td>983</td><td>MOUNTAIN-400-W SILVER, 46</td><td>12437</td></tr><tr><td>984</td><td>MOUNTAIN-500 SILVER, 40</td><td>12406</td></tr><tr><td>985</td><td>MOUNTAIN-500 SILVER, 42</td><td>12596</td></tr><tr><td>986</td><td>MOUNTAIN-500 SILVER, 44</td><td>12759</td></tr><tr><td>987</td><td>MOUNTAIN-500 SILVER, 48</td><td>12891</td></tr><tr><td>988</td><td>MOUNTAIN-500 SILVER, 52</td><td>13009</td></tr><tr><td>989</td><td>MOUNTAIN-500 BLACK, 40</td><td>12406</td></tr><tr><td>990</td><td>MOUNTAIN-500 BLACK, 42</td><td>12596</td></tr><tr><td>991</td><td>MOUNTAIN-500 BLACK, 44</td><td>12759</td></tr><tr><td>992</td><td>MOUNTAIN-500 BLACK, 48</td><td>12891</td></tr><tr><td>993</td><td>MOUNTAIN-500 BLACK, 52</td><td>13009</td></tr><tr><td>994</td><td>LL BOTTOM BRACKET</td><td>223</td></tr><tr><td>995</td><td>ML BOTTOM BRACKET</td><td>168</td></tr><tr><td>996</td><td>HL BOTTOM BRACKET</td><td>170</td></tr><tr><td>997</td><td>ROAD-750 BLACK, 44</td><td>8967</td></tr><tr><td>998</td><td>ROAD-750 BLACK, 48</td><td>9131</td></tr><tr><td>999</td><td>ROAD-750 BLACK, 52</td><td>9262</td></tr></table>"
                    },
                    "metadata": {}
                }
            ],
            "execution_count": 17
        },
        {
            "cell_type": "markdown",
            "source": [
                "##Exercise 2\n",
                "\n",
                "  \n",
                "\n",
                "Extend your query to include columns named SellStartYear and SellStartMonth containing the year and month in which AdventureWorks started selling each product. The month should be displayed as the month name (e.g. 'January'). Make sure to use the aliases provided, and default column names elsewhere."
            ],
            "metadata": {
                "azdata_cell_guid": "60bbfd89-7f36-4925-b5f6-92a49819b86e"
            }
        },
        {
            "cell_type": "code",
            "source": [
                "SELECT ProductID, \r\n",
                "    UPPER(Name) AS ProductName, \r\n",
                "    ROUND(Weight, 0) AS ApproxWeight, \r\n",
                "    DATENAME(MONTH, SellStartDate) + ' ' + DATENAME(Year, SellStartDate) as SellStartDate,\r\n",
                "    DATENAME(MONTH, SellEndDate) + ' ' + DATENAME(Year, SellEndDate) as SellEndDate\r\n",
                "from AdventureWorksLT.SalesLT.Product;"
            ],
            "metadata": {
                "azdata_cell_guid": "a78b36c5-61bd-445a-8951-8493e92db903",
                "tags": []
            },
            "outputs": [
                {
                    "output_type": "display_data",
                    "data": {
                        "text/html": "(295 rows affected)"
                    },
                    "metadata": {}
                },
                {
                    "output_type": "display_data",
                    "data": {
                        "text/html": "Total execution time: 00:00:00.023"
                    },
                    "metadata": {}
                },
                {
                    "output_type": "execute_result",
                    "metadata": {},
                    "execution_count": 9,
                    "data": {
                        "application/vnd.dataresource+json": {
                            "schema": {
                                "fields": [
                                    {
                                        "name": "ProductID"
                                    },
                                    {
                                        "name": "ProductName"
                                    },
                                    {
                                        "name": "ApproxWeight"
                                    },
                                    {
                                        "name": "SellStartDate"
                                    },
                                    {
                                        "name": "SellEndDate"
                                    }
                                ]
                            },
                            "data": [
                                {
                                    "0": "680",
                                    "1": "HL ROAD FRAME - BLACK, 58",
                                    "2": "1016,00",
                                    "3": "June 2002",
                                    "4": "NULL"
                                },
                                {
                                    "0": "706",
                                    "1": "HL ROAD FRAME - RED, 58",
                                    "2": "1016,00",
                                    "3": "June 2002",
                                    "4": "NULL"
                                },
                                {
                                    "0": "707",
                                    "1": "SPORT-100 HELMET, RED",
                                    "2": "NULL",
                                    "3": "July 2005",
                                    "4": "NULL"
                                },
                                {
                                    "0": "708",
                                    "1": "SPORT-100 HELMET, BLACK",
                                    "2": "NULL",
                                    "3": "July 2005",
                                    "4": "NULL"
                                },
                                {
                                    "0": "709",
                                    "1": "MOUNTAIN BIKE SOCKS, M",
                                    "2": "NULL",
                                    "3": "July 2005",
                                    "4": "June 2006"
                                },
                                {
                                    "0": "710",
                                    "1": "MOUNTAIN BIKE SOCKS, L",
                                    "2": "NULL",
                                    "3": "July 2005",
                                    "4": "June 2006"
                                },
                                {
                                    "0": "711",
                                    "1": "SPORT-100 HELMET, BLUE",
                                    "2": "NULL",
                                    "3": "July 2005",
                                    "4": "NULL"
                                },
                                {
                                    "0": "712",
                                    "1": "AWC LOGO CAP",
                                    "2": "NULL",
                                    "3": "July 2005",
                                    "4": "NULL"
                                },
                                {
                                    "0": "713",
                                    "1": "LONG-SLEEVE LOGO JERSEY, S",
                                    "2": "NULL",
                                    "3": "July 2005",
                                    "4": "NULL"
                                },
                                {
                                    "0": "714",
                                    "1": "LONG-SLEEVE LOGO JERSEY, M",
                                    "2": "NULL",
                                    "3": "July 2005",
                                    "4": "NULL"
                                },
                                {
                                    "0": "715",
                                    "1": "LONG-SLEEVE LOGO JERSEY, L",
                                    "2": "NULL",
                                    "3": "July 2005",
                                    "4": "NULL"
                                },
                                {
                                    "0": "716",
                                    "1": "LONG-SLEEVE LOGO JERSEY, XL",
                                    "2": "NULL",
                                    "3": "July 2005",
                                    "4": "NULL"
                                },
                                {
                                    "0": "717",
                                    "1": "HL ROAD FRAME - RED, 62",
                                    "2": "1043,00",
                                    "3": "July 2005",
                                    "4": "NULL"
                                },
                                {
                                    "0": "718",
                                    "1": "HL ROAD FRAME - RED, 44",
                                    "2": "962,00",
                                    "3": "July 2005",
                                    "4": "NULL"
                                },
                                {
                                    "0": "719",
                                    "1": "HL ROAD FRAME - RED, 48",
                                    "2": "980,00",
                                    "3": "July 2005",
                                    "4": "NULL"
                                },
                                {
                                    "0": "720",
                                    "1": "HL ROAD FRAME - RED, 52",
                                    "2": "998,00",
                                    "3": "July 2005",
                                    "4": "NULL"
                                },
                                {
                                    "0": "721",
                                    "1": "HL ROAD FRAME - RED, 56",
                                    "2": "1016,00",
                                    "3": "July 2005",
                                    "4": "NULL"
                                },
                                {
                                    "0": "722",
                                    "1": "LL ROAD FRAME - BLACK, 58",
                                    "2": "1116,00",
                                    "3": "July 2005",
                                    "4": "NULL"
                                },
                                {
                                    "0": "723",
                                    "1": "LL ROAD FRAME - BLACK, 60",
                                    "2": "1125,00",
                                    "3": "July 2005",
                                    "4": "NULL"
                                },
                                {
                                    "0": "724",
                                    "1": "LL ROAD FRAME - BLACK, 62",
                                    "2": "1134,00",
                                    "3": "July 2005",
                                    "4": "NULL"
                                },
                                {
                                    "0": "725",
                                    "1": "LL ROAD FRAME - RED, 44",
                                    "2": "1052,00",
                                    "3": "July 2005",
                                    "4": "June 2007"
                                },
                                {
                                    "0": "726",
                                    "1": "LL ROAD FRAME - RED, 48",
                                    "2": "1070,00",
                                    "3": "July 2005",
                                    "4": "June 2007"
                                },
                                {
                                    "0": "727",
                                    "1": "LL ROAD FRAME - RED, 52",
                                    "2": "1089,00",
                                    "3": "July 2005",
                                    "4": "June 2007"
                                },
                                {
                                    "0": "728",
                                    "1": "LL ROAD FRAME - RED, 58",
                                    "2": "1116,00",
                                    "3": "July 2005",
                                    "4": "June 2007"
                                },
                                {
                                    "0": "729",
                                    "1": "LL ROAD FRAME - RED, 60",
                                    "2": "1125,00",
                                    "3": "July 2005",
                                    "4": "June 2007"
                                },
                                {
                                    "0": "730",
                                    "1": "LL ROAD FRAME - RED, 62",
                                    "2": "1134,00",
                                    "3": "July 2005",
                                    "4": "June 2007"
                                },
                                {
                                    "0": "731",
                                    "1": "ML ROAD FRAME - RED, 44",
                                    "2": "1007,00",
                                    "3": "July 2005",
                                    "4": "June 2006"
                                },
                                {
                                    "0": "732",
                                    "1": "ML ROAD FRAME - RED, 48",
                                    "2": "1025,00",
                                    "3": "July 2005",
                                    "4": "June 2006"
                                },
                                {
                                    "0": "733",
                                    "1": "ML ROAD FRAME - RED, 52",
                                    "2": "1043,00",
                                    "3": "July 2005",
                                    "4": "June 2006"
                                },
                                {
                                    "0": "734",
                                    "1": "ML ROAD FRAME - RED, 58",
                                    "2": "1070,00",
                                    "3": "July 2005",
                                    "4": "June 2006"
                                },
                                {
                                    "0": "735",
                                    "1": "ML ROAD FRAME - RED, 60",
                                    "2": "1080,00",
                                    "3": "July 2005",
                                    "4": "June 2006"
                                },
                                {
                                    "0": "736",
                                    "1": "LL ROAD FRAME - BLACK, 44",
                                    "2": "1052,00",
                                    "3": "July 2005",
                                    "4": "NULL"
                                },
                                {
                                    "0": "737",
                                    "1": "LL ROAD FRAME - BLACK, 48",
                                    "2": "1070,00",
                                    "3": "July 2005",
                                    "4": "NULL"
                                },
                                {
                                    "0": "738",
                                    "1": "LL ROAD FRAME - BLACK, 52",
                                    "2": "1089,00",
                                    "3": "July 2005",
                                    "4": "NULL"
                                },
                                {
                                    "0": "739",
                                    "1": "HL MOUNTAIN FRAME - SILVER, 42",
                                    "2": "1234,00",
                                    "3": "July 2005",
                                    "4": "NULL"
                                },
                                {
                                    "0": "740",
                                    "1": "HL MOUNTAIN FRAME - SILVER, 44",
                                    "2": "1252,00",
                                    "3": "July 2005",
                                    "4": "June 2006"
                                },
                                {
                                    "0": "741",
                                    "1": "HL MOUNTAIN FRAME - SILVER, 48",
                                    "2": "1270,00",
                                    "3": "July 2005",
                                    "4": "June 2006"
                                },
                                {
                                    "0": "742",
                                    "1": "HL MOUNTAIN FRAME - SILVER, 46",
                                    "2": "1288,00",
                                    "3": "July 2005",
                                    "4": "NULL"
                                },
                                {
                                    "0": "743",
                                    "1": "HL MOUNTAIN FRAME - BLACK, 42",
                                    "2": "1234,00",
                                    "3": "July 2005",
                                    "4": "NULL"
                                },
                                {
                                    "0": "744",
                                    "1": "HL MOUNTAIN FRAME - BLACK, 44",
                                    "2": "1252,00",
                                    "3": "July 2005",
                                    "4": "June 2006"
                                },
                                {
                                    "0": "745",
                                    "1": "HL MOUNTAIN FRAME - BLACK, 48",
                                    "2": "1270,00",
                                    "3": "July 2005",
                                    "4": "June 2006"
                                },
                                {
                                    "0": "746",
                                    "1": "HL MOUNTAIN FRAME - BLACK, 46",
                                    "2": "1288,00",
                                    "3": "July 2005",
                                    "4": "NULL"
                                },
                                {
                                    "0": "747",
                                    "1": "HL MOUNTAIN FRAME - BLACK, 38",
                                    "2": "1216,00",
                                    "3": "July 2005",
                                    "4": "NULL"
                                },
                                {
                                    "0": "748",
                                    "1": "HL MOUNTAIN FRAME - SILVER, 38",
                                    "2": "1216,00",
                                    "3": "July 2005",
                                    "4": "NULL"
                                },
                                {
                                    "0": "749",
                                    "1": "ROAD-150 RED, 62",
                                    "2": "6804,00",
                                    "3": "July 2005",
                                    "4": "June 2006"
                                },
                                {
                                    "0": "750",
                                    "1": "ROAD-150 RED, 44",
                                    "2": "6246,00",
                                    "3": "July 2005",
                                    "4": "June 2006"
                                },
                                {
                                    "0": "751",
                                    "1": "ROAD-150 RED, 48",
                                    "2": "6409,00",
                                    "3": "July 2005",
                                    "4": "June 2006"
                                },
                                {
                                    "0": "752",
                                    "1": "ROAD-150 RED, 52",
                                    "2": "6541,00",
                                    "3": "July 2005",
                                    "4": "June 2006"
                                },
                                {
                                    "0": "753",
                                    "1": "ROAD-150 RED, 56",
                                    "2": "6659,00",
                                    "3": "July 2005",
                                    "4": "June 2006"
                                },
                                {
                                    "0": "754",
                                    "1": "ROAD-450 RED, 58",
                                    "2": "8069,00",
                                    "3": "July 2005",
                                    "4": "June 2006"
                                },
                                {
                                    "0": "755",
                                    "1": "ROAD-450 RED, 60",
                                    "2": "8119,00",
                                    "3": "July 2005",
                                    "4": "June 2006"
                                },
                                {
                                    "0": "756",
                                    "1": "ROAD-450 RED, 44",
                                    "2": "7607,00",
                                    "3": "July 2005",
                                    "4": "June 2006"
                                },
                                {
                                    "0": "757",
                                    "1": "ROAD-450 RED, 48",
                                    "2": "7770,00",
                                    "3": "July 2005",
                                    "4": "June 2006"
                                },
                                {
                                    "0": "758",
                                    "1": "ROAD-450 RED, 52",
                                    "2": "7902,00",
                                    "3": "July 2005",
                                    "4": "June 2006"
                                },
                                {
                                    "0": "759",
                                    "1": "ROAD-650 RED, 58",
                                    "2": "8977,00",
                                    "3": "July 2005",
                                    "4": "June 2007"
                                },
                                {
                                    "0": "760",
                                    "1": "ROAD-650 RED, 60",
                                    "2": "9026,00",
                                    "3": "July 2005",
                                    "4": "June 2007"
                                },
                                {
                                    "0": "761",
                                    "1": "ROAD-650 RED, 62",
                                    "2": "9072,00",
                                    "3": "July 2005",
                                    "4": "June 2007"
                                },
                                {
                                    "0": "762",
                                    "1": "ROAD-650 RED, 44",
                                    "2": "8514,00",
                                    "3": "July 2005",
                                    "4": "June 2007"
                                },
                                {
                                    "0": "763",
                                    "1": "ROAD-650 RED, 48",
                                    "2": "8677,00",
                                    "3": "July 2005",
                                    "4": "June 2007"
                                },
                                {
                                    "0": "764",
                                    "1": "ROAD-650 RED, 52",
                                    "2": "8809,00",
                                    "3": "July 2005",
                                    "4": "June 2007"
                                },
                                {
                                    "0": "765",
                                    "1": "ROAD-650 BLACK, 58",
                                    "2": "8977,00",
                                    "3": "July 2005",
                                    "4": "June 2007"
                                },
                                {
                                    "0": "766",
                                    "1": "ROAD-650 BLACK, 60",
                                    "2": "9026,00",
                                    "3": "July 2005",
                                    "4": "June 2007"
                                },
                                {
                                    "0": "767",
                                    "1": "ROAD-650 BLACK, 62",
                                    "2": "9072,00",
                                    "3": "July 2005",
                                    "4": "June 2007"
                                },
                                {
                                    "0": "768",
                                    "1": "ROAD-650 BLACK, 44",
                                    "2": "8514,00",
                                    "3": "July 2005",
                                    "4": "June 2007"
                                },
                                {
                                    "0": "769",
                                    "1": "ROAD-650 BLACK, 48",
                                    "2": "8677,00",
                                    "3": "July 2005",
                                    "4": "June 2007"
                                },
                                {
                                    "0": "770",
                                    "1": "ROAD-650 BLACK, 52",
                                    "2": "8809,00",
                                    "3": "July 2005",
                                    "4": "June 2007"
                                },
                                {
                                    "0": "771",
                                    "1": "MOUNTAIN-100 SILVER, 38",
                                    "2": "9231,00",
                                    "3": "July 2005",
                                    "4": "June 2006"
                                },
                                {
                                    "0": "772",
                                    "1": "MOUNTAIN-100 SILVER, 42",
                                    "2": "9421,00",
                                    "3": "July 2005",
                                    "4": "June 2006"
                                },
                                {
                                    "0": "773",
                                    "1": "MOUNTAIN-100 SILVER, 44",
                                    "2": "9584,00",
                                    "3": "July 2005",
                                    "4": "June 2006"
                                },
                                {
                                    "0": "774",
                                    "1": "MOUNTAIN-100 SILVER, 48",
                                    "2": "9716,00",
                                    "3": "July 2005",
                                    "4": "June 2006"
                                },
                                {
                                    "0": "775",
                                    "1": "MOUNTAIN-100 BLACK, 38",
                                    "2": "9231,00",
                                    "3": "July 2005",
                                    "4": "June 2006"
                                },
                                {
                                    "0": "776",
                                    "1": "MOUNTAIN-100 BLACK, 42",
                                    "2": "9421,00",
                                    "3": "July 2005",
                                    "4": "June 2006"
                                },
                                {
                                    "0": "777",
                                    "1": "MOUNTAIN-100 BLACK, 44",
                                    "2": "9584,00",
                                    "3": "July 2005",
                                    "4": "June 2006"
                                },
                                {
                                    "0": "778",
                                    "1": "MOUNTAIN-100 BLACK, 48",
                                    "2": "9716,00",
                                    "3": "July 2005",
                                    "4": "June 2006"
                                },
                                {
                                    "0": "779",
                                    "1": "MOUNTAIN-200 SILVER, 38",
                                    "2": "10591,00",
                                    "3": "July 2006",
                                    "4": "NULL"
                                },
                                {
                                    "0": "780",
                                    "1": "MOUNTAIN-200 SILVER, 42",
                                    "2": "10782,00",
                                    "3": "July 2006",
                                    "4": "NULL"
                                },
                                {
                                    "0": "781",
                                    "1": "MOUNTAIN-200 SILVER, 46",
                                    "2": "10945,00",
                                    "3": "July 2006",
                                    "4": "NULL"
                                },
                                {
                                    "0": "782",
                                    "1": "MOUNTAIN-200 BLACK, 38",
                                    "2": "10591,00",
                                    "3": "July 2006",
                                    "4": "NULL"
                                },
                                {
                                    "0": "783",
                                    "1": "MOUNTAIN-200 BLACK, 42",
                                    "2": "10782,00",
                                    "3": "July 2006",
                                    "4": "NULL"
                                },
                                {
                                    "0": "784",
                                    "1": "MOUNTAIN-200 BLACK, 46",
                                    "2": "10945,00",
                                    "3": "July 2006",
                                    "4": "NULL"
                                },
                                {
                                    "0": "785",
                                    "1": "MOUNTAIN-300 BLACK, 38",
                                    "2": "11499,00",
                                    "3": "July 2006",
                                    "4": "June 2007"
                                },
                                {
                                    "0": "786",
                                    "1": "MOUNTAIN-300 BLACK, 40",
                                    "2": "11689,00",
                                    "3": "July 2006",
                                    "4": "June 2007"
                                },
                                {
                                    "0": "787",
                                    "1": "MOUNTAIN-300 BLACK, 44",
                                    "2": "11852,00",
                                    "3": "July 2006",
                                    "4": "June 2007"
                                },
                                {
                                    "0": "788",
                                    "1": "MOUNTAIN-300 BLACK, 48",
                                    "2": "11984,00",
                                    "3": "July 2006",
                                    "4": "June 2007"
                                },
                                {
                                    "0": "789",
                                    "1": "ROAD-250 RED, 44",
                                    "2": "6700,00",
                                    "3": "July 2006",
                                    "4": "June 2007"
                                },
                                {
                                    "0": "790",
                                    "1": "ROAD-250 RED, 48",
                                    "2": "6863,00",
                                    "3": "July 2006",
                                    "4": "June 2007"
                                },
                                {
                                    "0": "791",
                                    "1": "ROAD-250 RED, 52",
                                    "2": "6994,00",
                                    "3": "July 2006",
                                    "4": "June 2007"
                                },
                                {
                                    "0": "792",
                                    "1": "ROAD-250 RED, 58",
                                    "2": "7162,00",
                                    "3": "July 2006",
                                    "4": "NULL"
                                },
                                {
                                    "0": "793",
                                    "1": "ROAD-250 BLACK, 44",
                                    "2": "6700,00",
                                    "3": "July 2006",
                                    "4": "NULL"
                                },
                                {
                                    "0": "794",
                                    "1": "ROAD-250 BLACK, 48",
                                    "2": "6863,00",
                                    "3": "July 2006",
                                    "4": "NULL"
                                },
                                {
                                    "0": "795",
                                    "1": "ROAD-250 BLACK, 52",
                                    "2": "6994,00",
                                    "3": "July 2006",
                                    "4": "NULL"
                                },
                                {
                                    "0": "796",
                                    "1": "ROAD-250 BLACK, 58",
                                    "2": "7112,00",
                                    "3": "July 2006",
                                    "4": "NULL"
                                },
                                {
                                    "0": "797",
                                    "1": "ROAD-550-W YELLOW, 38",
                                    "2": "7870,00",
                                    "3": "July 2006",
                                    "4": "NULL"
                                },
                                {
                                    "0": "798",
                                    "1": "ROAD-550-W YELLOW, 40",
                                    "2": "8060,00",
                                    "3": "July 2006",
                                    "4": "NULL"
                                },
                                {
                                    "0": "799",
                                    "1": "ROAD-550-W YELLOW, 42",
                                    "2": "8224,00",
                                    "3": "July 2006",
                                    "4": "NULL"
                                },
                                {
                                    "0": "800",
                                    "1": "ROAD-550-W YELLOW, 44",
                                    "2": "8355,00",
                                    "3": "July 2006",
                                    "4": "NULL"
                                },
                                {
                                    "0": "801",
                                    "1": "ROAD-550-W YELLOW, 48",
                                    "2": "8473,00",
                                    "3": "July 2006",
                                    "4": "NULL"
                                },
                                {
                                    "0": "802",
                                    "1": "LL FORK",
                                    "2": "NULL",
                                    "3": "July 2006",
                                    "4": "June 2007"
                                },
                                {
                                    "0": "803",
                                    "1": "ML FORK",
                                    "2": "NULL",
                                    "3": "July 2006",
                                    "4": "June 2007"
                                },
                                {
                                    "0": "804",
                                    "1": "HL FORK",
                                    "2": "NULL",
                                    "3": "July 2006",
                                    "4": "June 2007"
                                },
                                {
                                    "0": "805",
                                    "1": "LL HEADSET",
                                    "2": "NULL",
                                    "3": "July 2006",
                                    "4": "June 2007"
                                },
                                {
                                    "0": "806",
                                    "1": "ML HEADSET",
                                    "2": "NULL",
                                    "3": "July 2006",
                                    "4": "June 2007"
                                },
                                {
                                    "0": "807",
                                    "1": "HL HEADSET",
                                    "2": "NULL",
                                    "3": "July 2006",
                                    "4": "June 2007"
                                },
                                {
                                    "0": "808",
                                    "1": "LL MOUNTAIN HANDLEBARS",
                                    "2": "NULL",
                                    "3": "July 2006",
                                    "4": "NULL"
                                },
                                {
                                    "0": "809",
                                    "1": "ML MOUNTAIN HANDLEBARS",
                                    "2": "NULL",
                                    "3": "July 2006",
                                    "4": "NULL"
                                },
                                {
                                    "0": "810",
                                    "1": "HL MOUNTAIN HANDLEBARS",
                                    "2": "NULL",
                                    "3": "July 2006",
                                    "4": "NULL"
                                },
                                {
                                    "0": "811",
                                    "1": "LL ROAD HANDLEBARS",
                                    "2": "NULL",
                                    "3": "July 2006",
                                    "4": "NULL"
                                },
                                {
                                    "0": "812",
                                    "1": "ML ROAD HANDLEBARS",
                                    "2": "NULL",
                                    "3": "July 2006",
                                    "4": "NULL"
                                },
                                {
                                    "0": "813",
                                    "1": "HL ROAD HANDLEBARS",
                                    "2": "NULL",
                                    "3": "July 2006",
                                    "4": "NULL"
                                },
                                {
                                    "0": "814",
                                    "1": "ML MOUNTAIN FRAME - BLACK, 38",
                                    "2": "1238,00",
                                    "3": "July 2006",
                                    "4": "June 2007"
                                },
                                {
                                    "0": "815",
                                    "1": "LL MOUNTAIN FRONT WHEEL",
                                    "2": "NULL",
                                    "3": "July 2006",
                                    "4": "June 2007"
                                },
                                {
                                    "0": "816",
                                    "1": "ML MOUNTAIN FRONT WHEEL",
                                    "2": "NULL",
                                    "3": "July 2006",
                                    "4": "June 2007"
                                },
                                {
                                    "0": "817",
                                    "1": "HL MOUNTAIN FRONT WHEEL",
                                    "2": "NULL",
                                    "3": "July 2006",
                                    "4": "June 2007"
                                },
                                {
                                    "0": "818",
                                    "1": "LL ROAD FRONT WHEEL",
                                    "2": "900,00",
                                    "3": "July 2006",
                                    "4": "June 2007"
                                },
                                {
                                    "0": "819",
                                    "1": "ML ROAD FRONT WHEEL",
                                    "2": "850,00",
                                    "3": "July 2006",
                                    "4": "June 2007"
                                },
                                {
                                    "0": "820",
                                    "1": "HL ROAD FRONT WHEEL",
                                    "2": "650,00",
                                    "3": "July 2006",
                                    "4": "June 2007"
                                },
                                {
                                    "0": "821",
                                    "1": "TOURING FRONT WHEEL",
                                    "2": "NULL",
                                    "3": "July 2006",
                                    "4": "June 2007"
                                },
                                {
                                    "0": "822",
                                    "1": "ML ROAD FRAME-W - YELLOW, 38",
                                    "2": "989,00",
                                    "3": "July 2006",
                                    "4": "NULL"
                                },
                                {
                                    "0": "823",
                                    "1": "LL MOUNTAIN REAR WHEEL",
                                    "2": "NULL",
                                    "3": "July 2006",
                                    "4": "June 2007"
                                },
                                {
                                    "0": "824",
                                    "1": "ML MOUNTAIN REAR WHEEL",
                                    "2": "NULL",
                                    "3": "July 2006",
                                    "4": "June 2007"
                                },
                                {
                                    "0": "825",
                                    "1": "HL MOUNTAIN REAR WHEEL",
                                    "2": "NULL",
                                    "3": "July 2006",
                                    "4": "June 2007"
                                },
                                {
                                    "0": "826",
                                    "1": "LL ROAD REAR WHEEL",
                                    "2": "1050,00",
                                    "3": "July 2006",
                                    "4": "June 2007"
                                },
                                {
                                    "0": "827",
                                    "1": "ML ROAD REAR WHEEL",
                                    "2": "1000,00",
                                    "3": "July 2006",
                                    "4": "June 2007"
                                },
                                {
                                    "0": "828",
                                    "1": "HL ROAD REAR WHEEL",
                                    "2": "890,00",
                                    "3": "July 2006",
                                    "4": "June 2007"
                                },
                                {
                                    "0": "829",
                                    "1": "TOURING REAR WHEEL",
                                    "2": "NULL",
                                    "3": "July 2006",
                                    "4": "June 2007"
                                },
                                {
                                    "0": "830",
                                    "1": "ML MOUNTAIN FRAME - BLACK, 40",
                                    "2": "1256,00",
                                    "3": "July 2006",
                                    "4": "June 2007"
                                },
                                {
                                    "0": "831",
                                    "1": "ML MOUNTAIN FRAME - BLACK, 44",
                                    "2": "1275,00",
                                    "3": "July 2006",
                                    "4": "June 2007"
                                },
                                {
                                    "0": "832",
                                    "1": "ML MOUNTAIN FRAME - BLACK, 48",
                                    "2": "1293,00",
                                    "3": "July 2006",
                                    "4": "June 2007"
                                },
                                {
                                    "0": "833",
                                    "1": "ML ROAD FRAME-W - YELLOW, 40",
                                    "2": "1007,00",
                                    "3": "July 2006",
                                    "4": "NULL"
                                },
                                {
                                    "0": "834",
                                    "1": "ML ROAD FRAME-W - YELLOW, 42",
                                    "2": "1025,00",
                                    "3": "July 2006",
                                    "4": "NULL"
                                },
                                {
                                    "0": "835",
                                    "1": "ML ROAD FRAME-W - YELLOW, 44",
                                    "2": "1043,00",
                                    "3": "July 2006",
                                    "4": "NULL"
                                },
                                {
                                    "0": "836",
                                    "1": "ML ROAD FRAME-W - YELLOW, 48",
                                    "2": "1061,00",
                                    "3": "July 2006",
                                    "4": "NULL"
                                },
                                {
                                    "0": "837",
                                    "1": "HL ROAD FRAME - BLACK, 62",
                                    "2": "1043,00",
                                    "3": "July 2006",
                                    "4": "NULL"
                                },
                                {
                                    "0": "838",
                                    "1": "HL ROAD FRAME - BLACK, 44",
                                    "2": "962,00",
                                    "3": "July 2006",
                                    "4": "NULL"
                                },
                                {
                                    "0": "839",
                                    "1": "HL ROAD FRAME - BLACK, 48",
                                    "2": "980,00",
                                    "3": "July 2006",
                                    "4": "NULL"
                                },
                                {
                                    "0": "840",
                                    "1": "HL ROAD FRAME - BLACK, 52",
                                    "2": "998,00",
                                    "3": "July 2006",
                                    "4": "NULL"
                                },
                                {
                                    "0": "841",
                                    "1": "MEN'S SPORTS SHORTS, S",
                                    "2": "NULL",
                                    "3": "July 2006",
                                    "4": "June 2007"
                                },
                                {
                                    "0": "842",
                                    "1": "TOURING-PANNIERS, LARGE",
                                    "2": "NULL",
                                    "3": "July 2006",
                                    "4": "June 2007"
                                },
                                {
                                    "0": "843",
                                    "1": "CABLE LOCK",
                                    "2": "NULL",
                                    "3": "July 2006",
                                    "4": "June 2007"
                                },
                                {
                                    "0": "844",
                                    "1": "MINIPUMP",
                                    "2": "NULL",
                                    "3": "July 2006",
                                    "4": "June 2007"
                                },
                                {
                                    "0": "845",
                                    "1": "MOUNTAIN PUMP",
                                    "2": "NULL",
                                    "3": "July 2006",
                                    "4": "June 2007"
                                },
                                {
                                    "0": "846",
                                    "1": "TAILLIGHTS - BATTERY-POWERED",
                                    "2": "NULL",
                                    "3": "July 2006",
                                    "4": "June 2007"
                                },
                                {
                                    "0": "847",
                                    "1": "HEADLIGHTS - DUAL-BEAM",
                                    "2": "NULL",
                                    "3": "July 2006",
                                    "4": "June 2007"
                                },
                                {
                                    "0": "848",
                                    "1": "HEADLIGHTS - WEATHERPROOF",
                                    "2": "NULL",
                                    "3": "July 2006",
                                    "4": "June 2007"
                                },
                                {
                                    "0": "849",
                                    "1": "MEN'S SPORTS SHORTS, M",
                                    "2": "NULL",
                                    "3": "July 2006",
                                    "4": "June 2007"
                                },
                                {
                                    "0": "850",
                                    "1": "MEN'S SPORTS SHORTS, L",
                                    "2": "NULL",
                                    "3": "July 2006",
                                    "4": "June 2007"
                                },
                                {
                                    "0": "851",
                                    "1": "MEN'S SPORTS SHORTS, XL",
                                    "2": "NULL",
                                    "3": "July 2006",
                                    "4": "June 2007"
                                },
                                {
                                    "0": "852",
                                    "1": "WOMEN'S TIGHTS, S",
                                    "2": "NULL",
                                    "3": "July 2006",
                                    "4": "June 2007"
                                },
                                {
                                    "0": "853",
                                    "1": "WOMEN'S TIGHTS, M",
                                    "2": "NULL",
                                    "3": "July 2006",
                                    "4": "June 2007"
                                },
                                {
                                    "0": "854",
                                    "1": "WOMEN'S TIGHTS, L",
                                    "2": "NULL",
                                    "3": "July 2006",
                                    "4": "June 2007"
                                },
                                {
                                    "0": "855",
                                    "1": "MEN'S BIB-SHORTS, S",
                                    "2": "NULL",
                                    "3": "July 2006",
                                    "4": "June 2007"
                                },
                                {
                                    "0": "856",
                                    "1": "MEN'S BIB-SHORTS, M",
                                    "2": "NULL",
                                    "3": "July 2006",
                                    "4": "June 2007"
                                },
                                {
                                    "0": "857",
                                    "1": "MEN'S BIB-SHORTS, L",
                                    "2": "NULL",
                                    "3": "July 2006",
                                    "4": "June 2007"
                                },
                                {
                                    "0": "858",
                                    "1": "HALF-FINGER GLOVES, S",
                                    "2": "NULL",
                                    "3": "July 2006",
                                    "4": "NULL"
                                },
                                {
                                    "0": "859",
                                    "1": "HALF-FINGER GLOVES, M",
                                    "2": "NULL",
                                    "3": "July 2006",
                                    "4": "NULL"
                                },
                                {
                                    "0": "860",
                                    "1": "HALF-FINGER GLOVES, L",
                                    "2": "NULL",
                                    "3": "July 2006",
                                    "4": "NULL"
                                },
                                {
                                    "0": "861",
                                    "1": "FULL-FINGER GLOVES, S",
                                    "2": "NULL",
                                    "3": "July 2006",
                                    "4": "June 2007"
                                },
                                {
                                    "0": "862",
                                    "1": "FULL-FINGER GLOVES, M",
                                    "2": "NULL",
                                    "3": "July 2006",
                                    "4": "June 2007"
                                },
                                {
                                    "0": "863",
                                    "1": "FULL-FINGER GLOVES, L",
                                    "2": "NULL",
                                    "3": "July 2006",
                                    "4": "June 2007"
                                },
                                {
                                    "0": "864",
                                    "1": "CLASSIC VEST, S",
                                    "2": "NULL",
                                    "3": "July 2007",
                                    "4": "NULL"
                                },
                                {
                                    "0": "865",
                                    "1": "CLASSIC VEST, M",
                                    "2": "NULL",
                                    "3": "July 2007",
                                    "4": "NULL"
                                },
                                {
                                    "0": "866",
                                    "1": "CLASSIC VEST, L",
                                    "2": "NULL",
                                    "3": "July 2007",
                                    "4": "NULL"
                                },
                                {
                                    "0": "867",
                                    "1": "WOMEN'S MOUNTAIN SHORTS, S",
                                    "2": "NULL",
                                    "3": "July 2007",
                                    "4": "NULL"
                                },
                                {
                                    "0": "868",
                                    "1": "WOMEN'S MOUNTAIN SHORTS, M",
                                    "2": "NULL",
                                    "3": "July 2007",
                                    "4": "NULL"
                                },
                                {
                                    "0": "869",
                                    "1": "WOMEN'S MOUNTAIN SHORTS, L",
                                    "2": "NULL",
                                    "3": "July 2007",
                                    "4": "NULL"
                                },
                                {
                                    "0": "870",
                                    "1": "WATER BOTTLE - 30 OZ.",
                                    "2": "NULL",
                                    "3": "July 2007",
                                    "4": "NULL"
                                },
                                {
                                    "0": "871",
                                    "1": "MOUNTAIN BOTTLE CAGE",
                                    "2": "NULL",
                                    "3": "July 2007",
                                    "4": "NULL"
                                },
                                {
                                    "0": "872",
                                    "1": "ROAD BOTTLE CAGE",
                                    "2": "NULL",
                                    "3": "July 2007",
                                    "4": "NULL"
                                },
                                {
                                    "0": "873",
                                    "1": "PATCH KIT/8 PATCHES",
                                    "2": "NULL",
                                    "3": "July 2007",
                                    "4": "NULL"
                                },
                                {
                                    "0": "874",
                                    "1": "RACING SOCKS, M",
                                    "2": "NULL",
                                    "3": "July 2007",
                                    "4": "NULL"
                                },
                                {
                                    "0": "875",
                                    "1": "RACING SOCKS, L",
                                    "2": "NULL",
                                    "3": "July 2007",
                                    "4": "NULL"
                                },
                                {
                                    "0": "876",
                                    "1": "HITCH RACK - 4-BIKE",
                                    "2": "NULL",
                                    "3": "July 2007",
                                    "4": "NULL"
                                },
                                {
                                    "0": "877",
                                    "1": "BIKE WASH - DISSOLVER",
                                    "2": "NULL",
                                    "3": "July 2007",
                                    "4": "NULL"
                                },
                                {
                                    "0": "878",
                                    "1": "FENDER SET - MOUNTAIN",
                                    "2": "NULL",
                                    "3": "July 2007",
                                    "4": "NULL"
                                },
                                {
                                    "0": "879",
                                    "1": "ALL-PURPOSE BIKE STAND",
                                    "2": "NULL",
                                    "3": "July 2007",
                                    "4": "NULL"
                                },
                                {
                                    "0": "880",
                                    "1": "HYDRATION PACK - 70 OZ.",
                                    "2": "NULL",
                                    "3": "July 2007",
                                    "4": "NULL"
                                },
                                {
                                    "0": "881",
                                    "1": "SHORT-SLEEVE CLASSIC JERSEY, S",
                                    "2": "NULL",
                                    "3": "July 2007",
                                    "4": "NULL"
                                },
                                {
                                    "0": "882",
                                    "1": "SHORT-SLEEVE CLASSIC JERSEY, M",
                                    "2": "NULL",
                                    "3": "July 2007",
                                    "4": "NULL"
                                },
                                {
                                    "0": "883",
                                    "1": "SHORT-SLEEVE CLASSIC JERSEY, L",
                                    "2": "NULL",
                                    "3": "July 2007",
                                    "4": "NULL"
                                },
                                {
                                    "0": "884",
                                    "1": "SHORT-SLEEVE CLASSIC JERSEY, XL",
                                    "2": "NULL",
                                    "3": "July 2007",
                                    "4": "NULL"
                                },
                                {
                                    "0": "885",
                                    "1": "HL TOURING FRAME - YELLOW, 60",
                                    "2": "1397,00",
                                    "3": "July 2007",
                                    "4": "NULL"
                                },
                                {
                                    "0": "886",
                                    "1": "LL TOURING FRAME - YELLOW, 62",
                                    "2": "1451,00",
                                    "3": "July 2007",
                                    "4": "NULL"
                                },
                                {
                                    "0": "887",
                                    "1": "HL TOURING FRAME - YELLOW, 46",
                                    "2": "1343,00",
                                    "3": "July 2007",
                                    "4": "NULL"
                                },
                                {
                                    "0": "888",
                                    "1": "HL TOURING FRAME - YELLOW, 50",
                                    "2": "1361,00",
                                    "3": "July 2007",
                                    "4": "NULL"
                                },
                                {
                                    "0": "889",
                                    "1": "HL TOURING FRAME - YELLOW, 54",
                                    "2": "1379,00",
                                    "3": "July 2007",
                                    "4": "NULL"
                                },
                                {
                                    "0": "890",
                                    "1": "HL TOURING FRAME - BLUE, 46",
                                    "2": "1343,00",
                                    "3": "July 2007",
                                    "4": "NULL"
                                },
                                {
                                    "0": "891",
                                    "1": "HL TOURING FRAME - BLUE, 50",
                                    "2": "1361,00",
                                    "3": "July 2007",
                                    "4": "NULL"
                                },
                                {
                                    "0": "892",
                                    "1": "HL TOURING FRAME - BLUE, 54",
                                    "2": "1379,00",
                                    "3": "July 2007",
                                    "4": "NULL"
                                },
                                {
                                    "0": "893",
                                    "1": "HL TOURING FRAME - BLUE, 60",
                                    "2": "1397,00",
                                    "3": "July 2007",
                                    "4": "NULL"
                                },
                                {
                                    "0": "894",
                                    "1": "REAR DERAILLEUR",
                                    "2": "215,00",
                                    "3": "July 2007",
                                    "4": "NULL"
                                },
                                {
                                    "0": "895",
                                    "1": "LL TOURING FRAME - BLUE, 50",
                                    "2": "1406,00",
                                    "3": "July 2007",
                                    "4": "NULL"
                                },
                                {
                                    "0": "896",
                                    "1": "LL TOURING FRAME - BLUE, 54",
                                    "2": "1424,00",
                                    "3": "July 2007",
                                    "4": "NULL"
                                },
                                {
                                    "0": "897",
                                    "1": "LL TOURING FRAME - BLUE, 58",
                                    "2": "1433,00",
                                    "3": "July 2007",
                                    "4": "NULL"
                                },
                                {
                                    "0": "898",
                                    "1": "LL TOURING FRAME - BLUE, 62",
                                    "2": "1451,00",
                                    "3": "July 2007",
                                    "4": "NULL"
                                },
                                {
                                    "0": "899",
                                    "1": "LL TOURING FRAME - YELLOW, 44",
                                    "2": "1370,00",
                                    "3": "July 2007",
                                    "4": "NULL"
                                },
                                {
                                    "0": "900",
                                    "1": "LL TOURING FRAME - YELLOW, 50",
                                    "2": "1406,00",
                                    "3": "July 2007",
                                    "4": "NULL"
                                },
                                {
                                    "0": "901",
                                    "1": "LL TOURING FRAME - YELLOW, 54",
                                    "2": "1424,00",
                                    "3": "July 2007",
                                    "4": "NULL"
                                },
                                {
                                    "0": "902",
                                    "1": "LL TOURING FRAME - YELLOW, 58",
                                    "2": "1433,00",
                                    "3": "July 2007",
                                    "4": "NULL"
                                },
                                {
                                    "0": "903",
                                    "1": "LL TOURING FRAME - BLUE, 44",
                                    "2": "1370,00",
                                    "3": "July 2007",
                                    "4": "NULL"
                                },
                                {
                                    "0": "904",
                                    "1": "ML MOUNTAIN FRAME-W - SILVER, 40",
                                    "2": "1256,00",
                                    "3": "July 2007",
                                    "4": "NULL"
                                },
                                {
                                    "0": "905",
                                    "1": "ML MOUNTAIN FRAME-W - SILVER, 42",
                                    "2": "1275,00",
                                    "3": "July 2007",
                                    "4": "NULL"
                                },
                                {
                                    "0": "906",
                                    "1": "ML MOUNTAIN FRAME-W - SILVER, 46",
                                    "2": "1293,00",
                                    "3": "July 2007",
                                    "4": "NULL"
                                },
                                {
                                    "0": "907",
                                    "1": "REAR BRAKES",
                                    "2": "317,00",
                                    "3": "July 2007",
                                    "4": "NULL"
                                },
                                {
                                    "0": "908",
                                    "1": "LL MOUNTAIN SEAT/SADDLE",
                                    "2": "NULL",
                                    "3": "July 2007",
                                    "4": "NULL"
                                },
                                {
                                    "0": "909",
                                    "1": "ML MOUNTAIN SEAT/SADDLE",
                                    "2": "NULL",
                                    "3": "July 2007",
                                    "4": "NULL"
                                },
                                {
                                    "0": "910",
                                    "1": "HL MOUNTAIN SEAT/SADDLE",
                                    "2": "NULL",
                                    "3": "July 2007",
                                    "4": "NULL"
                                },
                                {
                                    "0": "911",
                                    "1": "LL ROAD SEAT/SADDLE",
                                    "2": "NULL",
                                    "3": "July 2007",
                                    "4": "NULL"
                                },
                                {
                                    "0": "912",
                                    "1": "ML ROAD SEAT/SADDLE",
                                    "2": "NULL",
                                    "3": "July 2007",
                                    "4": "NULL"
                                },
                                {
                                    "0": "913",
                                    "1": "HL ROAD SEAT/SADDLE",
                                    "2": "NULL",
                                    "3": "July 2007",
                                    "4": "NULL"
                                },
                                {
                                    "0": "914",
                                    "1": "LL TOURING SEAT/SADDLE",
                                    "2": "NULL",
                                    "3": "July 2007",
                                    "4": "NULL"
                                },
                                {
                                    "0": "915",
                                    "1": "ML TOURING SEAT/SADDLE",
                                    "2": "NULL",
                                    "3": "July 2007",
                                    "4": "NULL"
                                },
                                {
                                    "0": "916",
                                    "1": "HL TOURING SEAT/SADDLE",
                                    "2": "NULL",
                                    "3": "July 2007",
                                    "4": "NULL"
                                },
                                {
                                    "0": "917",
                                    "1": "LL MOUNTAIN FRAME - SILVER, 42",
                                    "2": "1324,00",
                                    "3": "July 2007",
                                    "4": "NULL"
                                },
                                {
                                    "0": "918",
                                    "1": "LL MOUNTAIN FRAME - SILVER, 44",
                                    "2": "1343,00",
                                    "3": "July 2007",
                                    "4": "NULL"
                                },
                                {
                                    "0": "919",
                                    "1": "LL MOUNTAIN FRAME - SILVER, 48",
                                    "2": "1361,00",
                                    "3": "July 2007",
                                    "4": "NULL"
                                },
                                {
                                    "0": "920",
                                    "1": "LL MOUNTAIN FRAME - SILVER, 52",
                                    "2": "1379,00",
                                    "3": "July 2007",
                                    "4": "NULL"
                                },
                                {
                                    "0": "921",
                                    "1": "MOUNTAIN TIRE TUBE",
                                    "2": "NULL",
                                    "3": "July 2007",
                                    "4": "NULL"
                                },
                                {
                                    "0": "922",
                                    "1": "ROAD TIRE TUBE",
                                    "2": "NULL",
                                    "3": "July 2007",
                                    "4": "NULL"
                                },
                                {
                                    "0": "923",
                                    "1": "TOURING TIRE TUBE",
                                    "2": "NULL",
                                    "3": "July 2007",
                                    "4": "NULL"
                                },
                                {
                                    "0": "924",
                                    "1": "LL MOUNTAIN FRAME - BLACK, 42",
                                    "2": "1324,00",
                                    "3": "July 2007",
                                    "4": "NULL"
                                },
                                {
                                    "0": "925",
                                    "1": "LL MOUNTAIN FRAME - BLACK, 44",
                                    "2": "1343,00",
                                    "3": "July 2007",
                                    "4": "NULL"
                                },
                                {
                                    "0": "926",
                                    "1": "LL MOUNTAIN FRAME - BLACK, 48",
                                    "2": "1361,00",
                                    "3": "July 2007",
                                    "4": "NULL"
                                },
                                {
                                    "0": "927",
                                    "1": "LL MOUNTAIN FRAME - BLACK, 52",
                                    "2": "1379,00",
                                    "3": "July 2007",
                                    "4": "NULL"
                                },
                                {
                                    "0": "928",
                                    "1": "LL MOUNTAIN TIRE",
                                    "2": "NULL",
                                    "3": "July 2007",
                                    "4": "NULL"
                                },
                                {
                                    "0": "929",
                                    "1": "ML MOUNTAIN TIRE",
                                    "2": "NULL",
                                    "3": "July 2007",
                                    "4": "NULL"
                                },
                                {
                                    "0": "930",
                                    "1": "HL MOUNTAIN TIRE",
                                    "2": "NULL",
                                    "3": "July 2007",
                                    "4": "NULL"
                                },
                                {
                                    "0": "931",
                                    "1": "LL ROAD TIRE",
                                    "2": "NULL",
                                    "3": "July 2007",
                                    "4": "NULL"
                                },
                                {
                                    "0": "932",
                                    "1": "ML ROAD TIRE",
                                    "2": "NULL",
                                    "3": "July 2007",
                                    "4": "NULL"
                                },
                                {
                                    "0": "933",
                                    "1": "HL ROAD TIRE",
                                    "2": "NULL",
                                    "3": "July 2007",
                                    "4": "NULL"
                                },
                                {
                                    "0": "934",
                                    "1": "TOURING TIRE",
                                    "2": "NULL",
                                    "3": "July 2007",
                                    "4": "NULL"
                                },
                                {
                                    "0": "935",
                                    "1": "LL MOUNTAIN PEDAL",
                                    "2": "218,00",
                                    "3": "July 2007",
                                    "4": "NULL"
                                },
                                {
                                    "0": "936",
                                    "1": "ML MOUNTAIN PEDAL",
                                    "2": "215,00",
                                    "3": "July 2007",
                                    "4": "NULL"
                                },
                                {
                                    "0": "937",
                                    "1": "HL MOUNTAIN PEDAL",
                                    "2": "185,00",
                                    "3": "July 2007",
                                    "4": "NULL"
                                },
                                {
                                    "0": "938",
                                    "1": "LL ROAD PEDAL",
                                    "2": "189,00",
                                    "3": "July 2007",
                                    "4": "NULL"
                                },
                                {
                                    "0": "939",
                                    "1": "ML ROAD PEDAL",
                                    "2": "168,00",
                                    "3": "July 2007",
                                    "4": "NULL"
                                },
                                {
                                    "0": "940",
                                    "1": "HL ROAD PEDAL",
                                    "2": "149,00",
                                    "3": "July 2007",
                                    "4": "NULL"
                                },
                                {
                                    "0": "941",
                                    "1": "TOURING PEDAL",
                                    "2": "NULL",
                                    "3": "July 2007",
                                    "4": "NULL"
                                },
                                {
                                    "0": "942",
                                    "1": "ML MOUNTAIN FRAME-W - SILVER, 38",
                                    "2": "1238,00",
                                    "3": "July 2007",
                                    "4": "NULL"
                                },
                                {
                                    "0": "943",
                                    "1": "LL MOUNTAIN FRAME - BLACK, 40",
                                    "2": "1306,00",
                                    "3": "July 2007",
                                    "4": "NULL"
                                },
                                {
                                    "0": "944",
                                    "1": "LL MOUNTAIN FRAME - SILVER, 40",
                                    "2": "1306,00",
                                    "3": "July 2007",
                                    "4": "NULL"
                                },
                                {
                                    "0": "945",
                                    "1": "FRONT DERAILLEUR",
                                    "2": "88,00",
                                    "3": "July 2007",
                                    "4": "NULL"
                                },
                                {
                                    "0": "946",
                                    "1": "LL TOURING HANDLEBARS",
                                    "2": "NULL",
                                    "3": "July 2007",
                                    "4": "NULL"
                                },
                                {
                                    "0": "947",
                                    "1": "HL TOURING HANDLEBARS",
                                    "2": "NULL",
                                    "3": "July 2007",
                                    "4": "NULL"
                                },
                                {
                                    "0": "948",
                                    "1": "FRONT BRAKES",
                                    "2": "317,00",
                                    "3": "July 2007",
                                    "4": "NULL"
                                },
                                {
                                    "0": "949",
                                    "1": "LL CRANKSET",
                                    "2": "600,00",
                                    "3": "July 2007",
                                    "4": "NULL"
                                },
                                {
                                    "0": "950",
                                    "1": "ML CRANKSET",
                                    "2": "635,00",
                                    "3": "July 2007",
                                    "4": "NULL"
                                },
                                {
                                    "0": "951",
                                    "1": "HL CRANKSET",
                                    "2": "575,00",
                                    "3": "July 2007",
                                    "4": "NULL"
                                },
                                {
                                    "0": "952",
                                    "1": "CHAIN",
                                    "2": "NULL",
                                    "3": "July 2007",
                                    "4": "NULL"
                                },
                                {
                                    "0": "953",
                                    "1": "TOURING-2000 BLUE, 60",
                                    "2": "12655,00",
                                    "3": "July 2007",
                                    "4": "NULL"
                                },
                                {
                                    "0": "954",
                                    "1": "TOURING-1000 YELLOW, 46",
                                    "2": "11399,00",
                                    "3": "July 2007",
                                    "4": "NULL"
                                },
                                {
                                    "0": "955",
                                    "1": "TOURING-1000 YELLOW, 50",
                                    "2": "11530,00",
                                    "3": "July 2007",
                                    "4": "NULL"
                                },
                                {
                                    "0": "956",
                                    "1": "TOURING-1000 YELLOW, 54",
                                    "2": "11648,00",
                                    "3": "July 2007",
                                    "4": "NULL"
                                },
                                {
                                    "0": "957",
                                    "1": "TOURING-1000 YELLOW, 60",
                                    "2": "11748,00",
                                    "3": "July 2007",
                                    "4": "NULL"
                                },
                                {
                                    "0": "958",
                                    "1": "TOURING-3000 BLUE, 54",
                                    "2": "13463,00",
                                    "3": "July 2007",
                                    "4": "NULL"
                                },
                                {
                                    "0": "959",
                                    "1": "TOURING-3000 BLUE, 58",
                                    "2": "13562,00",
                                    "3": "July 2007",
                                    "4": "NULL"
                                },
                                {
                                    "0": "960",
                                    "1": "TOURING-3000 BLUE, 62",
                                    "2": "13608,00",
                                    "3": "July 2007",
                                    "4": "NULL"
                                },
                                {
                                    "0": "961",
                                    "1": "TOURING-3000 YELLOW, 44",
                                    "2": "13050,00",
                                    "3": "July 2007",
                                    "4": "NULL"
                                },
                                {
                                    "0": "962",
                                    "1": "TOURING-3000 YELLOW, 50",
                                    "2": "13213,00",
                                    "3": "July 2007",
                                    "4": "NULL"
                                },
                                {
                                    "0": "963",
                                    "1": "TOURING-3000 YELLOW, 54",
                                    "2": "13345,00",
                                    "3": "July 2007",
                                    "4": "NULL"
                                },
                                {
                                    "0": "964",
                                    "1": "TOURING-3000 YELLOW, 58",
                                    "2": "13512,00",
                                    "3": "July 2007",
                                    "4": "NULL"
                                },
                                {
                                    "0": "965",
                                    "1": "TOURING-3000 YELLOW, 62",
                                    "2": "13608,00",
                                    "3": "July 2007",
                                    "4": "NULL"
                                },
                                {
                                    "0": "966",
                                    "1": "TOURING-1000 BLUE, 46",
                                    "2": "11399,00",
                                    "3": "July 2007",
                                    "4": "NULL"
                                },
                                {
                                    "0": "967",
                                    "1": "TOURING-1000 BLUE, 50",
                                    "2": "11530,00",
                                    "3": "July 2007",
                                    "4": "NULL"
                                },
                                {
                                    "0": "968",
                                    "1": "TOURING-1000 BLUE, 54",
                                    "2": "11648,00",
                                    "3": "July 2007",
                                    "4": "NULL"
                                },
                                {
                                    "0": "969",
                                    "1": "TOURING-1000 BLUE, 60",
                                    "2": "11748,00",
                                    "3": "July 2007",
                                    "4": "NULL"
                                },
                                {
                                    "0": "970",
                                    "1": "TOURING-2000 BLUE, 46",
                                    "2": "12306,00",
                                    "3": "July 2007",
                                    "4": "NULL"
                                },
                                {
                                    "0": "971",
                                    "1": "TOURING-2000 BLUE, 50",
                                    "2": "12437,00",
                                    "3": "July 2007",
                                    "4": "NULL"
                                },
                                {
                                    "0": "972",
                                    "1": "TOURING-2000 BLUE, 54",
                                    "2": "12555,00",
                                    "3": "July 2007",
                                    "4": "NULL"
                                },
                                {
                                    "0": "973",
                                    "1": "ROAD-350-W YELLOW, 40",
                                    "2": "6963,00",
                                    "3": "July 2007",
                                    "4": "NULL"
                                },
                                {
                                    "0": "974",
                                    "1": "ROAD-350-W YELLOW, 42",
                                    "2": "7153,00",
                                    "3": "July 2007",
                                    "4": "NULL"
                                },
                                {
                                    "0": "975",
                                    "1": "ROAD-350-W YELLOW, 44",
                                    "2": "7316,00",
                                    "3": "July 2007",
                                    "4": "NULL"
                                },
                                {
                                    "0": "976",
                                    "1": "ROAD-350-W YELLOW, 48",
                                    "2": "7448,00",
                                    "3": "July 2007",
                                    "4": "NULL"
                                },
                                {
                                    "0": "977",
                                    "1": "ROAD-750 BLACK, 58",
                                    "2": "9430,00",
                                    "3": "July 2007",
                                    "4": "NULL"
                                },
                                {
                                    "0": "978",
                                    "1": "TOURING-3000 BLUE, 44",
                                    "2": "13050,00",
                                    "3": "July 2007",
                                    "4": "NULL"
                                },
                                {
                                    "0": "979",
                                    "1": "TOURING-3000 BLUE, 50",
                                    "2": "13213,00",
                                    "3": "July 2007",
                                    "4": "NULL"
                                },
                                {
                                    "0": "980",
                                    "1": "MOUNTAIN-400-W SILVER, 38",
                                    "2": "11952,00",
                                    "3": "July 2007",
                                    "4": "NULL"
                                },
                                {
                                    "0": "981",
                                    "1": "MOUNTAIN-400-W SILVER, 40",
                                    "2": "12143,00",
                                    "3": "July 2007",
                                    "4": "NULL"
                                },
                                {
                                    "0": "982",
                                    "1": "MOUNTAIN-400-W SILVER, 42",
                                    "2": "12306,00",
                                    "3": "July 2007",
                                    "4": "NULL"
                                },
                                {
                                    "0": "983",
                                    "1": "MOUNTAIN-400-W SILVER, 46",
                                    "2": "12437,00",
                                    "3": "July 2007",
                                    "4": "NULL"
                                },
                                {
                                    "0": "984",
                                    "1": "MOUNTAIN-500 SILVER, 40",
                                    "2": "12406,00",
                                    "3": "July 2007",
                                    "4": "NULL"
                                },
                                {
                                    "0": "985",
                                    "1": "MOUNTAIN-500 SILVER, 42",
                                    "2": "12596,00",
                                    "3": "July 2007",
                                    "4": "NULL"
                                },
                                {
                                    "0": "986",
                                    "1": "MOUNTAIN-500 SILVER, 44",
                                    "2": "12759,00",
                                    "3": "July 2007",
                                    "4": "NULL"
                                },
                                {
                                    "0": "987",
                                    "1": "MOUNTAIN-500 SILVER, 48",
                                    "2": "12891,00",
                                    "3": "July 2007",
                                    "4": "NULL"
                                },
                                {
                                    "0": "988",
                                    "1": "MOUNTAIN-500 SILVER, 52",
                                    "2": "13009,00",
                                    "3": "July 2007",
                                    "4": "NULL"
                                },
                                {
                                    "0": "989",
                                    "1": "MOUNTAIN-500 BLACK, 40",
                                    "2": "12406,00",
                                    "3": "July 2007",
                                    "4": "NULL"
                                },
                                {
                                    "0": "990",
                                    "1": "MOUNTAIN-500 BLACK, 42",
                                    "2": "12596,00",
                                    "3": "July 2007",
                                    "4": "NULL"
                                },
                                {
                                    "0": "991",
                                    "1": "MOUNTAIN-500 BLACK, 44",
                                    "2": "12759,00",
                                    "3": "July 2007",
                                    "4": "NULL"
                                },
                                {
                                    "0": "992",
                                    "1": "MOUNTAIN-500 BLACK, 48",
                                    "2": "12891,00",
                                    "3": "July 2007",
                                    "4": "NULL"
                                },
                                {
                                    "0": "993",
                                    "1": "MOUNTAIN-500 BLACK, 52",
                                    "2": "13009,00",
                                    "3": "July 2007",
                                    "4": "NULL"
                                },
                                {
                                    "0": "994",
                                    "1": "LL BOTTOM BRACKET",
                                    "2": "223,00",
                                    "3": "July 2007",
                                    "4": "NULL"
                                },
                                {
                                    "0": "995",
                                    "1": "ML BOTTOM BRACKET",
                                    "2": "168,00",
                                    "3": "July 2007",
                                    "4": "NULL"
                                },
                                {
                                    "0": "996",
                                    "1": "HL BOTTOM BRACKET",
                                    "2": "170,00",
                                    "3": "July 2007",
                                    "4": "NULL"
                                },
                                {
                                    "0": "997",
                                    "1": "ROAD-750 BLACK, 44",
                                    "2": "8967,00",
                                    "3": "July 2007",
                                    "4": "NULL"
                                },
                                {
                                    "0": "998",
                                    "1": "ROAD-750 BLACK, 48",
                                    "2": "9131,00",
                                    "3": "July 2007",
                                    "4": "NULL"
                                },
                                {
                                    "0": "999",
                                    "1": "ROAD-750 BLACK, 52",
                                    "2": "9262,00",
                                    "3": "July 2007",
                                    "4": "NULL"
                                }
                            ]
                        },
                        "text/html": [
                            "<table>",
                            "<tr><th>ProductID</th><th>ProductName</th><th>ApproxWeight</th><th>SellStartDate</th><th>SellEndDate</th></tr>",
                            "<tr><td>680</td><td>HL ROAD FRAME - BLACK, 58</td><td>1016,00</td><td>June 2002</td><td>NULL</td></tr>",
                            "<tr><td>706</td><td>HL ROAD FRAME - RED, 58</td><td>1016,00</td><td>June 2002</td><td>NULL</td></tr>",
                            "<tr><td>707</td><td>SPORT-100 HELMET, RED</td><td>NULL</td><td>July 2005</td><td>NULL</td></tr>",
                            "<tr><td>708</td><td>SPORT-100 HELMET, BLACK</td><td>NULL</td><td>July 2005</td><td>NULL</td></tr>",
                            "<tr><td>709</td><td>MOUNTAIN BIKE SOCKS, M</td><td>NULL</td><td>July 2005</td><td>June 2006</td></tr>",
                            "<tr><td>710</td><td>MOUNTAIN BIKE SOCKS, L</td><td>NULL</td><td>July 2005</td><td>June 2006</td></tr>",
                            "<tr><td>711</td><td>SPORT-100 HELMET, BLUE</td><td>NULL</td><td>July 2005</td><td>NULL</td></tr>",
                            "<tr><td>712</td><td>AWC LOGO CAP</td><td>NULL</td><td>July 2005</td><td>NULL</td></tr>",
                            "<tr><td>713</td><td>LONG-SLEEVE LOGO JERSEY, S</td><td>NULL</td><td>July 2005</td><td>NULL</td></tr>",
                            "<tr><td>714</td><td>LONG-SLEEVE LOGO JERSEY, M</td><td>NULL</td><td>July 2005</td><td>NULL</td></tr>",
                            "<tr><td>715</td><td>LONG-SLEEVE LOGO JERSEY, L</td><td>NULL</td><td>July 2005</td><td>NULL</td></tr>",
                            "<tr><td>716</td><td>LONG-SLEEVE LOGO JERSEY, XL</td><td>NULL</td><td>July 2005</td><td>NULL</td></tr>",
                            "<tr><td>717</td><td>HL ROAD FRAME - RED, 62</td><td>1043,00</td><td>July 2005</td><td>NULL</td></tr>",
                            "<tr><td>718</td><td>HL ROAD FRAME - RED, 44</td><td>962,00</td><td>July 2005</td><td>NULL</td></tr>",
                            "<tr><td>719</td><td>HL ROAD FRAME - RED, 48</td><td>980,00</td><td>July 2005</td><td>NULL</td></tr>",
                            "<tr><td>720</td><td>HL ROAD FRAME - RED, 52</td><td>998,00</td><td>July 2005</td><td>NULL</td></tr>",
                            "<tr><td>721</td><td>HL ROAD FRAME - RED, 56</td><td>1016,00</td><td>July 2005</td><td>NULL</td></tr>",
                            "<tr><td>722</td><td>LL ROAD FRAME - BLACK, 58</td><td>1116,00</td><td>July 2005</td><td>NULL</td></tr>",
                            "<tr><td>723</td><td>LL ROAD FRAME - BLACK, 60</td><td>1125,00</td><td>July 2005</td><td>NULL</td></tr>",
                            "<tr><td>724</td><td>LL ROAD FRAME - BLACK, 62</td><td>1134,00</td><td>July 2005</td><td>NULL</td></tr>",
                            "<tr><td>725</td><td>LL ROAD FRAME - RED, 44</td><td>1052,00</td><td>July 2005</td><td>June 2007</td></tr>",
                            "<tr><td>726</td><td>LL ROAD FRAME - RED, 48</td><td>1070,00</td><td>July 2005</td><td>June 2007</td></tr>",
                            "<tr><td>727</td><td>LL ROAD FRAME - RED, 52</td><td>1089,00</td><td>July 2005</td><td>June 2007</td></tr>",
                            "<tr><td>728</td><td>LL ROAD FRAME - RED, 58</td><td>1116,00</td><td>July 2005</td><td>June 2007</td></tr>",
                            "<tr><td>729</td><td>LL ROAD FRAME - RED, 60</td><td>1125,00</td><td>July 2005</td><td>June 2007</td></tr>",
                            "<tr><td>730</td><td>LL ROAD FRAME - RED, 62</td><td>1134,00</td><td>July 2005</td><td>June 2007</td></tr>",
                            "<tr><td>731</td><td>ML ROAD FRAME - RED, 44</td><td>1007,00</td><td>July 2005</td><td>June 2006</td></tr>",
                            "<tr><td>732</td><td>ML ROAD FRAME - RED, 48</td><td>1025,00</td><td>July 2005</td><td>June 2006</td></tr>",
                            "<tr><td>733</td><td>ML ROAD FRAME - RED, 52</td><td>1043,00</td><td>July 2005</td><td>June 2006</td></tr>",
                            "<tr><td>734</td><td>ML ROAD FRAME - RED, 58</td><td>1070,00</td><td>July 2005</td><td>June 2006</td></tr>",
                            "<tr><td>735</td><td>ML ROAD FRAME - RED, 60</td><td>1080,00</td><td>July 2005</td><td>June 2006</td></tr>",
                            "<tr><td>736</td><td>LL ROAD FRAME - BLACK, 44</td><td>1052,00</td><td>July 2005</td><td>NULL</td></tr>",
                            "<tr><td>737</td><td>LL ROAD FRAME - BLACK, 48</td><td>1070,00</td><td>July 2005</td><td>NULL</td></tr>",
                            "<tr><td>738</td><td>LL ROAD FRAME - BLACK, 52</td><td>1089,00</td><td>July 2005</td><td>NULL</td></tr>",
                            "<tr><td>739</td><td>HL MOUNTAIN FRAME - SILVER, 42</td><td>1234,00</td><td>July 2005</td><td>NULL</td></tr>",
                            "<tr><td>740</td><td>HL MOUNTAIN FRAME - SILVER, 44</td><td>1252,00</td><td>July 2005</td><td>June 2006</td></tr>",
                            "<tr><td>741</td><td>HL MOUNTAIN FRAME - SILVER, 48</td><td>1270,00</td><td>July 2005</td><td>June 2006</td></tr>",
                            "<tr><td>742</td><td>HL MOUNTAIN FRAME - SILVER, 46</td><td>1288,00</td><td>July 2005</td><td>NULL</td></tr>",
                            "<tr><td>743</td><td>HL MOUNTAIN FRAME - BLACK, 42</td><td>1234,00</td><td>July 2005</td><td>NULL</td></tr>",
                            "<tr><td>744</td><td>HL MOUNTAIN FRAME - BLACK, 44</td><td>1252,00</td><td>July 2005</td><td>June 2006</td></tr>",
                            "<tr><td>745</td><td>HL MOUNTAIN FRAME - BLACK, 48</td><td>1270,00</td><td>July 2005</td><td>June 2006</td></tr>",
                            "<tr><td>746</td><td>HL MOUNTAIN FRAME - BLACK, 46</td><td>1288,00</td><td>July 2005</td><td>NULL</td></tr>",
                            "<tr><td>747</td><td>HL MOUNTAIN FRAME - BLACK, 38</td><td>1216,00</td><td>July 2005</td><td>NULL</td></tr>",
                            "<tr><td>748</td><td>HL MOUNTAIN FRAME - SILVER, 38</td><td>1216,00</td><td>July 2005</td><td>NULL</td></tr>",
                            "<tr><td>749</td><td>ROAD-150 RED, 62</td><td>6804,00</td><td>July 2005</td><td>June 2006</td></tr>",
                            "<tr><td>750</td><td>ROAD-150 RED, 44</td><td>6246,00</td><td>July 2005</td><td>June 2006</td></tr>",
                            "<tr><td>751</td><td>ROAD-150 RED, 48</td><td>6409,00</td><td>July 2005</td><td>June 2006</td></tr>",
                            "<tr><td>752</td><td>ROAD-150 RED, 52</td><td>6541,00</td><td>July 2005</td><td>June 2006</td></tr>",
                            "<tr><td>753</td><td>ROAD-150 RED, 56</td><td>6659,00</td><td>July 2005</td><td>June 2006</td></tr>",
                            "<tr><td>754</td><td>ROAD-450 RED, 58</td><td>8069,00</td><td>July 2005</td><td>June 2006</td></tr>",
                            "<tr><td>755</td><td>ROAD-450 RED, 60</td><td>8119,00</td><td>July 2005</td><td>June 2006</td></tr>",
                            "<tr><td>756</td><td>ROAD-450 RED, 44</td><td>7607,00</td><td>July 2005</td><td>June 2006</td></tr>",
                            "<tr><td>757</td><td>ROAD-450 RED, 48</td><td>7770,00</td><td>July 2005</td><td>June 2006</td></tr>",
                            "<tr><td>758</td><td>ROAD-450 RED, 52</td><td>7902,00</td><td>July 2005</td><td>June 2006</td></tr>",
                            "<tr><td>759</td><td>ROAD-650 RED, 58</td><td>8977,00</td><td>July 2005</td><td>June 2007</td></tr>",
                            "<tr><td>760</td><td>ROAD-650 RED, 60</td><td>9026,00</td><td>July 2005</td><td>June 2007</td></tr>",
                            "<tr><td>761</td><td>ROAD-650 RED, 62</td><td>9072,00</td><td>July 2005</td><td>June 2007</td></tr>",
                            "<tr><td>762</td><td>ROAD-650 RED, 44</td><td>8514,00</td><td>July 2005</td><td>June 2007</td></tr>",
                            "<tr><td>763</td><td>ROAD-650 RED, 48</td><td>8677,00</td><td>July 2005</td><td>June 2007</td></tr>",
                            "<tr><td>764</td><td>ROAD-650 RED, 52</td><td>8809,00</td><td>July 2005</td><td>June 2007</td></tr>",
                            "<tr><td>765</td><td>ROAD-650 BLACK, 58</td><td>8977,00</td><td>July 2005</td><td>June 2007</td></tr>",
                            "<tr><td>766</td><td>ROAD-650 BLACK, 60</td><td>9026,00</td><td>July 2005</td><td>June 2007</td></tr>",
                            "<tr><td>767</td><td>ROAD-650 BLACK, 62</td><td>9072,00</td><td>July 2005</td><td>June 2007</td></tr>",
                            "<tr><td>768</td><td>ROAD-650 BLACK, 44</td><td>8514,00</td><td>July 2005</td><td>June 2007</td></tr>",
                            "<tr><td>769</td><td>ROAD-650 BLACK, 48</td><td>8677,00</td><td>July 2005</td><td>June 2007</td></tr>",
                            "<tr><td>770</td><td>ROAD-650 BLACK, 52</td><td>8809,00</td><td>July 2005</td><td>June 2007</td></tr>",
                            "<tr><td>771</td><td>MOUNTAIN-100 SILVER, 38</td><td>9231,00</td><td>July 2005</td><td>June 2006</td></tr>",
                            "<tr><td>772</td><td>MOUNTAIN-100 SILVER, 42</td><td>9421,00</td><td>July 2005</td><td>June 2006</td></tr>",
                            "<tr><td>773</td><td>MOUNTAIN-100 SILVER, 44</td><td>9584,00</td><td>July 2005</td><td>June 2006</td></tr>",
                            "<tr><td>774</td><td>MOUNTAIN-100 SILVER, 48</td><td>9716,00</td><td>July 2005</td><td>June 2006</td></tr>",
                            "<tr><td>775</td><td>MOUNTAIN-100 BLACK, 38</td><td>9231,00</td><td>July 2005</td><td>June 2006</td></tr>",
                            "<tr><td>776</td><td>MOUNTAIN-100 BLACK, 42</td><td>9421,00</td><td>July 2005</td><td>June 2006</td></tr>",
                            "<tr><td>777</td><td>MOUNTAIN-100 BLACK, 44</td><td>9584,00</td><td>July 2005</td><td>June 2006</td></tr>",
                            "<tr><td>778</td><td>MOUNTAIN-100 BLACK, 48</td><td>9716,00</td><td>July 2005</td><td>June 2006</td></tr>",
                            "<tr><td>779</td><td>MOUNTAIN-200 SILVER, 38</td><td>10591,00</td><td>July 2006</td><td>NULL</td></tr>",
                            "<tr><td>780</td><td>MOUNTAIN-200 SILVER, 42</td><td>10782,00</td><td>July 2006</td><td>NULL</td></tr>",
                            "<tr><td>781</td><td>MOUNTAIN-200 SILVER, 46</td><td>10945,00</td><td>July 2006</td><td>NULL</td></tr>",
                            "<tr><td>782</td><td>MOUNTAIN-200 BLACK, 38</td><td>10591,00</td><td>July 2006</td><td>NULL</td></tr>",
                            "<tr><td>783</td><td>MOUNTAIN-200 BLACK, 42</td><td>10782,00</td><td>July 2006</td><td>NULL</td></tr>",
                            "<tr><td>784</td><td>MOUNTAIN-200 BLACK, 46</td><td>10945,00</td><td>July 2006</td><td>NULL</td></tr>",
                            "<tr><td>785</td><td>MOUNTAIN-300 BLACK, 38</td><td>11499,00</td><td>July 2006</td><td>June 2007</td></tr>",
                            "<tr><td>786</td><td>MOUNTAIN-300 BLACK, 40</td><td>11689,00</td><td>July 2006</td><td>June 2007</td></tr>",
                            "<tr><td>787</td><td>MOUNTAIN-300 BLACK, 44</td><td>11852,00</td><td>July 2006</td><td>June 2007</td></tr>",
                            "<tr><td>788</td><td>MOUNTAIN-300 BLACK, 48</td><td>11984,00</td><td>July 2006</td><td>June 2007</td></tr>",
                            "<tr><td>789</td><td>ROAD-250 RED, 44</td><td>6700,00</td><td>July 2006</td><td>June 2007</td></tr>",
                            "<tr><td>790</td><td>ROAD-250 RED, 48</td><td>6863,00</td><td>July 2006</td><td>June 2007</td></tr>",
                            "<tr><td>791</td><td>ROAD-250 RED, 52</td><td>6994,00</td><td>July 2006</td><td>June 2007</td></tr>",
                            "<tr><td>792</td><td>ROAD-250 RED, 58</td><td>7162,00</td><td>July 2006</td><td>NULL</td></tr>",
                            "<tr><td>793</td><td>ROAD-250 BLACK, 44</td><td>6700,00</td><td>July 2006</td><td>NULL</td></tr>",
                            "<tr><td>794</td><td>ROAD-250 BLACK, 48</td><td>6863,00</td><td>July 2006</td><td>NULL</td></tr>",
                            "<tr><td>795</td><td>ROAD-250 BLACK, 52</td><td>6994,00</td><td>July 2006</td><td>NULL</td></tr>",
                            "<tr><td>796</td><td>ROAD-250 BLACK, 58</td><td>7112,00</td><td>July 2006</td><td>NULL</td></tr>",
                            "<tr><td>797</td><td>ROAD-550-W YELLOW, 38</td><td>7870,00</td><td>July 2006</td><td>NULL</td></tr>",
                            "<tr><td>798</td><td>ROAD-550-W YELLOW, 40</td><td>8060,00</td><td>July 2006</td><td>NULL</td></tr>",
                            "<tr><td>799</td><td>ROAD-550-W YELLOW, 42</td><td>8224,00</td><td>July 2006</td><td>NULL</td></tr>",
                            "<tr><td>800</td><td>ROAD-550-W YELLOW, 44</td><td>8355,00</td><td>July 2006</td><td>NULL</td></tr>",
                            "<tr><td>801</td><td>ROAD-550-W YELLOW, 48</td><td>8473,00</td><td>July 2006</td><td>NULL</td></tr>",
                            "<tr><td>802</td><td>LL FORK</td><td>NULL</td><td>July 2006</td><td>June 2007</td></tr>",
                            "<tr><td>803</td><td>ML FORK</td><td>NULL</td><td>July 2006</td><td>June 2007</td></tr>",
                            "<tr><td>804</td><td>HL FORK</td><td>NULL</td><td>July 2006</td><td>June 2007</td></tr>",
                            "<tr><td>805</td><td>LL HEADSET</td><td>NULL</td><td>July 2006</td><td>June 2007</td></tr>",
                            "<tr><td>806</td><td>ML HEADSET</td><td>NULL</td><td>July 2006</td><td>June 2007</td></tr>",
                            "<tr><td>807</td><td>HL HEADSET</td><td>NULL</td><td>July 2006</td><td>June 2007</td></tr>",
                            "<tr><td>808</td><td>LL MOUNTAIN HANDLEBARS</td><td>NULL</td><td>July 2006</td><td>NULL</td></tr>",
                            "<tr><td>809</td><td>ML MOUNTAIN HANDLEBARS</td><td>NULL</td><td>July 2006</td><td>NULL</td></tr>",
                            "<tr><td>810</td><td>HL MOUNTAIN HANDLEBARS</td><td>NULL</td><td>July 2006</td><td>NULL</td></tr>",
                            "<tr><td>811</td><td>LL ROAD HANDLEBARS</td><td>NULL</td><td>July 2006</td><td>NULL</td></tr>",
                            "<tr><td>812</td><td>ML ROAD HANDLEBARS</td><td>NULL</td><td>July 2006</td><td>NULL</td></tr>",
                            "<tr><td>813</td><td>HL ROAD HANDLEBARS</td><td>NULL</td><td>July 2006</td><td>NULL</td></tr>",
                            "<tr><td>814</td><td>ML MOUNTAIN FRAME - BLACK, 38</td><td>1238,00</td><td>July 2006</td><td>June 2007</td></tr>",
                            "<tr><td>815</td><td>LL MOUNTAIN FRONT WHEEL</td><td>NULL</td><td>July 2006</td><td>June 2007</td></tr>",
                            "<tr><td>816</td><td>ML MOUNTAIN FRONT WHEEL</td><td>NULL</td><td>July 2006</td><td>June 2007</td></tr>",
                            "<tr><td>817</td><td>HL MOUNTAIN FRONT WHEEL</td><td>NULL</td><td>July 2006</td><td>June 2007</td></tr>",
                            "<tr><td>818</td><td>LL ROAD FRONT WHEEL</td><td>900,00</td><td>July 2006</td><td>June 2007</td></tr>",
                            "<tr><td>819</td><td>ML ROAD FRONT WHEEL</td><td>850,00</td><td>July 2006</td><td>June 2007</td></tr>",
                            "<tr><td>820</td><td>HL ROAD FRONT WHEEL</td><td>650,00</td><td>July 2006</td><td>June 2007</td></tr>",
                            "<tr><td>821</td><td>TOURING FRONT WHEEL</td><td>NULL</td><td>July 2006</td><td>June 2007</td></tr>",
                            "<tr><td>822</td><td>ML ROAD FRAME-W - YELLOW, 38</td><td>989,00</td><td>July 2006</td><td>NULL</td></tr>",
                            "<tr><td>823</td><td>LL MOUNTAIN REAR WHEEL</td><td>NULL</td><td>July 2006</td><td>June 2007</td></tr>",
                            "<tr><td>824</td><td>ML MOUNTAIN REAR WHEEL</td><td>NULL</td><td>July 2006</td><td>June 2007</td></tr>",
                            "<tr><td>825</td><td>HL MOUNTAIN REAR WHEEL</td><td>NULL</td><td>July 2006</td><td>June 2007</td></tr>",
                            "<tr><td>826</td><td>LL ROAD REAR WHEEL</td><td>1050,00</td><td>July 2006</td><td>June 2007</td></tr>",
                            "<tr><td>827</td><td>ML ROAD REAR WHEEL</td><td>1000,00</td><td>July 2006</td><td>June 2007</td></tr>",
                            "<tr><td>828</td><td>HL ROAD REAR WHEEL</td><td>890,00</td><td>July 2006</td><td>June 2007</td></tr>",
                            "<tr><td>829</td><td>TOURING REAR WHEEL</td><td>NULL</td><td>July 2006</td><td>June 2007</td></tr>",
                            "<tr><td>830</td><td>ML MOUNTAIN FRAME - BLACK, 40</td><td>1256,00</td><td>July 2006</td><td>June 2007</td></tr>",
                            "<tr><td>831</td><td>ML MOUNTAIN FRAME - BLACK, 44</td><td>1275,00</td><td>July 2006</td><td>June 2007</td></tr>",
                            "<tr><td>832</td><td>ML MOUNTAIN FRAME - BLACK, 48</td><td>1293,00</td><td>July 2006</td><td>June 2007</td></tr>",
                            "<tr><td>833</td><td>ML ROAD FRAME-W - YELLOW, 40</td><td>1007,00</td><td>July 2006</td><td>NULL</td></tr>",
                            "<tr><td>834</td><td>ML ROAD FRAME-W - YELLOW, 42</td><td>1025,00</td><td>July 2006</td><td>NULL</td></tr>",
                            "<tr><td>835</td><td>ML ROAD FRAME-W - YELLOW, 44</td><td>1043,00</td><td>July 2006</td><td>NULL</td></tr>",
                            "<tr><td>836</td><td>ML ROAD FRAME-W - YELLOW, 48</td><td>1061,00</td><td>July 2006</td><td>NULL</td></tr>",
                            "<tr><td>837</td><td>HL ROAD FRAME - BLACK, 62</td><td>1043,00</td><td>July 2006</td><td>NULL</td></tr>",
                            "<tr><td>838</td><td>HL ROAD FRAME - BLACK, 44</td><td>962,00</td><td>July 2006</td><td>NULL</td></tr>",
                            "<tr><td>839</td><td>HL ROAD FRAME - BLACK, 48</td><td>980,00</td><td>July 2006</td><td>NULL</td></tr>",
                            "<tr><td>840</td><td>HL ROAD FRAME - BLACK, 52</td><td>998,00</td><td>July 2006</td><td>NULL</td></tr>",
                            "<tr><td>841</td><td>MEN'S SPORTS SHORTS, S</td><td>NULL</td><td>July 2006</td><td>June 2007</td></tr>",
                            "<tr><td>842</td><td>TOURING-PANNIERS, LARGE</td><td>NULL</td><td>July 2006</td><td>June 2007</td></tr>",
                            "<tr><td>843</td><td>CABLE LOCK</td><td>NULL</td><td>July 2006</td><td>June 2007</td></tr>",
                            "<tr><td>844</td><td>MINIPUMP</td><td>NULL</td><td>July 2006</td><td>June 2007</td></tr>",
                            "<tr><td>845</td><td>MOUNTAIN PUMP</td><td>NULL</td><td>July 2006</td><td>June 2007</td></tr>",
                            "<tr><td>846</td><td>TAILLIGHTS - BATTERY-POWERED</td><td>NULL</td><td>July 2006</td><td>June 2007</td></tr>",
                            "<tr><td>847</td><td>HEADLIGHTS - DUAL-BEAM</td><td>NULL</td><td>July 2006</td><td>June 2007</td></tr>",
                            "<tr><td>848</td><td>HEADLIGHTS - WEATHERPROOF</td><td>NULL</td><td>July 2006</td><td>June 2007</td></tr>",
                            "<tr><td>849</td><td>MEN'S SPORTS SHORTS, M</td><td>NULL</td><td>July 2006</td><td>June 2007</td></tr>",
                            "<tr><td>850</td><td>MEN'S SPORTS SHORTS, L</td><td>NULL</td><td>July 2006</td><td>June 2007</td></tr>",
                            "<tr><td>851</td><td>MEN'S SPORTS SHORTS, XL</td><td>NULL</td><td>July 2006</td><td>June 2007</td></tr>",
                            "<tr><td>852</td><td>WOMEN'S TIGHTS, S</td><td>NULL</td><td>July 2006</td><td>June 2007</td></tr>",
                            "<tr><td>853</td><td>WOMEN'S TIGHTS, M</td><td>NULL</td><td>July 2006</td><td>June 2007</td></tr>",
                            "<tr><td>854</td><td>WOMEN'S TIGHTS, L</td><td>NULL</td><td>July 2006</td><td>June 2007</td></tr>",
                            "<tr><td>855</td><td>MEN'S BIB-SHORTS, S</td><td>NULL</td><td>July 2006</td><td>June 2007</td></tr>",
                            "<tr><td>856</td><td>MEN'S BIB-SHORTS, M</td><td>NULL</td><td>July 2006</td><td>June 2007</td></tr>",
                            "<tr><td>857</td><td>MEN'S BIB-SHORTS, L</td><td>NULL</td><td>July 2006</td><td>June 2007</td></tr>",
                            "<tr><td>858</td><td>HALF-FINGER GLOVES, S</td><td>NULL</td><td>July 2006</td><td>NULL</td></tr>",
                            "<tr><td>859</td><td>HALF-FINGER GLOVES, M</td><td>NULL</td><td>July 2006</td><td>NULL</td></tr>",
                            "<tr><td>860</td><td>HALF-FINGER GLOVES, L</td><td>NULL</td><td>July 2006</td><td>NULL</td></tr>",
                            "<tr><td>861</td><td>FULL-FINGER GLOVES, S</td><td>NULL</td><td>July 2006</td><td>June 2007</td></tr>",
                            "<tr><td>862</td><td>FULL-FINGER GLOVES, M</td><td>NULL</td><td>July 2006</td><td>June 2007</td></tr>",
                            "<tr><td>863</td><td>FULL-FINGER GLOVES, L</td><td>NULL</td><td>July 2006</td><td>June 2007</td></tr>",
                            "<tr><td>864</td><td>CLASSIC VEST, S</td><td>NULL</td><td>July 2007</td><td>NULL</td></tr>",
                            "<tr><td>865</td><td>CLASSIC VEST, M</td><td>NULL</td><td>July 2007</td><td>NULL</td></tr>",
                            "<tr><td>866</td><td>CLASSIC VEST, L</td><td>NULL</td><td>July 2007</td><td>NULL</td></tr>",
                            "<tr><td>867</td><td>WOMEN'S MOUNTAIN SHORTS, S</td><td>NULL</td><td>July 2007</td><td>NULL</td></tr>",
                            "<tr><td>868</td><td>WOMEN'S MOUNTAIN SHORTS, M</td><td>NULL</td><td>July 2007</td><td>NULL</td></tr>",
                            "<tr><td>869</td><td>WOMEN'S MOUNTAIN SHORTS, L</td><td>NULL</td><td>July 2007</td><td>NULL</td></tr>",
                            "<tr><td>870</td><td>WATER BOTTLE - 30 OZ.</td><td>NULL</td><td>July 2007</td><td>NULL</td></tr>",
                            "<tr><td>871</td><td>MOUNTAIN BOTTLE CAGE</td><td>NULL</td><td>July 2007</td><td>NULL</td></tr>",
                            "<tr><td>872</td><td>ROAD BOTTLE CAGE</td><td>NULL</td><td>July 2007</td><td>NULL</td></tr>",
                            "<tr><td>873</td><td>PATCH KIT/8 PATCHES</td><td>NULL</td><td>July 2007</td><td>NULL</td></tr>",
                            "<tr><td>874</td><td>RACING SOCKS, M</td><td>NULL</td><td>July 2007</td><td>NULL</td></tr>",
                            "<tr><td>875</td><td>RACING SOCKS, L</td><td>NULL</td><td>July 2007</td><td>NULL</td></tr>",
                            "<tr><td>876</td><td>HITCH RACK - 4-BIKE</td><td>NULL</td><td>July 2007</td><td>NULL</td></tr>",
                            "<tr><td>877</td><td>BIKE WASH - DISSOLVER</td><td>NULL</td><td>July 2007</td><td>NULL</td></tr>",
                            "<tr><td>878</td><td>FENDER SET - MOUNTAIN</td><td>NULL</td><td>July 2007</td><td>NULL</td></tr>",
                            "<tr><td>879</td><td>ALL-PURPOSE BIKE STAND</td><td>NULL</td><td>July 2007</td><td>NULL</td></tr>",
                            "<tr><td>880</td><td>HYDRATION PACK - 70 OZ.</td><td>NULL</td><td>July 2007</td><td>NULL</td></tr>",
                            "<tr><td>881</td><td>SHORT-SLEEVE CLASSIC JERSEY, S</td><td>NULL</td><td>July 2007</td><td>NULL</td></tr>",
                            "<tr><td>882</td><td>SHORT-SLEEVE CLASSIC JERSEY, M</td><td>NULL</td><td>July 2007</td><td>NULL</td></tr>",
                            "<tr><td>883</td><td>SHORT-SLEEVE CLASSIC JERSEY, L</td><td>NULL</td><td>July 2007</td><td>NULL</td></tr>",
                            "<tr><td>884</td><td>SHORT-SLEEVE CLASSIC JERSEY, XL</td><td>NULL</td><td>July 2007</td><td>NULL</td></tr>",
                            "<tr><td>885</td><td>HL TOURING FRAME - YELLOW, 60</td><td>1397,00</td><td>July 2007</td><td>NULL</td></tr>",
                            "<tr><td>886</td><td>LL TOURING FRAME - YELLOW, 62</td><td>1451,00</td><td>July 2007</td><td>NULL</td></tr>",
                            "<tr><td>887</td><td>HL TOURING FRAME - YELLOW, 46</td><td>1343,00</td><td>July 2007</td><td>NULL</td></tr>",
                            "<tr><td>888</td><td>HL TOURING FRAME - YELLOW, 50</td><td>1361,00</td><td>July 2007</td><td>NULL</td></tr>",
                            "<tr><td>889</td><td>HL TOURING FRAME - YELLOW, 54</td><td>1379,00</td><td>July 2007</td><td>NULL</td></tr>",
                            "<tr><td>890</td><td>HL TOURING FRAME - BLUE, 46</td><td>1343,00</td><td>July 2007</td><td>NULL</td></tr>",
                            "<tr><td>891</td><td>HL TOURING FRAME - BLUE, 50</td><td>1361,00</td><td>July 2007</td><td>NULL</td></tr>",
                            "<tr><td>892</td><td>HL TOURING FRAME - BLUE, 54</td><td>1379,00</td><td>July 2007</td><td>NULL</td></tr>",
                            "<tr><td>893</td><td>HL TOURING FRAME - BLUE, 60</td><td>1397,00</td><td>July 2007</td><td>NULL</td></tr>",
                            "<tr><td>894</td><td>REAR DERAILLEUR</td><td>215,00</td><td>July 2007</td><td>NULL</td></tr>",
                            "<tr><td>895</td><td>LL TOURING FRAME - BLUE, 50</td><td>1406,00</td><td>July 2007</td><td>NULL</td></tr>",
                            "<tr><td>896</td><td>LL TOURING FRAME - BLUE, 54</td><td>1424,00</td><td>July 2007</td><td>NULL</td></tr>",
                            "<tr><td>897</td><td>LL TOURING FRAME - BLUE, 58</td><td>1433,00</td><td>July 2007</td><td>NULL</td></tr>",
                            "<tr><td>898</td><td>LL TOURING FRAME - BLUE, 62</td><td>1451,00</td><td>July 2007</td><td>NULL</td></tr>",
                            "<tr><td>899</td><td>LL TOURING FRAME - YELLOW, 44</td><td>1370,00</td><td>July 2007</td><td>NULL</td></tr>",
                            "<tr><td>900</td><td>LL TOURING FRAME - YELLOW, 50</td><td>1406,00</td><td>July 2007</td><td>NULL</td></tr>",
                            "<tr><td>901</td><td>LL TOURING FRAME - YELLOW, 54</td><td>1424,00</td><td>July 2007</td><td>NULL</td></tr>",
                            "<tr><td>902</td><td>LL TOURING FRAME - YELLOW, 58</td><td>1433,00</td><td>July 2007</td><td>NULL</td></tr>",
                            "<tr><td>903</td><td>LL TOURING FRAME - BLUE, 44</td><td>1370,00</td><td>July 2007</td><td>NULL</td></tr>",
                            "<tr><td>904</td><td>ML MOUNTAIN FRAME-W - SILVER, 40</td><td>1256,00</td><td>July 2007</td><td>NULL</td></tr>",
                            "<tr><td>905</td><td>ML MOUNTAIN FRAME-W - SILVER, 42</td><td>1275,00</td><td>July 2007</td><td>NULL</td></tr>",
                            "<tr><td>906</td><td>ML MOUNTAIN FRAME-W - SILVER, 46</td><td>1293,00</td><td>July 2007</td><td>NULL</td></tr>",
                            "<tr><td>907</td><td>REAR BRAKES</td><td>317,00</td><td>July 2007</td><td>NULL</td></tr>",
                            "<tr><td>908</td><td>LL MOUNTAIN SEAT/SADDLE</td><td>NULL</td><td>July 2007</td><td>NULL</td></tr>",
                            "<tr><td>909</td><td>ML MOUNTAIN SEAT/SADDLE</td><td>NULL</td><td>July 2007</td><td>NULL</td></tr>",
                            "<tr><td>910</td><td>HL MOUNTAIN SEAT/SADDLE</td><td>NULL</td><td>July 2007</td><td>NULL</td></tr>",
                            "<tr><td>911</td><td>LL ROAD SEAT/SADDLE</td><td>NULL</td><td>July 2007</td><td>NULL</td></tr>",
                            "<tr><td>912</td><td>ML ROAD SEAT/SADDLE</td><td>NULL</td><td>July 2007</td><td>NULL</td></tr>",
                            "<tr><td>913</td><td>HL ROAD SEAT/SADDLE</td><td>NULL</td><td>July 2007</td><td>NULL</td></tr>",
                            "<tr><td>914</td><td>LL TOURING SEAT/SADDLE</td><td>NULL</td><td>July 2007</td><td>NULL</td></tr>",
                            "<tr><td>915</td><td>ML TOURING SEAT/SADDLE</td><td>NULL</td><td>July 2007</td><td>NULL</td></tr>",
                            "<tr><td>916</td><td>HL TOURING SEAT/SADDLE</td><td>NULL</td><td>July 2007</td><td>NULL</td></tr>",
                            "<tr><td>917</td><td>LL MOUNTAIN FRAME - SILVER, 42</td><td>1324,00</td><td>July 2007</td><td>NULL</td></tr>",
                            "<tr><td>918</td><td>LL MOUNTAIN FRAME - SILVER, 44</td><td>1343,00</td><td>July 2007</td><td>NULL</td></tr>",
                            "<tr><td>919</td><td>LL MOUNTAIN FRAME - SILVER, 48</td><td>1361,00</td><td>July 2007</td><td>NULL</td></tr>",
                            "<tr><td>920</td><td>LL MOUNTAIN FRAME - SILVER, 52</td><td>1379,00</td><td>July 2007</td><td>NULL</td></tr>",
                            "<tr><td>921</td><td>MOUNTAIN TIRE TUBE</td><td>NULL</td><td>July 2007</td><td>NULL</td></tr>",
                            "<tr><td>922</td><td>ROAD TIRE TUBE</td><td>NULL</td><td>July 2007</td><td>NULL</td></tr>",
                            "<tr><td>923</td><td>TOURING TIRE TUBE</td><td>NULL</td><td>July 2007</td><td>NULL</td></tr>",
                            "<tr><td>924</td><td>LL MOUNTAIN FRAME - BLACK, 42</td><td>1324,00</td><td>July 2007</td><td>NULL</td></tr>",
                            "<tr><td>925</td><td>LL MOUNTAIN FRAME - BLACK, 44</td><td>1343,00</td><td>July 2007</td><td>NULL</td></tr>",
                            "<tr><td>926</td><td>LL MOUNTAIN FRAME - BLACK, 48</td><td>1361,00</td><td>July 2007</td><td>NULL</td></tr>",
                            "<tr><td>927</td><td>LL MOUNTAIN FRAME - BLACK, 52</td><td>1379,00</td><td>July 2007</td><td>NULL</td></tr>",
                            "<tr><td>928</td><td>LL MOUNTAIN TIRE</td><td>NULL</td><td>July 2007</td><td>NULL</td></tr>",
                            "<tr><td>929</td><td>ML MOUNTAIN TIRE</td><td>NULL</td><td>July 2007</td><td>NULL</td></tr>",
                            "<tr><td>930</td><td>HL MOUNTAIN TIRE</td><td>NULL</td><td>July 2007</td><td>NULL</td></tr>",
                            "<tr><td>931</td><td>LL ROAD TIRE</td><td>NULL</td><td>July 2007</td><td>NULL</td></tr>",
                            "<tr><td>932</td><td>ML ROAD TIRE</td><td>NULL</td><td>July 2007</td><td>NULL</td></tr>",
                            "<tr><td>933</td><td>HL ROAD TIRE</td><td>NULL</td><td>July 2007</td><td>NULL</td></tr>",
                            "<tr><td>934</td><td>TOURING TIRE</td><td>NULL</td><td>July 2007</td><td>NULL</td></tr>",
                            "<tr><td>935</td><td>LL MOUNTAIN PEDAL</td><td>218,00</td><td>July 2007</td><td>NULL</td></tr>",
                            "<tr><td>936</td><td>ML MOUNTAIN PEDAL</td><td>215,00</td><td>July 2007</td><td>NULL</td></tr>",
                            "<tr><td>937</td><td>HL MOUNTAIN PEDAL</td><td>185,00</td><td>July 2007</td><td>NULL</td></tr>",
                            "<tr><td>938</td><td>LL ROAD PEDAL</td><td>189,00</td><td>July 2007</td><td>NULL</td></tr>",
                            "<tr><td>939</td><td>ML ROAD PEDAL</td><td>168,00</td><td>July 2007</td><td>NULL</td></tr>",
                            "<tr><td>940</td><td>HL ROAD PEDAL</td><td>149,00</td><td>July 2007</td><td>NULL</td></tr>",
                            "<tr><td>941</td><td>TOURING PEDAL</td><td>NULL</td><td>July 2007</td><td>NULL</td></tr>",
                            "<tr><td>942</td><td>ML MOUNTAIN FRAME-W - SILVER, 38</td><td>1238,00</td><td>July 2007</td><td>NULL</td></tr>",
                            "<tr><td>943</td><td>LL MOUNTAIN FRAME - BLACK, 40</td><td>1306,00</td><td>July 2007</td><td>NULL</td></tr>",
                            "<tr><td>944</td><td>LL MOUNTAIN FRAME - SILVER, 40</td><td>1306,00</td><td>July 2007</td><td>NULL</td></tr>",
                            "<tr><td>945</td><td>FRONT DERAILLEUR</td><td>88,00</td><td>July 2007</td><td>NULL</td></tr>",
                            "<tr><td>946</td><td>LL TOURING HANDLEBARS</td><td>NULL</td><td>July 2007</td><td>NULL</td></tr>",
                            "<tr><td>947</td><td>HL TOURING HANDLEBARS</td><td>NULL</td><td>July 2007</td><td>NULL</td></tr>",
                            "<tr><td>948</td><td>FRONT BRAKES</td><td>317,00</td><td>July 2007</td><td>NULL</td></tr>",
                            "<tr><td>949</td><td>LL CRANKSET</td><td>600,00</td><td>July 2007</td><td>NULL</td></tr>",
                            "<tr><td>950</td><td>ML CRANKSET</td><td>635,00</td><td>July 2007</td><td>NULL</td></tr>",
                            "<tr><td>951</td><td>HL CRANKSET</td><td>575,00</td><td>July 2007</td><td>NULL</td></tr>",
                            "<tr><td>952</td><td>CHAIN</td><td>NULL</td><td>July 2007</td><td>NULL</td></tr>",
                            "<tr><td>953</td><td>TOURING-2000 BLUE, 60</td><td>12655,00</td><td>July 2007</td><td>NULL</td></tr>",
                            "<tr><td>954</td><td>TOURING-1000 YELLOW, 46</td><td>11399,00</td><td>July 2007</td><td>NULL</td></tr>",
                            "<tr><td>955</td><td>TOURING-1000 YELLOW, 50</td><td>11530,00</td><td>July 2007</td><td>NULL</td></tr>",
                            "<tr><td>956</td><td>TOURING-1000 YELLOW, 54</td><td>11648,00</td><td>July 2007</td><td>NULL</td></tr>",
                            "<tr><td>957</td><td>TOURING-1000 YELLOW, 60</td><td>11748,00</td><td>July 2007</td><td>NULL</td></tr>",
                            "<tr><td>958</td><td>TOURING-3000 BLUE, 54</td><td>13463,00</td><td>July 2007</td><td>NULL</td></tr>",
                            "<tr><td>959</td><td>TOURING-3000 BLUE, 58</td><td>13562,00</td><td>July 2007</td><td>NULL</td></tr>",
                            "<tr><td>960</td><td>TOURING-3000 BLUE, 62</td><td>13608,00</td><td>July 2007</td><td>NULL</td></tr>",
                            "<tr><td>961</td><td>TOURING-3000 YELLOW, 44</td><td>13050,00</td><td>July 2007</td><td>NULL</td></tr>",
                            "<tr><td>962</td><td>TOURING-3000 YELLOW, 50</td><td>13213,00</td><td>July 2007</td><td>NULL</td></tr>",
                            "<tr><td>963</td><td>TOURING-3000 YELLOW, 54</td><td>13345,00</td><td>July 2007</td><td>NULL</td></tr>",
                            "<tr><td>964</td><td>TOURING-3000 YELLOW, 58</td><td>13512,00</td><td>July 2007</td><td>NULL</td></tr>",
                            "<tr><td>965</td><td>TOURING-3000 YELLOW, 62</td><td>13608,00</td><td>July 2007</td><td>NULL</td></tr>",
                            "<tr><td>966</td><td>TOURING-1000 BLUE, 46</td><td>11399,00</td><td>July 2007</td><td>NULL</td></tr>",
                            "<tr><td>967</td><td>TOURING-1000 BLUE, 50</td><td>11530,00</td><td>July 2007</td><td>NULL</td></tr>",
                            "<tr><td>968</td><td>TOURING-1000 BLUE, 54</td><td>11648,00</td><td>July 2007</td><td>NULL</td></tr>",
                            "<tr><td>969</td><td>TOURING-1000 BLUE, 60</td><td>11748,00</td><td>July 2007</td><td>NULL</td></tr>",
                            "<tr><td>970</td><td>TOURING-2000 BLUE, 46</td><td>12306,00</td><td>July 2007</td><td>NULL</td></tr>",
                            "<tr><td>971</td><td>TOURING-2000 BLUE, 50</td><td>12437,00</td><td>July 2007</td><td>NULL</td></tr>",
                            "<tr><td>972</td><td>TOURING-2000 BLUE, 54</td><td>12555,00</td><td>July 2007</td><td>NULL</td></tr>",
                            "<tr><td>973</td><td>ROAD-350-W YELLOW, 40</td><td>6963,00</td><td>July 2007</td><td>NULL</td></tr>",
                            "<tr><td>974</td><td>ROAD-350-W YELLOW, 42</td><td>7153,00</td><td>July 2007</td><td>NULL</td></tr>",
                            "<tr><td>975</td><td>ROAD-350-W YELLOW, 44</td><td>7316,00</td><td>July 2007</td><td>NULL</td></tr>",
                            "<tr><td>976</td><td>ROAD-350-W YELLOW, 48</td><td>7448,00</td><td>July 2007</td><td>NULL</td></tr>",
                            "<tr><td>977</td><td>ROAD-750 BLACK, 58</td><td>9430,00</td><td>July 2007</td><td>NULL</td></tr>",
                            "<tr><td>978</td><td>TOURING-3000 BLUE, 44</td><td>13050,00</td><td>July 2007</td><td>NULL</td></tr>",
                            "<tr><td>979</td><td>TOURING-3000 BLUE, 50</td><td>13213,00</td><td>July 2007</td><td>NULL</td></tr>",
                            "<tr><td>980</td><td>MOUNTAIN-400-W SILVER, 38</td><td>11952,00</td><td>July 2007</td><td>NULL</td></tr>",
                            "<tr><td>981</td><td>MOUNTAIN-400-W SILVER, 40</td><td>12143,00</td><td>July 2007</td><td>NULL</td></tr>",
                            "<tr><td>982</td><td>MOUNTAIN-400-W SILVER, 42</td><td>12306,00</td><td>July 2007</td><td>NULL</td></tr>",
                            "<tr><td>983</td><td>MOUNTAIN-400-W SILVER, 46</td><td>12437,00</td><td>July 2007</td><td>NULL</td></tr>",
                            "<tr><td>984</td><td>MOUNTAIN-500 SILVER, 40</td><td>12406,00</td><td>July 2007</td><td>NULL</td></tr>",
                            "<tr><td>985</td><td>MOUNTAIN-500 SILVER, 42</td><td>12596,00</td><td>July 2007</td><td>NULL</td></tr>",
                            "<tr><td>986</td><td>MOUNTAIN-500 SILVER, 44</td><td>12759,00</td><td>July 2007</td><td>NULL</td></tr>",
                            "<tr><td>987</td><td>MOUNTAIN-500 SILVER, 48</td><td>12891,00</td><td>July 2007</td><td>NULL</td></tr>",
                            "<tr><td>988</td><td>MOUNTAIN-500 SILVER, 52</td><td>13009,00</td><td>July 2007</td><td>NULL</td></tr>",
                            "<tr><td>989</td><td>MOUNTAIN-500 BLACK, 40</td><td>12406,00</td><td>July 2007</td><td>NULL</td></tr>",
                            "<tr><td>990</td><td>MOUNTAIN-500 BLACK, 42</td><td>12596,00</td><td>July 2007</td><td>NULL</td></tr>",
                            "<tr><td>991</td><td>MOUNTAIN-500 BLACK, 44</td><td>12759,00</td><td>July 2007</td><td>NULL</td></tr>",
                            "<tr><td>992</td><td>MOUNTAIN-500 BLACK, 48</td><td>12891,00</td><td>July 2007</td><td>NULL</td></tr>",
                            "<tr><td>993</td><td>MOUNTAIN-500 BLACK, 52</td><td>13009,00</td><td>July 2007</td><td>NULL</td></tr>",
                            "<tr><td>994</td><td>LL BOTTOM BRACKET</td><td>223,00</td><td>July 2007</td><td>NULL</td></tr>",
                            "<tr><td>995</td><td>ML BOTTOM BRACKET</td><td>168,00</td><td>July 2007</td><td>NULL</td></tr>",
                            "<tr><td>996</td><td>HL BOTTOM BRACKET</td><td>170,00</td><td>July 2007</td><td>NULL</td></tr>",
                            "<tr><td>997</td><td>ROAD-750 BLACK, 44</td><td>8967,00</td><td>July 2007</td><td>NULL</td></tr>",
                            "<tr><td>998</td><td>ROAD-750 BLACK, 48</td><td>9131,00</td><td>July 2007</td><td>NULL</td></tr>",
                            "<tr><td>999</td><td>ROAD-750 BLACK, 52</td><td>9262,00</td><td>July 2007</td><td>NULL</td></tr>",
                            "</table>"
                        ]
                    }
                }
            ],
            "execution_count": 9
        },
        {
            "cell_type": "markdown",
            "source": [
                "\\## Exercise 3\n",
                "\n",
                "The sales manager would like a list of customers ranked by sales. \n",
                "\n",
                "Write a query that returns a list of company names with a ranking of their place in a list of highest TotalDue values from the SalesOrderHeader table. Make sure to use the aliases provided, and default column names elsewhere."
            ],
            "metadata": {
                "azdata_cell_guid": "fd9d60b2-1cad-4f04-93d8-8e9852778661"
            }
        },
        {
            "cell_type": "code",
            "source": [
                "SELECT CustomerID, TotalDue, RANK() OVER(ORDER BY TotalDue DESC) AS DueTank\r\n",
                "FROM SalesLT.SalesOrderHeader"
            ],
            "metadata": {
                "azdata_cell_guid": "72311579-65d5-47c6-ab67-d97f5f9b12cc"
            },
            "outputs": [
                {
                    "output_type": "display_data",
                    "data": {
                        "text/html": "(32 rows affected)"
                    },
                    "metadata": {}
                },
                {
                    "output_type": "display_data",
                    "data": {
                        "text/html": "Total execution time: 00:00:00.013"
                    },
                    "metadata": {}
                },
                {
                    "output_type": "execute_result",
                    "metadata": {},
                    "execution_count": 14,
                    "data": {
                        "application/vnd.dataresource+json": {
                            "schema": {
                                "fields": [
                                    {
                                        "name": "CustomerID"
                                    },
                                    {
                                        "name": "TotalDue"
                                    },
                                    {
                                        "name": "DueTank"
                                    }
                                ]
                            },
                            "data": [
                                {
                                    "0": "29736",
                                    "1": "119960,8240",
                                    "2": "1"
                                },
                                {
                                    "0": "30050",
                                    "1": "108597,9536",
                                    "2": "2"
                                },
                                {
                                    "0": "29546",
                                    "1": "98138,2131",
                                    "2": "3"
                                },
                                {
                                    "0": "29957",
                                    "1": "92663,5609",
                                    "2": "4"
                                },
                                {
                                    "0": "29796",
                                    "1": "86222,8072",
                                    "2": "5"
                                },
                                {
                                    "0": "29929",
                                    "1": "81834,9826",
                                    "2": "6"
                                },
                                {
                                    "0": "29932",
                                    "1": "70698,9922",
                                    "2": "7"
                                },
                                {
                                    "0": "29660",
                                    "1": "63686,2708",
                                    "2": "8"
                                },
                                {
                                    "0": "29938",
                                    "1": "45992,3665",
                                    "2": "9"
                                },
                                {
                                    "0": "29485",
                                    "1": "43962,7901",
                                    "2": "10"
                                },
                                {
                                    "0": "30113",
                                    "1": "42452,6519",
                                    "2": "11"
                                },
                                {
                                    "0": "29922",
                                    "1": "39531,6085",
                                    "2": "12"
                                },
                                {
                                    "0": "29653",
                                    "1": "15275,1977",
                                    "2": "13"
                                },
                                {
                                    "0": "29877",
                                    "1": "14017,9083",
                                    "2": "14"
                                },
                                {
                                    "0": "29531",
                                    "1": "7330,8972",
                                    "2": "15"
                                },
                                {
                                    "0": "30027",
                                    "1": "3754,9733",
                                    "2": "16"
                                },
                                {
                                    "0": "29975",
                                    "1": "3673,3249",
                                    "2": "17"
                                },
                                {
                                    "0": "29982",
                                    "1": "3293,7761",
                                    "2": "18"
                                },
                                {
                                    "0": "30102",
                                    "1": "2711,4098",
                                    "2": "19"
                                },
                                {
                                    "0": "29568",
                                    "1": "2669,3183",
                                    "2": "20"
                                },
                                {
                                    "0": "29638",
                                    "1": "2361,6403",
                                    "2": "21"
                                },
                                {
                                    "0": "30019",
                                    "1": "2228,0566",
                                    "2": "22"
                                },
                                {
                                    "0": "30089",
                                    "1": "1261,4440",
                                    "2": "23"
                                },
                                {
                                    "0": "29644",
                                    "1": "1170,5376",
                                    "2": "24"
                                },
                                {
                                    "0": "29847",
                                    "1": "972,7850",
                                    "2": "25"
                                },
                                {
                                    "0": "30033",
                                    "1": "665,4251",
                                    "2": "26"
                                },
                                {
                                    "0": "29612",
                                    "1": "608,1766",
                                    "2": "27"
                                },
                                {
                                    "0": "29584",
                                    "1": "272,6468",
                                    "2": "28"
                                },
                                {
                                    "0": "29781",
                                    "1": "117,7276",
                                    "2": "29"
                                },
                                {
                                    "0": "30072",
                                    "1": "87,0851",
                                    "2": "30"
                                },
                                {
                                    "0": "30025",
                                    "1": "45,1995",
                                    "2": "31"
                                },
                                {
                                    "0": "29741",
                                    "1": "43,0437",
                                    "2": "32"
                                }
                            ]
                        },
                        "text/html": [
                            "<table>",
                            "<tr><th>CustomerID</th><th>TotalDue</th><th>DueTank</th></tr>",
                            "<tr><td>29736</td><td>119960,8240</td><td>1</td></tr>",
                            "<tr><td>30050</td><td>108597,9536</td><td>2</td></tr>",
                            "<tr><td>29546</td><td>98138,2131</td><td>3</td></tr>",
                            "<tr><td>29957</td><td>92663,5609</td><td>4</td></tr>",
                            "<tr><td>29796</td><td>86222,8072</td><td>5</td></tr>",
                            "<tr><td>29929</td><td>81834,9826</td><td>6</td></tr>",
                            "<tr><td>29932</td><td>70698,9922</td><td>7</td></tr>",
                            "<tr><td>29660</td><td>63686,2708</td><td>8</td></tr>",
                            "<tr><td>29938</td><td>45992,3665</td><td>9</td></tr>",
                            "<tr><td>29485</td><td>43962,7901</td><td>10</td></tr>",
                            "<tr><td>30113</td><td>42452,6519</td><td>11</td></tr>",
                            "<tr><td>29922</td><td>39531,6085</td><td>12</td></tr>",
                            "<tr><td>29653</td><td>15275,1977</td><td>13</td></tr>",
                            "<tr><td>29877</td><td>14017,9083</td><td>14</td></tr>",
                            "<tr><td>29531</td><td>7330,8972</td><td>15</td></tr>",
                            "<tr><td>30027</td><td>3754,9733</td><td>16</td></tr>",
                            "<tr><td>29975</td><td>3673,3249</td><td>17</td></tr>",
                            "<tr><td>29982</td><td>3293,7761</td><td>18</td></tr>",
                            "<tr><td>30102</td><td>2711,4098</td><td>19</td></tr>",
                            "<tr><td>29568</td><td>2669,3183</td><td>20</td></tr>",
                            "<tr><td>29638</td><td>2361,6403</td><td>21</td></tr>",
                            "<tr><td>30019</td><td>2228,0566</td><td>22</td></tr>",
                            "<tr><td>30089</td><td>1261,4440</td><td>23</td></tr>",
                            "<tr><td>29644</td><td>1170,5376</td><td>24</td></tr>",
                            "<tr><td>29847</td><td>972,7850</td><td>25</td></tr>",
                            "<tr><td>30033</td><td>665,4251</td><td>26</td></tr>",
                            "<tr><td>29612</td><td>608,1766</td><td>27</td></tr>",
                            "<tr><td>29584</td><td>272,6468</td><td>28</td></tr>",
                            "<tr><td>29781</td><td>117,7276</td><td>29</td></tr>",
                            "<tr><td>30072</td><td>87,0851</td><td>30</td></tr>",
                            "<tr><td>30025</td><td>45,1995</td><td>31</td></tr>",
                            "<tr><td>29741</td><td>43,0437</td><td>32</td></tr>",
                            "</table>"
                        ]
                    }
                }
            ],
            "execution_count": 14
        },
        {
            "cell_type": "markdown",
            "source": [
                "\\## Exercise 4 \n",
                "\n",
                "AdventureWorks products each have a standard cost that indicates the cost of manufacturing the product, and a list price that indicates the recommended selling price for the product. \n",
                "\n",
                "This data is stored in the SalesLT.Product table.\n",
                "\n",
                "Whenever a product is ordered, the actual unit price at which it was sold is also recorded in the SalesLT.SalesOrderDetail table. \n",
                "\n",
                "Use subqueries to compare the cost and list prices for each product with the unit prices charged in each sale. Retrieve the product ID, name, and list price for each product where the list price is higher than the average unit price for all products that have been sold."
            ],
            "metadata": {
                "azdata_cell_guid": "1a57f73f-9829-4d98-a8e0-d9857018a4cb"
            }
        },
        {
            "cell_type": "code",
            "source": [
                "-- select the ProductID, Name, and ListPrice columns\r\n",
                "SELECT ProductID, UPPER(Name), ListPrice\r\n",
                "FROM SalesLT.Product\r\n",
                "-- filter based on ListPrice\r\n",
                "WHERE ListPrice >\r\n",
                "-- get the average UnitPrice\r\n",
                "(SELECT AVG(UnitPrice) FROM SalesLT.SalesOrderDetail)\r\n",
                "ORDER BY ProductID;\r\n",
                ""
            ],
            "metadata": {
                "azdata_cell_guid": "5b50aef7-4f7b-4fe2-9ab3-efdf7b8c6f82"
            },
            "outputs": [
                {
                    "output_type": "display_data",
                    "data": {
                        "text/html": "(137 rows affected)"
                    },
                    "metadata": {}
                },
                {
                    "output_type": "display_data",
                    "data": {
                        "text/html": "Total execution time: 00:00:00.022"
                    },
                    "metadata": {}
                },
                {
                    "output_type": "execute_result",
                    "metadata": {},
                    "execution_count": 16,
                    "data": {
                        "application/vnd.dataresource+json": {
                            "schema": {
                                "fields": [
                                    {
                                        "name": "ProductID"
                                    },
                                    {
                                        "name": "(No column name)"
                                    },
                                    {
                                        "name": "ListPrice"
                                    }
                                ]
                            },
                            "data": [
                                {
                                    "0": "680",
                                    "1": "HL ROAD FRAME - BLACK, 58",
                                    "2": "1431,5000"
                                },
                                {
                                    "0": "706",
                                    "1": "HL ROAD FRAME - RED, 58",
                                    "2": "1431,5000"
                                },
                                {
                                    "0": "717",
                                    "1": "HL ROAD FRAME - RED, 62",
                                    "2": "1431,5000"
                                },
                                {
                                    "0": "718",
                                    "1": "HL ROAD FRAME - RED, 44",
                                    "2": "1431,5000"
                                },
                                {
                                    "0": "719",
                                    "1": "HL ROAD FRAME - RED, 48",
                                    "2": "1431,5000"
                                },
                                {
                                    "0": "720",
                                    "1": "HL ROAD FRAME - RED, 52",
                                    "2": "1431,5000"
                                },
                                {
                                    "0": "721",
                                    "1": "HL ROAD FRAME - RED, 56",
                                    "2": "1431,5000"
                                },
                                {
                                    "0": "731",
                                    "1": "ML ROAD FRAME - RED, 44",
                                    "2": "594,8300"
                                },
                                {
                                    "0": "732",
                                    "1": "ML ROAD FRAME - RED, 48",
                                    "2": "594,8300"
                                },
                                {
                                    "0": "733",
                                    "1": "ML ROAD FRAME - RED, 52",
                                    "2": "594,8300"
                                },
                                {
                                    "0": "734",
                                    "1": "ML ROAD FRAME - RED, 58",
                                    "2": "594,8300"
                                },
                                {
                                    "0": "735",
                                    "1": "ML ROAD FRAME - RED, 60",
                                    "2": "594,8300"
                                },
                                {
                                    "0": "739",
                                    "1": "HL MOUNTAIN FRAME - SILVER, 42",
                                    "2": "1364,5000"
                                },
                                {
                                    "0": "740",
                                    "1": "HL MOUNTAIN FRAME - SILVER, 44",
                                    "2": "1364,5000"
                                },
                                {
                                    "0": "741",
                                    "1": "HL MOUNTAIN FRAME - SILVER, 48",
                                    "2": "1364,5000"
                                },
                                {
                                    "0": "742",
                                    "1": "HL MOUNTAIN FRAME - SILVER, 46",
                                    "2": "1364,5000"
                                },
                                {
                                    "0": "743",
                                    "1": "HL MOUNTAIN FRAME - BLACK, 42",
                                    "2": "1349,6000"
                                },
                                {
                                    "0": "744",
                                    "1": "HL MOUNTAIN FRAME - BLACK, 44",
                                    "2": "1349,6000"
                                },
                                {
                                    "0": "745",
                                    "1": "HL MOUNTAIN FRAME - BLACK, 48",
                                    "2": "1349,6000"
                                },
                                {
                                    "0": "746",
                                    "1": "HL MOUNTAIN FRAME - BLACK, 46",
                                    "2": "1349,6000"
                                },
                                {
                                    "0": "747",
                                    "1": "HL MOUNTAIN FRAME - BLACK, 38",
                                    "2": "1349,6000"
                                },
                                {
                                    "0": "748",
                                    "1": "HL MOUNTAIN FRAME - SILVER, 38",
                                    "2": "1364,5000"
                                },
                                {
                                    "0": "749",
                                    "1": "ROAD-150 RED, 62",
                                    "2": "3578,2700"
                                },
                                {
                                    "0": "750",
                                    "1": "ROAD-150 RED, 44",
                                    "2": "3578,2700"
                                },
                                {
                                    "0": "751",
                                    "1": "ROAD-150 RED, 48",
                                    "2": "3578,2700"
                                },
                                {
                                    "0": "752",
                                    "1": "ROAD-150 RED, 52",
                                    "2": "3578,2700"
                                },
                                {
                                    "0": "753",
                                    "1": "ROAD-150 RED, 56",
                                    "2": "3578,2700"
                                },
                                {
                                    "0": "754",
                                    "1": "ROAD-450 RED, 58",
                                    "2": "1457,9900"
                                },
                                {
                                    "0": "755",
                                    "1": "ROAD-450 RED, 60",
                                    "2": "1457,9900"
                                },
                                {
                                    "0": "756",
                                    "1": "ROAD-450 RED, 44",
                                    "2": "1457,9900"
                                },
                                {
                                    "0": "757",
                                    "1": "ROAD-450 RED, 48",
                                    "2": "1457,9900"
                                },
                                {
                                    "0": "758",
                                    "1": "ROAD-450 RED, 52",
                                    "2": "1457,9900"
                                },
                                {
                                    "0": "759",
                                    "1": "ROAD-650 RED, 58",
                                    "2": "782,9900"
                                },
                                {
                                    "0": "760",
                                    "1": "ROAD-650 RED, 60",
                                    "2": "782,9900"
                                },
                                {
                                    "0": "761",
                                    "1": "ROAD-650 RED, 62",
                                    "2": "782,9900"
                                },
                                {
                                    "0": "762",
                                    "1": "ROAD-650 RED, 44",
                                    "2": "782,9900"
                                },
                                {
                                    "0": "763",
                                    "1": "ROAD-650 RED, 48",
                                    "2": "782,9900"
                                },
                                {
                                    "0": "764",
                                    "1": "ROAD-650 RED, 52",
                                    "2": "782,9900"
                                },
                                {
                                    "0": "765",
                                    "1": "ROAD-650 BLACK, 58",
                                    "2": "782,9900"
                                },
                                {
                                    "0": "766",
                                    "1": "ROAD-650 BLACK, 60",
                                    "2": "782,9900"
                                },
                                {
                                    "0": "767",
                                    "1": "ROAD-650 BLACK, 62",
                                    "2": "782,9900"
                                },
                                {
                                    "0": "768",
                                    "1": "ROAD-650 BLACK, 44",
                                    "2": "782,9900"
                                },
                                {
                                    "0": "769",
                                    "1": "ROAD-650 BLACK, 48",
                                    "2": "782,9900"
                                },
                                {
                                    "0": "770",
                                    "1": "ROAD-650 BLACK, 52",
                                    "2": "782,9900"
                                },
                                {
                                    "0": "771",
                                    "1": "MOUNTAIN-100 SILVER, 38",
                                    "2": "3399,9900"
                                },
                                {
                                    "0": "772",
                                    "1": "MOUNTAIN-100 SILVER, 42",
                                    "2": "3399,9900"
                                },
                                {
                                    "0": "773",
                                    "1": "MOUNTAIN-100 SILVER, 44",
                                    "2": "3399,9900"
                                },
                                {
                                    "0": "774",
                                    "1": "MOUNTAIN-100 SILVER, 48",
                                    "2": "3399,9900"
                                },
                                {
                                    "0": "775",
                                    "1": "MOUNTAIN-100 BLACK, 38",
                                    "2": "3374,9900"
                                },
                                {
                                    "0": "776",
                                    "1": "MOUNTAIN-100 BLACK, 42",
                                    "2": "3374,9900"
                                },
                                {
                                    "0": "777",
                                    "1": "MOUNTAIN-100 BLACK, 44",
                                    "2": "3374,9900"
                                },
                                {
                                    "0": "778",
                                    "1": "MOUNTAIN-100 BLACK, 48",
                                    "2": "3374,9900"
                                },
                                {
                                    "0": "779",
                                    "1": "MOUNTAIN-200 SILVER, 38",
                                    "2": "2319,9900"
                                },
                                {
                                    "0": "780",
                                    "1": "MOUNTAIN-200 SILVER, 42",
                                    "2": "2319,9900"
                                },
                                {
                                    "0": "781",
                                    "1": "MOUNTAIN-200 SILVER, 46",
                                    "2": "2319,9900"
                                },
                                {
                                    "0": "782",
                                    "1": "MOUNTAIN-200 BLACK, 38",
                                    "2": "2294,9900"
                                },
                                {
                                    "0": "783",
                                    "1": "MOUNTAIN-200 BLACK, 42",
                                    "2": "2294,9900"
                                },
                                {
                                    "0": "784",
                                    "1": "MOUNTAIN-200 BLACK, 46",
                                    "2": "2294,9900"
                                },
                                {
                                    "0": "785",
                                    "1": "MOUNTAIN-300 BLACK, 38",
                                    "2": "1079,9900"
                                },
                                {
                                    "0": "786",
                                    "1": "MOUNTAIN-300 BLACK, 40",
                                    "2": "1079,9900"
                                },
                                {
                                    "0": "787",
                                    "1": "MOUNTAIN-300 BLACK, 44",
                                    "2": "1079,9900"
                                },
                                {
                                    "0": "788",
                                    "1": "MOUNTAIN-300 BLACK, 48",
                                    "2": "1079,9900"
                                },
                                {
                                    "0": "789",
                                    "1": "ROAD-250 RED, 44",
                                    "2": "2443,3500"
                                },
                                {
                                    "0": "790",
                                    "1": "ROAD-250 RED, 48",
                                    "2": "2443,3500"
                                },
                                {
                                    "0": "791",
                                    "1": "ROAD-250 RED, 52",
                                    "2": "2443,3500"
                                },
                                {
                                    "0": "792",
                                    "1": "ROAD-250 RED, 58",
                                    "2": "2443,3500"
                                },
                                {
                                    "0": "793",
                                    "1": "ROAD-250 BLACK, 44",
                                    "2": "2443,3500"
                                },
                                {
                                    "0": "794",
                                    "1": "ROAD-250 BLACK, 48",
                                    "2": "2443,3500"
                                },
                                {
                                    "0": "795",
                                    "1": "ROAD-250 BLACK, 52",
                                    "2": "2443,3500"
                                },
                                {
                                    "0": "796",
                                    "1": "ROAD-250 BLACK, 58",
                                    "2": "2443,3500"
                                },
                                {
                                    "0": "797",
                                    "1": "ROAD-550-W YELLOW, 38",
                                    "2": "1120,4900"
                                },
                                {
                                    "0": "798",
                                    "1": "ROAD-550-W YELLOW, 40",
                                    "2": "1120,4900"
                                },
                                {
                                    "0": "799",
                                    "1": "ROAD-550-W YELLOW, 42",
                                    "2": "1120,4900"
                                },
                                {
                                    "0": "800",
                                    "1": "ROAD-550-W YELLOW, 44",
                                    "2": "1120,4900"
                                },
                                {
                                    "0": "801",
                                    "1": "ROAD-550-W YELLOW, 48",
                                    "2": "1120,4900"
                                },
                                {
                                    "0": "822",
                                    "1": "ML ROAD FRAME-W - YELLOW, 38",
                                    "2": "594,8300"
                                },
                                {
                                    "0": "833",
                                    "1": "ML ROAD FRAME-W - YELLOW, 40",
                                    "2": "594,8300"
                                },
                                {
                                    "0": "834",
                                    "1": "ML ROAD FRAME-W - YELLOW, 42",
                                    "2": "594,8300"
                                },
                                {
                                    "0": "835",
                                    "1": "ML ROAD FRAME-W - YELLOW, 44",
                                    "2": "594,8300"
                                },
                                {
                                    "0": "836",
                                    "1": "ML ROAD FRAME-W - YELLOW, 48",
                                    "2": "594,8300"
                                },
                                {
                                    "0": "837",
                                    "1": "HL ROAD FRAME - BLACK, 62",
                                    "2": "1431,5000"
                                },
                                {
                                    "0": "838",
                                    "1": "HL ROAD FRAME - BLACK, 44",
                                    "2": "1431,5000"
                                },
                                {
                                    "0": "839",
                                    "1": "HL ROAD FRAME - BLACK, 48",
                                    "2": "1431,5000"
                                },
                                {
                                    "0": "840",
                                    "1": "HL ROAD FRAME - BLACK, 52",
                                    "2": "1431,5000"
                                },
                                {
                                    "0": "885",
                                    "1": "HL TOURING FRAME - YELLOW, 60",
                                    "2": "1003,9100"
                                },
                                {
                                    "0": "887",
                                    "1": "HL TOURING FRAME - YELLOW, 46",
                                    "2": "1003,9100"
                                },
                                {
                                    "0": "888",
                                    "1": "HL TOURING FRAME - YELLOW, 50",
                                    "2": "1003,9100"
                                },
                                {
                                    "0": "889",
                                    "1": "HL TOURING FRAME - YELLOW, 54",
                                    "2": "1003,9100"
                                },
                                {
                                    "0": "890",
                                    "1": "HL TOURING FRAME - BLUE, 46",
                                    "2": "1003,9100"
                                },
                                {
                                    "0": "891",
                                    "1": "HL TOURING FRAME - BLUE, 50",
                                    "2": "1003,9100"
                                },
                                {
                                    "0": "892",
                                    "1": "HL TOURING FRAME - BLUE, 54",
                                    "2": "1003,9100"
                                },
                                {
                                    "0": "893",
                                    "1": "HL TOURING FRAME - BLUE, 60",
                                    "2": "1003,9100"
                                },
                                {
                                    "0": "951",
                                    "1": "HL CRANKSET",
                                    "2": "404,9900"
                                },
                                {
                                    "0": "953",
                                    "1": "TOURING-2000 BLUE, 60",
                                    "2": "1214,8500"
                                },
                                {
                                    "0": "954",
                                    "1": "TOURING-1000 YELLOW, 46",
                                    "2": "2384,0700"
                                },
                                {
                                    "0": "955",
                                    "1": "TOURING-1000 YELLOW, 50",
                                    "2": "2384,0700"
                                },
                                {
                                    "0": "956",
                                    "1": "TOURING-1000 YELLOW, 54",
                                    "2": "2384,0700"
                                },
                                {
                                    "0": "957",
                                    "1": "TOURING-1000 YELLOW, 60",
                                    "2": "2384,0700"
                                },
                                {
                                    "0": "958",
                                    "1": "TOURING-3000 BLUE, 54",
                                    "2": "742,3500"
                                },
                                {
                                    "0": "959",
                                    "1": "TOURING-3000 BLUE, 58",
                                    "2": "742,3500"
                                },
                                {
                                    "0": "960",
                                    "1": "TOURING-3000 BLUE, 62",
                                    "2": "742,3500"
                                },
                                {
                                    "0": "961",
                                    "1": "TOURING-3000 YELLOW, 44",
                                    "2": "742,3500"
                                },
                                {
                                    "0": "962",
                                    "1": "TOURING-3000 YELLOW, 50",
                                    "2": "742,3500"
                                },
                                {
                                    "0": "963",
                                    "1": "TOURING-3000 YELLOW, 54",
                                    "2": "742,3500"
                                },
                                {
                                    "0": "964",
                                    "1": "TOURING-3000 YELLOW, 58",
                                    "2": "742,3500"
                                },
                                {
                                    "0": "965",
                                    "1": "TOURING-3000 YELLOW, 62",
                                    "2": "742,3500"
                                },
                                {
                                    "0": "966",
                                    "1": "TOURING-1000 BLUE, 46",
                                    "2": "2384,0700"
                                },
                                {
                                    "0": "967",
                                    "1": "TOURING-1000 BLUE, 50",
                                    "2": "2384,0700"
                                },
                                {
                                    "0": "968",
                                    "1": "TOURING-1000 BLUE, 54",
                                    "2": "2384,0700"
                                },
                                {
                                    "0": "969",
                                    "1": "TOURING-1000 BLUE, 60",
                                    "2": "2384,0700"
                                },
                                {
                                    "0": "970",
                                    "1": "TOURING-2000 BLUE, 46",
                                    "2": "1214,8500"
                                },
                                {
                                    "0": "971",
                                    "1": "TOURING-2000 BLUE, 50",
                                    "2": "1214,8500"
                                },
                                {
                                    "0": "972",
                                    "1": "TOURING-2000 BLUE, 54",
                                    "2": "1214,8500"
                                },
                                {
                                    "0": "973",
                                    "1": "ROAD-350-W YELLOW, 40",
                                    "2": "1700,9900"
                                },
                                {
                                    "0": "974",
                                    "1": "ROAD-350-W YELLOW, 42",
                                    "2": "1700,9900"
                                },
                                {
                                    "0": "975",
                                    "1": "ROAD-350-W YELLOW, 44",
                                    "2": "1700,9900"
                                },
                                {
                                    "0": "976",
                                    "1": "ROAD-350-W YELLOW, 48",
                                    "2": "1700,9900"
                                },
                                {
                                    "0": "977",
                                    "1": "ROAD-750 BLACK, 58",
                                    "2": "539,9900"
                                },
                                {
                                    "0": "978",
                                    "1": "TOURING-3000 BLUE, 44",
                                    "2": "742,3500"
                                },
                                {
                                    "0": "979",
                                    "1": "TOURING-3000 BLUE, 50",
                                    "2": "742,3500"
                                },
                                {
                                    "0": "980",
                                    "1": "MOUNTAIN-400-W SILVER, 38",
                                    "2": "769,4900"
                                },
                                {
                                    "0": "981",
                                    "1": "MOUNTAIN-400-W SILVER, 40",
                                    "2": "769,4900"
                                },
                                {
                                    "0": "982",
                                    "1": "MOUNTAIN-400-W SILVER, 42",
                                    "2": "769,4900"
                                },
                                {
                                    "0": "983",
                                    "1": "MOUNTAIN-400-W SILVER, 46",
                                    "2": "769,4900"
                                },
                                {
                                    "0": "984",
                                    "1": "MOUNTAIN-500 SILVER, 40",
                                    "2": "564,9900"
                                },
                                {
                                    "0": "985",
                                    "1": "MOUNTAIN-500 SILVER, 42",
                                    "2": "564,9900"
                                },
                                {
                                    "0": "986",
                                    "1": "MOUNTAIN-500 SILVER, 44",
                                    "2": "564,9900"
                                },
                                {
                                    "0": "987",
                                    "1": "MOUNTAIN-500 SILVER, 48",
                                    "2": "564,9900"
                                },
                                {
                                    "0": "988",
                                    "1": "MOUNTAIN-500 SILVER, 52",
                                    "2": "564,9900"
                                },
                                {
                                    "0": "989",
                                    "1": "MOUNTAIN-500 BLACK, 40",
                                    "2": "539,9900"
                                },
                                {
                                    "0": "990",
                                    "1": "MOUNTAIN-500 BLACK, 42",
                                    "2": "539,9900"
                                },
                                {
                                    "0": "991",
                                    "1": "MOUNTAIN-500 BLACK, 44",
                                    "2": "539,9900"
                                },
                                {
                                    "0": "992",
                                    "1": "MOUNTAIN-500 BLACK, 48",
                                    "2": "539,9900"
                                },
                                {
                                    "0": "993",
                                    "1": "MOUNTAIN-500 BLACK, 52",
                                    "2": "539,9900"
                                },
                                {
                                    "0": "997",
                                    "1": "ROAD-750 BLACK, 44",
                                    "2": "539,9900"
                                },
                                {
                                    "0": "998",
                                    "1": "ROAD-750 BLACK, 48",
                                    "2": "539,9900"
                                },
                                {
                                    "0": "999",
                                    "1": "ROAD-750 BLACK, 52",
                                    "2": "539,9900"
                                }
                            ]
                        },
                        "text/html": [
                            "<table>",
                            "<tr><th>ProductID</th><th>(No column name)</th><th>ListPrice</th></tr>",
                            "<tr><td>680</td><td>HL ROAD FRAME - BLACK, 58</td><td>1431,5000</td></tr>",
                            "<tr><td>706</td><td>HL ROAD FRAME - RED, 58</td><td>1431,5000</td></tr>",
                            "<tr><td>717</td><td>HL ROAD FRAME - RED, 62</td><td>1431,5000</td></tr>",
                            "<tr><td>718</td><td>HL ROAD FRAME - RED, 44</td><td>1431,5000</td></tr>",
                            "<tr><td>719</td><td>HL ROAD FRAME - RED, 48</td><td>1431,5000</td></tr>",
                            "<tr><td>720</td><td>HL ROAD FRAME - RED, 52</td><td>1431,5000</td></tr>",
                            "<tr><td>721</td><td>HL ROAD FRAME - RED, 56</td><td>1431,5000</td></tr>",
                            "<tr><td>731</td><td>ML ROAD FRAME - RED, 44</td><td>594,8300</td></tr>",
                            "<tr><td>732</td><td>ML ROAD FRAME - RED, 48</td><td>594,8300</td></tr>",
                            "<tr><td>733</td><td>ML ROAD FRAME - RED, 52</td><td>594,8300</td></tr>",
                            "<tr><td>734</td><td>ML ROAD FRAME - RED, 58</td><td>594,8300</td></tr>",
                            "<tr><td>735</td><td>ML ROAD FRAME - RED, 60</td><td>594,8300</td></tr>",
                            "<tr><td>739</td><td>HL MOUNTAIN FRAME - SILVER, 42</td><td>1364,5000</td></tr>",
                            "<tr><td>740</td><td>HL MOUNTAIN FRAME - SILVER, 44</td><td>1364,5000</td></tr>",
                            "<tr><td>741</td><td>HL MOUNTAIN FRAME - SILVER, 48</td><td>1364,5000</td></tr>",
                            "<tr><td>742</td><td>HL MOUNTAIN FRAME - SILVER, 46</td><td>1364,5000</td></tr>",
                            "<tr><td>743</td><td>HL MOUNTAIN FRAME - BLACK, 42</td><td>1349,6000</td></tr>",
                            "<tr><td>744</td><td>HL MOUNTAIN FRAME - BLACK, 44</td><td>1349,6000</td></tr>",
                            "<tr><td>745</td><td>HL MOUNTAIN FRAME - BLACK, 48</td><td>1349,6000</td></tr>",
                            "<tr><td>746</td><td>HL MOUNTAIN FRAME - BLACK, 46</td><td>1349,6000</td></tr>",
                            "<tr><td>747</td><td>HL MOUNTAIN FRAME - BLACK, 38</td><td>1349,6000</td></tr>",
                            "<tr><td>748</td><td>HL MOUNTAIN FRAME - SILVER, 38</td><td>1364,5000</td></tr>",
                            "<tr><td>749</td><td>ROAD-150 RED, 62</td><td>3578,2700</td></tr>",
                            "<tr><td>750</td><td>ROAD-150 RED, 44</td><td>3578,2700</td></tr>",
                            "<tr><td>751</td><td>ROAD-150 RED, 48</td><td>3578,2700</td></tr>",
                            "<tr><td>752</td><td>ROAD-150 RED, 52</td><td>3578,2700</td></tr>",
                            "<tr><td>753</td><td>ROAD-150 RED, 56</td><td>3578,2700</td></tr>",
                            "<tr><td>754</td><td>ROAD-450 RED, 58</td><td>1457,9900</td></tr>",
                            "<tr><td>755</td><td>ROAD-450 RED, 60</td><td>1457,9900</td></tr>",
                            "<tr><td>756</td><td>ROAD-450 RED, 44</td><td>1457,9900</td></tr>",
                            "<tr><td>757</td><td>ROAD-450 RED, 48</td><td>1457,9900</td></tr>",
                            "<tr><td>758</td><td>ROAD-450 RED, 52</td><td>1457,9900</td></tr>",
                            "<tr><td>759</td><td>ROAD-650 RED, 58</td><td>782,9900</td></tr>",
                            "<tr><td>760</td><td>ROAD-650 RED, 60</td><td>782,9900</td></tr>",
                            "<tr><td>761</td><td>ROAD-650 RED, 62</td><td>782,9900</td></tr>",
                            "<tr><td>762</td><td>ROAD-650 RED, 44</td><td>782,9900</td></tr>",
                            "<tr><td>763</td><td>ROAD-650 RED, 48</td><td>782,9900</td></tr>",
                            "<tr><td>764</td><td>ROAD-650 RED, 52</td><td>782,9900</td></tr>",
                            "<tr><td>765</td><td>ROAD-650 BLACK, 58</td><td>782,9900</td></tr>",
                            "<tr><td>766</td><td>ROAD-650 BLACK, 60</td><td>782,9900</td></tr>",
                            "<tr><td>767</td><td>ROAD-650 BLACK, 62</td><td>782,9900</td></tr>",
                            "<tr><td>768</td><td>ROAD-650 BLACK, 44</td><td>782,9900</td></tr>",
                            "<tr><td>769</td><td>ROAD-650 BLACK, 48</td><td>782,9900</td></tr>",
                            "<tr><td>770</td><td>ROAD-650 BLACK, 52</td><td>782,9900</td></tr>",
                            "<tr><td>771</td><td>MOUNTAIN-100 SILVER, 38</td><td>3399,9900</td></tr>",
                            "<tr><td>772</td><td>MOUNTAIN-100 SILVER, 42</td><td>3399,9900</td></tr>",
                            "<tr><td>773</td><td>MOUNTAIN-100 SILVER, 44</td><td>3399,9900</td></tr>",
                            "<tr><td>774</td><td>MOUNTAIN-100 SILVER, 48</td><td>3399,9900</td></tr>",
                            "<tr><td>775</td><td>MOUNTAIN-100 BLACK, 38</td><td>3374,9900</td></tr>",
                            "<tr><td>776</td><td>MOUNTAIN-100 BLACK, 42</td><td>3374,9900</td></tr>",
                            "<tr><td>777</td><td>MOUNTAIN-100 BLACK, 44</td><td>3374,9900</td></tr>",
                            "<tr><td>778</td><td>MOUNTAIN-100 BLACK, 48</td><td>3374,9900</td></tr>",
                            "<tr><td>779</td><td>MOUNTAIN-200 SILVER, 38</td><td>2319,9900</td></tr>",
                            "<tr><td>780</td><td>MOUNTAIN-200 SILVER, 42</td><td>2319,9900</td></tr>",
                            "<tr><td>781</td><td>MOUNTAIN-200 SILVER, 46</td><td>2319,9900</td></tr>",
                            "<tr><td>782</td><td>MOUNTAIN-200 BLACK, 38</td><td>2294,9900</td></tr>",
                            "<tr><td>783</td><td>MOUNTAIN-200 BLACK, 42</td><td>2294,9900</td></tr>",
                            "<tr><td>784</td><td>MOUNTAIN-200 BLACK, 46</td><td>2294,9900</td></tr>",
                            "<tr><td>785</td><td>MOUNTAIN-300 BLACK, 38</td><td>1079,9900</td></tr>",
                            "<tr><td>786</td><td>MOUNTAIN-300 BLACK, 40</td><td>1079,9900</td></tr>",
                            "<tr><td>787</td><td>MOUNTAIN-300 BLACK, 44</td><td>1079,9900</td></tr>",
                            "<tr><td>788</td><td>MOUNTAIN-300 BLACK, 48</td><td>1079,9900</td></tr>",
                            "<tr><td>789</td><td>ROAD-250 RED, 44</td><td>2443,3500</td></tr>",
                            "<tr><td>790</td><td>ROAD-250 RED, 48</td><td>2443,3500</td></tr>",
                            "<tr><td>791</td><td>ROAD-250 RED, 52</td><td>2443,3500</td></tr>",
                            "<tr><td>792</td><td>ROAD-250 RED, 58</td><td>2443,3500</td></tr>",
                            "<tr><td>793</td><td>ROAD-250 BLACK, 44</td><td>2443,3500</td></tr>",
                            "<tr><td>794</td><td>ROAD-250 BLACK, 48</td><td>2443,3500</td></tr>",
                            "<tr><td>795</td><td>ROAD-250 BLACK, 52</td><td>2443,3500</td></tr>",
                            "<tr><td>796</td><td>ROAD-250 BLACK, 58</td><td>2443,3500</td></tr>",
                            "<tr><td>797</td><td>ROAD-550-W YELLOW, 38</td><td>1120,4900</td></tr>",
                            "<tr><td>798</td><td>ROAD-550-W YELLOW, 40</td><td>1120,4900</td></tr>",
                            "<tr><td>799</td><td>ROAD-550-W YELLOW, 42</td><td>1120,4900</td></tr>",
                            "<tr><td>800</td><td>ROAD-550-W YELLOW, 44</td><td>1120,4900</td></tr>",
                            "<tr><td>801</td><td>ROAD-550-W YELLOW, 48</td><td>1120,4900</td></tr>",
                            "<tr><td>822</td><td>ML ROAD FRAME-W - YELLOW, 38</td><td>594,8300</td></tr>",
                            "<tr><td>833</td><td>ML ROAD FRAME-W - YELLOW, 40</td><td>594,8300</td></tr>",
                            "<tr><td>834</td><td>ML ROAD FRAME-W - YELLOW, 42</td><td>594,8300</td></tr>",
                            "<tr><td>835</td><td>ML ROAD FRAME-W - YELLOW, 44</td><td>594,8300</td></tr>",
                            "<tr><td>836</td><td>ML ROAD FRAME-W - YELLOW, 48</td><td>594,8300</td></tr>",
                            "<tr><td>837</td><td>HL ROAD FRAME - BLACK, 62</td><td>1431,5000</td></tr>",
                            "<tr><td>838</td><td>HL ROAD FRAME - BLACK, 44</td><td>1431,5000</td></tr>",
                            "<tr><td>839</td><td>HL ROAD FRAME - BLACK, 48</td><td>1431,5000</td></tr>",
                            "<tr><td>840</td><td>HL ROAD FRAME - BLACK, 52</td><td>1431,5000</td></tr>",
                            "<tr><td>885</td><td>HL TOURING FRAME - YELLOW, 60</td><td>1003,9100</td></tr>",
                            "<tr><td>887</td><td>HL TOURING FRAME - YELLOW, 46</td><td>1003,9100</td></tr>",
                            "<tr><td>888</td><td>HL TOURING FRAME - YELLOW, 50</td><td>1003,9100</td></tr>",
                            "<tr><td>889</td><td>HL TOURING FRAME - YELLOW, 54</td><td>1003,9100</td></tr>",
                            "<tr><td>890</td><td>HL TOURING FRAME - BLUE, 46</td><td>1003,9100</td></tr>",
                            "<tr><td>891</td><td>HL TOURING FRAME - BLUE, 50</td><td>1003,9100</td></tr>",
                            "<tr><td>892</td><td>HL TOURING FRAME - BLUE, 54</td><td>1003,9100</td></tr>",
                            "<tr><td>893</td><td>HL TOURING FRAME - BLUE, 60</td><td>1003,9100</td></tr>",
                            "<tr><td>951</td><td>HL CRANKSET</td><td>404,9900</td></tr>",
                            "<tr><td>953</td><td>TOURING-2000 BLUE, 60</td><td>1214,8500</td></tr>",
                            "<tr><td>954</td><td>TOURING-1000 YELLOW, 46</td><td>2384,0700</td></tr>",
                            "<tr><td>955</td><td>TOURING-1000 YELLOW, 50</td><td>2384,0700</td></tr>",
                            "<tr><td>956</td><td>TOURING-1000 YELLOW, 54</td><td>2384,0700</td></tr>",
                            "<tr><td>957</td><td>TOURING-1000 YELLOW, 60</td><td>2384,0700</td></tr>",
                            "<tr><td>958</td><td>TOURING-3000 BLUE, 54</td><td>742,3500</td></tr>",
                            "<tr><td>959</td><td>TOURING-3000 BLUE, 58</td><td>742,3500</td></tr>",
                            "<tr><td>960</td><td>TOURING-3000 BLUE, 62</td><td>742,3500</td></tr>",
                            "<tr><td>961</td><td>TOURING-3000 YELLOW, 44</td><td>742,3500</td></tr>",
                            "<tr><td>962</td><td>TOURING-3000 YELLOW, 50</td><td>742,3500</td></tr>",
                            "<tr><td>963</td><td>TOURING-3000 YELLOW, 54</td><td>742,3500</td></tr>",
                            "<tr><td>964</td><td>TOURING-3000 YELLOW, 58</td><td>742,3500</td></tr>",
                            "<tr><td>965</td><td>TOURING-3000 YELLOW, 62</td><td>742,3500</td></tr>",
                            "<tr><td>966</td><td>TOURING-1000 BLUE, 46</td><td>2384,0700</td></tr>",
                            "<tr><td>967</td><td>TOURING-1000 BLUE, 50</td><td>2384,0700</td></tr>",
                            "<tr><td>968</td><td>TOURING-1000 BLUE, 54</td><td>2384,0700</td></tr>",
                            "<tr><td>969</td><td>TOURING-1000 BLUE, 60</td><td>2384,0700</td></tr>",
                            "<tr><td>970</td><td>TOURING-2000 BLUE, 46</td><td>1214,8500</td></tr>",
                            "<tr><td>971</td><td>TOURING-2000 BLUE, 50</td><td>1214,8500</td></tr>",
                            "<tr><td>972</td><td>TOURING-2000 BLUE, 54</td><td>1214,8500</td></tr>",
                            "<tr><td>973</td><td>ROAD-350-W YELLOW, 40</td><td>1700,9900</td></tr>",
                            "<tr><td>974</td><td>ROAD-350-W YELLOW, 42</td><td>1700,9900</td></tr>",
                            "<tr><td>975</td><td>ROAD-350-W YELLOW, 44</td><td>1700,9900</td></tr>",
                            "<tr><td>976</td><td>ROAD-350-W YELLOW, 48</td><td>1700,9900</td></tr>",
                            "<tr><td>977</td><td>ROAD-750 BLACK, 58</td><td>539,9900</td></tr>",
                            "<tr><td>978</td><td>TOURING-3000 BLUE, 44</td><td>742,3500</td></tr>",
                            "<tr><td>979</td><td>TOURING-3000 BLUE, 50</td><td>742,3500</td></tr>",
                            "<tr><td>980</td><td>MOUNTAIN-400-W SILVER, 38</td><td>769,4900</td></tr>",
                            "<tr><td>981</td><td>MOUNTAIN-400-W SILVER, 40</td><td>769,4900</td></tr>",
                            "<tr><td>982</td><td>MOUNTAIN-400-W SILVER, 42</td><td>769,4900</td></tr>",
                            "<tr><td>983</td><td>MOUNTAIN-400-W SILVER, 46</td><td>769,4900</td></tr>",
                            "<tr><td>984</td><td>MOUNTAIN-500 SILVER, 40</td><td>564,9900</td></tr>",
                            "<tr><td>985</td><td>MOUNTAIN-500 SILVER, 42</td><td>564,9900</td></tr>",
                            "<tr><td>986</td><td>MOUNTAIN-500 SILVER, 44</td><td>564,9900</td></tr>",
                            "<tr><td>987</td><td>MOUNTAIN-500 SILVER, 48</td><td>564,9900</td></tr>",
                            "<tr><td>988</td><td>MOUNTAIN-500 SILVER, 52</td><td>564,9900</td></tr>",
                            "<tr><td>989</td><td>MOUNTAIN-500 BLACK, 40</td><td>539,9900</td></tr>",
                            "<tr><td>990</td><td>MOUNTAIN-500 BLACK, 42</td><td>539,9900</td></tr>",
                            "<tr><td>991</td><td>MOUNTAIN-500 BLACK, 44</td><td>539,9900</td></tr>",
                            "<tr><td>992</td><td>MOUNTAIN-500 BLACK, 48</td><td>539,9900</td></tr>",
                            "<tr><td>993</td><td>MOUNTAIN-500 BLACK, 52</td><td>539,9900</td></tr>",
                            "<tr><td>997</td><td>ROAD-750 BLACK, 44</td><td>539,9900</td></tr>",
                            "<tr><td>998</td><td>ROAD-750 BLACK, 48</td><td>539,9900</td></tr>",
                            "<tr><td>999</td><td>ROAD-750 BLACK, 52</td><td>539,9900</td></tr>",
                            "</table>"
                        ]
                    }
                }
            ],
            "execution_count": 16
        },
        {
            "cell_type": "markdown",
            "source": [
                "\\## Exercise 5 \n",
                "  \n",
                "AdventureWorks is interested in finding out which products are being sold at a loss. \n",
                "  \n",
                "Retrieve the product ID, name, and list price for each product where the list price is 100 or more, and the product has been sold for (strictly) less than 100. \n",
                "  \n",
                "Remember, the ProductID in your subquery will be from the SalesLT.SalesOrderDetail table"
            ],
            "metadata": {
                "azdata_cell_guid": "9a07c66f-1e67-41f9-b660-6b93190d5920"
            }
        },
        {
            "cell_type": "code",
            "source": [
                "SELECT ProductID, Name, ListPrice\n",
                "FROM SalesLT.Product\n",
                "WHERE ProductID IN\n",
                "-- select ProductID from the appropriate table\n",
                " (SELECT ProductID FROM SalesLT.SalesOrderDetail\n",
                " WHERE UnitPrice < 100)\n",
                "AND ListPrice >= 100\n",
                "ORDER BY ProductID;"
            ],
            "metadata": {
                "azdata_cell_guid": "31e931a6-ca9d-468e-8259-65a690ebb78d"
            },
            "outputs": [
{
    "output_type": "display_data",
    "data": {
        "text/html": "(7 rows affected)"
    },
    "metadata": {}
}, {
    "output_type": "display_data",
    "data": {
        "text/html": "Total execution time: 00:00:00.024"
    },
    "metadata": {}
}, {
    "output_type": "execute_result",
    "metadata": {},
    "execution_count": 17,
    "data": {
        "application/vnd.dataresource+json": {
            "schema": {
                "fields": [
                    {
                        "name": "ProductID"
                    },
                    {
                        "name": "Name"
                    },
                    {
                        "name": "ListPrice"
                    }
                ]
            },
            "data": [
                {
                    "0": "810",
                    "1": "HL Mountain Handlebars",
                    "2": "120,2700"
                },
                {
                    "0": "813",
                    "1": "HL Road Handlebars",
                    "2": "120,2700"
                },
                {
                    "0": "876",
                    "1": "Hitch Rack - 4-Bike",
                    "2": "120,0000"
                },
                {
                    "0": "894",
                    "1": "Rear Derailleur",
                    "2": "121,4600"
                },
                {
                    "0": "907",
                    "1": "Rear Brakes",
                    "2": "106,5000"
                },
                {
                    "0": "948",
                    "1": "Front Brakes",
                    "2": "106,5000"
                },
                {
                    "0": "996",
                    "1": "HL Bottom Bracket",
                    "2": "121,4900"
                }
            ]
        },
        "text/html": [
            "<table>",
            "<tr><th>ProductID</th><th>Name</th><th>ListPrice</th></tr>",
            "<tr><td>810</td><td>HL Mountain Handlebars</td><td>120,2700</td></tr>",
            "<tr><td>813</td><td>HL Road Handlebars</td><td>120,2700</td></tr>",
            "<tr><td>876</td><td>Hitch Rack - 4-Bike</td><td>120,0000</td></tr>",
            "<tr><td>894</td><td>Rear Derailleur</td><td>121,4600</td></tr>",
            "<tr><td>907</td><td>Rear Brakes</td><td>106,5000</td></tr>",
            "<tr><td>948</td><td>Front Brakes</td><td>106,5000</td></tr>",
            "<tr><td>996</td><td>HL Bottom Bracket</td><td>121,4900</td></tr>",
            "</table>"
        ]
    }
}
],
            "execution_count": null
        }
    ]
}