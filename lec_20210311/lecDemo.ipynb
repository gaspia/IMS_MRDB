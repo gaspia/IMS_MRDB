{
    "metadata": {
        "kernelspec": {
            "name": "SQL",
            "display_name": "SQL",
            "language": "sql"
        },
        "language_info": {
            "name": "sql",
            "version": ""
        }
    },
    "nbformat_minor": 2,
    "nbformat": 4,
    "cells": [
        {
            "cell_type": "markdown",
            "source": [
                "\\## CTEs"
            ],
            "metadata": {
                "azdata_cell_guid": "bd946da8-ddc9-4063-9938-e7dc36391a33"
            }
        },
        {
            "cell_type": "code",
            "source": [
                "--Using a CTE\r\n",
                "WITH ProductsByCategory (ProductID, ProductName, Category)\r\n",
                "AS\r\n",
                "(\r\n",
                "\tSELECT p.ProductID, p.Name, c.Name AS Category\r\n",
                "\t FROM SalesLT.Product AS p\r\n",
                "\t JOIN SalesLT.ProductCategory AS c\r\n",
                "\t ON p.ProductCategoryID = c.ProductCategoryID\r\n",
                ")\r\n",
                "\r\n",
                "SELECT Category, COUNT(ProductID) AS Products\r\n",
                "FROM ProductsByCategory\r\n",
                "GROUP BY Category\r\n",
                "ORDER BY Category;\r\n",
                ""
            ],
            "metadata": {
                "azdata_cell_guid": "ba01219a-eb2e-4fe5-865e-187871cfec6a"
            },
            "outputs": [
                {
                    "output_type": "display_data",
                    "data": {
                        "text/html": "(37 rows affected)"
                    },
                    "metadata": {}
                },
                {
                    "output_type": "display_data",
                    "data": {
                        "text/html": "Total execution time: 00:00:00.120"
                    },
                    "metadata": {}
                },
                {
                    "output_type": "execute_result",
                    "metadata": {},
                    "execution_count": 2,
                    "data": {
                        "application/vnd.dataresource+json": {
                            "schema": {
                                "fields": [
                                    {
                                        "name": "Category"
                                    },
                                    {
                                        "name": "Products"
                                    }
                                ]
                            },
                            "data": [
                                {
                                    "0": "Bib-Shorts",
                                    "1": "3"
                                },
                                {
                                    "0": "Bike Racks",
                                    "1": "1"
                                },
                                {
                                    "0": "Bike Stands",
                                    "1": "1"
                                },
                                {
                                    "0": "Bottles and Cages",
                                    "1": "3"
                                },
                                {
                                    "0": "Bottom Brackets",
                                    "1": "3"
                                },
                                {
                                    "0": "Brakes",
                                    "1": "2"
                                },
                                {
                                    "0": "Caps",
                                    "1": "1"
                                },
                                {
                                    "0": "Chains",
                                    "1": "1"
                                },
                                {
                                    "0": "Cleaners",
                                    "1": "1"
                                },
                                {
                                    "0": "Cranksets",
                                    "1": "3"
                                },
                                {
                                    "0": "Derailleurs",
                                    "1": "2"
                                },
                                {
                                    "0": "Fenders",
                                    "1": "1"
                                },
                                {
                                    "0": "Forks",
                                    "1": "3"
                                },
                                {
                                    "0": "Gloves",
                                    "1": "6"
                                },
                                {
                                    "0": "Handlebars",
                                    "1": "8"
                                },
                                {
                                    "0": "Headsets",
                                    "1": "3"
                                },
                                {
                                    "0": "Helmets",
                                    "1": "3"
                                },
                                {
                                    "0": "Hydration Packs",
                                    "1": "1"
                                },
                                {
                                    "0": "Jerseys",
                                    "1": "8"
                                },
                                {
                                    "0": "Lights",
                                    "1": "3"
                                },
                                {
                                    "0": "Locks",
                                    "1": "1"
                                },
                                {
                                    "0": "Mountain Bikes",
                                    "1": "32"
                                },
                                {
                                    "0": "Mountain Frames",
                                    "1": "28"
                                },
                                {
                                    "0": "Panniers",
                                    "1": "1"
                                },
                                {
                                    "0": "Pedals",
                                    "1": "7"
                                },
                                {
                                    "0": "Pumps",
                                    "1": "2"
                                },
                                {
                                    "0": "Road Bikes",
                                    "1": "43"
                                },
                                {
                                    "0": "Road Frames",
                                    "1": "33"
                                },
                                {
                                    "0": "Saddles",
                                    "1": "9"
                                },
                                {
                                    "0": "Shorts",
                                    "1": "7"
                                },
                                {
                                    "0": "Socks",
                                    "1": "4"
                                },
                                {
                                    "0": "Tights",
                                    "1": "3"
                                },
                                {
                                    "0": "Tires and Tubes",
                                    "1": "11"
                                },
                                {
                                    "0": "Touring Bikes",
                                    "1": "22"
                                },
                                {
                                    "0": "Touring Frames",
                                    "1": "18"
                                },
                                {
                                    "0": "Vests",
                                    "1": "3"
                                },
                                {
                                    "0": "Wheels",
                                    "1": "14"
                                }
                            ]
                        },
                        "text/html": [
                            "<table>",
                            "<tr><th>Category</th><th>Products</th></tr>",
                            "<tr><td>Bib-Shorts</td><td>3</td></tr>",
                            "<tr><td>Bike Racks</td><td>1</td></tr>",
                            "<tr><td>Bike Stands</td><td>1</td></tr>",
                            "<tr><td>Bottles and Cages</td><td>3</td></tr>",
                            "<tr><td>Bottom Brackets</td><td>3</td></tr>",
                            "<tr><td>Brakes</td><td>2</td></tr>",
                            "<tr><td>Caps</td><td>1</td></tr>",
                            "<tr><td>Chains</td><td>1</td></tr>",
                            "<tr><td>Cleaners</td><td>1</td></tr>",
                            "<tr><td>Cranksets</td><td>3</td></tr>",
                            "<tr><td>Derailleurs</td><td>2</td></tr>",
                            "<tr><td>Fenders</td><td>1</td></tr>",
                            "<tr><td>Forks</td><td>3</td></tr>",
                            "<tr><td>Gloves</td><td>6</td></tr>",
                            "<tr><td>Handlebars</td><td>8</td></tr>",
                            "<tr><td>Headsets</td><td>3</td></tr>",
                            "<tr><td>Helmets</td><td>3</td></tr>",
                            "<tr><td>Hydration Packs</td><td>1</td></tr>",
                            "<tr><td>Jerseys</td><td>8</td></tr>",
                            "<tr><td>Lights</td><td>3</td></tr>",
                            "<tr><td>Locks</td><td>1</td></tr>",
                            "<tr><td>Mountain Bikes</td><td>32</td></tr>",
                            "<tr><td>Mountain Frames</td><td>28</td></tr>",
                            "<tr><td>Panniers</td><td>1</td></tr>",
                            "<tr><td>Pedals</td><td>7</td></tr>",
                            "<tr><td>Pumps</td><td>2</td></tr>",
                            "<tr><td>Road Bikes</td><td>43</td></tr>",
                            "<tr><td>Road Frames</td><td>33</td></tr>",
                            "<tr><td>Saddles</td><td>9</td></tr>",
                            "<tr><td>Shorts</td><td>7</td></tr>",
                            "<tr><td>Socks</td><td>4</td></tr>",
                            "<tr><td>Tights</td><td>3</td></tr>",
                            "<tr><td>Tires and Tubes</td><td>11</td></tr>",
                            "<tr><td>Touring Bikes</td><td>22</td></tr>",
                            "<tr><td>Touring Frames</td><td>18</td></tr>",
                            "<tr><td>Vests</td><td>3</td></tr>",
                            "<tr><td>Wheels</td><td>14</td></tr>",
                            "</table>"
                        ]
                    }
                }
            ],
            "execution_count": 2
        },
        {
            "cell_type": "markdown",
            "source": [
                "Recursive CTE"
            ],
            "metadata": {
                "azdata_cell_guid": "86bfcf49-6ccd-4023-aa99-0f880a19ca36"
            }
        },
        {
            "cell_type": "code",
            "source": [
                "Create Table OrganizationalStructures (\r\n",
                " BusinessUnitID smallint identity(1,1),\r\n",
                " BusinessUnit varchar(100) Not Null,\r\n",
                " ParentUnitID smallint\r\n",
                ")\r\n",
                "insert into OrganizationalStructures values\r\n",
                "('Adventure Works Cycle',NULL),\r\n",
                "('Customer Care',1),\r\n",
                "('Service',1),\r\n",
                "('Channel Sales & Marketing',1),\r\n",
                "('Customer Support',2),\r\n",
                "('OEM Support',2),\r\n",
                "('Central Region',3),\r\n",
                "('Eastern Region',3),\r\n",
                "('Western Region',3),\r\n",
                "('OEM',4),\r\n",
                "('Channel Marketing',4),\r\n",
                "('National Accounts',4),\r\n",
                "('Channel Field Sales',4),\r\n",
                "('National Channel Marketing',11),\r\n",
                "('Retail Channel Marketing',11),\r\n",
                "('Central Region',13),\r\n",
                "('Eastern Region',13),\r\n",
                "('Western Region',13),\r\n",
                "('Bicycles',15),\r\n",
                "('Bicycle Parts',15)\r\n",
                "/*\r\n",
                "insert into OrganizationalStructures values\r\n",
                "('Adventure Works Cycle',NULL),\r\n",
                "('Customer Care',1),\r\n",
                "('Service',1),\r\n",
                "('Channel Sales & Marketing',1),\r\n",
                "('Customer Support',2),\r\n",
                "('OEM Support',2),\r\n",
                "('Central Region',3),\r\n",
                "('Eastern Region',3),\r\n",
                "('Western Region',3),\r\n",
                "('OEM',4),\r\n",
                "('Channel Marketing',4),\r\n",
                "('National Accounts',4),\r\n",
                "('Channel Field Sales',4),\r\n",
                "('National Channel Marketing',11),\r\n",
                "('Retail Channel Marketing',11),\r\n",
                "('Central Region',13),\r\n",
                "('Eastern Region',13),\r\n",
                "('Western Region',13),\r\n",
                "('Bicycles',15),\r\n",
                "('Bicycle Parts',15)*/\r\n",
                "\r\n",
                "\r\n",
                "select * from OrganizationalStructures;"
            ],
            "metadata": {
                "azdata_cell_guid": "dcdd4ee5-2cef-4ca4-9394-5da4c1038420"
            },
            "outputs": [
                {
                    "output_type": "display_data",
                    "data": {
                        "text/html": "(20 rows affected)"
                    },
                    "metadata": {}
                },
                {
                    "output_type": "display_data",
                    "data": {
                        "text/html": "(20 rows affected)"
                    },
                    "metadata": {}
                },
                {
                    "output_type": "display_data",
                    "data": {
                        "text/html": "Total execution time: 00:00:00.026"
                    },
                    "metadata": {}
                },
                {
                    "output_type": "execute_result",
                    "metadata": {},
                    "execution_count": 7,
                    "data": {
                        "application/vnd.dataresource+json": {
                            "schema": {
                                "fields": [
                                    {
                                        "name": "BusinessUnitID"
                                    },
                                    {
                                        "name": "BusinessUnit"
                                    },
                                    {
                                        "name": "ParentUnitID"
                                    }
                                ]
                            },
                            "data": [
                                {
                                    "0": "1",
                                    "1": "Adventure Works Cycle",
                                    "2": "NULL"
                                },
                                {
                                    "0": "2",
                                    "1": "Customer Care",
                                    "2": "1"
                                },
                                {
                                    "0": "3",
                                    "1": "Service",
                                    "2": "1"
                                },
                                {
                                    "0": "4",
                                    "1": "Channel Sales & Marketing",
                                    "2": "1"
                                },
                                {
                                    "0": "5",
                                    "1": "Customer Support",
                                    "2": "2"
                                },
                                {
                                    "0": "6",
                                    "1": "OEM Support",
                                    "2": "2"
                                },
                                {
                                    "0": "7",
                                    "1": "Central Region",
                                    "2": "3"
                                },
                                {
                                    "0": "8",
                                    "1": "Eastern Region",
                                    "2": "3"
                                },
                                {
                                    "0": "9",
                                    "1": "Western Region",
                                    "2": "3"
                                },
                                {
                                    "0": "10",
                                    "1": "OEM",
                                    "2": "4"
                                },
                                {
                                    "0": "11",
                                    "1": "Channel Marketing",
                                    "2": "4"
                                },
                                {
                                    "0": "12",
                                    "1": "National Accounts",
                                    "2": "4"
                                },
                                {
                                    "0": "13",
                                    "1": "Channel Field Sales",
                                    "2": "4"
                                },
                                {
                                    "0": "14",
                                    "1": "National Channel Marketing",
                                    "2": "11"
                                },
                                {
                                    "0": "15",
                                    "1": "Retail Channel Marketing",
                                    "2": "11"
                                },
                                {
                                    "0": "16",
                                    "1": "Central Region",
                                    "2": "13"
                                },
                                {
                                    "0": "17",
                                    "1": "Eastern Region",
                                    "2": "13"
                                },
                                {
                                    "0": "18",
                                    "1": "Western Region",
                                    "2": "13"
                                },
                                {
                                    "0": "19",
                                    "1": "Bicycles",
                                    "2": "15"
                                },
                                {
                                    "0": "20",
                                    "1": "Bicycle Parts",
                                    "2": "15"
                                }
                            ]
                        },
                        "text/html": [
                            "<table>",
                            "<tr><th>BusinessUnitID</th><th>BusinessUnit</th><th>ParentUnitID</th></tr>",
                            "<tr><td>1</td><td>Adventure Works Cycle</td><td>NULL</td></tr>",
                            "<tr><td>2</td><td>Customer Care</td><td>1</td></tr>",
                            "<tr><td>3</td><td>Service</td><td>1</td></tr>",
                            "<tr><td>4</td><td>Channel Sales &amp; Marketing</td><td>1</td></tr>",
                            "<tr><td>5</td><td>Customer Support</td><td>2</td></tr>",
                            "<tr><td>6</td><td>OEM Support</td><td>2</td></tr>",
                            "<tr><td>7</td><td>Central Region</td><td>3</td></tr>",
                            "<tr><td>8</td><td>Eastern Region</td><td>3</td></tr>",
                            "<tr><td>9</td><td>Western Region</td><td>3</td></tr>",
                            "<tr><td>10</td><td>OEM</td><td>4</td></tr>",
                            "<tr><td>11</td><td>Channel Marketing</td><td>4</td></tr>",
                            "<tr><td>12</td><td>National Accounts</td><td>4</td></tr>",
                            "<tr><td>13</td><td>Channel Field Sales</td><td>4</td></tr>",
                            "<tr><td>14</td><td>National Channel Marketing</td><td>11</td></tr>",
                            "<tr><td>15</td><td>Retail Channel Marketing</td><td>11</td></tr>",
                            "<tr><td>16</td><td>Central Region</td><td>13</td></tr>",
                            "<tr><td>17</td><td>Eastern Region</td><td>13</td></tr>",
                            "<tr><td>18</td><td>Western Region</td><td>13</td></tr>",
                            "<tr><td>19</td><td>Bicycles</td><td>15</td></tr>",
                            "<tr><td>20</td><td>Bicycle Parts</td><td>15</td></tr>",
                            "</table>"
                        ]
                    }
                }
            ],
            "execution_count": 7
        },
        {
            "cell_type": "markdown",
            "source": [
                "Recursive CTE"
            ],
            "metadata": {
                "azdata_cell_guid": "5efc68d8-a478-4215-a0b0-072c6f66cd0f"
            }
        },
        {
            "cell_type": "code",
            "source": [
                "WITH Recursive_CTE AS (\r\n",
                "\r\n",
                " -- Anchor query\r\n",
                " SELECT child.BusinessUnitID, child.BusinessUnit, CAST(child.ParentUnitID as SmallInt) ParentUnitID, CAST(NULL as varchar(100)) ParentUnit\r\n",
                " FROM OrganizationalStructures child\r\n",
                " WHERE BusinessUnitID = 1\r\n",
                "\r\n",
                " UNION ALL\r\n",
                "\r\n",
                " -- Recursive query\r\n",
                " SELECT child.BusinessUnitID,  child.BusinessUnit,  child.ParentUnitID, parent.BusinessUnit ParentUnit\r\n",
                " FROM Recursive_CTE parent\r\n",
                " INNER JOIN OrganizationalStructures child ON child.ParentUnitID = parent.BusinessUnitID\r\n",
                ")\r\n",
                "\r\n",
                "SELECT * FROM Recursive_CTE \r\n",
                ""
            ],
            "metadata": {
                "azdata_cell_guid": "45f0f261-f589-4060-9c8d-52ea6d847ce7"
            },
            "outputs": [
                {
                    "output_type": "display_data",
                    "data": {
                        "text/html": "(20 rows affected)"
                    },
                    "metadata": {}
                },
                {
                    "output_type": "display_data",
                    "data": {
                        "text/html": "Total execution time: 00:00:00.017"
                    },
                    "metadata": {}
                },
                {
                    "output_type": "execute_result",
                    "metadata": {},
                    "execution_count": 8,
                    "data": {
                        "application/vnd.dataresource+json": {
                            "schema": {
                                "fields": [
                                    {
                                        "name": "BusinessUnitID"
                                    },
                                    {
                                        "name": "BusinessUnit"
                                    },
                                    {
                                        "name": "ParentUnitID"
                                    },
                                    {
                                        "name": "ParentUnit"
                                    }
                                ]
                            },
                            "data": [
                                {
                                    "0": "1",
                                    "1": "Adventure Works Cycle",
                                    "2": "NULL",
                                    "3": "NULL"
                                },
                                {
                                    "0": "2",
                                    "1": "Customer Care",
                                    "2": "1",
                                    "3": "Adventure Works Cycle"
                                },
                                {
                                    "0": "3",
                                    "1": "Service",
                                    "2": "1",
                                    "3": "Adventure Works Cycle"
                                },
                                {
                                    "0": "4",
                                    "1": "Channel Sales & Marketing",
                                    "2": "1",
                                    "3": "Adventure Works Cycle"
                                },
                                {
                                    "0": "10",
                                    "1": "OEM",
                                    "2": "4",
                                    "3": "Channel Sales & Marketing"
                                },
                                {
                                    "0": "11",
                                    "1": "Channel Marketing",
                                    "2": "4",
                                    "3": "Channel Sales & Marketing"
                                },
                                {
                                    "0": "12",
                                    "1": "National Accounts",
                                    "2": "4",
                                    "3": "Channel Sales & Marketing"
                                },
                                {
                                    "0": "13",
                                    "1": "Channel Field Sales",
                                    "2": "4",
                                    "3": "Channel Sales & Marketing"
                                },
                                {
                                    "0": "16",
                                    "1": "Central Region",
                                    "2": "13",
                                    "3": "Channel Field Sales"
                                },
                                {
                                    "0": "17",
                                    "1": "Eastern Region",
                                    "2": "13",
                                    "3": "Channel Field Sales"
                                },
                                {
                                    "0": "18",
                                    "1": "Western Region",
                                    "2": "13",
                                    "3": "Channel Field Sales"
                                },
                                {
                                    "0": "14",
                                    "1": "National Channel Marketing",
                                    "2": "11",
                                    "3": "Channel Marketing"
                                },
                                {
                                    "0": "15",
                                    "1": "Retail Channel Marketing",
                                    "2": "11",
                                    "3": "Channel Marketing"
                                },
                                {
                                    "0": "19",
                                    "1": "Bicycles",
                                    "2": "15",
                                    "3": "Retail Channel Marketing"
                                },
                                {
                                    "0": "20",
                                    "1": "Bicycle Parts",
                                    "2": "15",
                                    "3": "Retail Channel Marketing"
                                },
                                {
                                    "0": "7",
                                    "1": "Central Region",
                                    "2": "3",
                                    "3": "Service"
                                },
                                {
                                    "0": "8",
                                    "1": "Eastern Region",
                                    "2": "3",
                                    "3": "Service"
                                },
                                {
                                    "0": "9",
                                    "1": "Western Region",
                                    "2": "3",
                                    "3": "Service"
                                },
                                {
                                    "0": "5",
                                    "1": "Customer Support",
                                    "2": "2",
                                    "3": "Customer Care"
                                },
                                {
                                    "0": "6",
                                    "1": "OEM Support",
                                    "2": "2",
                                    "3": "Customer Care"
                                }
                            ]
                        },
                        "text/html": [
                            "<table>",
                            "<tr><th>BusinessUnitID</th><th>BusinessUnit</th><th>ParentUnitID</th><th>ParentUnit</th></tr>",
                            "<tr><td>1</td><td>Adventure Works Cycle</td><td>NULL</td><td>NULL</td></tr>",
                            "<tr><td>2</td><td>Customer Care</td><td>1</td><td>Adventure Works Cycle</td></tr>",
                            "<tr><td>3</td><td>Service</td><td>1</td><td>Adventure Works Cycle</td></tr>",
                            "<tr><td>4</td><td>Channel Sales &amp; Marketing</td><td>1</td><td>Adventure Works Cycle</td></tr>",
                            "<tr><td>10</td><td>OEM</td><td>4</td><td>Channel Sales &amp; Marketing</td></tr>",
                            "<tr><td>11</td><td>Channel Marketing</td><td>4</td><td>Channel Sales &amp; Marketing</td></tr>",
                            "<tr><td>12</td><td>National Accounts</td><td>4</td><td>Channel Sales &amp; Marketing</td></tr>",
                            "<tr><td>13</td><td>Channel Field Sales</td><td>4</td><td>Channel Sales &amp; Marketing</td></tr>",
                            "<tr><td>16</td><td>Central Region</td><td>13</td><td>Channel Field Sales</td></tr>",
                            "<tr><td>17</td><td>Eastern Region</td><td>13</td><td>Channel Field Sales</td></tr>",
                            "<tr><td>18</td><td>Western Region</td><td>13</td><td>Channel Field Sales</td></tr>",
                            "<tr><td>14</td><td>National Channel Marketing</td><td>11</td><td>Channel Marketing</td></tr>",
                            "<tr><td>15</td><td>Retail Channel Marketing</td><td>11</td><td>Channel Marketing</td></tr>",
                            "<tr><td>19</td><td>Bicycles</td><td>15</td><td>Retail Channel Marketing</td></tr>",
                            "<tr><td>20</td><td>Bicycle Parts</td><td>15</td><td>Retail Channel Marketing</td></tr>",
                            "<tr><td>7</td><td>Central Region</td><td>3</td><td>Service</td></tr>",
                            "<tr><td>8</td><td>Eastern Region</td><td>3</td><td>Service</td></tr>",
                            "<tr><td>9</td><td>Western Region</td><td>3</td><td>Service</td></tr>",
                            "<tr><td>5</td><td>Customer Support</td><td>2</td><td>Customer Care</td></tr>",
                            "<tr><td>6</td><td>OEM Support</td><td>2</td><td>Customer Care</td></tr>",
                            "</table>"
                        ]
                    }
                }
            ],
            "execution_count": 8
        },
        {
            "cell_type": "markdown",
            "source": [
                "\\## ISERT Data"
            ],
            "metadata": {
                "azdata_cell_guid": "c4aca74c-646c-4a94-81ba-9560935d4651"
            }
        },
        {
            "cell_type": "code",
            "source": [
                "-- Create a table for the demo\r\n",
                "CREATE TABLE SalesLT.CallLog\r\n",
                "(\r\n",
                "\tCallID int IDENTITY PRIMARY KEY NOT NULL,\r\n",
                "\tCallTime datetime NOT NULL DEFAULT GETDATE(),\r\n",
                "\tSalesPerson nvarchar(256) NOT NULL,\r\n",
                "\tCustomerID int NOT NULL REFERENCES SalesLT.Customer(CustomerID), -- REFERENCES creates a foreign key\r\n",
                "\tPhoneNumber nvarchar(25) NOT NULL,\r\n",
                "\tNotes nvarchar(max) NULL\r\n",
                ");\r\n",
                "GO\r\n",
                ""
            ],
            "metadata": {
                "azdata_cell_guid": "f4697a15-066d-4396-b11c-a1bb17fd852e"
            },
            "outputs": [
                {
                    "output_type": "display_data",
                    "data": {
                        "text/html": "Commands completed successfully."
                    },
                    "metadata": {}
                },
                {
                    "output_type": "display_data",
                    "data": {
                        "text/html": "Total execution time: 00:00:00.008"
                    },
                    "metadata": {}
                }
            ],
            "execution_count": 9
        },
        {
            "cell_type": "code",
            "source": [
                "INSERT INTO SalesLT.CallLog\r\n",
                "VALUES\r\n",
                "('2015-01-01T12:30:00', 'adventure-works\\pamela0', 1, '245-555-0173', 'Returning call re: enquiry about delivery');"
            ],
            "metadata": {
                "azdata_cell_guid": "8d8a6550-e0b5-413a-8f0f-efaf2a9654b4"
            },
            "outputs": [
                {
                    "output_type": "display_data",
                    "data": {
                        "text/html": "(1 row affected)"
                    },
                    "metadata": {}
                },
                {
                    "output_type": "display_data",
                    "data": {
                        "text/html": "Total execution time: 00:00:00.015"
                    },
                    "metadata": {}
                }
            ],
            "execution_count": 10
        },
        {
            "cell_type": "code",
            "source": [
                "SELECT * FROM SalesLT.CallLog;"
            ],
            "metadata": {
                "azdata_cell_guid": "955b33a5-aa65-410e-89cf-16e28258d56e"
            },
            "outputs": [
                {
                    "output_type": "display_data",
                    "data": {
                        "text/html": "(1 row affected)"
                    },
                    "metadata": {}
                },
                {
                    "output_type": "display_data",
                    "data": {
                        "text/html": "Total execution time: 00:00:00.016"
                    },
                    "metadata": {}
                },
                {
                    "output_type": "execute_result",
                    "metadata": {},
                    "execution_count": 11,
                    "data": {
                        "application/vnd.dataresource+json": {
                            "schema": {
                                "fields": [
                                    {
                                        "name": "CallID"
                                    },
                                    {
                                        "name": "CallTime"
                                    },
                                    {
                                        "name": "SalesPerson"
                                    },
                                    {
                                        "name": "CustomerID"
                                    },
                                    {
                                        "name": "PhoneNumber"
                                    },
                                    {
                                        "name": "Notes"
                                    }
                                ]
                            },
                            "data": [
                                {
                                    "0": "1",
                                    "1": "2015-01-01 12:30:00.000",
                                    "2": "adventure-works\\pamela0",
                                    "3": "1",
                                    "4": "245-555-0173",
                                    "5": "Returning call re: enquiry about delivery"
                                }
                            ]
                        },
                        "text/html": [
                            "<table>",
                            "<tr><th>CallID</th><th>CallTime</th><th>SalesPerson</th><th>CustomerID</th><th>PhoneNumber</th><th>Notes</th></tr>",
                            "<tr><td>1</td><td>2015-01-01 12:30:00.000</td><td>adventure-works\\pamela0</td><td>1</td><td>245-555-0173</td><td>Returning call re: enquiry about delivery</td></tr>",
                            "</table>"
                        ]
                    }
                }
            ],
            "execution_count": 11
        },
        {
            "cell_type": "markdown",
            "source": [
                ""
            ],
            "metadata": {
                "azdata_cell_guid": "37fa4409-eeff-4e05-b960-ed0aa8b0bb4a"
            }
        },
        {
            "cell_type": "code",
            "source": [
                "INSERT INTO SalesLT.CallLog\r\n",
                "VALUES\r\n",
                "(DEFAULT, 'adventure-works\\david8', 2, '170-555-0127', NULL); -- testing the default constraint\r\n",
                "\r\n",
                "SELECT * FROM SalesLT.CallLog;\r\n",
                ""
            ],
            "metadata": {
                "azdata_cell_guid": "bb576573-324c-4fb7-971e-ca060e9d42f7"
            },
            "outputs": [
                {
                    "output_type": "display_data",
                    "data": {
                        "text/html": "(1 row affected)"
                    },
                    "metadata": {}
                },
                {
                    "output_type": "display_data",
                    "data": {
                        "text/html": "(2 rows affected)"
                    },
                    "metadata": {}
                },
                {
                    "output_type": "display_data",
                    "data": {
                        "text/html": "Total execution time: 00:00:00.020"
                    },
                    "metadata": {}
                },
                {
                    "output_type": "execute_result",
                    "metadata": {},
                    "execution_count": 12,
                    "data": {
                        "application/vnd.dataresource+json": {
                            "schema": {
                                "fields": [
                                    {
                                        "name": "CallID"
                                    },
                                    {
                                        "name": "CallTime"
                                    },
                                    {
                                        "name": "SalesPerson"
                                    },
                                    {
                                        "name": "CustomerID"
                                    },
                                    {
                                        "name": "PhoneNumber"
                                    },
                                    {
                                        "name": "Notes"
                                    }
                                ]
                            },
                            "data": [
                                {
                                    "0": "1",
                                    "1": "2015-01-01 12:30:00.000",
                                    "2": "adventure-works\\pamela0",
                                    "3": "1",
                                    "4": "245-555-0173",
                                    "5": "Returning call re: enquiry about delivery"
                                },
                                {
                                    "0": "2",
                                    "1": "2021-03-11 19:22:58.323",
                                    "2": "adventure-works\\david8",
                                    "3": "2",
                                    "4": "170-555-0127",
                                    "5": "NULL"
                                }
                            ]
                        },
                        "text/html": [
                            "<table>",
                            "<tr><th>CallID</th><th>CallTime</th><th>SalesPerson</th><th>CustomerID</th><th>PhoneNumber</th><th>Notes</th></tr>",
                            "<tr><td>1</td><td>2015-01-01 12:30:00.000</td><td>adventure-works\\pamela0</td><td>1</td><td>245-555-0173</td><td>Returning call re: enquiry about delivery</td></tr>",
                            "<tr><td>2</td><td>2021-03-11 19:22:58.323</td><td>adventure-works\\david8</td><td>2</td><td>170-555-0127</td><td>NULL</td></tr>",
                            "</table>"
                        ]
                    }
                }
            ],
            "execution_count": 12
        },
        {
            "cell_type": "code",
            "source": [
                "-- Insert a row with explicit columns\r\n",
                "INSERT INTO SalesLT.CallLog (SalesPerson, CustomerID, PhoneNumber)\r\n",
                "VALUES\r\n",
                "('adventure-works\\jillian0', 3, '279-555-0130');\r\n",
                "\r\n",
                "SELECT * FROM SalesLT.CallLog;"
            ],
            "metadata": {
                "azdata_cell_guid": "db87d931-e246-4c72-8119-382d9cb49ee1"
            },
            "outputs": [
                {
                    "output_type": "display_data",
                    "data": {
                        "text/html": "(1 row affected)"
                    },
                    "metadata": {}
                },
                {
                    "output_type": "display_data",
                    "data": {
                        "text/html": "(3 rows affected)"
                    },
                    "metadata": {}
                },
                {
                    "output_type": "display_data",
                    "data": {
                        "text/html": "Total execution time: 00:00:00.024"
                    },
                    "metadata": {}
                },
                {
                    "output_type": "execute_result",
                    "metadata": {},
                    "execution_count": 13,
                    "data": {
                        "application/vnd.dataresource+json": {
                            "schema": {
                                "fields": [
                                    {
                                        "name": "CallID"
                                    },
                                    {
                                        "name": "CallTime"
                                    },
                                    {
                                        "name": "SalesPerson"
                                    },
                                    {
                                        "name": "CustomerID"
                                    },
                                    {
                                        "name": "PhoneNumber"
                                    },
                                    {
                                        "name": "Notes"
                                    }
                                ]
                            },
                            "data": [
                                {
                                    "0": "1",
                                    "1": "2015-01-01 12:30:00.000",
                                    "2": "adventure-works\\pamela0",
                                    "3": "1",
                                    "4": "245-555-0173",
                                    "5": "Returning call re: enquiry about delivery"
                                },
                                {
                                    "0": "2",
                                    "1": "2021-03-11 19:22:58.323",
                                    "2": "adventure-works\\david8",
                                    "3": "2",
                                    "4": "170-555-0127",
                                    "5": "NULL"
                                },
                                {
                                    "0": "3",
                                    "1": "2021-03-11 19:24:59.570",
                                    "2": "adventure-works\\jillian0",
                                    "3": "3",
                                    "4": "279-555-0130",
                                    "5": "NULL"
                                }
                            ]
                        },
                        "text/html": [
                            "<table>",
                            "<tr><th>CallID</th><th>CallTime</th><th>SalesPerson</th><th>CustomerID</th><th>PhoneNumber</th><th>Notes</th></tr>",
                            "<tr><td>1</td><td>2015-01-01 12:30:00.000</td><td>adventure-works\\pamela0</td><td>1</td><td>245-555-0173</td><td>Returning call re: enquiry about delivery</td></tr>",
                            "<tr><td>2</td><td>2021-03-11 19:22:58.323</td><td>adventure-works\\david8</td><td>2</td><td>170-555-0127</td><td>NULL</td></tr>",
                            "<tr><td>3</td><td>2021-03-11 19:24:59.570</td><td>adventure-works\\jillian0</td><td>3</td><td>279-555-0130</td><td>NULL</td></tr>",
                            "</table>"
                        ]
                    }
                }
            ],
            "execution_count": 13
        },
        {
            "cell_type": "markdown",
            "source": [
                "<span style=\"color: #608b4e;\">--&nbsp;Insert&nbsp;multiple&nbsp;rows</span>\n",
                "\n",
                "Note that when inputing multiple values, you need to use Explici column values"
            ],
            "metadata": {
                "azdata_cell_guid": "27d209d9-26ad-4bb6-8ab6-162a555458f9"
            }
        },
        {
            "cell_type": "code",
            "source": [
                ""
            ],
            "metadata": {
                "azdata_cell_guid": "16b29620-afad-4364-9301-114ccf2cc1dc"
            },
            "outputs": [],
            "execution_count": null
        },
        {
            "cell_type": "code",
            "source": [
                "-- Insert multiple rows\r\n",
                "INSERT INTO SalesLT.CallLog\r\n",
                "VALUES\r\n",
                "(DATEADD(mi,-2, GETDATE()), 'adventure-works\\jillian0', 4, '710-555-0173', NULL),\r\n",
                "(DEFAULT, 'adventure-works\\shu0', 5, '828-555-0186', 'Called to arrange deliver of order 10987');"
            ],
            "metadata": {
                "azdata_cell_guid": "15b7cc88-afeb-4b6f-8c8e-7827f39cf511"
            },
            "outputs": [],
            "execution_count": null
        },
        {
            "cell_type": "markdown",
            "source": [
                ""
            ],
            "metadata": {
                "azdata_cell_guid": "815d39fd-e19a-49a7-968d-6c11d16d10a8"
            }
        },
        {
            "cell_type": "code",
            "source": [
                "-- Insert the results of a query\r\n",
                "INSERT INTO SalesLT.CallLog (SalesPerson, CustomerID, PhoneNumber, Notes)\r\n",
                "SELECT SalesPerson, CustomerID, Phone, 'Sales promotion call'\r\n",
                "FROM SalesLT.Customer\r\n",
                "WHERE CompanyName = 'Big-Time Bike Store';\r\n",
                "\r\n",
                "SELECT * FROM SalesLT.CallLog;"
            ],
            "metadata": {
                "azdata_cell_guid": "eb773a68-d2ab-41ee-8aea-41a740188f8c"
            },
            "outputs": [
                {
                    "output_type": "display_data",
                    "data": {
                        "text/html": "(2 rows affected)"
                    },
                    "metadata": {}
                },
                {
                    "output_type": "display_data",
                    "data": {
                        "text/html": "(5 rows affected)"
                    },
                    "metadata": {}
                },
                {
                    "output_type": "display_data",
                    "data": {
                        "text/html": "Total execution time: 00:00:00.030"
                    },
                    "metadata": {}
                },
                {
                    "output_type": "execute_result",
                    "metadata": {},
                    "execution_count": 14,
                    "data": {
                        "application/vnd.dataresource+json": {
                            "schema": {
                                "fields": [
                                    {
                                        "name": "CallID"
                                    },
                                    {
                                        "name": "CallTime"
                                    },
                                    {
                                        "name": "SalesPerson"
                                    },
                                    {
                                        "name": "CustomerID"
                                    },
                                    {
                                        "name": "PhoneNumber"
                                    },
                                    {
                                        "name": "Notes"
                                    }
                                ]
                            },
                            "data": [
                                {
                                    "0": "1",
                                    "1": "2015-01-01 12:30:00.000",
                                    "2": "adventure-works\\pamela0",
                                    "3": "1",
                                    "4": "245-555-0173",
                                    "5": "Returning call re: enquiry about delivery"
                                },
                                {
                                    "0": "2",
                                    "1": "2021-03-11 19:22:58.323",
                                    "2": "adventure-works\\david8",
                                    "3": "2",
                                    "4": "170-555-0127",
                                    "5": "NULL"
                                },
                                {
                                    "0": "3",
                                    "1": "2021-03-11 19:24:59.570",
                                    "2": "adventure-works\\jillian0",
                                    "3": "3",
                                    "4": "279-555-0130",
                                    "5": "NULL"
                                },
                                {
                                    "0": "4",
                                    "1": "2021-03-11 19:26:39.113",
                                    "2": "adventure-works\\shu0",
                                    "3": "529",
                                    "4": "669-555-0149",
                                    "5": "Sales promotion call"
                                },
                                {
                                    "0": "5",
                                    "1": "2021-03-11 19:26:39.113",
                                    "2": "adventure-works\\shu0",
                                    "3": "29784",
                                    "4": "669-555-0149",
                                    "5": "Sales promotion call"
                                }
                            ]
                        },
                        "text/html": [
                            "<table>",
                            "<tr><th>CallID</th><th>CallTime</th><th>SalesPerson</th><th>CustomerID</th><th>PhoneNumber</th><th>Notes</th></tr>",
                            "<tr><td>1</td><td>2015-01-01 12:30:00.000</td><td>adventure-works\\pamela0</td><td>1</td><td>245-555-0173</td><td>Returning call re: enquiry about delivery</td></tr>",
                            "<tr><td>2</td><td>2021-03-11 19:22:58.323</td><td>adventure-works\\david8</td><td>2</td><td>170-555-0127</td><td>NULL</td></tr>",
                            "<tr><td>3</td><td>2021-03-11 19:24:59.570</td><td>adventure-works\\jillian0</td><td>3</td><td>279-555-0130</td><td>NULL</td></tr>",
                            "<tr><td>4</td><td>2021-03-11 19:26:39.113</td><td>adventure-works\\shu0</td><td>529</td><td>669-555-0149</td><td>Sales promotion call</td></tr>",
                            "<tr><td>5</td><td>2021-03-11 19:26:39.113</td><td>adventure-works\\shu0</td><td>29784</td><td>669-555-0149</td><td>Sales promotion call</td></tr>",
                            "</table>"
                        ]
                    }
                }
            ],
            "execution_count": 14
        },
        {
            "cell_type": "code",
            "source": [
                "-- Retrieving inserted identity\r\n",
                "INSERT INTO SalesLT.CallLog (SalesPerson, CustomerID, PhoneNumber)\r\n",
                "VALUES\r\n",
                "('adventure-works\\jos�1', 10, '150-555-0127');\r\n",
                "\r\n",
                "SELECT SCOPE_IDENTITY();"
            ],
            "metadata": {
                "azdata_cell_guid": "3c77f57e-0775-491e-80dc-30ffe796e7a5"
            },
            "outputs": [
                {
                    "output_type": "display_data",
                    "data": {
                        "text/html": "(1 row affected)"
                    },
                    "metadata": {}
                },
                {
                    "output_type": "display_data",
                    "data": {
                        "text/html": "(1 row affected)"
                    },
                    "metadata": {}
                },
                {
                    "output_type": "display_data",
                    "data": {
                        "text/html": "Total execution time: 00:00:00.013"
                    },
                    "metadata": {}
                },
                {
                    "output_type": "execute_result",
                    "metadata": {},
                    "execution_count": 15,
                    "data": {
                        "application/vnd.dataresource+json": {
                            "schema": {
                                "fields": [
                                    {
                                        "name": "(No column name)"
                                    }
                                ]
                            },
                            "data": [
                                {
                                    "0": "6"
                                }
                            ]
                        },
                        "text/html": [
                            "<table>",
                            "<tr><th>(No column name)</th></tr>",
                            "<tr><td>6</td></tr>",
                            "</table>"
                        ]
                    }
                }
            ],
            "execution_count": 15
        },
        {
            "cell_type": "markdown",
            "source": [
                ""
            ],
            "metadata": {
                "azdata_cell_guid": "cb23e5d7-87e6-4a8f-a262-651ccadd6070"
            }
        },
        {
            "cell_type": "code",
            "source": [
                "SELECT * FROM SalesLT.CallLog;"
            ],
            "metadata": {
                "azdata_cell_guid": "b16aaea4-8d57-4bea-8eb0-adeca4c2ec1d"
            },
            "outputs": [
                {
                    "output_type": "display_data",
                    "data": {
                        "text/html": "(6 rows affected)"
                    },
                    "metadata": {}
                },
                {
                    "output_type": "display_data",
                    "data": {
                        "text/html": "Total execution time: 00:00:00.014"
                    },
                    "metadata": {}
                },
                {
                    "output_type": "execute_result",
                    "metadata": {},
                    "execution_count": 16,
                    "data": {
                        "application/vnd.dataresource+json": {
                            "schema": {
                                "fields": [
                                    {
                                        "name": "CallID"
                                    },
                                    {
                                        "name": "CallTime"
                                    },
                                    {
                                        "name": "SalesPerson"
                                    },
                                    {
                                        "name": "CustomerID"
                                    },
                                    {
                                        "name": "PhoneNumber"
                                    },
                                    {
                                        "name": "Notes"
                                    }
                                ]
                            },
                            "data": [
                                {
                                    "0": "1",
                                    "1": "2015-01-01 12:30:00.000",
                                    "2": "adventure-works\\pamela0",
                                    "3": "1",
                                    "4": "245-555-0173",
                                    "5": "Returning call re: enquiry about delivery"
                                },
                                {
                                    "0": "2",
                                    "1": "2021-03-11 19:22:58.323",
                                    "2": "adventure-works\\david8",
                                    "3": "2",
                                    "4": "170-555-0127",
                                    "5": "NULL"
                                },
                                {
                                    "0": "3",
                                    "1": "2021-03-11 19:24:59.570",
                                    "2": "adventure-works\\jillian0",
                                    "3": "3",
                                    "4": "279-555-0130",
                                    "5": "NULL"
                                },
                                {
                                    "0": "4",
                                    "1": "2021-03-11 19:26:39.113",
                                    "2": "adventure-works\\shu0",
                                    "3": "529",
                                    "4": "669-555-0149",
                                    "5": "Sales promotion call"
                                },
                                {
                                    "0": "5",
                                    "1": "2021-03-11 19:26:39.113",
                                    "2": "adventure-works\\shu0",
                                    "3": "29784",
                                    "4": "669-555-0149",
                                    "5": "Sales promotion call"
                                },
                                {
                                    "0": "6",
                                    "1": "2021-03-11 19:27:05.320",
                                    "2": "adventure-works\\jos?1",
                                    "3": "10",
                                    "4": "150-555-0127",
                                    "5": "NULL"
                                }
                            ]
                        },
                        "text/html": [
                            "<table>",
                            "<tr><th>CallID</th><th>CallTime</th><th>SalesPerson</th><th>CustomerID</th><th>PhoneNumber</th><th>Notes</th></tr>",
                            "<tr><td>1</td><td>2015-01-01 12:30:00.000</td><td>adventure-works\\pamela0</td><td>1</td><td>245-555-0173</td><td>Returning call re: enquiry about delivery</td></tr>",
                            "<tr><td>2</td><td>2021-03-11 19:22:58.323</td><td>adventure-works\\david8</td><td>2</td><td>170-555-0127</td><td>NULL</td></tr>",
                            "<tr><td>3</td><td>2021-03-11 19:24:59.570</td><td>adventure-works\\jillian0</td><td>3</td><td>279-555-0130</td><td>NULL</td></tr>",
                            "<tr><td>4</td><td>2021-03-11 19:26:39.113</td><td>adventure-works\\shu0</td><td>529</td><td>669-555-0149</td><td>Sales promotion call</td></tr>",
                            "<tr><td>5</td><td>2021-03-11 19:26:39.113</td><td>adventure-works\\shu0</td><td>29784</td><td>669-555-0149</td><td>Sales promotion call</td></tr>",
                            "<tr><td>6</td><td>2021-03-11 19:27:05.320</td><td>adventure-works\\jos?1</td><td>10</td><td>150-555-0127</td><td>NULL</td></tr>",
                            "</table>"
                        ]
                    }
                }
            ],
            "execution_count": 16
        },
        {
            "cell_type": "markdown",
            "source": [
                ""
            ],
            "metadata": {
                "azdata_cell_guid": "8026f6cd-5fc9-4a0b-a9c7-dd47fea0b57c"
            }
        },
        {
            "cell_type": "code",
            "source": [
                "--Overriding Identity\n",
                "SET IDENTITY_INSERT SalesLT.CallLog ON; -- Enanling the idenity overide option\n",
                "\n",
                "INSERT INTO SalesLT.CallLog (CallID, SalesPerson, CustomerID, PhoneNumber)\n",
                "VALUES\n",
                "(9, 'adventure-works\\jos�1', 11, '926-555-0159');\n",
                "\n",
                "SET IDENTITY_INSERT SalesLT.CallLog OFF;\n",
                "\n",
                "SELECT * FROM SalesLT.CallLog;"
            ],
            "metadata": {
                "azdata_cell_guid": "5ce8235e-1522-4cea-a38f-453bee612ca5"
            },
            "outputs": [
                {
                    "output_type": "display_data",
                    "data": {
                        "text/html": "(1 row affected)"
                    },
                    "metadata": {}
                },
                {
                    "output_type": "display_data",
                    "data": {
                        "text/html": "(7 rows affected)"
                    },
                    "metadata": {}
                },
                {
                    "output_type": "display_data",
                    "data": {
                        "text/html": "Total execution time: 00:00:00.021"
                    },
                    "metadata": {}
                },
                {
                    "output_type": "execute_result",
                    "metadata": {},
                    "execution_count": 18,
                    "data": {
                        "application/vnd.dataresource+json": {
                            "schema": {
                                "fields": [
                                    {
                                        "name": "CallID"
                                    },
                                    {
                                        "name": "CallTime"
                                    },
                                    {
                                        "name": "SalesPerson"
                                    },
                                    {
                                        "name": "CustomerID"
                                    },
                                    {
                                        "name": "PhoneNumber"
                                    },
                                    {
                                        "name": "Notes"
                                    }
                                ]
                            },
                            "data": [
                                {
                                    "0": "1",
                                    "1": "2015-01-01 12:30:00.000",
                                    "2": "adventure-works\\pamela0",
                                    "3": "1",
                                    "4": "245-555-0173",
                                    "5": "Returning call re: enquiry about delivery"
                                },
                                {
                                    "0": "2",
                                    "1": "2021-03-11 19:22:58.323",
                                    "2": "adventure-works\\david8",
                                    "3": "2",
                                    "4": "170-555-0127",
                                    "5": "NULL"
                                },
                                {
                                    "0": "3",
                                    "1": "2021-03-11 19:24:59.570",
                                    "2": "adventure-works\\jillian0",
                                    "3": "3",
                                    "4": "279-555-0130",
                                    "5": "NULL"
                                },
                                {
                                    "0": "4",
                                    "1": "2021-03-11 19:26:39.113",
                                    "2": "adventure-works\\shu0",
                                    "3": "529",
                                    "4": "669-555-0149",
                                    "5": "Sales promotion call"
                                },
                                {
                                    "0": "5",
                                    "1": "2021-03-11 19:26:39.113",
                                    "2": "adventure-works\\shu0",
                                    "3": "29784",
                                    "4": "669-555-0149",
                                    "5": "Sales promotion call"
                                },
                                {
                                    "0": "6",
                                    "1": "2021-03-11 19:27:05.320",
                                    "2": "adventure-works\\jos?1",
                                    "3": "10",
                                    "4": "150-555-0127",
                                    "5": "NULL"
                                },
                                {
                                    "0": "9",
                                    "1": "2021-03-11 19:35:22.793",
                                    "2": "adventure-works\\jos?1",
                                    "3": "11",
                                    "4": "926-555-0159",
                                    "5": "NULL"
                                }
                            ]
                        },
                        "text/html": [
                            "<table>",
                            "<tr><th>CallID</th><th>CallTime</th><th>SalesPerson</th><th>CustomerID</th><th>PhoneNumber</th><th>Notes</th></tr>",
                            "<tr><td>1</td><td>2015-01-01 12:30:00.000</td><td>adventure-works\\pamela0</td><td>1</td><td>245-555-0173</td><td>Returning call re: enquiry about delivery</td></tr>",
                            "<tr><td>2</td><td>2021-03-11 19:22:58.323</td><td>adventure-works\\david8</td><td>2</td><td>170-555-0127</td><td>NULL</td></tr>",
                            "<tr><td>3</td><td>2021-03-11 19:24:59.570</td><td>adventure-works\\jillian0</td><td>3</td><td>279-555-0130</td><td>NULL</td></tr>",
                            "<tr><td>4</td><td>2021-03-11 19:26:39.113</td><td>adventure-works\\shu0</td><td>529</td><td>669-555-0149</td><td>Sales promotion call</td></tr>",
                            "<tr><td>5</td><td>2021-03-11 19:26:39.113</td><td>adventure-works\\shu0</td><td>29784</td><td>669-555-0149</td><td>Sales promotion call</td></tr>",
                            "<tr><td>6</td><td>2021-03-11 19:27:05.320</td><td>adventure-works\\jos?1</td><td>10</td><td>150-555-0127</td><td>NULL</td></tr>",
                            "<tr><td>9</td><td>2021-03-11 19:35:22.793</td><td>adventure-works\\jos?1</td><td>11</td><td>926-555-0159</td><td>NULL</td></tr>",
                            "</table>"
                        ]
                    }
                }
            ],
            "execution_count": 18
        },
        {
            "cell_type": "markdown",
            "source": [
                "\\## UPDATE, DELETE"
            ],
            "metadata": {
                "azdata_cell_guid": "dff1d050-1c35-4124-9587-3053340746fa"
            }
        },
        {
            "cell_type": "code",
            "source": [
                "-- Update a table\r\n",
                "UPDATE SalesLT.CallLog\r\n",
                "SET Notes = 'No notes'\r\n",
                "WHERE Notes IS NULL;\r\n",
                "\r\n",
                "SELECT * FROM SalesLT.CallLog;\r\n",
                ""
            ],
            "metadata": {
                "azdata_cell_guid": "31cddb3b-a43b-4276-a82c-6e03c859fac0"
            },
            "outputs": [
                {
                    "output_type": "display_data",
                    "data": {
                        "text/html": "(0 rows affected)"
                    },
                    "metadata": {}
                },
                {
                    "output_type": "display_data",
                    "data": {
                        "text/html": "(7 rows affected)"
                    },
                    "metadata": {}
                },
                {
                    "output_type": "display_data",
                    "data": {
                        "text/html": "Total execution time: 00:00:00.021"
                    },
                    "metadata": {}
                },
                {
                    "output_type": "execute_result",
                    "metadata": {},
                    "execution_count": 20,
                    "data": {
                        "application/vnd.dataresource+json": {
                            "schema": {
                                "fields": [
                                    {
                                        "name": "CallID"
                                    },
                                    {
                                        "name": "CallTime"
                                    },
                                    {
                                        "name": "SalesPerson"
                                    },
                                    {
                                        "name": "CustomerID"
                                    },
                                    {
                                        "name": "PhoneNumber"
                                    },
                                    {
                                        "name": "Notes"
                                    }
                                ]
                            },
                            "data": [
                                {
                                    "0": "1",
                                    "1": "2015-01-01 12:30:00.000",
                                    "2": "adventure-works\\pamela0",
                                    "3": "1",
                                    "4": "245-555-0173",
                                    "5": "Returning call re: enquiry about delivery"
                                },
                                {
                                    "0": "2",
                                    "1": "2021-03-11 19:22:58.323",
                                    "2": "adventure-works\\david8",
                                    "3": "2",
                                    "4": "170-555-0127",
                                    "5": "No notes"
                                },
                                {
                                    "0": "3",
                                    "1": "2021-03-11 19:24:59.570",
                                    "2": "adventure-works\\jillian0",
                                    "3": "3",
                                    "4": "279-555-0130",
                                    "5": "No notes"
                                },
                                {
                                    "0": "4",
                                    "1": "2021-03-11 19:26:39.113",
                                    "2": "adventure-works\\shu0",
                                    "3": "529",
                                    "4": "669-555-0149",
                                    "5": "Sales promotion call"
                                },
                                {
                                    "0": "5",
                                    "1": "2021-03-11 19:26:39.113",
                                    "2": "adventure-works\\shu0",
                                    "3": "29784",
                                    "4": "669-555-0149",
                                    "5": "Sales promotion call"
                                },
                                {
                                    "0": "6",
                                    "1": "2021-03-11 19:27:05.320",
                                    "2": "adventure-works\\jos?1",
                                    "3": "10",
                                    "4": "150-555-0127",
                                    "5": "No notes"
                                },
                                {
                                    "0": "9",
                                    "1": "2021-03-11 19:35:22.793",
                                    "2": "adventure-works\\jos?1",
                                    "3": "11",
                                    "4": "926-555-0159",
                                    "5": "No notes"
                                }
                            ]
                        },
                        "text/html": [
                            "<table>",
                            "<tr><th>CallID</th><th>CallTime</th><th>SalesPerson</th><th>CustomerID</th><th>PhoneNumber</th><th>Notes</th></tr>",
                            "<tr><td>1</td><td>2015-01-01 12:30:00.000</td><td>adventure-works\\pamela0</td><td>1</td><td>245-555-0173</td><td>Returning call re: enquiry about delivery</td></tr>",
                            "<tr><td>2</td><td>2021-03-11 19:22:58.323</td><td>adventure-works\\david8</td><td>2</td><td>170-555-0127</td><td>No notes</td></tr>",
                            "<tr><td>3</td><td>2021-03-11 19:24:59.570</td><td>adventure-works\\jillian0</td><td>3</td><td>279-555-0130</td><td>No notes</td></tr>",
                            "<tr><td>4</td><td>2021-03-11 19:26:39.113</td><td>adventure-works\\shu0</td><td>529</td><td>669-555-0149</td><td>Sales promotion call</td></tr>",
                            "<tr><td>5</td><td>2021-03-11 19:26:39.113</td><td>adventure-works\\shu0</td><td>29784</td><td>669-555-0149</td><td>Sales promotion call</td></tr>",
                            "<tr><td>6</td><td>2021-03-11 19:27:05.320</td><td>adventure-works\\jos?1</td><td>10</td><td>150-555-0127</td><td>No notes</td></tr>",
                            "<tr><td>9</td><td>2021-03-11 19:35:22.793</td><td>adventure-works\\jos?1</td><td>11</td><td>926-555-0159</td><td>No notes</td></tr>",
                            "</table>"
                        ]
                    }
                }
            ],
            "execution_count": 20
        },
        {
            "cell_type": "code",
            "source": [
                "-- Update multiple columns\r\n",
                "UPDATE SalesLT.CallLog\r\n",
                "SET SalesPerson = '', PhoneNumber = ''\r\n",
                "\r\n",
                "SELECT * FROM SalesLT.CallLog;"
            ],
            "metadata": {
                "azdata_cell_guid": "5104a184-4876-4cf8-b888-cdda3f777a0b"
            },
            "outputs": [
                {
                    "output_type": "display_data",
                    "data": {
                        "text/html": "(7 rows affected)"
                    },
                    "metadata": {}
                },
                {
                    "output_type": "display_data",
                    "data": {
                        "text/html": "(7 rows affected)"
                    },
                    "metadata": {}
                },
                {
                    "output_type": "display_data",
                    "data": {
                        "text/html": "Total execution time: 00:00:00.017"
                    },
                    "metadata": {}
                },
                {
                    "output_type": "execute_result",
                    "metadata": {},
                    "execution_count": 21,
                    "data": {
                        "application/vnd.dataresource+json": {
                            "schema": {
                                "fields": [
                                    {
                                        "name": "CallID"
                                    },
                                    {
                                        "name": "CallTime"
                                    },
                                    {
                                        "name": "SalesPerson"
                                    },
                                    {
                                        "name": "CustomerID"
                                    },
                                    {
                                        "name": "PhoneNumber"
                                    },
                                    {
                                        "name": "Notes"
                                    }
                                ]
                            },
                            "data": [
                                {
                                    "0": "1",
                                    "1": "2015-01-01 12:30:00.000",
                                    "2": "",
                                    "3": "1",
                                    "4": "",
                                    "5": "Returning call re: enquiry about delivery"
                                },
                                {
                                    "0": "2",
                                    "1": "2021-03-11 19:22:58.323",
                                    "2": "",
                                    "3": "2",
                                    "4": "",
                                    "5": "No notes"
                                },
                                {
                                    "0": "3",
                                    "1": "2021-03-11 19:24:59.570",
                                    "2": "",
                                    "3": "3",
                                    "4": "",
                                    "5": "No notes"
                                },
                                {
                                    "0": "4",
                                    "1": "2021-03-11 19:26:39.113",
                                    "2": "",
                                    "3": "529",
                                    "4": "",
                                    "5": "Sales promotion call"
                                },
                                {
                                    "0": "5",
                                    "1": "2021-03-11 19:26:39.113",
                                    "2": "",
                                    "3": "29784",
                                    "4": "",
                                    "5": "Sales promotion call"
                                },
                                {
                                    "0": "6",
                                    "1": "2021-03-11 19:27:05.320",
                                    "2": "",
                                    "3": "10",
                                    "4": "",
                                    "5": "No notes"
                                },
                                {
                                    "0": "9",
                                    "1": "2021-03-11 19:35:22.793",
                                    "2": "",
                                    "3": "11",
                                    "4": "",
                                    "5": "No notes"
                                }
                            ]
                        },
                        "text/html": [
                            "<table>",
                            "<tr><th>CallID</th><th>CallTime</th><th>SalesPerson</th><th>CustomerID</th><th>PhoneNumber</th><th>Notes</th></tr>",
                            "<tr><td>1</td><td>2015-01-01 12:30:00.000</td><td></td><td>1</td><td></td><td>Returning call re: enquiry about delivery</td></tr>",
                            "<tr><td>2</td><td>2021-03-11 19:22:58.323</td><td></td><td>2</td><td></td><td>No notes</td></tr>",
                            "<tr><td>3</td><td>2021-03-11 19:24:59.570</td><td></td><td>3</td><td></td><td>No notes</td></tr>",
                            "<tr><td>4</td><td>2021-03-11 19:26:39.113</td><td></td><td>529</td><td></td><td>Sales promotion call</td></tr>",
                            "<tr><td>5</td><td>2021-03-11 19:26:39.113</td><td></td><td>29784</td><td></td><td>Sales promotion call</td></tr>",
                            "<tr><td>6</td><td>2021-03-11 19:27:05.320</td><td></td><td>10</td><td></td><td>No notes</td></tr>",
                            "<tr><td>9</td><td>2021-03-11 19:35:22.793</td><td></td><td>11</td><td></td><td>No notes</td></tr>",
                            "</table>"
                        ]
                    }
                }
            ],
            "execution_count": 21
        },
        {
            "cell_type": "code",
            "source": [
                "-- Update from results of a query\r\n",
                "UPDATE SalesLT.CallLog\r\n",
                "SET SalesPerson = c.SalesPerson, PhoneNumber = c.Phone\r\n",
                "FROM SalesLT.Customer AS c\r\n",
                "WHERE c.CustomerID = SalesLT.CallLog.CustomerID\r\n",
                "\r\n",
                "SELECT * FROM SalesLT.CallLog;"
            ],
            "metadata": {
                "azdata_cell_guid": "fd5f4e7a-fdb3-47ee-bc25-36886f5a0413"
            },
            "outputs": [
                {
                    "output_type": "display_data",
                    "data": {
                        "text/html": "(7 rows affected)"
                    },
                    "metadata": {}
                },
                {
                    "output_type": "display_data",
                    "data": {
                        "text/html": "(7 rows affected)"
                    },
                    "metadata": {}
                },
                {
                    "output_type": "display_data",
                    "data": {
                        "text/html": "Total execution time: 00:00:00.010"
                    },
                    "metadata": {}
                },
                {
                    "output_type": "execute_result",
                    "metadata": {},
                    "execution_count": 23,
                    "data": {
                        "application/vnd.dataresource+json": {
                            "schema": {
                                "fields": [
                                    {
                                        "name": "CallID"
                                    },
                                    {
                                        "name": "CallTime"
                                    },
                                    {
                                        "name": "SalesPerson"
                                    },
                                    {
                                        "name": "CustomerID"
                                    },
                                    {
                                        "name": "PhoneNumber"
                                    },
                                    {
                                        "name": "Notes"
                                    }
                                ]
                            },
                            "data": [
                                {
                                    "0": "1",
                                    "1": "2015-01-01 12:30:00.000",
                                    "2": "adventure-works\\pamela0",
                                    "3": "1",
                                    "4": "245-555-0173",
                                    "5": "Returning call re: enquiry about delivery"
                                },
                                {
                                    "0": "2",
                                    "1": "2021-03-11 19:22:58.323",
                                    "2": "adventure-works\\david8",
                                    "3": "2",
                                    "4": "170-555-0127",
                                    "5": "No notes"
                                },
                                {
                                    "0": "3",
                                    "1": "2021-03-11 19:24:59.570",
                                    "2": "adventure-works\\jillian0",
                                    "3": "3",
                                    "4": "279-555-0130",
                                    "5": "No notes"
                                },
                                {
                                    "0": "4",
                                    "1": "2021-03-11 19:26:39.113",
                                    "2": "adventure-works\\shu0",
                                    "3": "529",
                                    "4": "669-555-0149",
                                    "5": "Sales promotion call"
                                },
                                {
                                    "0": "5",
                                    "1": "2021-03-11 19:26:39.113",
                                    "2": "adventure-works\\shu0",
                                    "3": "29784",
                                    "4": "669-555-0149",
                                    "5": "Sales promotion call"
                                },
                                {
                                    "0": "6",
                                    "1": "2021-03-11 19:27:05.320",
                                    "2": "adventure-works\\josé1",
                                    "3": "10",
                                    "4": "150-555-0127",
                                    "5": "No notes"
                                },
                                {
                                    "0": "9",
                                    "1": "2021-03-11 19:35:22.793",
                                    "2": "adventure-works\\josé1",
                                    "3": "11",
                                    "4": "926-555-0159",
                                    "5": "No notes"
                                }
                            ]
                        },
                        "text/html": [
                            "<table>",
                            "<tr><th>CallID</th><th>CallTime</th><th>SalesPerson</th><th>CustomerID</th><th>PhoneNumber</th><th>Notes</th></tr>",
                            "<tr><td>1</td><td>2015-01-01 12:30:00.000</td><td>adventure-works\\pamela0</td><td>1</td><td>245-555-0173</td><td>Returning call re: enquiry about delivery</td></tr>",
                            "<tr><td>2</td><td>2021-03-11 19:22:58.323</td><td>adventure-works\\david8</td><td>2</td><td>170-555-0127</td><td>No notes</td></tr>",
                            "<tr><td>3</td><td>2021-03-11 19:24:59.570</td><td>adventure-works\\jillian0</td><td>3</td><td>279-555-0130</td><td>No notes</td></tr>",
                            "<tr><td>4</td><td>2021-03-11 19:26:39.113</td><td>adventure-works\\shu0</td><td>529</td><td>669-555-0149</td><td>Sales promotion call</td></tr>",
                            "<tr><td>5</td><td>2021-03-11 19:26:39.113</td><td>adventure-works\\shu0</td><td>29784</td><td>669-555-0149</td><td>Sales promotion call</td></tr>",
                            "<tr><td>6</td><td>2021-03-11 19:27:05.320</td><td>adventure-works\\josé1</td><td>10</td><td>150-555-0127</td><td>No notes</td></tr>",
                            "<tr><td>9</td><td>2021-03-11 19:35:22.793</td><td>adventure-works\\josé1</td><td>11</td><td>926-555-0159</td><td>No notes</td></tr>",
                            "</table>"
                        ]
                    }
                }
            ],
            "execution_count": 23
        },
        {
            "cell_type": "code",
            "source": [
                "DELETE FROM SalesLT.CallLog\r\n",
                "WHERE CallTime < DATEADD(dd, -7, GETDATE());\r\n",
                "\r\n",
                "SELECT * FROM SalesLT.CallLog;"
            ],
            "metadata": {
                "azdata_cell_guid": "d01e36ba-56b7-4363-a76d-95f2baac5350"
            },
            "outputs": [
                {
                    "output_type": "display_data",
                    "data": {
                        "text/html": "(1 row affected)"
                    },
                    "metadata": {}
                },
                {
                    "output_type": "display_data",
                    "data": {
                        "text/html": "(6 rows affected)"
                    },
                    "metadata": {}
                },
                {
                    "output_type": "display_data",
                    "data": {
                        "text/html": "Total execution time: 00:00:00.024"
                    },
                    "metadata": {}
                },
                {
                    "output_type": "execute_result",
                    "metadata": {},
                    "execution_count": 24,
                    "data": {
                        "application/vnd.dataresource+json": {
                            "schema": {
                                "fields": [
                                    {
                                        "name": "CallID"
                                    },
                                    {
                                        "name": "CallTime"
                                    },
                                    {
                                        "name": "SalesPerson"
                                    },
                                    {
                                        "name": "CustomerID"
                                    },
                                    {
                                        "name": "PhoneNumber"
                                    },
                                    {
                                        "name": "Notes"
                                    }
                                ]
                            },
                            "data": [
                                {
                                    "0": "2",
                                    "1": "2021-03-11 19:22:58.323",
                                    "2": "adventure-works\\david8",
                                    "3": "2",
                                    "4": "170-555-0127",
                                    "5": "No notes"
                                },
                                {
                                    "0": "3",
                                    "1": "2021-03-11 19:24:59.570",
                                    "2": "adventure-works\\jillian0",
                                    "3": "3",
                                    "4": "279-555-0130",
                                    "5": "No notes"
                                },
                                {
                                    "0": "4",
                                    "1": "2021-03-11 19:26:39.113",
                                    "2": "adventure-works\\shu0",
                                    "3": "529",
                                    "4": "669-555-0149",
                                    "5": "Sales promotion call"
                                },
                                {
                                    "0": "5",
                                    "1": "2021-03-11 19:26:39.113",
                                    "2": "adventure-works\\shu0",
                                    "3": "29784",
                                    "4": "669-555-0149",
                                    "5": "Sales promotion call"
                                },
                                {
                                    "0": "6",
                                    "1": "2021-03-11 19:27:05.320",
                                    "2": "adventure-works\\josé1",
                                    "3": "10",
                                    "4": "150-555-0127",
                                    "5": "No notes"
                                },
                                {
                                    "0": "9",
                                    "1": "2021-03-11 19:35:22.793",
                                    "2": "adventure-works\\josé1",
                                    "3": "11",
                                    "4": "926-555-0159",
                                    "5": "No notes"
                                }
                            ]
                        },
                        "text/html": [
                            "<table>",
                            "<tr><th>CallID</th><th>CallTime</th><th>SalesPerson</th><th>CustomerID</th><th>PhoneNumber</th><th>Notes</th></tr>",
                            "<tr><td>2</td><td>2021-03-11 19:22:58.323</td><td>adventure-works\\david8</td><td>2</td><td>170-555-0127</td><td>No notes</td></tr>",
                            "<tr><td>3</td><td>2021-03-11 19:24:59.570</td><td>adventure-works\\jillian0</td><td>3</td><td>279-555-0130</td><td>No notes</td></tr>",
                            "<tr><td>4</td><td>2021-03-11 19:26:39.113</td><td>adventure-works\\shu0</td><td>529</td><td>669-555-0149</td><td>Sales promotion call</td></tr>",
                            "<tr><td>5</td><td>2021-03-11 19:26:39.113</td><td>adventure-works\\shu0</td><td>29784</td><td>669-555-0149</td><td>Sales promotion call</td></tr>",
                            "<tr><td>6</td><td>2021-03-11 19:27:05.320</td><td>adventure-works\\josé1</td><td>10</td><td>150-555-0127</td><td>No notes</td></tr>",
                            "<tr><td>9</td><td>2021-03-11 19:35:22.793</td><td>adventure-works\\josé1</td><td>11</td><td>926-555-0159</td><td>No notes</td></tr>",
                            "</table>"
                        ]
                    }
                }
            ],
            "execution_count": 24
        },
        {
            "cell_type": "code",
            "source": [
                "-- Truncate the table -- Clears the table content but keeps the table in the db\r\n",
                "TRUNCATE TABLE SalesLT.CallLog;\r\n",
                "\r\n",
                "SELECT * FROM SalesLT.CallLog;"
            ],
            "metadata": {
                "azdata_cell_guid": "0a052f24-6c43-47a5-b4fd-5c7175107411"
            },
            "outputs": [
                {
                    "output_type": "display_data",
                    "data": {
                        "text/html": "(0 rows affected)"
                    },
                    "metadata": {}
                },
                {
                    "output_type": "display_data",
                    "data": {
                        "text/html": "Total execution time: 00:00:00.011"
                    },
                    "metadata": {}
                },
                {
                    "output_type": "execute_result",
                    "metadata": {},
                    "execution_count": 25,
                    "data": {
                        "application/vnd.dataresource+json": {
                            "schema": {
                                "fields": [
                                    {
                                        "name": "CallID"
                                    },
                                    {
                                        "name": "CallTime"
                                    },
                                    {
                                        "name": "SalesPerson"
                                    },
                                    {
                                        "name": "CustomerID"
                                    },
                                    {
                                        "name": "PhoneNumber"
                                    },
                                    {
                                        "name": "Notes"
                                    }
                                ]
                            },
                            "data": []
                        },
                        "text/html": [
                            "<table>",
                            "<tr><th>CallID</th><th>CallTime</th><th>SalesPerson</th><th>CustomerID</th><th>PhoneNumber</th><th>Notes</th></tr>",
                            "</table>"
                        ]
                    }
                }
            ],
            "execution_count": 25
        },
        {
            "cell_type": "markdown",
            "source": [
                "\\## Variables"
            ],
            "metadata": {
                "azdata_cell_guid": "52c373f8-52c3-4757-a129-cd7be8f69709"
            }
        },
        {
            "cell_type": "code",
            "source": [
                "--Search by city using a variable\r\n",
                "DECLARE @City VARCHAR(20)='Toronto'\r\n",
                "--Set @City='Bellevue'\r\n",
                "\r\n",
                "GO -- ends the batch"
            ],
            "metadata": {
                "azdata_cell_guid": "18b8411d-f664-4c37-b300-0959233d7473"
            },
            "outputs": [
                {
                    "output_type": "display_data",
                    "data": {
                        "text/html": "Commands completed successfully."
                    },
                    "metadata": {}
                },
                {
                    "output_type": "display_data",
                    "data": {
                        "text/html": "Total execution time: 00:00:00"
                    },
                    "metadata": {}
                }
            ],
            "execution_count": 26
        },
        {
            "cell_type": "markdown",
            "source": [
                "Variables are only valid within a batch execution, which in this case was terminates by the GO statement above"
            ],
            "metadata": {
                "azdata_cell_guid": "2b56186b-7e15-449d-a330-b779a4ce8bc7"
            }
        },
        {
            "cell_type": "code",
            "source": [
                "Select FirstName +' '+LastName as [Name],AddressLine1 as Address,City\r\n",
                "FROM SalesLT.Customer as C\r\n",
                "JOIN SalesLT.CustomerAddress as CA\r\n",
                "ON C.CustomerID=CA.CustomerID\r\n",
                "JOIN SalesLT.Address as A\r\n",
                "ON CA.AddressID=A.AddressID\r\n",
                "WHERE City=@City"
            ],
            "metadata": {
                "azdata_cell_guid": "4ad4c7ca-0b5f-42f6-a04b-a7aea23cfa6e"
            },
            "outputs": [
                {
                    "output_type": "error",
                    "evalue": "Msg 137, Level 15, State 2, Line 7\r\nMust declare the scalar variable \"@City\".",
                    "ename": "",
                    "traceback": []
                },
                {
                    "output_type": "display_data",
                    "data": {
                        "text/html": "Total execution time: 00:00:00.001"
                    },
                    "metadata": {}
                }
            ],
            "execution_count": 27
        },
        {
            "cell_type": "code",
            "source": [
                "--Search by city using a variable\r\n",
                "DECLARE @City VARCHAR(20)='Toronto'\r\n",
                "--Set @City='Bellevue\r\n",
                "\r\n",
                "Select FirstName +' '+LastName as [Name],AddressLine1 as Address,City\r\n",
                "FROM SalesLT.Customer as C\r\n",
                "JOIN SalesLT.CustomerAddress as CA\r\n",
                "ON C.CustomerID=CA.CustomerID\r\n",
                "JOIN SalesLT.Address as A\r\n",
                "ON CA.AddressID=A.AddressID\r\n",
                "WHERE City=@City"
            ],
            "metadata": {
                "azdata_cell_guid": "a58b32f7-dc5f-4be9-ac7f-aaccaabd2e82"
            },
            "outputs": [
                {
                    "output_type": "display_data",
                    "data": {
                        "text/html": "(23 rows affected)"
                    },
                    "metadata": {}
                },
                {
                    "output_type": "display_data",
                    "data": {
                        "text/html": "Total execution time: 00:00:00.029"
                    },
                    "metadata": {}
                },
                {
                    "output_type": "execute_result",
                    "metadata": {},
                    "execution_count": 28,
                    "data": {
                        "application/vnd.dataresource+json": {
                            "schema": {
                                "fields": [
                                    {
                                        "name": "Name"
                                    },
                                    {
                                        "name": "Address"
                                    },
                                    {
                                        "name": "City"
                                    }
                                ]
                            },
                            "data": [
                                {
                                    "0": "Sandra Kitt",
                                    "1": "258 King Street East",
                                    "2": "Toronto"
                                },
                                {
                                    "0": "Andrew Hill",
                                    "1": "7000 Victoria Park Avenue",
                                    "2": "Toronto"
                                },
                                {
                                    "0": "Josh Barnhill",
                                    "1": "25 First Canadian Place",
                                    "2": "Toronto"
                                },
                                {
                                    "0": "Phyllis Tuffield",
                                    "1": "9960 King Street E.",
                                    "2": "Toronto"
                                },
                                {
                                    "0": "Vamsi Kuppa",
                                    "1": "3255 Front Street West",
                                    "2": "Toronto"
                                },
                                {
                                    "0": "Tim Kim",
                                    "1": "25 Danger Street West",
                                    "2": "Toronto"
                                },
                                {
                                    "0": "Jauna Elson",
                                    "1": "2573 Dufferin Street",
                                    "2": "Toronto"
                                },
                                {
                                    "0": "Kara Vanderlinden",
                                    "1": "2520 Flanders Road",
                                    "2": "Toronto"
                                },
                                {
                                    "0": "Samuel Agcaoili",
                                    "1": "No. 25800-130 King Street West",
                                    "2": "Toronto"
                                },
                                {
                                    "0": "Reuben D'sa",
                                    "1": "9950 Ferrand Drive, 9th Floor",
                                    "2": "Toronto"
                                },
                                {
                                    "0": "Robert Lyon",
                                    "1": "609 Evans Avenue",
                                    "2": "Toronto"
                                },
                                {
                                    "0": "Steve Masters",
                                    "1": "2545 King Street West",
                                    "2": "Toronto"
                                },
                                {
                                    "0": "Joseph Castellucio",
                                    "1": "2511 Baker Road",
                                    "2": "Toronto"
                                },
                                {
                                    "0": "Johnny Caprio",
                                    "1": "22580 Free Street",
                                    "2": "Toronto"
                                },
                                {
                                    "0": "Katherine Harding",
                                    "1": "52560 Free Street",
                                    "2": "Toronto"
                                },
                                {
                                    "0": "Jackie Blackwell",
                                    "1": "2575 Bloor Street East",
                                    "2": "Toronto"
                                },
                                {
                                    "0": "Robert Lyeba",
                                    "1": "63 Free St.",
                                    "2": "Toronto"
                                },
                                {
                                    "0": "Hattie Haemon",
                                    "1": "55 Lakeshore Blvd East",
                                    "2": "Toronto"
                                },
                                {
                                    "0": "Yale Li",
                                    "1": "992 St Clair Ave East",
                                    "2": "Toronto"
                                },
                                {
                                    "0": "William Conner",
                                    "1": "2560 Bay Street",
                                    "2": "Toronto"
                                },
                                {
                                    "0": "Curtis Howard",
                                    "1": "6th Floor, 25st Canadian Place",
                                    "2": "Toronto"
                                },
                                {
                                    "0": "Linda Leste",
                                    "1": "630 University Avenue",
                                    "2": "Toronto"
                                },
                                {
                                    "0": "Robin McGuigan",
                                    "1": "2500 University Avenue",
                                    "2": "Toronto"
                                }
                            ]
                        },
                        "text/html": [
                            "<table>",
                            "<tr><th>Name</th><th>Address</th><th>City</th></tr>",
                            "<tr><td>Sandra Kitt</td><td>258 King Street East</td><td>Toronto</td></tr>",
                            "<tr><td>Andrew Hill</td><td>7000 Victoria Park Avenue</td><td>Toronto</td></tr>",
                            "<tr><td>Josh Barnhill</td><td>25 First Canadian Place</td><td>Toronto</td></tr>",
                            "<tr><td>Phyllis Tuffield</td><td>9960 King Street E.</td><td>Toronto</td></tr>",
                            "<tr><td>Vamsi Kuppa</td><td>3255 Front Street West</td><td>Toronto</td></tr>",
                            "<tr><td>Tim Kim</td><td>25 Danger Street West</td><td>Toronto</td></tr>",
                            "<tr><td>Jauna Elson</td><td>2573 Dufferin Street</td><td>Toronto</td></tr>",
                            "<tr><td>Kara Vanderlinden</td><td>2520 Flanders Road</td><td>Toronto</td></tr>",
                            "<tr><td>Samuel Agcaoili</td><td>No. 25800-130 King Street West</td><td>Toronto</td></tr>",
                            "<tr><td>Reuben D'sa</td><td>9950 Ferrand Drive, 9th Floor</td><td>Toronto</td></tr>",
                            "<tr><td>Robert Lyon</td><td>609 Evans Avenue</td><td>Toronto</td></tr>",
                            "<tr><td>Steve Masters</td><td>2545 King Street West</td><td>Toronto</td></tr>",
                            "<tr><td>Joseph Castellucio</td><td>2511 Baker Road</td><td>Toronto</td></tr>",
                            "<tr><td>Johnny Caprio</td><td>22580 Free Street</td><td>Toronto</td></tr>",
                            "<tr><td>Katherine Harding</td><td>52560 Free Street</td><td>Toronto</td></tr>",
                            "<tr><td>Jackie Blackwell</td><td>2575 Bloor Street East</td><td>Toronto</td></tr>",
                            "<tr><td>Robert Lyeba</td><td>63 Free St.</td><td>Toronto</td></tr>",
                            "<tr><td>Hattie Haemon</td><td>55 Lakeshore Blvd East</td><td>Toronto</td></tr>",
                            "<tr><td>Yale Li</td><td>992 St Clair Ave East</td><td>Toronto</td></tr>",
                            "<tr><td>William Conner</td><td>2560 Bay Street</td><td>Toronto</td></tr>",
                            "<tr><td>Curtis Howard</td><td>6th Floor, 25st Canadian Place</td><td>Toronto</td></tr>",
                            "<tr><td>Linda Leste</td><td>630 University Avenue</td><td>Toronto</td></tr>",
                            "<tr><td>Robin McGuigan</td><td>2500 University Avenue</td><td>Toronto</td></tr>",
                            "</table>"
                        ]
                    }
                }
            ],
            "execution_count": 28
        },
        {
            "cell_type": "code",
            "source": [
                "--Use a variable as an output\r\n",
                "DECLARE @Result money\r\n",
                "SELECT @Result=MAX(TotalDue)\r\n",
                "FROM SalesLT.SalesOrderHeader\r\n",
                "\r\n",
                "PRINT @Result"
            ],
            "metadata": {
                "azdata_cell_guid": "91aa42c6-1015-46fa-9c5c-c4d28593d5d0"
            },
            "outputs": [
                {
                    "output_type": "display_data",
                    "data": {
                        "text/html": "119960.82"
                    },
                    "metadata": {}
                },
                {
                    "output_type": "display_data",
                    "data": {
                        "text/html": "Total execution time: 00:00:00.007"
                    },
                    "metadata": {}
                }
            ],
            "execution_count": 29
        },
        {
            "cell_type": "markdown",
            "source": [
                "\\## IF ELSE"
            ],
            "metadata": {
                "azdata_cell_guid": "13552409-3ea8-4f62-b464-17b2f3eb3822"
            }
        },
        {
            "cell_type": "code",
            "source": [
                "--Simple logical test\r\n",
                "If 'Yes'='No'\r\n",
                "Print 'True'\r\n",
                ""
            ],
            "metadata": {
                "azdata_cell_guid": "a8191d84-357a-48f9-8663-17c2843d9160"
            },
            "outputs": [
                {
                    "output_type": "display_data",
                    "data": {
                        "text/html": "Commands completed successfully."
                    },
                    "metadata": {}
                },
                {
                    "output_type": "display_data",
                    "data": {
                        "text/html": "Total execution time: 00:00:00"
                    },
                    "metadata": {}
                }
            ],
            "execution_count": 30
        },
        {
            "cell_type": "code",
            "source": [
                "\n",
                "--Change code based on a condition\n",
                "UPDATE SalesLT.Product\n",
                "SET DiscontinuedDate=getdate()\n",
                "WHERE ProductID=1;   --try with 680\n",
                "IF @@ROWCOUNT<1\n",
                "BEGIN\n",
                "	PRINT 'Product was not found'\n",
                "END\n",
                "ELSE\n",
                "BEGIN\n",
                "	PRINT 'Product Updated'\n",
                "END"
            ],
            "metadata": {
                "azdata_cell_guid": "1eb1d374-5e38-4c42-bd7e-e1dcd96e58fe"
            },
            "outputs": [
{
    "output_type": "display_data",
    "data": {
        "text/html": "(0 rows affected)"
    },
    "metadata": {}
}, {
    "output_type": "display_data",
    "data": {
        "text/html": "Product was not found"
    },
    "metadata": {}
}, {
    "output_type": "display_data",
    "data": {
        "text/html": "Total execution time: 00:00:00.006"
    },
    "metadata": {}
}
],
            "execution_count": null
        }
    ]
}